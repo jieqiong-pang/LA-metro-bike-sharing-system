{
 "cells": [
  {
   "cell_type": "code",
   "execution_count": 52,
   "metadata": {
    "ExecuteTime": {
     "end_time": "2020-11-27T23:26:23.594032Z",
     "start_time": "2020-11-27T23:26:23.591032Z"
    }
   },
   "outputs": [],
   "source": [
    "import datetime\n",
    "import json\n",
    "import os"
   ]
  },
  {
   "cell_type": "code",
   "execution_count": 1,
   "metadata": {
    "ExecuteTime": {
     "end_time": "2020-11-27T22:39:15.971213Z",
     "start_time": "2020-11-27T22:39:15.228217Z"
    }
   },
   "outputs": [],
   "source": [
    "import pandas as pd\n",
    "import numpy as np"
   ]
  },
  {
   "cell_type": "code",
   "execution_count": 13,
   "metadata": {
    "ExecuteTime": {
     "end_time": "2020-11-27T22:49:54.894021Z",
     "start_time": "2020-11-27T22:49:54.891021Z"
    }
   },
   "outputs": [],
   "source": [
    "pth_station = \"../processed_data/metro-bike-stations.csv\""
   ]
  },
  {
   "cell_type": "code",
   "execution_count": 14,
   "metadata": {
    "ExecuteTime": {
     "end_time": "2020-11-27T22:49:55.188020Z",
     "start_time": "2020-11-27T22:49:55.183020Z"
    }
   },
   "outputs": [],
   "source": [
    "df_stt = pd.read_csv(pth_station)"
   ]
  },
  {
   "cell_type": "code",
   "execution_count": 15,
   "metadata": {
    "ExecuteTime": {
     "end_time": "2020-11-27T22:49:55.491019Z",
     "start_time": "2020-11-27T22:49:55.479020Z"
    }
   },
   "outputs": [
    {
     "data": {
      "text/html": [
       "<div>\n",
       "<style scoped>\n",
       "    .dataframe tbody tr th:only-of-type {\n",
       "        vertical-align: middle;\n",
       "    }\n",
       "\n",
       "    .dataframe tbody tr th {\n",
       "        vertical-align: top;\n",
       "    }\n",
       "\n",
       "    .dataframe thead th {\n",
       "        text-align: right;\n",
       "    }\n",
       "</style>\n",
       "<table border=\"1\" class=\"dataframe\">\n",
       "  <thead>\n",
       "    <tr style=\"text-align: right;\">\n",
       "      <th></th>\n",
       "      <th>station</th>\n",
       "      <th>station_name</th>\n",
       "      <th>go_live_date</th>\n",
       "      <th>region</th>\n",
       "      <th>status</th>\n",
       "      <th>lan</th>\n",
       "      <th>lon</th>\n",
       "    </tr>\n",
       "  </thead>\n",
       "  <tbody>\n",
       "    <tr>\n",
       "      <th>0</th>\n",
       "      <td>3005</td>\n",
       "      <td>7th &amp; Flower</td>\n",
       "      <td>7/7/2016</td>\n",
       "      <td>DTLA</td>\n",
       "      <td>Active</td>\n",
       "      <td>34.048500</td>\n",
       "      <td>-118.258537</td>\n",
       "    </tr>\n",
       "    <tr>\n",
       "      <th>1</th>\n",
       "      <td>3006</td>\n",
       "      <td>Olive &amp; 8th</td>\n",
       "      <td>7/7/2016</td>\n",
       "      <td>DTLA</td>\n",
       "      <td>Active</td>\n",
       "      <td>34.045540</td>\n",
       "      <td>-118.256668</td>\n",
       "    </tr>\n",
       "    <tr>\n",
       "      <th>2</th>\n",
       "      <td>3007</td>\n",
       "      <td>5th &amp; Grand</td>\n",
       "      <td>7/7/2016</td>\n",
       "      <td>DTLA</td>\n",
       "      <td>Active</td>\n",
       "      <td>34.050480</td>\n",
       "      <td>-118.254593</td>\n",
       "    </tr>\n",
       "    <tr>\n",
       "      <th>3</th>\n",
       "      <td>3008</td>\n",
       "      <td>Figueroa &amp; 9th</td>\n",
       "      <td>7/7/2016</td>\n",
       "      <td>DTLA</td>\n",
       "      <td>Active</td>\n",
       "      <td>34.046612</td>\n",
       "      <td>-118.262733</td>\n",
       "    </tr>\n",
       "    <tr>\n",
       "      <th>4</th>\n",
       "      <td>3010</td>\n",
       "      <td>11th &amp; Maple</td>\n",
       "      <td>7/10/2016</td>\n",
       "      <td>DTLA</td>\n",
       "      <td>Active</td>\n",
       "      <td>34.037048</td>\n",
       "      <td>-118.254868</td>\n",
       "    </tr>\n",
       "    <tr>\n",
       "      <th>...</th>\n",
       "      <td>...</td>\n",
       "      <td>...</td>\n",
       "      <td>...</td>\n",
       "      <td>...</td>\n",
       "      <td>...</td>\n",
       "      <td>...</td>\n",
       "      <td>...</td>\n",
       "    </tr>\n",
       "    <tr>\n",
       "      <th>281</th>\n",
       "      <td>4498</td>\n",
       "      <td>Vineland &amp; Oxnard</td>\n",
       "      <td>4/14/2020</td>\n",
       "      <td>North Hollywood</td>\n",
       "      <td>Active</td>\n",
       "      <td>34.179890</td>\n",
       "      <td>-118.370422</td>\n",
       "    </tr>\n",
       "    <tr>\n",
       "      <th>282</th>\n",
       "      <td>4524</td>\n",
       "      <td>Wilshire &amp; Normandie</td>\n",
       "      <td>4/17/2020</td>\n",
       "      <td>DTLA</td>\n",
       "      <td>Active</td>\n",
       "      <td>34.061630</td>\n",
       "      <td>-118.301193</td>\n",
       "    </tr>\n",
       "    <tr>\n",
       "      <th>283</th>\n",
       "      <td>4523</td>\n",
       "      <td>Western &amp; 3rd</td>\n",
       "      <td>4/22/2020</td>\n",
       "      <td>DTLA</td>\n",
       "      <td>Active</td>\n",
       "      <td>34.068748</td>\n",
       "      <td>-118.309280</td>\n",
       "    </tr>\n",
       "    <tr>\n",
       "      <th>284</th>\n",
       "      <td>4502</td>\n",
       "      <td>North Hollywood Plaza</td>\n",
       "      <td>4/23/2020</td>\n",
       "      <td>North Hollywood</td>\n",
       "      <td>Active</td>\n",
       "      <td>34.165520</td>\n",
       "      <td>-118.375153</td>\n",
       "    </tr>\n",
       "    <tr>\n",
       "      <th>285</th>\n",
       "      <td>4512</td>\n",
       "      <td>Figueroa &amp; 11th</td>\n",
       "      <td>5/12/2020</td>\n",
       "      <td>DTLA</td>\n",
       "      <td>Active</td>\n",
       "      <td>34.043812</td>\n",
       "      <td>-118.264969</td>\n",
       "    </tr>\n",
       "  </tbody>\n",
       "</table>\n",
       "<p>286 rows × 7 columns</p>\n",
       "</div>"
      ],
      "text/plain": [
       "     station           station_name go_live_date           region  status  \\\n",
       "0       3005           7th & Flower     7/7/2016             DTLA  Active   \n",
       "1       3006            Olive & 8th     7/7/2016             DTLA  Active   \n",
       "2       3007            5th & Grand     7/7/2016             DTLA  Active   \n",
       "3       3008         Figueroa & 9th     7/7/2016             DTLA  Active   \n",
       "4       3010           11th & Maple    7/10/2016             DTLA  Active   \n",
       "..       ...                    ...          ...              ...     ...   \n",
       "281     4498      Vineland & Oxnard    4/14/2020  North Hollywood  Active   \n",
       "282     4524   Wilshire & Normandie    4/17/2020             DTLA  Active   \n",
       "283     4523          Western & 3rd    4/22/2020             DTLA  Active   \n",
       "284     4502  North Hollywood Plaza    4/23/2020  North Hollywood  Active   \n",
       "285     4512        Figueroa & 11th    5/12/2020             DTLA  Active   \n",
       "\n",
       "           lan         lon  \n",
       "0    34.048500 -118.258537  \n",
       "1    34.045540 -118.256668  \n",
       "2    34.050480 -118.254593  \n",
       "3    34.046612 -118.262733  \n",
       "4    34.037048 -118.254868  \n",
       "..         ...         ...  \n",
       "281  34.179890 -118.370422  \n",
       "282  34.061630 -118.301193  \n",
       "283  34.068748 -118.309280  \n",
       "284  34.165520 -118.375153  \n",
       "285  34.043812 -118.264969  \n",
       "\n",
       "[286 rows x 7 columns]"
      ]
     },
     "execution_count": 15,
     "metadata": {},
     "output_type": "execute_result"
    }
   ],
   "source": [
    "df_stt"
   ]
  },
  {
   "cell_type": "code",
   "execution_count": 16,
   "metadata": {
    "ExecuteTime": {
     "end_time": "2020-11-27T22:49:56.160016Z",
     "start_time": "2020-11-27T22:49:56.156017Z"
    }
   },
   "outputs": [],
   "source": [
    "df_get = df_stt[['station', 'go_live_date', 'region']]"
   ]
  },
  {
   "cell_type": "code",
   "execution_count": 17,
   "metadata": {
    "ExecuteTime": {
     "end_time": "2020-11-27T22:49:56.463015Z",
     "start_time": "2020-11-27T22:49:56.459015Z"
    }
   },
   "outputs": [
    {
     "data": {
      "text/plain": [
       "datetime.datetime(2016, 7, 7, 0, 0)"
      ]
     },
     "execution_count": 17,
     "metadata": {},
     "output_type": "execute_result"
    }
   ],
   "source": [
    "datetime.datetime.strptime('7/7/2016', '%m/%d/%Y')"
   ]
  },
  {
   "cell_type": "code",
   "execution_count": 18,
   "metadata": {
    "ExecuteTime": {
     "end_time": "2020-11-27T22:49:57.211014Z",
     "start_time": "2020-11-27T22:49:57.204013Z"
    }
   },
   "outputs": [
    {
     "name": "stderr",
     "output_type": "stream",
     "text": [
      "D:\\software\\Anaconda3\\envs\\mecsc\\lib\\site-packages\\ipykernel_launcher.py:1: SettingWithCopyWarning: \n",
      "A value is trying to be set on a copy of a slice from a DataFrame.\n",
      "Try using .loc[row_indexer,col_indexer] = value instead\n",
      "\n",
      "See the caveats in the documentation: https://pandas.pydata.org/pandas-docs/stable/user_guide/indexing.html#returning-a-view-versus-a-copy\n",
      "  \"\"\"Entry point for launching an IPython kernel.\n"
     ]
    }
   ],
   "source": [
    "df_get['go_live_date'] = df_get['go_live_date'].map(lambda t: datetime.datetime.strptime(t, '%m/%d/%Y'))"
   ]
  },
  {
   "cell_type": "code",
   "execution_count": 21,
   "metadata": {
    "ExecuteTime": {
     "end_time": "2020-11-27T22:52:40.036316Z",
     "start_time": "2020-11-27T22:52:40.027803Z"
    }
   },
   "outputs": [
    {
     "data": {
      "text/html": [
       "<div>\n",
       "<style scoped>\n",
       "    .dataframe tbody tr th:only-of-type {\n",
       "        vertical-align: middle;\n",
       "    }\n",
       "\n",
       "    .dataframe tbody tr th {\n",
       "        vertical-align: top;\n",
       "    }\n",
       "\n",
       "    .dataframe thead th {\n",
       "        text-align: right;\n",
       "    }\n",
       "</style>\n",
       "<table border=\"1\" class=\"dataframe\">\n",
       "  <thead>\n",
       "    <tr style=\"text-align: right;\">\n",
       "      <th></th>\n",
       "      <th>station</th>\n",
       "      <th>go_live_date</th>\n",
       "      <th>region</th>\n",
       "    </tr>\n",
       "  </thead>\n",
       "  <tbody>\n",
       "    <tr>\n",
       "      <th>0</th>\n",
       "      <td>3005</td>\n",
       "      <td>2016-07-07</td>\n",
       "      <td>DTLA</td>\n",
       "    </tr>\n",
       "    <tr>\n",
       "      <th>1</th>\n",
       "      <td>3006</td>\n",
       "      <td>2016-07-07</td>\n",
       "      <td>DTLA</td>\n",
       "    </tr>\n",
       "    <tr>\n",
       "      <th>2</th>\n",
       "      <td>3007</td>\n",
       "      <td>2016-07-07</td>\n",
       "      <td>DTLA</td>\n",
       "    </tr>\n",
       "    <tr>\n",
       "      <th>3</th>\n",
       "      <td>3008</td>\n",
       "      <td>2016-07-07</td>\n",
       "      <td>DTLA</td>\n",
       "    </tr>\n",
       "    <tr>\n",
       "      <th>4</th>\n",
       "      <td>3010</td>\n",
       "      <td>2016-07-10</td>\n",
       "      <td>DTLA</td>\n",
       "    </tr>\n",
       "    <tr>\n",
       "      <th>...</th>\n",
       "      <td>...</td>\n",
       "      <td>...</td>\n",
       "      <td>...</td>\n",
       "    </tr>\n",
       "    <tr>\n",
       "      <th>281</th>\n",
       "      <td>4498</td>\n",
       "      <td>2020-04-14</td>\n",
       "      <td>North Hollywood</td>\n",
       "    </tr>\n",
       "    <tr>\n",
       "      <th>282</th>\n",
       "      <td>4524</td>\n",
       "      <td>2020-04-17</td>\n",
       "      <td>DTLA</td>\n",
       "    </tr>\n",
       "    <tr>\n",
       "      <th>283</th>\n",
       "      <td>4523</td>\n",
       "      <td>2020-04-22</td>\n",
       "      <td>DTLA</td>\n",
       "    </tr>\n",
       "    <tr>\n",
       "      <th>284</th>\n",
       "      <td>4502</td>\n",
       "      <td>2020-04-23</td>\n",
       "      <td>North Hollywood</td>\n",
       "    </tr>\n",
       "    <tr>\n",
       "      <th>285</th>\n",
       "      <td>4512</td>\n",
       "      <td>2020-05-12</td>\n",
       "      <td>DTLA</td>\n",
       "    </tr>\n",
       "  </tbody>\n",
       "</table>\n",
       "<p>286 rows × 3 columns</p>\n",
       "</div>"
      ],
      "text/plain": [
       "     station go_live_date           region\n",
       "0       3005   2016-07-07             DTLA\n",
       "1       3006   2016-07-07             DTLA\n",
       "2       3007   2016-07-07             DTLA\n",
       "3       3008   2016-07-07             DTLA\n",
       "4       3010   2016-07-10             DTLA\n",
       "..       ...          ...              ...\n",
       "281     4498   2020-04-14  North Hollywood\n",
       "282     4524   2020-04-17             DTLA\n",
       "283     4523   2020-04-22             DTLA\n",
       "284     4502   2020-04-23  North Hollywood\n",
       "285     4512   2020-05-12             DTLA\n",
       "\n",
       "[286 rows x 3 columns]"
      ]
     },
     "execution_count": 21,
     "metadata": {},
     "output_type": "execute_result"
    }
   ],
   "source": [
    "df_get"
   ]
  },
  {
   "cell_type": "code",
   "execution_count": 29,
   "metadata": {
    "ExecuteTime": {
     "end_time": "2020-11-27T23:10:36.951320Z",
     "start_time": "2020-11-27T23:10:36.947318Z"
    }
   },
   "outputs": [
    {
     "data": {
      "text/plain": [
       "{'DTLA': 0,\n",
       " 'Port of LA': 0,\n",
       " 'Pasadena': 0,\n",
       " 'Westside': 0,\n",
       " 'North Hollywood': 0}"
      ]
     },
     "execution_count": 29,
     "metadata": {},
     "output_type": "execute_result"
    }
   ],
   "source": [
    "stt_count = {area: 0 for area in df_get.region.unique()}\n",
    "stt_count"
   ]
  },
  {
   "cell_type": "code",
   "execution_count": 23,
   "metadata": {
    "ExecuteTime": {
     "end_time": "2020-11-27T23:03:46.512540Z",
     "start_time": "2020-11-27T23:03:46.507540Z"
    }
   },
   "outputs": [],
   "source": [
    "quarter_end_date = {\n",
    "    '2016-q3': '9/30/2016',\n",
    "    '2016-q4': '12/31/2016',\n",
    "    '2017-q1': '3/31/2017',\n",
    "    '2017-q2': '06/30/2017',\n",
    "    '2017-q3': '9/30/2017',\n",
    "    '2017-q4': '12/31/2017',\n",
    "    '2018-q1': '03/31/2018',\n",
    "    '2018-q2': '06/30/2018',\n",
    "    '2018-q3': '09/30/2018',\n",
    "    '2018-q4': '12/31/2018',\n",
    "    '2019-q1': '03/31/2019',\n",
    "    '2019-q2': '06/30/2019',\n",
    "    '2019-q3': '09/30/2019',\n",
    "    '2019-q4': '12/31/2019',\n",
    "    '2020-q1': '3/31/2020',\n",
    "    '2020-q2': '6/30/2020'\n",
    "}"
   ]
  },
  {
   "cell_type": "code",
   "execution_count": 25,
   "metadata": {
    "ExecuteTime": {
     "end_time": "2020-11-27T23:04:36.503803Z",
     "start_time": "2020-11-27T23:04:36.500801Z"
    }
   },
   "outputs": [],
   "source": [
    "for k in quarter_end_date:\n",
    "    quarter_end_date[k] = datetime.datetime.strptime(quarter_end_date[k], '%m/%d/%Y')"
   ]
  },
  {
   "cell_type": "code",
   "execution_count": 26,
   "metadata": {
    "ExecuteTime": {
     "end_time": "2020-11-27T23:04:39.609789Z",
     "start_time": "2020-11-27T23:04:39.605788Z"
    },
    "scrolled": true
   },
   "outputs": [
    {
     "data": {
      "text/plain": [
       "{'2016-q3': datetime.datetime(2016, 9, 30, 0, 0),\n",
       " '2016-q4': datetime.datetime(2016, 12, 31, 0, 0),\n",
       " '2017-q1': datetime.datetime(2017, 3, 31, 0, 0),\n",
       " '2017-q2': datetime.datetime(2017, 6, 30, 0, 0),\n",
       " '2017-q3': datetime.datetime(2017, 9, 30, 0, 0),\n",
       " '2017-q4': datetime.datetime(2017, 12, 31, 0, 0),\n",
       " '2018-q1': datetime.datetime(2018, 3, 31, 0, 0),\n",
       " '2018-q2': datetime.datetime(2018, 6, 30, 0, 0),\n",
       " '2018-q3': datetime.datetime(2018, 9, 30, 0, 0),\n",
       " '2018-q4': datetime.datetime(2018, 12, 31, 0, 0),\n",
       " '2019-q1': datetime.datetime(2019, 3, 31, 0, 0),\n",
       " '2019-q2': datetime.datetime(2019, 6, 30, 0, 0),\n",
       " '2019-q3': datetime.datetime(2019, 9, 30, 0, 0),\n",
       " '2019-q4': datetime.datetime(2019, 12, 31, 0, 0),\n",
       " '2020-q1': datetime.datetime(2020, 3, 31, 0, 0),\n",
       " '2020-q2': datetime.datetime(2020, 6, 30, 0, 0)}"
      ]
     },
     "execution_count": 26,
     "metadata": {},
     "output_type": "execute_result"
    }
   ],
   "source": [
    "quarter_end_date"
   ]
  },
  {
   "cell_type": "code",
   "execution_count": 63,
   "metadata": {
    "ExecuteTime": {
     "end_time": "2020-11-27T23:36:32.201863Z",
     "start_time": "2020-11-27T23:36:32.197862Z"
    }
   },
   "outputs": [],
   "source": [
    "for area in stt_count:\n",
    "    # [total_num_station, total_duration, avg_duration]\n",
    "    stt_count[area] = {q: [0, 0, 0] for q in quarter_end_date}"
   ]
  },
  {
   "cell_type": "code",
   "execution_count": 64,
   "metadata": {
    "ExecuteTime": {
     "end_time": "2020-11-27T23:36:32.600860Z",
     "start_time": "2020-11-27T23:36:32.591861Z"
    },
    "scrolled": true
   },
   "outputs": [
    {
     "data": {
      "text/plain": [
       "{'DTLA': {'2016-q3': [0, 0, 0],\n",
       "  '2016-q4': [0, 0, 0],\n",
       "  '2017-q1': [0, 0, 0],\n",
       "  '2017-q2': [0, 0, 0],\n",
       "  '2017-q3': [0, 0, 0],\n",
       "  '2017-q4': [0, 0, 0],\n",
       "  '2018-q1': [0, 0, 0],\n",
       "  '2018-q2': [0, 0, 0],\n",
       "  '2018-q3': [0, 0, 0],\n",
       "  '2018-q4': [0, 0, 0],\n",
       "  '2019-q1': [0, 0, 0],\n",
       "  '2019-q2': [0, 0, 0],\n",
       "  '2019-q3': [0, 0, 0],\n",
       "  '2019-q4': [0, 0, 0],\n",
       "  '2020-q1': [0, 0, 0],\n",
       "  '2020-q2': [0, 0, 0]},\n",
       " 'Port of LA': {'2016-q3': [0, 0, 0],\n",
       "  '2016-q4': [0, 0, 0],\n",
       "  '2017-q1': [0, 0, 0],\n",
       "  '2017-q2': [0, 0, 0],\n",
       "  '2017-q3': [0, 0, 0],\n",
       "  '2017-q4': [0, 0, 0],\n",
       "  '2018-q1': [0, 0, 0],\n",
       "  '2018-q2': [0, 0, 0],\n",
       "  '2018-q3': [0, 0, 0],\n",
       "  '2018-q4': [0, 0, 0],\n",
       "  '2019-q1': [0, 0, 0],\n",
       "  '2019-q2': [0, 0, 0],\n",
       "  '2019-q3': [0, 0, 0],\n",
       "  '2019-q4': [0, 0, 0],\n",
       "  '2020-q1': [0, 0, 0],\n",
       "  '2020-q2': [0, 0, 0]},\n",
       " 'Pasadena': {'2016-q3': [0, 0, 0],\n",
       "  '2016-q4': [0, 0, 0],\n",
       "  '2017-q1': [0, 0, 0],\n",
       "  '2017-q2': [0, 0, 0],\n",
       "  '2017-q3': [0, 0, 0],\n",
       "  '2017-q4': [0, 0, 0],\n",
       "  '2018-q1': [0, 0, 0],\n",
       "  '2018-q2': [0, 0, 0],\n",
       "  '2018-q3': [0, 0, 0],\n",
       "  '2018-q4': [0, 0, 0],\n",
       "  '2019-q1': [0, 0, 0],\n",
       "  '2019-q2': [0, 0, 0],\n",
       "  '2019-q3': [0, 0, 0],\n",
       "  '2019-q4': [0, 0, 0],\n",
       "  '2020-q1': [0, 0, 0],\n",
       "  '2020-q2': [0, 0, 0]},\n",
       " 'Westside': {'2016-q3': [0, 0, 0],\n",
       "  '2016-q4': [0, 0, 0],\n",
       "  '2017-q1': [0, 0, 0],\n",
       "  '2017-q2': [0, 0, 0],\n",
       "  '2017-q3': [0, 0, 0],\n",
       "  '2017-q4': [0, 0, 0],\n",
       "  '2018-q1': [0, 0, 0],\n",
       "  '2018-q2': [0, 0, 0],\n",
       "  '2018-q3': [0, 0, 0],\n",
       "  '2018-q4': [0, 0, 0],\n",
       "  '2019-q1': [0, 0, 0],\n",
       "  '2019-q2': [0, 0, 0],\n",
       "  '2019-q3': [0, 0, 0],\n",
       "  '2019-q4': [0, 0, 0],\n",
       "  '2020-q1': [0, 0, 0],\n",
       "  '2020-q2': [0, 0, 0]},\n",
       " 'North Hollywood': {'2016-q3': [0, 0, 0],\n",
       "  '2016-q4': [0, 0, 0],\n",
       "  '2017-q1': [0, 0, 0],\n",
       "  '2017-q2': [0, 0, 0],\n",
       "  '2017-q3': [0, 0, 0],\n",
       "  '2017-q4': [0, 0, 0],\n",
       "  '2018-q1': [0, 0, 0],\n",
       "  '2018-q2': [0, 0, 0],\n",
       "  '2018-q3': [0, 0, 0],\n",
       "  '2018-q4': [0, 0, 0],\n",
       "  '2019-q1': [0, 0, 0],\n",
       "  '2019-q2': [0, 0, 0],\n",
       "  '2019-q3': [0, 0, 0],\n",
       "  '2019-q4': [0, 0, 0],\n",
       "  '2020-q1': [0, 0, 0],\n",
       "  '2020-q2': [0, 0, 0]}}"
      ]
     },
     "execution_count": 64,
     "metadata": {},
     "output_type": "execute_result"
    }
   ],
   "source": [
    "stt_count"
   ]
  },
  {
   "cell_type": "markdown",
   "metadata": {},
   "source": [
    "## number of stations"
   ]
  },
  {
   "cell_type": "code",
   "execution_count": 65,
   "metadata": {
    "ExecuteTime": {
     "end_time": "2020-11-27T23:36:40.869844Z",
     "start_time": "2020-11-27T23:36:40.835845Z"
    }
   },
   "outputs": [],
   "source": [
    "for area in stt_count:\n",
    "    df_area = df_get[df_get['region'] == area]\n",
    "    for q in quarter_end_date:\n",
    "        stt_c = df_area[df_area.go_live_date <= quarter_end_date[q]].shape[0]\n",
    "        stt_count[area][q][0] = stt_c"
   ]
  },
  {
   "cell_type": "code",
   "execution_count": 66,
   "metadata": {
    "ExecuteTime": {
     "end_time": "2020-11-27T23:36:41.289842Z",
     "start_time": "2020-11-27T23:36:41.280843Z"
    },
    "scrolled": true
   },
   "outputs": [
    {
     "data": {
      "text/plain": [
       "{'DTLA': {'2016-q3': [62, 0, 0],\n",
       "  '2016-q4': [62, 0, 0],\n",
       "  '2017-q1': [62, 0, 0],\n",
       "  '2017-q2': [62, 0, 0],\n",
       "  '2017-q3': [64, 0, 0],\n",
       "  '2017-q4': [65, 0, 0],\n",
       "  '2018-q1': [65, 0, 0],\n",
       "  '2018-q2': [68, 0, 0],\n",
       "  '2018-q3': [73, 0, 0],\n",
       "  '2018-q4': [77, 0, 0],\n",
       "  '2019-q1': [86, 0, 0],\n",
       "  '2019-q2': [97, 0, 0],\n",
       "  '2019-q3': [111, 0, 0],\n",
       "  '2019-q4': [130, 0, 0],\n",
       "  '2020-q1': [138, 0, 0],\n",
       "  '2020-q2': [141, 0, 0]},\n",
       " 'Port of LA': {'2016-q3': [0, 0, 0],\n",
       "  '2016-q4': [0, 0, 0],\n",
       "  '2017-q1': [0, 0, 0],\n",
       "  '2017-q2': [0, 0, 0],\n",
       "  '2017-q3': [12, 0, 0],\n",
       "  '2017-q4': [12, 0, 0],\n",
       "  '2018-q1': [12, 0, 0],\n",
       "  '2018-q2': [12, 0, 0],\n",
       "  '2018-q3': [12, 0, 0],\n",
       "  '2018-q4': [12, 0, 0],\n",
       "  '2019-q1': [12, 0, 0],\n",
       "  '2019-q2': [12, 0, 0],\n",
       "  '2019-q3': [13, 0, 0],\n",
       "  '2019-q4': [13, 0, 0],\n",
       "  '2020-q1': [13, 0, 0],\n",
       "  '2020-q2': [13, 0, 0]},\n",
       " 'Pasadena': {'2016-q3': [0, 0, 0],\n",
       "  '2016-q4': [0, 0, 0],\n",
       "  '2017-q1': [0, 0, 0],\n",
       "  '2017-q2': [0, 0, 0],\n",
       "  '2017-q3': [31, 0, 0],\n",
       "  '2017-q4': [31, 0, 0],\n",
       "  '2018-q1': [31, 0, 0],\n",
       "  '2018-q2': [31, 0, 0],\n",
       "  '2018-q3': [31, 0, 0],\n",
       "  '2018-q4': [31, 0, 0],\n",
       "  '2019-q1': [31, 0, 0],\n",
       "  '2019-q2': [31, 0, 0],\n",
       "  '2019-q3': [31, 0, 0],\n",
       "  '2019-q4': [31, 0, 0],\n",
       "  '2020-q1': [31, 0, 0],\n",
       "  '2020-q2': [31, 0, 0]},\n",
       " 'Westside': {'2016-q3': [0, 0, 0],\n",
       "  '2016-q4': [0, 0, 0],\n",
       "  '2017-q1': [0, 0, 0],\n",
       "  '2017-q2': [0, 0, 0],\n",
       "  '2017-q3': [14, 0, 0],\n",
       "  '2017-q4': [14, 0, 0],\n",
       "  '2018-q1': [14, 0, 0],\n",
       "  '2018-q2': [14, 0, 0],\n",
       "  '2018-q3': [14, 0, 0],\n",
       "  '2018-q4': [14, 0, 0],\n",
       "  '2019-q1': [54, 0, 0],\n",
       "  '2019-q2': [61, 0, 0],\n",
       "  '2019-q3': [66, 0, 0],\n",
       "  '2019-q4': [74, 0, 0],\n",
       "  '2020-q1': [78, 0, 0],\n",
       "  '2020-q2': [78, 0, 0]},\n",
       " 'North Hollywood': {'2016-q3': [0, 0, 0],\n",
       "  '2016-q4': [0, 0, 0],\n",
       "  '2017-q1': [0, 0, 0],\n",
       "  '2017-q2': [0, 0, 0],\n",
       "  '2017-q3': [0, 0, 0],\n",
       "  '2017-q4': [0, 0, 0],\n",
       "  '2018-q1': [0, 0, 0],\n",
       "  '2018-q2': [0, 0, 0],\n",
       "  '2018-q3': [0, 0, 0],\n",
       "  '2018-q4': [0, 0, 0],\n",
       "  '2019-q1': [0, 0, 0],\n",
       "  '2019-q2': [0, 0, 0],\n",
       "  '2019-q3': [17, 0, 0],\n",
       "  '2019-q4': [18, 0, 0],\n",
       "  '2020-q1': [20, 0, 0],\n",
       "  '2020-q2': [23, 0, 0]}}"
      ]
     },
     "execution_count": 66,
     "metadata": {},
     "output_type": "execute_result"
    }
   ],
   "source": [
    "stt_count"
   ]
  },
  {
   "cell_type": "markdown",
   "metadata": {},
   "source": [
    "## total duration"
   ]
  },
  {
   "cell_type": "code",
   "execution_count": 112,
   "metadata": {
    "ExecuteTime": {
     "end_time": "2020-11-28T00:08:55.278753Z",
     "start_time": "2020-11-28T00:08:55.271753Z"
    }
   },
   "outputs": [],
   "source": [
    "att_collection = [list(df_get[df_get.region == area].station) + [area] for area in df_get.region.unique()]"
   ]
  },
  {
   "cell_type": "code",
   "execution_count": 113,
   "metadata": {
    "ExecuteTime": {
     "end_time": "2020-11-28T00:10:58.869794Z",
     "start_time": "2020-11-28T00:08:56.712747Z"
    },
    "scrolled": true
   },
   "outputs": [
    {
     "name": "stdout",
     "output_type": "stream",
     "text": [
      "../processed_data/metro-bike-2016-q3.csv\n",
      "../processed_data/metro-bike-2016-q4.csv\n",
      "../processed_data/metro-bike-2017-q1.csv\n",
      "../processed_data/metro-bike-2017-q2.csv\n",
      "../processed_data/metro-bike-2017-q3.csv\n",
      "../processed_data/metro-bike-2017-q4.csv\n",
      "../processed_data/metro-bike-2018-q1.csv\n",
      "../processed_data/metro-bike-2018-q2.csv\n",
      "../processed_data/metro-bike-2018-q3.csv\n",
      "../processed_data/metro-bike-2018-q4.csv\n",
      "../processed_data/metro-bike-2019-q1.csv\n",
      "../processed_data/metro-bike-2019-q2.csv\n",
      "../processed_data/metro-bike-2019-q3.csv\n",
      "../processed_data/metro-bike-2019-q4.csv\n",
      "../processed_data/metro-bike-2020-q1.csv\n",
      "../processed_data/metro-bike-2020-q2.csv\n"
     ]
    }
   ],
   "source": [
    "for q in quarter_end_date:\n",
    "    pth_trip = '../processed_data/metro-bike-' + q + '.csv'\n",
    "    print(pth_trip)\n",
    "    df = pd.read_csv(pth_trip)\n",
    "    for row in df[['start_station', 'duration']].iterrows():\n",
    "        stt_id = row[1]['start_station']\n",
    "        dur = row[1]['duration']\n",
    "        for att in att_collection:\n",
    "            if stt_id in att:\n",
    "                area_belong = att[-1]\n",
    "                stt_count[area_belong][q][1] += dur\n",
    "                continue"
   ]
  },
  {
   "cell_type": "code",
   "execution_count": 114,
   "metadata": {
    "ExecuteTime": {
     "end_time": "2020-11-28T00:11:00.418788Z",
     "start_time": "2020-11-28T00:11:00.409788Z"
    }
   },
   "outputs": [
    {
     "data": {
      "text/plain": [
       "{'DTLA': {'2016-q3': [62, 1326127, 0],\n",
       "  '2016-q4': [62, 900473, 0],\n",
       "  '2017-q1': [62, 718001, 0],\n",
       "  '2017-q2': [62, 971828, 0],\n",
       "  '2017-q3': [64, 1070883, 0],\n",
       "  '2017-q4': [65, 994306, 0],\n",
       "  '2018-q1': [65, 827460, 0],\n",
       "  '2018-q2': [68, 1024520, 0],\n",
       "  '2018-q3': [73, 1747080, 0],\n",
       "  '2018-q4': [77, 1631589, 0],\n",
       "  '2019-q1': [86, 1124141, 0],\n",
       "  '2019-q2': [97, 1125137, 0],\n",
       "  '2019-q3': [111, 1672195, 0],\n",
       "  '2019-q4': [130, 1336158, 0],\n",
       "  '2020-q1': [138, 1238003, 0],\n",
       "  '2020-q2': [141, 379163, 0]},\n",
       " 'Port of LA': {'2016-q3': [0, 0, 0],\n",
       "  '2016-q4': [0, 0, 0],\n",
       "  '2017-q1': [0, 0, 0],\n",
       "  '2017-q2': [0, 0, 0],\n",
       "  '2017-q3': [12, 106159, 0],\n",
       "  '2017-q4': [12, 65369, 0],\n",
       "  '2018-q1': [12, 61109, 0],\n",
       "  '2018-q2': [12, 83014, 0],\n",
       "  '2018-q3': [12, 175646, 0],\n",
       "  '2018-q4': [12, 58061, 0],\n",
       "  '2019-q1': [12, 55725, 0],\n",
       "  '2019-q2': [12, 138168, 0],\n",
       "  '2019-q3': [13, 172760, 0],\n",
       "  '2019-q4': [13, 21503, 0],\n",
       "  '2020-q1': [13, 0, 0],\n",
       "  '2020-q2': [13, 0, 0]},\n",
       " 'Pasadena': {'2016-q3': [0, 0, 0],\n",
       "  '2016-q4': [0, 0, 0],\n",
       "  '2017-q1': [0, 0, 0],\n",
       "  '2017-q2': [0, 3231, 0],\n",
       "  '2017-q3': [31, 355796, 0],\n",
       "  '2017-q4': [31, 207897, 0],\n",
       "  '2018-q1': [31, 175230, 0],\n",
       "  '2018-q2': [31, 240582, 0],\n",
       "  '2018-q3': [31, 162381, 0],\n",
       "  '2018-q4': [31, 0, 0],\n",
       "  '2019-q1': [31, 0, 0],\n",
       "  '2019-q2': [31, 0, 0],\n",
       "  '2019-q3': [31, 0, 0],\n",
       "  '2019-q4': [31, 0, 0],\n",
       "  '2020-q1': [31, 0, 0],\n",
       "  '2020-q2': [31, 0, 0]},\n",
       " 'Westside': {'2016-q3': [0, 0, 0],\n",
       "  '2016-q4': [0, 0, 0],\n",
       "  '2017-q1': [0, 0, 0],\n",
       "  '2017-q2': [0, 0, 0],\n",
       "  '2017-q3': [14, 243037, 0],\n",
       "  '2017-q4': [14, 799067, 0],\n",
       "  '2018-q1': [14, 885332, 0],\n",
       "  '2018-q2': [14, 885246, 0],\n",
       "  '2018-q3': [14, 1563152, 0],\n",
       "  '2018-q4': [14, 824222, 0],\n",
       "  '2019-q1': [54, 457688, 0],\n",
       "  '2019-q2': [61, 334841, 0],\n",
       "  '2019-q3': [66, 461378, 0],\n",
       "  '2019-q4': [74, 273265, 0],\n",
       "  '2020-q1': [78, 251550, 0],\n",
       "  '2020-q2': [78, 93650, 0]},\n",
       " 'North Hollywood': {'2016-q3': [0, 0, 0],\n",
       "  '2016-q4': [0, 0, 0],\n",
       "  '2017-q1': [0, 0, 0],\n",
       "  '2017-q2': [0, 0, 0],\n",
       "  '2017-q3': [0, 0, 0],\n",
       "  '2017-q4': [0, 0, 0],\n",
       "  '2018-q1': [0, 0, 0],\n",
       "  '2018-q2': [0, 0, 0],\n",
       "  '2018-q3': [0, 0, 0],\n",
       "  '2018-q4': [0, 0, 0],\n",
       "  '2019-q1': [0, 0, 0],\n",
       "  '2019-q2': [0, 0, 0],\n",
       "  '2019-q3': [17, 35875, 0],\n",
       "  '2019-q4': [18, 24954, 0],\n",
       "  '2020-q1': [20, 31790, 0],\n",
       "  '2020-q2': [23, 14231, 0]}}"
      ]
     },
     "execution_count": 114,
     "metadata": {},
     "output_type": "execute_result"
    }
   ],
   "source": [
    "stt_count"
   ]
  },
  {
   "cell_type": "code",
   "execution_count": 116,
   "metadata": {
    "ExecuteTime": {
     "end_time": "2020-11-28T00:14:13.284478Z",
     "start_time": "2020-11-28T00:14:13.280477Z"
    }
   },
   "outputs": [],
   "source": [
    "for area in stt_count:\n",
    "    for q in stt_count[area]:\n",
    "        if stt_count[area][q][0] == 0:\n",
    "            stt_count[area][q][1] = 0"
   ]
  },
  {
   "cell_type": "code",
   "execution_count": 117,
   "metadata": {
    "ExecuteTime": {
     "end_time": "2020-11-28T00:14:16.146982Z",
     "start_time": "2020-11-28T00:14:16.139982Z"
    }
   },
   "outputs": [
    {
     "data": {
      "text/plain": [
       "{'DTLA': {'2016-q3': [62, 1326127, 0],\n",
       "  '2016-q4': [62, 900473, 0],\n",
       "  '2017-q1': [62, 718001, 0],\n",
       "  '2017-q2': [62, 971828, 0],\n",
       "  '2017-q3': [64, 1070883, 0],\n",
       "  '2017-q4': [65, 994306, 0],\n",
       "  '2018-q1': [65, 827460, 0],\n",
       "  '2018-q2': [68, 1024520, 0],\n",
       "  '2018-q3': [73, 1747080, 0],\n",
       "  '2018-q4': [77, 1631589, 0],\n",
       "  '2019-q1': [86, 1124141, 0],\n",
       "  '2019-q2': [97, 1125137, 0],\n",
       "  '2019-q3': [111, 1672195, 0],\n",
       "  '2019-q4': [130, 1336158, 0],\n",
       "  '2020-q1': [138, 1238003, 0],\n",
       "  '2020-q2': [141, 379163, 0]},\n",
       " 'Port of LA': {'2016-q3': [0, 0, 0],\n",
       "  '2016-q4': [0, 0, 0],\n",
       "  '2017-q1': [0, 0, 0],\n",
       "  '2017-q2': [0, 0, 0],\n",
       "  '2017-q3': [12, 106159, 0],\n",
       "  '2017-q4': [12, 65369, 0],\n",
       "  '2018-q1': [12, 61109, 0],\n",
       "  '2018-q2': [12, 83014, 0],\n",
       "  '2018-q3': [12, 175646, 0],\n",
       "  '2018-q4': [12, 58061, 0],\n",
       "  '2019-q1': [12, 55725, 0],\n",
       "  '2019-q2': [12, 138168, 0],\n",
       "  '2019-q3': [13, 172760, 0],\n",
       "  '2019-q4': [13, 21503, 0],\n",
       "  '2020-q1': [13, 0, 0],\n",
       "  '2020-q2': [13, 0, 0]},\n",
       " 'Pasadena': {'2016-q3': [0, 0, 0],\n",
       "  '2016-q4': [0, 0, 0],\n",
       "  '2017-q1': [0, 0, 0],\n",
       "  '2017-q2': [0, 0, 0],\n",
       "  '2017-q3': [31, 355796, 0],\n",
       "  '2017-q4': [31, 207897, 0],\n",
       "  '2018-q1': [31, 175230, 0],\n",
       "  '2018-q2': [31, 240582, 0],\n",
       "  '2018-q3': [31, 162381, 0],\n",
       "  '2018-q4': [31, 0, 0],\n",
       "  '2019-q1': [31, 0, 0],\n",
       "  '2019-q2': [31, 0, 0],\n",
       "  '2019-q3': [31, 0, 0],\n",
       "  '2019-q4': [31, 0, 0],\n",
       "  '2020-q1': [31, 0, 0],\n",
       "  '2020-q2': [31, 0, 0]},\n",
       " 'Westside': {'2016-q3': [0, 0, 0],\n",
       "  '2016-q4': [0, 0, 0],\n",
       "  '2017-q1': [0, 0, 0],\n",
       "  '2017-q2': [0, 0, 0],\n",
       "  '2017-q3': [14, 243037, 0],\n",
       "  '2017-q4': [14, 799067, 0],\n",
       "  '2018-q1': [14, 885332, 0],\n",
       "  '2018-q2': [14, 885246, 0],\n",
       "  '2018-q3': [14, 1563152, 0],\n",
       "  '2018-q4': [14, 824222, 0],\n",
       "  '2019-q1': [54, 457688, 0],\n",
       "  '2019-q2': [61, 334841, 0],\n",
       "  '2019-q3': [66, 461378, 0],\n",
       "  '2019-q4': [74, 273265, 0],\n",
       "  '2020-q1': [78, 251550, 0],\n",
       "  '2020-q2': [78, 93650, 0]},\n",
       " 'North Hollywood': {'2016-q3': [0, 0, 0],\n",
       "  '2016-q4': [0, 0, 0],\n",
       "  '2017-q1': [0, 0, 0],\n",
       "  '2017-q2': [0, 0, 0],\n",
       "  '2017-q3': [0, 0, 0],\n",
       "  '2017-q4': [0, 0, 0],\n",
       "  '2018-q1': [0, 0, 0],\n",
       "  '2018-q2': [0, 0, 0],\n",
       "  '2018-q3': [0, 0, 0],\n",
       "  '2018-q4': [0, 0, 0],\n",
       "  '2019-q1': [0, 0, 0],\n",
       "  '2019-q2': [0, 0, 0],\n",
       "  '2019-q3': [17, 35875, 0],\n",
       "  '2019-q4': [18, 24954, 0],\n",
       "  '2020-q1': [20, 31790, 0],\n",
       "  '2020-q2': [23, 14231, 0]}}"
      ]
     },
     "execution_count": 117,
     "metadata": {},
     "output_type": "execute_result"
    }
   ],
   "source": [
    "stt_count"
   ]
  },
  {
   "cell_type": "markdown",
   "metadata": {},
   "source": [
    "## avg duration time"
   ]
  },
  {
   "cell_type": "code",
   "execution_count": 118,
   "metadata": {
    "ExecuteTime": {
     "end_time": "2020-11-28T00:15:48.250799Z",
     "start_time": "2020-11-28T00:15:48.247800Z"
    }
   },
   "outputs": [],
   "source": [
    "for area in stt_count:\n",
    "    for q in stt_count[area]:\n",
    "        if stt_count[area][q][0] != 0:\n",
    "            stt_count[area][q][2] = stt_count[area][q][1] / stt_count[area][q][0]\n",
    "        else:\n",
    "            stt_count[area][q][2] = 0"
   ]
  },
  {
   "cell_type": "code",
   "execution_count": 119,
   "metadata": {
    "ExecuteTime": {
     "end_time": "2020-11-28T00:15:51.324786Z",
     "start_time": "2020-11-28T00:15:51.314787Z"
    },
    "scrolled": true
   },
   "outputs": [
    {
     "data": {
      "text/plain": [
       "{'DTLA': {'2016-q3': [62, 1326127, 21389.145161290322],\n",
       "  '2016-q4': [62, 900473, 14523.758064516129],\n",
       "  '2017-q1': [62, 718001, 11580.661290322581],\n",
       "  '2017-q2': [62, 971828, 15674.645161290322],\n",
       "  '2017-q3': [64, 1070883, 16732.546875],\n",
       "  '2017-q4': [65, 994306, 15297.015384615384],\n",
       "  '2018-q1': [65, 827460, 12730.153846153846],\n",
       "  '2018-q2': [68, 1024520, 15066.470588235294],\n",
       "  '2018-q3': [73, 1747080, 23932.602739726026],\n",
       "  '2018-q4': [77, 1631589, 21189.467532467534],\n",
       "  '2019-q1': [86, 1124141, 13071.406976744185],\n",
       "  '2019-q2': [97, 1125137, 11599.350515463917],\n",
       "  '2019-q3': [111, 1672195, 15064.81981981982],\n",
       "  '2019-q4': [130, 1336158, 10278.138461538461],\n",
       "  '2020-q1': [138, 1238003, 8971.036231884058],\n",
       "  '2020-q2': [141, 379163, 2689.099290780142]},\n",
       " 'Port of LA': {'2016-q3': [0, 0, 0],\n",
       "  '2016-q4': [0, 0, 0],\n",
       "  '2017-q1': [0, 0, 0],\n",
       "  '2017-q2': [0, 0, 0],\n",
       "  '2017-q3': [12, 106159, 8846.583333333334],\n",
       "  '2017-q4': [12, 65369, 5447.416666666667],\n",
       "  '2018-q1': [12, 61109, 5092.416666666667],\n",
       "  '2018-q2': [12, 83014, 6917.833333333333],\n",
       "  '2018-q3': [12, 175646, 14637.166666666666],\n",
       "  '2018-q4': [12, 58061, 4838.416666666667],\n",
       "  '2019-q1': [12, 55725, 4643.75],\n",
       "  '2019-q2': [12, 138168, 11514.0],\n",
       "  '2019-q3': [13, 172760, 13289.23076923077],\n",
       "  '2019-q4': [13, 21503, 1654.076923076923],\n",
       "  '2020-q1': [13, 0, 0.0],\n",
       "  '2020-q2': [13, 0, 0.0]},\n",
       " 'Pasadena': {'2016-q3': [0, 0, 0],\n",
       "  '2016-q4': [0, 0, 0],\n",
       "  '2017-q1': [0, 0, 0],\n",
       "  '2017-q2': [0, 0, 0],\n",
       "  '2017-q3': [31, 355796, 11477.290322580646],\n",
       "  '2017-q4': [31, 207897, 6706.354838709677],\n",
       "  '2018-q1': [31, 175230, 5652.580645161291],\n",
       "  '2018-q2': [31, 240582, 7760.709677419355],\n",
       "  '2018-q3': [31, 162381, 5238.096774193548],\n",
       "  '2018-q4': [31, 0, 0.0],\n",
       "  '2019-q1': [31, 0, 0.0],\n",
       "  '2019-q2': [31, 0, 0.0],\n",
       "  '2019-q3': [31, 0, 0.0],\n",
       "  '2019-q4': [31, 0, 0.0],\n",
       "  '2020-q1': [31, 0, 0.0],\n",
       "  '2020-q2': [31, 0, 0.0]},\n",
       " 'Westside': {'2016-q3': [0, 0, 0],\n",
       "  '2016-q4': [0, 0, 0],\n",
       "  '2017-q1': [0, 0, 0],\n",
       "  '2017-q2': [0, 0, 0],\n",
       "  '2017-q3': [14, 243037, 17359.785714285714],\n",
       "  '2017-q4': [14, 799067, 57076.21428571428],\n",
       "  '2018-q1': [14, 885332, 63238.0],\n",
       "  '2018-q2': [14, 885246, 63231.857142857145],\n",
       "  '2018-q3': [14, 1563152, 111653.71428571429],\n",
       "  '2018-q4': [14, 824222, 58873.0],\n",
       "  '2019-q1': [54, 457688, 8475.703703703704],\n",
       "  '2019-q2': [61, 334841, 5489.196721311476],\n",
       "  '2019-q3': [66, 461378, 6990.575757575758],\n",
       "  '2019-q4': [74, 273265, 3692.7702702702704],\n",
       "  '2020-q1': [78, 251550, 3225.0],\n",
       "  '2020-q2': [78, 93650, 1200.6410256410256]},\n",
       " 'North Hollywood': {'2016-q3': [0, 0, 0],\n",
       "  '2016-q4': [0, 0, 0],\n",
       "  '2017-q1': [0, 0, 0],\n",
       "  '2017-q2': [0, 0, 0],\n",
       "  '2017-q3': [0, 0, 0],\n",
       "  '2017-q4': [0, 0, 0],\n",
       "  '2018-q1': [0, 0, 0],\n",
       "  '2018-q2': [0, 0, 0],\n",
       "  '2018-q3': [0, 0, 0],\n",
       "  '2018-q4': [0, 0, 0],\n",
       "  '2019-q1': [0, 0, 0],\n",
       "  '2019-q2': [0, 0, 0],\n",
       "  '2019-q3': [17, 35875, 2110.294117647059],\n",
       "  '2019-q4': [18, 24954, 1386.3333333333333],\n",
       "  '2020-q1': [20, 31790, 1589.5],\n",
       "  '2020-q2': [23, 14231, 618.7391304347826]}}"
      ]
     },
     "execution_count": 119,
     "metadata": {},
     "output_type": "execute_result"
    }
   ],
   "source": [
    "stt_count"
   ]
  },
  {
   "cell_type": "markdown",
   "metadata": {},
   "source": [
    "## if duration == 0, station == 0"
   ]
  },
  {
   "cell_type": "code",
   "execution_count": 120,
   "metadata": {
    "ExecuteTime": {
     "end_time": "2020-11-28T00:19:23.625477Z",
     "start_time": "2020-11-28T00:19:23.622477Z"
    }
   },
   "outputs": [],
   "source": [
    "for area in stt_count:\n",
    "    for q in stt_count[area]:\n",
    "        if stt_count[area][q][1] == 0:\n",
    "            stt_count[area][q][0] = 0"
   ]
  },
  {
   "cell_type": "code",
   "execution_count": 121,
   "metadata": {
    "ExecuteTime": {
     "end_time": "2020-11-28T00:19:28.804999Z",
     "start_time": "2020-11-28T00:19:28.795999Z"
    },
    "scrolled": true
   },
   "outputs": [
    {
     "data": {
      "text/plain": [
       "{'DTLA': {'2016-q3': [62, 1326127, 21389.145161290322],\n",
       "  '2016-q4': [62, 900473, 14523.758064516129],\n",
       "  '2017-q1': [62, 718001, 11580.661290322581],\n",
       "  '2017-q2': [62, 971828, 15674.645161290322],\n",
       "  '2017-q3': [64, 1070883, 16732.546875],\n",
       "  '2017-q4': [65, 994306, 15297.015384615384],\n",
       "  '2018-q1': [65, 827460, 12730.153846153846],\n",
       "  '2018-q2': [68, 1024520, 15066.470588235294],\n",
       "  '2018-q3': [73, 1747080, 23932.602739726026],\n",
       "  '2018-q4': [77, 1631589, 21189.467532467534],\n",
       "  '2019-q1': [86, 1124141, 13071.406976744185],\n",
       "  '2019-q2': [97, 1125137, 11599.350515463917],\n",
       "  '2019-q3': [111, 1672195, 15064.81981981982],\n",
       "  '2019-q4': [130, 1336158, 10278.138461538461],\n",
       "  '2020-q1': [138, 1238003, 8971.036231884058],\n",
       "  '2020-q2': [141, 379163, 2689.099290780142]},\n",
       " 'Port of LA': {'2016-q3': [0, 0, 0],\n",
       "  '2016-q4': [0, 0, 0],\n",
       "  '2017-q1': [0, 0, 0],\n",
       "  '2017-q2': [0, 0, 0],\n",
       "  '2017-q3': [12, 106159, 8846.583333333334],\n",
       "  '2017-q4': [12, 65369, 5447.416666666667],\n",
       "  '2018-q1': [12, 61109, 5092.416666666667],\n",
       "  '2018-q2': [12, 83014, 6917.833333333333],\n",
       "  '2018-q3': [12, 175646, 14637.166666666666],\n",
       "  '2018-q4': [12, 58061, 4838.416666666667],\n",
       "  '2019-q1': [12, 55725, 4643.75],\n",
       "  '2019-q2': [12, 138168, 11514.0],\n",
       "  '2019-q3': [13, 172760, 13289.23076923077],\n",
       "  '2019-q4': [13, 21503, 1654.076923076923],\n",
       "  '2020-q1': [0, 0, 0.0],\n",
       "  '2020-q2': [0, 0, 0.0]},\n",
       " 'Pasadena': {'2016-q3': [0, 0, 0],\n",
       "  '2016-q4': [0, 0, 0],\n",
       "  '2017-q1': [0, 0, 0],\n",
       "  '2017-q2': [0, 0, 0],\n",
       "  '2017-q3': [31, 355796, 11477.290322580646],\n",
       "  '2017-q4': [31, 207897, 6706.354838709677],\n",
       "  '2018-q1': [31, 175230, 5652.580645161291],\n",
       "  '2018-q2': [31, 240582, 7760.709677419355],\n",
       "  '2018-q3': [31, 162381, 5238.096774193548],\n",
       "  '2018-q4': [0, 0, 0.0],\n",
       "  '2019-q1': [0, 0, 0.0],\n",
       "  '2019-q2': [0, 0, 0.0],\n",
       "  '2019-q3': [0, 0, 0.0],\n",
       "  '2019-q4': [0, 0, 0.0],\n",
       "  '2020-q1': [0, 0, 0.0],\n",
       "  '2020-q2': [0, 0, 0.0]},\n",
       " 'Westside': {'2016-q3': [0, 0, 0],\n",
       "  '2016-q4': [0, 0, 0],\n",
       "  '2017-q1': [0, 0, 0],\n",
       "  '2017-q2': [0, 0, 0],\n",
       "  '2017-q3': [14, 243037, 17359.785714285714],\n",
       "  '2017-q4': [14, 799067, 57076.21428571428],\n",
       "  '2018-q1': [14, 885332, 63238.0],\n",
       "  '2018-q2': [14, 885246, 63231.857142857145],\n",
       "  '2018-q3': [14, 1563152, 111653.71428571429],\n",
       "  '2018-q4': [14, 824222, 58873.0],\n",
       "  '2019-q1': [54, 457688, 8475.703703703704],\n",
       "  '2019-q2': [61, 334841, 5489.196721311476],\n",
       "  '2019-q3': [66, 461378, 6990.575757575758],\n",
       "  '2019-q4': [74, 273265, 3692.7702702702704],\n",
       "  '2020-q1': [78, 251550, 3225.0],\n",
       "  '2020-q2': [78, 93650, 1200.6410256410256]},\n",
       " 'North Hollywood': {'2016-q3': [0, 0, 0],\n",
       "  '2016-q4': [0, 0, 0],\n",
       "  '2017-q1': [0, 0, 0],\n",
       "  '2017-q2': [0, 0, 0],\n",
       "  '2017-q3': [0, 0, 0],\n",
       "  '2017-q4': [0, 0, 0],\n",
       "  '2018-q1': [0, 0, 0],\n",
       "  '2018-q2': [0, 0, 0],\n",
       "  '2018-q3': [0, 0, 0],\n",
       "  '2018-q4': [0, 0, 0],\n",
       "  '2019-q1': [0, 0, 0],\n",
       "  '2019-q2': [0, 0, 0],\n",
       "  '2019-q3': [17, 35875, 2110.294117647059],\n",
       "  '2019-q4': [18, 24954, 1386.3333333333333],\n",
       "  '2020-q1': [20, 31790, 1589.5],\n",
       "  '2020-q2': [23, 14231, 618.7391304347826]}}"
      ]
     },
     "execution_count": 121,
     "metadata": {},
     "output_type": "execute_result"
    }
   ],
   "source": [
    "stt_count"
   ]
  },
  {
   "cell_type": "markdown",
   "metadata": {},
   "source": [
    "## save"
   ]
  },
  {
   "cell_type": "code",
   "execution_count": 124,
   "metadata": {
    "ExecuteTime": {
     "end_time": "2020-11-28T00:22:22.811652Z",
     "start_time": "2020-11-28T00:22:22.807652Z"
    }
   },
   "outputs": [],
   "source": [
    "for area in stt_count:\n",
    "    for q in stt_count[area]:\n",
    "        stt_count[area][q][0] = int(stt_count[area][q][0])\n",
    "        stt_count[area][q][1] = int(stt_count[area][q][1])\n",
    "        stt_count[area][q][2] = float(stt_count[area][q][2])"
   ]
  },
  {
   "cell_type": "code",
   "execution_count": 125,
   "metadata": {
    "ExecuteTime": {
     "end_time": "2020-11-28T00:22:24.524668Z",
     "start_time": "2020-11-28T00:22:24.520669Z"
    }
   },
   "outputs": [],
   "source": [
    "with open('../chart_data/overview/station_overview.json', 'w', encoding='utf-8') as fp:\n",
    "    json.dump(stt_count, fp)"
   ]
  }
 ],
 "metadata": {
  "kernelspec": {
   "display_name": "Python [conda env:mecsc]",
   "language": "python",
   "name": "conda-env-mecsc-py"
  },
  "language_info": {
   "codemirror_mode": {
    "name": "ipython",
    "version": 3
   },
   "file_extension": ".py",
   "mimetype": "text/x-python",
   "name": "python",
   "nbconvert_exporter": "python",
   "pygments_lexer": "ipython3",
   "version": "3.6.12"
  },
  "toc": {
   "base_numbering": 1,
   "nav_menu": {},
   "number_sections": true,
   "sideBar": true,
   "skip_h1_title": false,
   "title_cell": "Table of Contents",
   "title_sidebar": "Contents",
   "toc_cell": false,
   "toc_position": {},
   "toc_section_display": true,
   "toc_window_display": false
  }
 },
 "nbformat": 4,
 "nbformat_minor": 2
}
