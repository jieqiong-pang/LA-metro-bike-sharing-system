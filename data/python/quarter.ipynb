{
 "cells": [
  {
   "cell_type": "code",
   "execution_count": 1,
   "metadata": {
    "ExecuteTime": {
     "end_time": "2020-11-20T12:35:42.824202Z",
     "start_time": "2020-11-20T12:35:42.822199Z"
    }
   },
   "outputs": [],
   "source": [
    "import time\n",
    "import copy"
   ]
  },
  {
   "cell_type": "code",
   "execution_count": 2,
   "metadata": {
    "ExecuteTime": {
     "end_time": "2020-11-20T12:35:43.184720Z",
     "start_time": "2020-11-20T12:35:42.825199Z"
    }
   },
   "outputs": [],
   "source": [
    "import geojson\n",
    "from geojson import Feature, Point, FeatureCollection\n",
    "\n",
    "import pandas as pd\n",
    "import numpy as np"
   ]
  },
  {
   "cell_type": "markdown",
   "metadata": {},
   "source": [
    "## generate basic geojson of station"
   ]
  },
  {
   "cell_type": "code",
   "execution_count": 3,
   "metadata": {
    "ExecuteTime": {
     "end_time": "2020-11-20T12:35:43.189719Z",
     "start_time": "2020-11-20T12:35:43.185719Z"
    }
   },
   "outputs": [],
   "source": [
    "pth_station = \"../processed_data/metro-bike-stations.csv\""
   ]
  },
  {
   "cell_type": "code",
   "execution_count": 4,
   "metadata": {
    "ExecuteTime": {
     "end_time": "2020-11-20T12:35:43.197720Z",
     "start_time": "2020-11-20T12:35:43.190721Z"
    }
   },
   "outputs": [],
   "source": [
    "df_station = pd.read_csv(pth_station)"
   ]
  },
  {
   "cell_type": "code",
   "execution_count": 5,
   "metadata": {
    "ExecuteTime": {
     "end_time": "2020-11-20T12:35:43.202720Z",
     "start_time": "2020-11-20T12:35:43.198720Z"
    }
   },
   "outputs": [],
   "source": [
    "df_station = df_station.drop(columns=['status'])"
   ]
  },
  {
   "cell_type": "code",
   "execution_count": 6,
   "metadata": {
    "ExecuteTime": {
     "end_time": "2020-11-20T12:35:43.218719Z",
     "start_time": "2020-11-20T12:35:43.203720Z"
    }
   },
   "outputs": [
    {
     "data": {
      "text/html": [
       "<div>\n",
       "<style scoped>\n",
       "    .dataframe tbody tr th:only-of-type {\n",
       "        vertical-align: middle;\n",
       "    }\n",
       "\n",
       "    .dataframe tbody tr th {\n",
       "        vertical-align: top;\n",
       "    }\n",
       "\n",
       "    .dataframe thead th {\n",
       "        text-align: right;\n",
       "    }\n",
       "</style>\n",
       "<table border=\"1\" class=\"dataframe\">\n",
       "  <thead>\n",
       "    <tr style=\"text-align: right;\">\n",
       "      <th></th>\n",
       "      <th>station</th>\n",
       "      <th>station_name</th>\n",
       "      <th>go_live_date</th>\n",
       "      <th>region</th>\n",
       "      <th>lan</th>\n",
       "      <th>lon</th>\n",
       "    </tr>\n",
       "  </thead>\n",
       "  <tbody>\n",
       "    <tr>\n",
       "      <th>0</th>\n",
       "      <td>3005</td>\n",
       "      <td>7th &amp; Flower</td>\n",
       "      <td>7/7/2016</td>\n",
       "      <td>DTLA</td>\n",
       "      <td>34.048500</td>\n",
       "      <td>-118.258537</td>\n",
       "    </tr>\n",
       "    <tr>\n",
       "      <th>1</th>\n",
       "      <td>3006</td>\n",
       "      <td>Olive &amp; 8th</td>\n",
       "      <td>7/7/2016</td>\n",
       "      <td>DTLA</td>\n",
       "      <td>34.045540</td>\n",
       "      <td>-118.256668</td>\n",
       "    </tr>\n",
       "    <tr>\n",
       "      <th>2</th>\n",
       "      <td>3007</td>\n",
       "      <td>5th &amp; Grand</td>\n",
       "      <td>7/7/2016</td>\n",
       "      <td>DTLA</td>\n",
       "      <td>34.050480</td>\n",
       "      <td>-118.254593</td>\n",
       "    </tr>\n",
       "    <tr>\n",
       "      <th>3</th>\n",
       "      <td>3008</td>\n",
       "      <td>Figueroa &amp; 9th</td>\n",
       "      <td>7/7/2016</td>\n",
       "      <td>DTLA</td>\n",
       "      <td>34.046612</td>\n",
       "      <td>-118.262733</td>\n",
       "    </tr>\n",
       "    <tr>\n",
       "      <th>4</th>\n",
       "      <td>3010</td>\n",
       "      <td>11th &amp; Maple</td>\n",
       "      <td>7/10/2016</td>\n",
       "      <td>DTLA</td>\n",
       "      <td>34.037048</td>\n",
       "      <td>-118.254868</td>\n",
       "    </tr>\n",
       "  </tbody>\n",
       "</table>\n",
       "</div>"
      ],
      "text/plain": [
       "   station    station_name go_live_date region        lan         lon\n",
       "0     3005    7th & Flower     7/7/2016   DTLA  34.048500 -118.258537\n",
       "1     3006     Olive & 8th     7/7/2016   DTLA  34.045540 -118.256668\n",
       "2     3007     5th & Grand     7/7/2016   DTLA  34.050480 -118.254593\n",
       "3     3008  Figueroa & 9th     7/7/2016   DTLA  34.046612 -118.262733\n",
       "4     3010    11th & Maple    7/10/2016   DTLA  34.037048 -118.254868"
      ]
     },
     "execution_count": 6,
     "metadata": {},
     "output_type": "execute_result"
    }
   ],
   "source": [
    "df_station.head(5)"
   ]
  },
  {
   "cell_type": "code",
   "execution_count": 7,
   "metadata": {
    "ExecuteTime": {
     "end_time": "2020-11-20T12:35:43.228720Z",
     "start_time": "2020-11-20T12:35:43.219719Z"
    }
   },
   "outputs": [
    {
     "name": "stdout",
     "output_type": "stream",
     "text": [
      "<class 'pandas.core.frame.DataFrame'>\n",
      "RangeIndex: 286 entries, 0 to 285\n",
      "Data columns (total 6 columns):\n",
      " #   Column        Non-Null Count  Dtype  \n",
      "---  ------        --------------  -----  \n",
      " 0   station       286 non-null    int64  \n",
      " 1   station_name  286 non-null    object \n",
      " 2   go_live_date  286 non-null    object \n",
      " 3   region        286 non-null    object \n",
      " 4   lan           286 non-null    float64\n",
      " 5   lon           286 non-null    float64\n",
      "dtypes: float64(2), int64(1), object(3)\n",
      "memory usage: 13.5+ KB\n"
     ]
    }
   ],
   "source": [
    "df_station.info()"
   ]
  },
  {
   "cell_type": "code",
   "execution_count": 8,
   "metadata": {
    "ExecuteTime": {
     "end_time": "2020-11-20T12:35:43.236722Z",
     "start_time": "2020-11-20T12:35:43.230720Z"
    }
   },
   "outputs": [
    {
     "data": {
      "text/plain": [
       "{'station': 3005,\n",
       " 'station_name': '7th & Flower',\n",
       " 'go_live_date': '7/7/2016',\n",
       " 'region': 'DTLA',\n",
       " 'lan': 34.0485,\n",
       " 'lon': -118.25853700000002}"
      ]
     },
     "execution_count": 8,
     "metadata": {},
     "output_type": "execute_result"
    }
   ],
   "source": [
    "l_origin = df_station.to_dict('records')\n",
    "l_origin[0]"
   ]
  },
  {
   "cell_type": "code",
   "execution_count": 9,
   "metadata": {
    "ExecuteTime": {
     "end_time": "2020-11-20T12:35:43.240721Z",
     "start_time": "2020-11-20T12:35:43.237721Z"
    }
   },
   "outputs": [],
   "source": [
    "def getFeature(station):\n",
    "    # (lon, lat)\n",
    "    return Feature(id=station['station'], geometry=Point((station['lon'], station['lan'])), properties=station)"
   ]
  },
  {
   "cell_type": "code",
   "execution_count": 10,
   "metadata": {
    "ExecuteTime": {
     "end_time": "2020-11-20T12:35:43.246722Z",
     "start_time": "2020-11-20T12:35:43.241722Z"
    }
   },
   "outputs": [],
   "source": [
    "fc = FeatureCollection([getFeature(s) for s in l_origin])"
   ]
  },
  {
   "cell_type": "code",
   "execution_count": 11,
   "metadata": {
    "ExecuteTime": {
     "end_time": "2020-11-20T12:35:43.250722Z",
     "start_time": "2020-11-20T12:35:43.247722Z"
    }
   },
   "outputs": [],
   "source": [
    "# with open('../chart_data/station/station_basic_info.json', 'w', encoding='utf-8') as fp:\n",
    "#     geojson.dump(fc, fp)"
   ]
  },
  {
   "cell_type": "markdown",
   "metadata": {
    "ExecuteTime": {
     "end_time": "2020-11-20T09:47:21.210539Z",
     "start_time": "2020-11-20T09:47:21.206538Z"
    }
   },
   "source": [
    "## chart data"
   ]
  },
  {
   "cell_type": "code",
   "execution_count": 12,
   "metadata": {
    "ExecuteTime": {
     "end_time": "2020-11-20T12:35:43.256722Z",
     "start_time": "2020-11-20T12:35:43.251723Z"
    }
   },
   "outputs": [],
   "source": [
    "list_station = copy.deepcopy(l_origin)"
   ]
  },
  {
   "cell_type": "code",
   "execution_count": 13,
   "metadata": {
    "ExecuteTime": {
     "end_time": "2020-11-20T12:35:43.260722Z",
     "start_time": "2020-11-20T12:35:43.257722Z"
    }
   },
   "outputs": [],
   "source": [
    "fn = \"metro-bike-2016-q3.csv\""
   ]
  },
  {
   "cell_type": "code",
   "execution_count": 14,
   "metadata": {
    "ExecuteTime": {
     "end_time": "2020-11-20T12:35:43.264722Z",
     "start_time": "2020-11-20T12:35:43.261722Z"
    }
   },
   "outputs": [],
   "source": [
    "pth_quarter = \"../processed_data/\" + fn"
   ]
  },
  {
   "cell_type": "code",
   "execution_count": 15,
   "metadata": {
    "ExecuteTime": {
     "end_time": "2020-11-20T12:35:43.358718Z",
     "start_time": "2020-11-20T12:35:43.265720Z"
    }
   },
   "outputs": [],
   "source": [
    "df_trip = pd.read_csv(pth_quarter)"
   ]
  },
  {
   "cell_type": "code",
   "execution_count": 16,
   "metadata": {
    "ExecuteTime": {
     "end_time": "2020-11-20T12:35:43.371719Z",
     "start_time": "2020-11-20T12:35:43.359721Z"
    },
    "scrolled": false
   },
   "outputs": [
    {
     "data": {
      "text/html": [
       "<div>\n",
       "<style scoped>\n",
       "    .dataframe tbody tr th:only-of-type {\n",
       "        vertical-align: middle;\n",
       "    }\n",
       "\n",
       "    .dataframe tbody tr th {\n",
       "        vertical-align: top;\n",
       "    }\n",
       "\n",
       "    .dataframe thead th {\n",
       "        text-align: right;\n",
       "    }\n",
       "</style>\n",
       "<table border=\"1\" class=\"dataframe\">\n",
       "  <thead>\n",
       "    <tr style=\"text-align: right;\">\n",
       "      <th></th>\n",
       "      <th>trip_id</th>\n",
       "      <th>duration</th>\n",
       "      <th>start_time</th>\n",
       "      <th>end_time</th>\n",
       "      <th>start_station</th>\n",
       "      <th>start_lat</th>\n",
       "      <th>start_lon</th>\n",
       "      <th>end_station</th>\n",
       "      <th>end_lat</th>\n",
       "      <th>end_lon</th>\n",
       "      <th>bike_id</th>\n",
       "      <th>plan_duration</th>\n",
       "      <th>trip_route_category</th>\n",
       "      <th>passholder_type</th>\n",
       "    </tr>\n",
       "  </thead>\n",
       "  <tbody>\n",
       "    <tr>\n",
       "      <th>0</th>\n",
       "      <td>1912818</td>\n",
       "      <td>3</td>\n",
       "      <td>7/7/2016 4:17</td>\n",
       "      <td>7/7/2016 4:20</td>\n",
       "      <td>3014</td>\n",
       "      <td>34.056610</td>\n",
       "      <td>-118.23721</td>\n",
       "      <td>3014</td>\n",
       "      <td>34.056610</td>\n",
       "      <td>-118.23721</td>\n",
       "      <td>6281</td>\n",
       "      <td>30</td>\n",
       "      <td>Round Trip</td>\n",
       "      <td>Monthly Pass</td>\n",
       "    </tr>\n",
       "    <tr>\n",
       "      <th>1</th>\n",
       "      <td>1919661</td>\n",
       "      <td>33</td>\n",
       "      <td>7/7/2016 6:00</td>\n",
       "      <td>7/7/2016 6:33</td>\n",
       "      <td>3014</td>\n",
       "      <td>34.056610</td>\n",
       "      <td>-118.23721</td>\n",
       "      <td>3014</td>\n",
       "      <td>34.056610</td>\n",
       "      <td>-118.23721</td>\n",
       "      <td>6281</td>\n",
       "      <td>30</td>\n",
       "      <td>Round Trip</td>\n",
       "      <td>Monthly Pass</td>\n",
       "    </tr>\n",
       "    <tr>\n",
       "      <th>2</th>\n",
       "      <td>1933383</td>\n",
       "      <td>5</td>\n",
       "      <td>7/7/2016 10:32</td>\n",
       "      <td>7/7/2016 10:37</td>\n",
       "      <td>3016</td>\n",
       "      <td>34.052898</td>\n",
       "      <td>-118.24156</td>\n",
       "      <td>3016</td>\n",
       "      <td>34.052898</td>\n",
       "      <td>-118.24156</td>\n",
       "      <td>5861</td>\n",
       "      <td>365</td>\n",
       "      <td>Round Trip</td>\n",
       "      <td>Flex Pass</td>\n",
       "    </tr>\n",
       "    <tr>\n",
       "      <th>3</th>\n",
       "      <td>1944197</td>\n",
       "      <td>181</td>\n",
       "      <td>7/7/2016 10:37</td>\n",
       "      <td>7/7/2016 13:38</td>\n",
       "      <td>3016</td>\n",
       "      <td>34.052898</td>\n",
       "      <td>-118.24156</td>\n",
       "      <td>3016</td>\n",
       "      <td>34.052898</td>\n",
       "      <td>-118.24156</td>\n",
       "      <td>5861</td>\n",
       "      <td>365</td>\n",
       "      <td>Round Trip</td>\n",
       "      <td>Flex Pass</td>\n",
       "    </tr>\n",
       "    <tr>\n",
       "      <th>4</th>\n",
       "      <td>1940317</td>\n",
       "      <td>7</td>\n",
       "      <td>7/7/2016 12:51</td>\n",
       "      <td>7/7/2016 12:58</td>\n",
       "      <td>3032</td>\n",
       "      <td>34.049889</td>\n",
       "      <td>-118.25588</td>\n",
       "      <td>3032</td>\n",
       "      <td>34.049889</td>\n",
       "      <td>-118.25588</td>\n",
       "      <td>6674</td>\n",
       "      <td>0</td>\n",
       "      <td>Round Trip</td>\n",
       "      <td>Walk-up</td>\n",
       "    </tr>\n",
       "  </tbody>\n",
       "</table>\n",
       "</div>"
      ],
      "text/plain": [
       "   trip_id  duration      start_time        end_time  start_station  \\\n",
       "0  1912818         3   7/7/2016 4:17   7/7/2016 4:20           3014   \n",
       "1  1919661        33   7/7/2016 6:00   7/7/2016 6:33           3014   \n",
       "2  1933383         5  7/7/2016 10:32  7/7/2016 10:37           3016   \n",
       "3  1944197       181  7/7/2016 10:37  7/7/2016 13:38           3016   \n",
       "4  1940317         7  7/7/2016 12:51  7/7/2016 12:58           3032   \n",
       "\n",
       "   start_lat  start_lon  end_station    end_lat    end_lon  bike_id  \\\n",
       "0  34.056610 -118.23721         3014  34.056610 -118.23721     6281   \n",
       "1  34.056610 -118.23721         3014  34.056610 -118.23721     6281   \n",
       "2  34.052898 -118.24156         3016  34.052898 -118.24156     5861   \n",
       "3  34.052898 -118.24156         3016  34.052898 -118.24156     5861   \n",
       "4  34.049889 -118.25588         3032  34.049889 -118.25588     6674   \n",
       "\n",
       "   plan_duration trip_route_category passholder_type  \n",
       "0             30          Round Trip    Monthly Pass  \n",
       "1             30          Round Trip    Monthly Pass  \n",
       "2            365          Round Trip       Flex Pass  \n",
       "3            365          Round Trip       Flex Pass  \n",
       "4              0          Round Trip         Walk-up  "
      ]
     },
     "execution_count": 16,
     "metadata": {},
     "output_type": "execute_result"
    }
   ],
   "source": [
    "df_trip.head(5)"
   ]
  },
  {
   "cell_type": "code",
   "execution_count": 17,
   "metadata": {
    "ExecuteTime": {
     "end_time": "2020-11-20T12:35:43.384718Z",
     "start_time": "2020-11-20T12:35:43.372719Z"
    }
   },
   "outputs": [
    {
     "data": {
      "text/html": [
       "<div>\n",
       "<style scoped>\n",
       "    .dataframe tbody tr th:only-of-type {\n",
       "        vertical-align: middle;\n",
       "    }\n",
       "\n",
       "    .dataframe tbody tr th {\n",
       "        vertical-align: top;\n",
       "    }\n",
       "\n",
       "    .dataframe thead th {\n",
       "        text-align: right;\n",
       "    }\n",
       "</style>\n",
       "<table border=\"1\" class=\"dataframe\">\n",
       "  <thead>\n",
       "    <tr style=\"text-align: right;\">\n",
       "      <th></th>\n",
       "      <th>trip_id</th>\n",
       "      <th>duration</th>\n",
       "      <th>start_time</th>\n",
       "      <th>end_time</th>\n",
       "      <th>start_station</th>\n",
       "      <th>start_lat</th>\n",
       "      <th>start_lon</th>\n",
       "      <th>end_station</th>\n",
       "      <th>end_lat</th>\n",
       "      <th>end_lon</th>\n",
       "      <th>bike_id</th>\n",
       "      <th>plan_duration</th>\n",
       "      <th>trip_route_category</th>\n",
       "      <th>passholder_type</th>\n",
       "    </tr>\n",
       "  </thead>\n",
       "  <tbody>\n",
       "    <tr>\n",
       "      <th>55434</th>\n",
       "      <td>8365125</td>\n",
       "      <td>14</td>\n",
       "      <td>9/30/2016 23:43</td>\n",
       "      <td>9/30/2016 23:57</td>\n",
       "      <td>3054</td>\n",
       "      <td>34.039219</td>\n",
       "      <td>-118.23649</td>\n",
       "      <td>3005</td>\n",
       "      <td>34.048550</td>\n",
       "      <td>-118.25905</td>\n",
       "      <td>6146</td>\n",
       "      <td>30</td>\n",
       "      <td>One Way</td>\n",
       "      <td>Monthly Pass</td>\n",
       "    </tr>\n",
       "    <tr>\n",
       "      <th>55435</th>\n",
       "      <td>8369653</td>\n",
       "      <td>14</td>\n",
       "      <td>9/30/2016 23:44</td>\n",
       "      <td>9/30/2016 23:58</td>\n",
       "      <td>3051</td>\n",
       "      <td>34.045422</td>\n",
       "      <td>-118.25352</td>\n",
       "      <td>3055</td>\n",
       "      <td>34.044159</td>\n",
       "      <td>-118.25158</td>\n",
       "      <td>6069</td>\n",
       "      <td>30</td>\n",
       "      <td>One Way</td>\n",
       "      <td>Monthly Pass</td>\n",
       "    </tr>\n",
       "    <tr>\n",
       "      <th>55436</th>\n",
       "      <td>8369652</td>\n",
       "      <td>17</td>\n",
       "      <td>9/30/2016 23:47</td>\n",
       "      <td>10/1/2016 0:04</td>\n",
       "      <td>3032</td>\n",
       "      <td>34.049889</td>\n",
       "      <td>-118.25588</td>\n",
       "      <td>3023</td>\n",
       "      <td>34.050911</td>\n",
       "      <td>-118.24097</td>\n",
       "      <td>5725</td>\n",
       "      <td>0</td>\n",
       "      <td>One Way</td>\n",
       "      <td>Walk-up</td>\n",
       "    </tr>\n",
       "    <tr>\n",
       "      <th>55437</th>\n",
       "      <td>8369651</td>\n",
       "      <td>9</td>\n",
       "      <td>9/30/2016 23:53</td>\n",
       "      <td>10/1/2016 0:02</td>\n",
       "      <td>3035</td>\n",
       "      <td>34.048401</td>\n",
       "      <td>-118.26095</td>\n",
       "      <td>3031</td>\n",
       "      <td>34.044701</td>\n",
       "      <td>-118.25244</td>\n",
       "      <td>5975</td>\n",
       "      <td>0</td>\n",
       "      <td>One Way</td>\n",
       "      <td>Walk-up</td>\n",
       "    </tr>\n",
       "    <tr>\n",
       "      <th>55438</th>\n",
       "      <td>8369650</td>\n",
       "      <td>8</td>\n",
       "      <td>9/30/2016 23:54</td>\n",
       "      <td>10/1/2016 0:02</td>\n",
       "      <td>3035</td>\n",
       "      <td>34.048401</td>\n",
       "      <td>-118.26095</td>\n",
       "      <td>3031</td>\n",
       "      <td>34.044701</td>\n",
       "      <td>-118.25244</td>\n",
       "      <td>6683</td>\n",
       "      <td>0</td>\n",
       "      <td>One Way</td>\n",
       "      <td>Walk-up</td>\n",
       "    </tr>\n",
       "  </tbody>\n",
       "</table>\n",
       "</div>"
      ],
      "text/plain": [
       "       trip_id  duration       start_time         end_time  start_station  \\\n",
       "55434  8365125        14  9/30/2016 23:43  9/30/2016 23:57           3054   \n",
       "55435  8369653        14  9/30/2016 23:44  9/30/2016 23:58           3051   \n",
       "55436  8369652        17  9/30/2016 23:47   10/1/2016 0:04           3032   \n",
       "55437  8369651         9  9/30/2016 23:53   10/1/2016 0:02           3035   \n",
       "55438  8369650         8  9/30/2016 23:54   10/1/2016 0:02           3035   \n",
       "\n",
       "       start_lat  start_lon  end_station    end_lat    end_lon  bike_id  \\\n",
       "55434  34.039219 -118.23649         3005  34.048550 -118.25905     6146   \n",
       "55435  34.045422 -118.25352         3055  34.044159 -118.25158     6069   \n",
       "55436  34.049889 -118.25588         3023  34.050911 -118.24097     5725   \n",
       "55437  34.048401 -118.26095         3031  34.044701 -118.25244     5975   \n",
       "55438  34.048401 -118.26095         3031  34.044701 -118.25244     6683   \n",
       "\n",
       "       plan_duration trip_route_category passholder_type  \n",
       "55434             30             One Way    Monthly Pass  \n",
       "55435             30             One Way    Monthly Pass  \n",
       "55436              0             One Way         Walk-up  \n",
       "55437              0             One Way         Walk-up  \n",
       "55438              0             One Way         Walk-up  "
      ]
     },
     "execution_count": 17,
     "metadata": {},
     "output_type": "execute_result"
    }
   ],
   "source": [
    "df_trip.tail(5)"
   ]
  },
  {
   "cell_type": "code",
   "execution_count": 18,
   "metadata": {
    "ExecuteTime": {
     "end_time": "2020-11-20T12:35:43.401716Z",
     "start_time": "2020-11-20T12:35:43.385719Z"
    }
   },
   "outputs": [
    {
     "name": "stdout",
     "output_type": "stream",
     "text": [
      "<class 'pandas.core.frame.DataFrame'>\n",
      "RangeIndex: 55439 entries, 0 to 55438\n",
      "Data columns (total 14 columns):\n",
      " #   Column               Non-Null Count  Dtype  \n",
      "---  ------               --------------  -----  \n",
      " 0   trip_id              55439 non-null  int64  \n",
      " 1   duration             55439 non-null  int64  \n",
      " 2   start_time           55439 non-null  object \n",
      " 3   end_time             55439 non-null  object \n",
      " 4   start_station        55439 non-null  int64  \n",
      " 5   start_lat            55439 non-null  float64\n",
      " 6   start_lon            55439 non-null  float64\n",
      " 7   end_station          55439 non-null  int64  \n",
      " 8   end_lat              55439 non-null  float64\n",
      " 9   end_lon              55439 non-null  float64\n",
      " 10  bike_id              55439 non-null  int64  \n",
      " 11  plan_duration        55439 non-null  int64  \n",
      " 12  trip_route_category  55439 non-null  object \n",
      " 13  passholder_type      55439 non-null  object \n",
      "dtypes: float64(4), int64(6), object(4)\n",
      "memory usage: 5.9+ MB\n"
     ]
    }
   ],
   "source": [
    "df_trip.info()"
   ]
  },
  {
   "cell_type": "markdown",
   "metadata": {},
   "source": [
    "### trip duration distribution (1 -> 121)"
   ]
  },
  {
   "cell_type": "code",
   "execution_count": 19,
   "metadata": {
    "ExecuteTime": {
     "end_time": "2020-11-20T12:35:43.406721Z",
     "start_time": "2020-11-20T12:35:43.402718Z"
    }
   },
   "outputs": [
    {
     "data": {
      "text/plain": [
       "1440"
      ]
     },
     "metadata": {},
     "output_type": "display_data"
    },
    {
     "data": {
      "text/plain": [
       "120"
      ]
     },
     "execution_count": 19,
     "metadata": {},
     "output_type": "execute_result"
    }
   ],
   "source": [
    "max_duration = df_trip.duration.max()\n",
    "display(max_duration)\n",
    "if max_duration > 120:\n",
    "    max_duration = 120\n",
    "max_duration"
   ]
  },
  {
   "cell_type": "code",
   "execution_count": 20,
   "metadata": {
    "ExecuteTime": {
     "end_time": "2020-11-20T12:35:44.055708Z",
     "start_time": "2020-11-20T12:35:43.407719Z"
    }
   },
   "outputs": [
    {
     "data": {
      "text/plain": [
       "{'trip_id': 1912818,\n",
       " 'duration': 3,\n",
       " 'start_time': '7/7/2016 4:17',\n",
       " 'end_time': '7/7/2016 4:20',\n",
       " 'start_station': 3014,\n",
       " 'start_lat': 34.0566101,\n",
       " 'start_lon': -118.23721,\n",
       " 'end_station': 3014,\n",
       " 'end_lat': 34.0566101,\n",
       " 'end_lon': -118.23721,\n",
       " 'bike_id': 6281,\n",
       " 'plan_duration': 30,\n",
       " 'trip_route_category': 'Round Trip',\n",
       " 'passholder_type': 'Monthly Pass'}"
      ]
     },
     "execution_count": 20,
     "metadata": {},
     "output_type": "execute_result"
    }
   ],
   "source": [
    "l_trip = df_trip.to_dict('records')\n",
    "l_trip[0]"
   ]
  },
  {
   "cell_type": "code",
   "execution_count": 21,
   "metadata": {
    "ExecuteTime": {
     "end_time": "2020-11-20T12:35:49.182804Z",
     "start_time": "2020-11-20T12:35:44.056708Z"
    }
   },
   "outputs": [],
   "source": [
    "for stt in list_station:\n",
    "    dur_stat = [[i + 1, 0] for i in range(121)]\n",
    "    for t in l_trip:\n",
    "        if t['start_station'] == stt['station']:\n",
    "            if t['duration'] > 120:\n",
    "                # add at duration == 121\n",
    "                dur_stat[120][1] += 1\n",
    "            else:\n",
    "                dur_stat[t['duration'] - 1][1] += 1\n",
    "        if t['end_station'] == stt['station']:\n",
    "            # in == out\n",
    "            if t['end_station'] == t['start_station']:\n",
    "                continue\n",
    "            if t['duration'] > 120:\n",
    "                dur_stat[120][1] += 1\n",
    "            else:\n",
    "                dur_stat[t['duration'] - 1][1] += 1\n",
    "    stt['trip_duration_distribution'] = dur_stat"
   ]
  },
  {
   "cell_type": "code",
   "execution_count": 22,
   "metadata": {
    "ExecuteTime": {
     "end_time": "2020-11-20T12:35:49.186804Z",
     "start_time": "2020-11-20T12:35:49.183805Z"
    }
   },
   "outputs": [],
   "source": [
    "# list_station[0]['trip_duration_distribution']"
   ]
  },
  {
   "cell_type": "markdown",
   "metadata": {},
   "source": [
    "### comute times (departure from the station)"
   ]
  },
  {
   "cell_type": "code",
   "execution_count": 23,
   "metadata": {
    "ExecuteTime": {
     "end_time": "2020-11-20T12:35:52.837907Z",
     "start_time": "2020-11-20T12:35:49.189322Z"
    }
   },
   "outputs": [],
   "source": [
    "for stt in list_station:\n",
    "    # {3005: 20, 3006: 5, ...}  ==>\n",
    "    # [{\"station_id\": 3005, \"times\": 20}, ...]\n",
    "    dep_stat = {}\n",
    "    for t in l_trip:\n",
    "        if t['start_station'] == stt['station']:\n",
    "            target = t['end_station']\n",
    "            if dep_stat.get(target) == None:\n",
    "                dep_stat[target] = 1\n",
    "            else:\n",
    "                dep_stat[target] += 1\n",
    "    dict_stat = [{'station_id': t[0], 'times': t[1]} for t in dep_stat.items()]\n",
    "    stt['times_departure'] = sorted(dict_stat, key=lambda x: x['station_id'])"
   ]
  },
  {
   "cell_type": "code",
   "execution_count": 24,
   "metadata": {
    "ExecuteTime": {
     "end_time": "2020-11-20T12:35:52.842907Z",
     "start_time": "2020-11-20T12:35:52.839907Z"
    },
    "scrolled": true
   },
   "outputs": [],
   "source": [
    "# list_station[0]['times_departure']"
   ]
  },
  {
   "cell_type": "markdown",
   "metadata": {},
   "source": [
    "### comute times (return at the station)"
   ]
  },
  {
   "cell_type": "code",
   "execution_count": 25,
   "metadata": {
    "ExecuteTime": {
     "end_time": "2020-11-20T12:35:56.504734Z",
     "start_time": "2020-11-20T12:35:52.843911Z"
    }
   },
   "outputs": [],
   "source": [
    "for stt in list_station:\n",
    "    # {3005: 20, 3006: 5, ...}  ==>\n",
    "    # [{\"station_id\": 3005, \"times\": 20}, ...]\n",
    "    dep_stat = {}\n",
    "    for t in l_trip:\n",
    "        if t['end_station'] == stt['station']:\n",
    "            target = t['start_station']\n",
    "            if dep_stat.get(target) == None:\n",
    "                dep_stat[target] = 1\n",
    "            else:\n",
    "                dep_stat[target] += 1\n",
    "    dict_stat = [{'station_id': t[0], 'times': t[1]} for t in dep_stat.items()]\n",
    "    stt['times_return'] = sorted(dict_stat, key=lambda x: x['station_id'])"
   ]
  },
  {
   "cell_type": "code",
   "execution_count": 26,
   "metadata": {
    "ExecuteTime": {
     "end_time": "2020-11-20T12:35:56.508733Z",
     "start_time": "2020-11-20T12:35:56.505733Z"
    }
   },
   "outputs": [],
   "source": [
    "# list_station[0]['times_return']"
   ]
  },
  {
   "cell_type": "markdown",
   "metadata": {},
   "source": [
    "### station busy"
   ]
  },
  {
   "cell_type": "code",
   "execution_count": 27,
   "metadata": {
    "ExecuteTime": {
     "end_time": "2020-11-20T12:35:56.513734Z",
     "start_time": "2020-11-20T12:35:56.509733Z"
    }
   },
   "outputs": [],
   "source": [
    "time_format = '%m/%d/%Y %H:%M'"
   ]
  },
  {
   "cell_type": "code",
   "execution_count": 28,
   "metadata": {
    "ExecuteTime": {
     "end_time": "2020-11-20T12:36:02.572378Z",
     "start_time": "2020-11-20T12:35:56.515731Z"
    }
   },
   "outputs": [],
   "source": [
    "for stt in list_station:\n",
    "    # {0: 20, 1: 5, ...}  ==>\n",
    "    # [{\"hour\": 0, \"times\": 20}, ...]\n",
    "    busy_stat = {i: 0 for i in range(24)}\n",
    "    for t in l_trip:\n",
    "        if t['start_station'] == stt['station']:\n",
    "            start_hour = time.strptime(t['start_time'], time_format).tm_hour\n",
    "            busy_stat[start_hour] += 1\n",
    "        if t['end_station'] == stt['station']:\n",
    "            end_hour = time.strptime(t['end_time'], time_format).tm_hour\n",
    "            busy_stat[end_hour] += 1\n",
    "    stt['busy24'] = busy_stat"
   ]
  },
  {
   "cell_type": "code",
   "execution_count": 29,
   "metadata": {
    "ExecuteTime": {
     "end_time": "2020-11-20T12:36:02.575379Z",
     "start_time": "2020-11-20T12:36:02.573376Z"
    }
   },
   "outputs": [],
   "source": [
    "# list_station[0]['busy24']"
   ]
  },
  {
   "cell_type": "code",
   "execution_count": 30,
   "metadata": {
    "ExecuteTime": {
     "end_time": "2020-11-20T12:36:02.594895Z",
     "start_time": "2020-11-20T12:36:02.576378Z"
    }
   },
   "outputs": [
    {
     "data": {
      "text/plain": [
       "{'station': 3005,\n",
       " 'station_name': '7th & Flower',\n",
       " 'go_live_date': '7/7/2016',\n",
       " 'region': 'DTLA',\n",
       " 'lan': 34.0485,\n",
       " 'lon': -118.25853700000002,\n",
       " 'trip_duration_distribution': [[1, 0],\n",
       "  [2, 61],\n",
       "  [3, 175],\n",
       "  [4, 310],\n",
       "  [5, 384],\n",
       "  [6, 337],\n",
       "  [7, 277],\n",
       "  [8, 284],\n",
       "  [9, 218],\n",
       "  [10, 195],\n",
       "  [11, 195],\n",
       "  [12, 171],\n",
       "  [13, 150],\n",
       "  [14, 138],\n",
       "  [15, 127],\n",
       "  [16, 112],\n",
       "  [17, 92],\n",
       "  [18, 74],\n",
       "  [19, 80],\n",
       "  [20, 47],\n",
       "  [21, 49],\n",
       "  [22, 29],\n",
       "  [23, 27],\n",
       "  [24, 37],\n",
       "  [25, 34],\n",
       "  [26, 30],\n",
       "  [27, 25],\n",
       "  [28, 35],\n",
       "  [29, 20],\n",
       "  [30, 18],\n",
       "  [31, 17],\n",
       "  [32, 7],\n",
       "  [33, 9],\n",
       "  [34, 11],\n",
       "  [35, 10],\n",
       "  [36, 12],\n",
       "  [37, 10],\n",
       "  [38, 10],\n",
       "  [39, 10],\n",
       "  [40, 9],\n",
       "  [41, 2],\n",
       "  [42, 1],\n",
       "  [43, 3],\n",
       "  [44, 3],\n",
       "  [45, 2],\n",
       "  [46, 4],\n",
       "  [47, 4],\n",
       "  [48, 5],\n",
       "  [49, 6],\n",
       "  [50, 4],\n",
       "  [51, 4],\n",
       "  [52, 3],\n",
       "  [53, 3],\n",
       "  [54, 5],\n",
       "  [55, 3],\n",
       "  [56, 5],\n",
       "  [57, 5],\n",
       "  [58, 3],\n",
       "  [59, 5],\n",
       "  [60, 2],\n",
       "  [61, 3],\n",
       "  [62, 0],\n",
       "  [63, 4],\n",
       "  [64, 0],\n",
       "  [65, 4],\n",
       "  [66, 3],\n",
       "  [67, 3],\n",
       "  [68, 5],\n",
       "  [69, 4],\n",
       "  [70, 3],\n",
       "  [71, 3],\n",
       "  [72, 3],\n",
       "  [73, 2],\n",
       "  [74, 2],\n",
       "  [75, 7],\n",
       "  [76, 0],\n",
       "  [77, 2],\n",
       "  [78, 1],\n",
       "  [79, 3],\n",
       "  [80, 4],\n",
       "  [81, 4],\n",
       "  [82, 1],\n",
       "  [83, 3],\n",
       "  [84, 1],\n",
       "  [85, 2],\n",
       "  [86, 0],\n",
       "  [87, 0],\n",
       "  [88, 5],\n",
       "  [89, 3],\n",
       "  [90, 4],\n",
       "  [91, 1],\n",
       "  [92, 4],\n",
       "  [93, 1],\n",
       "  [94, 5],\n",
       "  [95, 2],\n",
       "  [96, 4],\n",
       "  [97, 4],\n",
       "  [98, 1],\n",
       "  [99, 6],\n",
       "  [100, 3],\n",
       "  [101, 2],\n",
       "  [102, 1],\n",
       "  [103, 4],\n",
       "  [104, 0],\n",
       "  [105, 0],\n",
       "  [106, 0],\n",
       "  [107, 2],\n",
       "  [108, 1],\n",
       "  [109, 1],\n",
       "  [110, 0],\n",
       "  [111, 2],\n",
       "  [112, 1],\n",
       "  [113, 1],\n",
       "  [114, 1],\n",
       "  [115, 1],\n",
       "  [116, 1],\n",
       "  [117, 2],\n",
       "  [118, 4],\n",
       "  [119, 0],\n",
       "  [120, 0],\n",
       "  [121, 117]],\n",
       " 'times_departure': [{'station_id': 3005, 'times': 149},\n",
       "  {'station_id': 3006, 'times': 52},\n",
       "  {'station_id': 3007, 'times': 5},\n",
       "  {'station_id': 3008, 'times': 89},\n",
       "  {'station_id': 3010, 'times': 3},\n",
       "  {'station_id': 3011, 'times': 17},\n",
       "  {'station_id': 3014, 'times': 19},\n",
       "  {'station_id': 3016, 'times': 9},\n",
       "  {'station_id': 3018, 'times': 19},\n",
       "  {'station_id': 3019, 'times': 24},\n",
       "  {'station_id': 3020, 'times': 10},\n",
       "  {'station_id': 3021, 'times': 26},\n",
       "  {'station_id': 3022, 'times': 37},\n",
       "  {'station_id': 3023, 'times': 13},\n",
       "  {'station_id': 3024, 'times': 4},\n",
       "  {'station_id': 3025, 'times': 7},\n",
       "  {'station_id': 3026, 'times': 15},\n",
       "  {'station_id': 3027, 'times': 14},\n",
       "  {'station_id': 3028, 'times': 2},\n",
       "  {'station_id': 3029, 'times': 12},\n",
       "  {'station_id': 3030, 'times': 54},\n",
       "  {'station_id': 3031, 'times': 157},\n",
       "  {'station_id': 3032, 'times': 22},\n",
       "  {'station_id': 3033, 'times': 8},\n",
       "  {'station_id': 3034, 'times': 148},\n",
       "  {'station_id': 3035, 'times': 35},\n",
       "  {'station_id': 3036, 'times': 4},\n",
       "  {'station_id': 3037, 'times': 25},\n",
       "  {'station_id': 3038, 'times': 47},\n",
       "  {'station_id': 3040, 'times': 36},\n",
       "  {'station_id': 3042, 'times': 24},\n",
       "  {'station_id': 3045, 'times': 8},\n",
       "  {'station_id': 3046, 'times': 5},\n",
       "  {'station_id': 3047, 'times': 23},\n",
       "  {'station_id': 3048, 'times': 49},\n",
       "  {'station_id': 3049, 'times': 48},\n",
       "  {'station_id': 3051, 'times': 37},\n",
       "  {'station_id': 3052, 'times': 40},\n",
       "  {'station_id': 3053, 'times': 1},\n",
       "  {'station_id': 3054, 'times': 6},\n",
       "  {'station_id': 3055, 'times': 72},\n",
       "  {'station_id': 3056, 'times': 11},\n",
       "  {'station_id': 3057, 'times': 16},\n",
       "  {'station_id': 3058, 'times': 18},\n",
       "  {'station_id': 3059, 'times': 10},\n",
       "  {'station_id': 3060, 'times': 3},\n",
       "  {'station_id': 3062, 'times': 77},\n",
       "  {'station_id': 3063, 'times': 37},\n",
       "  {'station_id': 3064, 'times': 27},\n",
       "  {'station_id': 3065, 'times': 19},\n",
       "  {'station_id': 3066, 'times': 12},\n",
       "  {'station_id': 3067, 'times': 63},\n",
       "  {'station_id': 3068, 'times': 12},\n",
       "  {'station_id': 3069, 'times': 70},\n",
       "  {'station_id': 3074, 'times': 20},\n",
       "  {'station_id': 3075, 'times': 49},\n",
       "  {'station_id': 3076, 'times': 33},\n",
       "  {'station_id': 3077, 'times': 14},\n",
       "  {'station_id': 3078, 'times': 1},\n",
       "  {'station_id': 3079, 'times': 2},\n",
       "  {'station_id': 3080, 'times': 2},\n",
       "  {'station_id': 3082, 'times': 33}],\n",
       " 'times_return': [{'station_id': 3005, 'times': 149},\n",
       "  {'station_id': 3006, 'times': 46},\n",
       "  {'station_id': 3007, 'times': 27},\n",
       "  {'station_id': 3008, 'times': 41},\n",
       "  {'station_id': 3010, 'times': 2},\n",
       "  {'station_id': 3011, 'times': 22},\n",
       "  {'station_id': 3014, 'times': 39},\n",
       "  {'station_id': 3016, 'times': 18},\n",
       "  {'station_id': 3018, 'times': 24},\n",
       "  {'station_id': 3019, 'times': 32},\n",
       "  {'station_id': 3020, 'times': 9},\n",
       "  {'station_id': 3021, 'times': 42},\n",
       "  {'station_id': 3022, 'times': 48},\n",
       "  {'station_id': 3023, 'times': 11},\n",
       "  {'station_id': 3024, 'times': 29},\n",
       "  {'station_id': 3025, 'times': 11},\n",
       "  {'station_id': 3026, 'times': 31},\n",
       "  {'station_id': 3027, 'times': 44},\n",
       "  {'station_id': 3028, 'times': 20},\n",
       "  {'station_id': 3029, 'times': 18},\n",
       "  {'station_id': 3030, 'times': 70},\n",
       "  {'station_id': 3031, 'times': 201},\n",
       "  {'station_id': 3032, 'times': 12},\n",
       "  {'station_id': 3033, 'times': 7},\n",
       "  {'station_id': 3034, 'times': 153},\n",
       "  {'station_id': 3035, 'times': 32},\n",
       "  {'station_id': 3036, 'times': 9},\n",
       "  {'station_id': 3037, 'times': 8},\n",
       "  {'station_id': 3038, 'times': 71},\n",
       "  {'station_id': 3040, 'times': 49},\n",
       "  {'station_id': 3042, 'times': 19},\n",
       "  {'station_id': 3045, 'times': 1},\n",
       "  {'station_id': 3046, 'times': 12},\n",
       "  {'station_id': 3047, 'times': 49},\n",
       "  {'station_id': 3048, 'times': 43},\n",
       "  {'station_id': 3049, 'times': 126},\n",
       "  {'station_id': 3051, 'times': 65},\n",
       "  {'station_id': 3052, 'times': 87},\n",
       "  {'station_id': 3053, 'times': 1},\n",
       "  {'station_id': 3054, 'times': 11},\n",
       "  {'station_id': 3055, 'times': 122},\n",
       "  {'station_id': 3056, 'times': 4},\n",
       "  {'station_id': 3057, 'times': 1},\n",
       "  {'station_id': 3058, 'times': 18},\n",
       "  {'station_id': 3059, 'times': 3},\n",
       "  {'station_id': 3060, 'times': 1},\n",
       "  {'station_id': 3062, 'times': 102},\n",
       "  {'station_id': 3063, 'times': 48},\n",
       "  {'station_id': 3064, 'times': 35},\n",
       "  {'station_id': 3065, 'times': 10},\n",
       "  {'station_id': 3066, 'times': 11},\n",
       "  {'station_id': 3067, 'times': 79},\n",
       "  {'station_id': 3068, 'times': 44},\n",
       "  {'station_id': 3069, 'times': 59},\n",
       "  {'station_id': 3074, 'times': 28},\n",
       "  {'station_id': 3075, 'times': 46},\n",
       "  {'station_id': 3076, 'times': 25},\n",
       "  {'station_id': 3077, 'times': 14},\n",
       "  {'station_id': 3078, 'times': 5},\n",
       "  {'station_id': 3079, 'times': 4},\n",
       "  {'station_id': 3081, 'times': 2},\n",
       "  {'station_id': 3082, 'times': 53},\n",
       "  {'station_id': 4108, 'times': 1}],\n",
       " 'busy24': {0: 77,\n",
       "  1: 31,\n",
       "  2: 19,\n",
       "  3: 29,\n",
       "  4: 32,\n",
       "  5: 29,\n",
       "  6: 64,\n",
       "  7: 192,\n",
       "  8: 306,\n",
       "  9: 303,\n",
       "  10: 123,\n",
       "  11: 203,\n",
       "  12: 242,\n",
       "  13: 327,\n",
       "  14: 232,\n",
       "  15: 189,\n",
       "  16: 252,\n",
       "  17: 335,\n",
       "  18: 394,\n",
       "  19: 344,\n",
       "  20: 234,\n",
       "  21: 148,\n",
       "  22: 108,\n",
       "  23: 95}}"
      ]
     },
     "execution_count": 30,
     "metadata": {},
     "output_type": "execute_result"
    }
   ],
   "source": [
    "list_station[0]"
   ]
  },
  {
   "cell_type": "markdown",
   "metadata": {},
   "source": [
    "### related station statistics"
   ]
  },
  {
   "cell_type": "code",
   "execution_count": 31,
   "metadata": {
    "ExecuteTime": {
     "end_time": "2020-11-20T12:36:07.533445Z",
     "start_time": "2020-11-20T12:36:02.595896Z"
    }
   },
   "outputs": [],
   "source": [
    "for stt in list_station:\n",
    "    stt['related_station'] = {}\n",
    "    for t in l_trip:\n",
    "        if t['start_station'] == stt['station']:\n",
    "            to_station = t['end_station']\n",
    "            if stt['related_station'].get(to_station) == None:\n",
    "                stt['related_station'][to_station] = {\n",
    "                    \"in_times\": 0,\n",
    "                    \"out_times\": 0,\n",
    "                    \"in_min_sum\": 0,\n",
    "                    \"out_min_sum\": 0\n",
    "                }\n",
    "            stt['related_station'][to_station]['out_times'] += 1\n",
    "            stt['related_station'][to_station]['out_min_sum'] += t['duration']\n",
    "            \n",
    "        if t['end_station'] == stt['station']:\n",
    "            from_station = t['start_station']\n",
    "            if stt['related_station'].get(from_station) == None:\n",
    "                stt['related_station'][from_station] = {\n",
    "                    \"in_times\": 0,\n",
    "                    \"out_times\": 0,\n",
    "                    \"in_min_sum\": 0,\n",
    "                    \"out_min_sum\": 0\n",
    "                }\n",
    "            stt['related_station'][from_station]['in_times'] += 1\n",
    "            stt['related_station'][from_station]['in_min_sum'] += t['duration']"
   ]
  },
  {
   "cell_type": "code",
   "execution_count": 32,
   "metadata": {
    "ExecuteTime": {
     "end_time": "2020-11-20T12:36:07.537446Z",
     "start_time": "2020-11-20T12:36:07.534446Z"
    }
   },
   "outputs": [],
   "source": [
    "# list_station[0]['related_station']"
   ]
  },
  {
   "cell_type": "markdown",
   "metadata": {},
   "source": [
    "### total duration related to the station & total times related to the station"
   ]
  },
  {
   "cell_type": "code",
   "execution_count": 33,
   "metadata": {
    "ExecuteTime": {
     "end_time": "2020-11-20T12:36:13.858939Z",
     "start_time": "2020-11-20T12:36:07.538446Z"
    }
   },
   "outputs": [],
   "source": [
    "for stt in list_station:\n",
    "    stt['total_min_related'] = 0\n",
    "    stt['total_times_related'] = 0\n",
    "    for t in l_trip:\n",
    "        if t['start_station'] == stt['station']:\n",
    "            stt['total_min_related'] += t['duration']\n",
    "            stt['total_times_related'] += 1\n",
    "            \n",
    "        if t['start_station'] == t['end_station']:\n",
    "            continue\n",
    "        \n",
    "        if t['end_station'] == stt['station']:\n",
    "            stt['total_min_related'] += t['duration']\n",
    "            stt['total_times_related'] += 1"
   ]
  },
  {
   "cell_type": "code",
   "execution_count": 34,
   "metadata": {
    "ExecuteTime": {
     "end_time": "2020-11-20T12:36:13.862941Z",
     "start_time": "2020-11-20T12:36:13.859939Z"
    }
   },
   "outputs": [],
   "source": [
    "# list_station[0]['total_min_related']"
   ]
  },
  {
   "cell_type": "code",
   "execution_count": 35,
   "metadata": {
    "ExecuteTime": {
     "end_time": "2020-11-20T12:36:13.868218Z",
     "start_time": "2020-11-20T12:36:13.864241Z"
    }
   },
   "outputs": [],
   "source": [
    "# list_station[0]['total_times_related']"
   ]
  },
  {
   "cell_type": "code",
   "execution_count": 36,
   "metadata": {
    "ExecuteTime": {
     "end_time": "2020-11-20T12:36:13.891217Z",
     "start_time": "2020-11-20T12:36:13.869217Z"
    },
    "scrolled": true
   },
   "outputs": [
    {
     "data": {
      "text/plain": [
       "{'station': 3005,\n",
       " 'station_name': '7th & Flower',\n",
       " 'go_live_date': '7/7/2016',\n",
       " 'region': 'DTLA',\n",
       " 'lan': 34.0485,\n",
       " 'lon': -118.25853700000002,\n",
       " 'trip_duration_distribution': [[1, 0],\n",
       "  [2, 61],\n",
       "  [3, 175],\n",
       "  [4, 310],\n",
       "  [5, 384],\n",
       "  [6, 337],\n",
       "  [7, 277],\n",
       "  [8, 284],\n",
       "  [9, 218],\n",
       "  [10, 195],\n",
       "  [11, 195],\n",
       "  [12, 171],\n",
       "  [13, 150],\n",
       "  [14, 138],\n",
       "  [15, 127],\n",
       "  [16, 112],\n",
       "  [17, 92],\n",
       "  [18, 74],\n",
       "  [19, 80],\n",
       "  [20, 47],\n",
       "  [21, 49],\n",
       "  [22, 29],\n",
       "  [23, 27],\n",
       "  [24, 37],\n",
       "  [25, 34],\n",
       "  [26, 30],\n",
       "  [27, 25],\n",
       "  [28, 35],\n",
       "  [29, 20],\n",
       "  [30, 18],\n",
       "  [31, 17],\n",
       "  [32, 7],\n",
       "  [33, 9],\n",
       "  [34, 11],\n",
       "  [35, 10],\n",
       "  [36, 12],\n",
       "  [37, 10],\n",
       "  [38, 10],\n",
       "  [39, 10],\n",
       "  [40, 9],\n",
       "  [41, 2],\n",
       "  [42, 1],\n",
       "  [43, 3],\n",
       "  [44, 3],\n",
       "  [45, 2],\n",
       "  [46, 4],\n",
       "  [47, 4],\n",
       "  [48, 5],\n",
       "  [49, 6],\n",
       "  [50, 4],\n",
       "  [51, 4],\n",
       "  [52, 3],\n",
       "  [53, 3],\n",
       "  [54, 5],\n",
       "  [55, 3],\n",
       "  [56, 5],\n",
       "  [57, 5],\n",
       "  [58, 3],\n",
       "  [59, 5],\n",
       "  [60, 2],\n",
       "  [61, 3],\n",
       "  [62, 0],\n",
       "  [63, 4],\n",
       "  [64, 0],\n",
       "  [65, 4],\n",
       "  [66, 3],\n",
       "  [67, 3],\n",
       "  [68, 5],\n",
       "  [69, 4],\n",
       "  [70, 3],\n",
       "  [71, 3],\n",
       "  [72, 3],\n",
       "  [73, 2],\n",
       "  [74, 2],\n",
       "  [75, 7],\n",
       "  [76, 0],\n",
       "  [77, 2],\n",
       "  [78, 1],\n",
       "  [79, 3],\n",
       "  [80, 4],\n",
       "  [81, 4],\n",
       "  [82, 1],\n",
       "  [83, 3],\n",
       "  [84, 1],\n",
       "  [85, 2],\n",
       "  [86, 0],\n",
       "  [87, 0],\n",
       "  [88, 5],\n",
       "  [89, 3],\n",
       "  [90, 4],\n",
       "  [91, 1],\n",
       "  [92, 4],\n",
       "  [93, 1],\n",
       "  [94, 5],\n",
       "  [95, 2],\n",
       "  [96, 4],\n",
       "  [97, 4],\n",
       "  [98, 1],\n",
       "  [99, 6],\n",
       "  [100, 3],\n",
       "  [101, 2],\n",
       "  [102, 1],\n",
       "  [103, 4],\n",
       "  [104, 0],\n",
       "  [105, 0],\n",
       "  [106, 0],\n",
       "  [107, 2],\n",
       "  [108, 1],\n",
       "  [109, 1],\n",
       "  [110, 0],\n",
       "  [111, 2],\n",
       "  [112, 1],\n",
       "  [113, 1],\n",
       "  [114, 1],\n",
       "  [115, 1],\n",
       "  [116, 1],\n",
       "  [117, 2],\n",
       "  [118, 4],\n",
       "  [119, 0],\n",
       "  [120, 0],\n",
       "  [121, 117]],\n",
       " 'times_departure': [{'station_id': 3005, 'times': 149},\n",
       "  {'station_id': 3006, 'times': 52},\n",
       "  {'station_id': 3007, 'times': 5},\n",
       "  {'station_id': 3008, 'times': 89},\n",
       "  {'station_id': 3010, 'times': 3},\n",
       "  {'station_id': 3011, 'times': 17},\n",
       "  {'station_id': 3014, 'times': 19},\n",
       "  {'station_id': 3016, 'times': 9},\n",
       "  {'station_id': 3018, 'times': 19},\n",
       "  {'station_id': 3019, 'times': 24},\n",
       "  {'station_id': 3020, 'times': 10},\n",
       "  {'station_id': 3021, 'times': 26},\n",
       "  {'station_id': 3022, 'times': 37},\n",
       "  {'station_id': 3023, 'times': 13},\n",
       "  {'station_id': 3024, 'times': 4},\n",
       "  {'station_id': 3025, 'times': 7},\n",
       "  {'station_id': 3026, 'times': 15},\n",
       "  {'station_id': 3027, 'times': 14},\n",
       "  {'station_id': 3028, 'times': 2},\n",
       "  {'station_id': 3029, 'times': 12},\n",
       "  {'station_id': 3030, 'times': 54},\n",
       "  {'station_id': 3031, 'times': 157},\n",
       "  {'station_id': 3032, 'times': 22},\n",
       "  {'station_id': 3033, 'times': 8},\n",
       "  {'station_id': 3034, 'times': 148},\n",
       "  {'station_id': 3035, 'times': 35},\n",
       "  {'station_id': 3036, 'times': 4},\n",
       "  {'station_id': 3037, 'times': 25},\n",
       "  {'station_id': 3038, 'times': 47},\n",
       "  {'station_id': 3040, 'times': 36},\n",
       "  {'station_id': 3042, 'times': 24},\n",
       "  {'station_id': 3045, 'times': 8},\n",
       "  {'station_id': 3046, 'times': 5},\n",
       "  {'station_id': 3047, 'times': 23},\n",
       "  {'station_id': 3048, 'times': 49},\n",
       "  {'station_id': 3049, 'times': 48},\n",
       "  {'station_id': 3051, 'times': 37},\n",
       "  {'station_id': 3052, 'times': 40},\n",
       "  {'station_id': 3053, 'times': 1},\n",
       "  {'station_id': 3054, 'times': 6},\n",
       "  {'station_id': 3055, 'times': 72},\n",
       "  {'station_id': 3056, 'times': 11},\n",
       "  {'station_id': 3057, 'times': 16},\n",
       "  {'station_id': 3058, 'times': 18},\n",
       "  {'station_id': 3059, 'times': 10},\n",
       "  {'station_id': 3060, 'times': 3},\n",
       "  {'station_id': 3062, 'times': 77},\n",
       "  {'station_id': 3063, 'times': 37},\n",
       "  {'station_id': 3064, 'times': 27},\n",
       "  {'station_id': 3065, 'times': 19},\n",
       "  {'station_id': 3066, 'times': 12},\n",
       "  {'station_id': 3067, 'times': 63},\n",
       "  {'station_id': 3068, 'times': 12},\n",
       "  {'station_id': 3069, 'times': 70},\n",
       "  {'station_id': 3074, 'times': 20},\n",
       "  {'station_id': 3075, 'times': 49},\n",
       "  {'station_id': 3076, 'times': 33},\n",
       "  {'station_id': 3077, 'times': 14},\n",
       "  {'station_id': 3078, 'times': 1},\n",
       "  {'station_id': 3079, 'times': 2},\n",
       "  {'station_id': 3080, 'times': 2},\n",
       "  {'station_id': 3082, 'times': 33}],\n",
       " 'times_return': [{'station_id': 3005, 'times': 149},\n",
       "  {'station_id': 3006, 'times': 46},\n",
       "  {'station_id': 3007, 'times': 27},\n",
       "  {'station_id': 3008, 'times': 41},\n",
       "  {'station_id': 3010, 'times': 2},\n",
       "  {'station_id': 3011, 'times': 22},\n",
       "  {'station_id': 3014, 'times': 39},\n",
       "  {'station_id': 3016, 'times': 18},\n",
       "  {'station_id': 3018, 'times': 24},\n",
       "  {'station_id': 3019, 'times': 32},\n",
       "  {'station_id': 3020, 'times': 9},\n",
       "  {'station_id': 3021, 'times': 42},\n",
       "  {'station_id': 3022, 'times': 48},\n",
       "  {'station_id': 3023, 'times': 11},\n",
       "  {'station_id': 3024, 'times': 29},\n",
       "  {'station_id': 3025, 'times': 11},\n",
       "  {'station_id': 3026, 'times': 31},\n",
       "  {'station_id': 3027, 'times': 44},\n",
       "  {'station_id': 3028, 'times': 20},\n",
       "  {'station_id': 3029, 'times': 18},\n",
       "  {'station_id': 3030, 'times': 70},\n",
       "  {'station_id': 3031, 'times': 201},\n",
       "  {'station_id': 3032, 'times': 12},\n",
       "  {'station_id': 3033, 'times': 7},\n",
       "  {'station_id': 3034, 'times': 153},\n",
       "  {'station_id': 3035, 'times': 32},\n",
       "  {'station_id': 3036, 'times': 9},\n",
       "  {'station_id': 3037, 'times': 8},\n",
       "  {'station_id': 3038, 'times': 71},\n",
       "  {'station_id': 3040, 'times': 49},\n",
       "  {'station_id': 3042, 'times': 19},\n",
       "  {'station_id': 3045, 'times': 1},\n",
       "  {'station_id': 3046, 'times': 12},\n",
       "  {'station_id': 3047, 'times': 49},\n",
       "  {'station_id': 3048, 'times': 43},\n",
       "  {'station_id': 3049, 'times': 126},\n",
       "  {'station_id': 3051, 'times': 65},\n",
       "  {'station_id': 3052, 'times': 87},\n",
       "  {'station_id': 3053, 'times': 1},\n",
       "  {'station_id': 3054, 'times': 11},\n",
       "  {'station_id': 3055, 'times': 122},\n",
       "  {'station_id': 3056, 'times': 4},\n",
       "  {'station_id': 3057, 'times': 1},\n",
       "  {'station_id': 3058, 'times': 18},\n",
       "  {'station_id': 3059, 'times': 3},\n",
       "  {'station_id': 3060, 'times': 1},\n",
       "  {'station_id': 3062, 'times': 102},\n",
       "  {'station_id': 3063, 'times': 48},\n",
       "  {'station_id': 3064, 'times': 35},\n",
       "  {'station_id': 3065, 'times': 10},\n",
       "  {'station_id': 3066, 'times': 11},\n",
       "  {'station_id': 3067, 'times': 79},\n",
       "  {'station_id': 3068, 'times': 44},\n",
       "  {'station_id': 3069, 'times': 59},\n",
       "  {'station_id': 3074, 'times': 28},\n",
       "  {'station_id': 3075, 'times': 46},\n",
       "  {'station_id': 3076, 'times': 25},\n",
       "  {'station_id': 3077, 'times': 14},\n",
       "  {'station_id': 3078, 'times': 5},\n",
       "  {'station_id': 3079, 'times': 4},\n",
       "  {'station_id': 3081, 'times': 2},\n",
       "  {'station_id': 3082, 'times': 53},\n",
       "  {'station_id': 4108, 'times': 1}],\n",
       " 'busy24': {0: 77,\n",
       "  1: 31,\n",
       "  2: 19,\n",
       "  3: 29,\n",
       "  4: 32,\n",
       "  5: 29,\n",
       "  6: 64,\n",
       "  7: 192,\n",
       "  8: 306,\n",
       "  9: 303,\n",
       "  10: 123,\n",
       "  11: 203,\n",
       "  12: 242,\n",
       "  13: 327,\n",
       "  14: 232,\n",
       "  15: 189,\n",
       "  16: 252,\n",
       "  17: 335,\n",
       "  18: 394,\n",
       "  19: 344,\n",
       "  20: 234,\n",
       "  21: 148,\n",
       "  22: 108,\n",
       "  23: 95},\n",
       " 'related_station': {3076: {'in_times': 25,\n",
       "   'out_times': 33,\n",
       "   'in_min_sum': 454,\n",
       "   'out_min_sum': 355},\n",
       "  3063: {'in_times': 48,\n",
       "   'out_times': 37,\n",
       "   'in_min_sum': 532,\n",
       "   'out_min_sum': 640},\n",
       "  3052: {'in_times': 87,\n",
       "   'out_times': 40,\n",
       "   'in_min_sum': 848,\n",
       "   'out_min_sum': 935},\n",
       "  3021: {'in_times': 42,\n",
       "   'out_times': 26,\n",
       "   'in_min_sum': 1109,\n",
       "   'out_min_sum': 1161},\n",
       "  3040: {'in_times': 49,\n",
       "   'out_times': 36,\n",
       "   'in_min_sum': 1641,\n",
       "   'out_min_sum': 1571},\n",
       "  3075: {'in_times': 46,\n",
       "   'out_times': 49,\n",
       "   'in_min_sum': 728,\n",
       "   'out_min_sum': 474},\n",
       "  3030: {'in_times': 70,\n",
       "   'out_times': 54,\n",
       "   'in_min_sum': 1608,\n",
       "   'out_min_sum': 1287},\n",
       "  3016: {'in_times': 18,\n",
       "   'out_times': 9,\n",
       "   'in_min_sum': 253,\n",
       "   'out_min_sum': 142},\n",
       "  3062: {'in_times': 102,\n",
       "   'out_times': 77,\n",
       "   'in_min_sum': 1144,\n",
       "   'out_min_sum': 979},\n",
       "  3042: {'in_times': 19,\n",
       "   'out_times': 24,\n",
       "   'in_min_sum': 343,\n",
       "   'out_min_sum': 379},\n",
       "  3049: {'in_times': 126,\n",
       "   'out_times': 48,\n",
       "   'in_min_sum': 1806,\n",
       "   'out_min_sum': 556},\n",
       "  3051: {'in_times': 65,\n",
       "   'out_times': 37,\n",
       "   'in_min_sum': 1674,\n",
       "   'out_min_sum': 941},\n",
       "  3014: {'in_times': 39,\n",
       "   'out_times': 19,\n",
       "   'in_min_sum': 1024,\n",
       "   'out_min_sum': 367},\n",
       "  3034: {'in_times': 153,\n",
       "   'out_times': 148,\n",
       "   'in_min_sum': 2594,\n",
       "   'out_min_sum': 820},\n",
       "  3035: {'in_times': 32,\n",
       "   'out_times': 35,\n",
       "   'in_min_sum': 1395,\n",
       "   'out_min_sum': 4173},\n",
       "  3065: {'in_times': 10,\n",
       "   'out_times': 19,\n",
       "   'in_min_sum': 355,\n",
       "   'out_min_sum': 1903},\n",
       "  3029: {'in_times': 18,\n",
       "   'out_times': 12,\n",
       "   'in_min_sum': 299,\n",
       "   'out_min_sum': 178},\n",
       "  3028: {'in_times': 20, 'out_times': 2, 'in_min_sum': 313, 'out_min_sum': 27},\n",
       "  3031: {'in_times': 201,\n",
       "   'out_times': 157,\n",
       "   'in_min_sum': 3815,\n",
       "   'out_min_sum': 2658},\n",
       "  3053: {'in_times': 1, 'out_times': 1, 'in_min_sum': 10, 'out_min_sum': 5},\n",
       "  3038: {'in_times': 71,\n",
       "   'out_times': 47,\n",
       "   'in_min_sum': 805,\n",
       "   'out_min_sum': 464},\n",
       "  3047: {'in_times': 49,\n",
       "   'out_times': 23,\n",
       "   'in_min_sum': 492,\n",
       "   'out_min_sum': 2006},\n",
       "  3037: {'in_times': 8,\n",
       "   'out_times': 25,\n",
       "   'in_min_sum': 260,\n",
       "   'out_min_sum': 442},\n",
       "  3005: {'in_times': 149,\n",
       "   'out_times': 149,\n",
       "   'in_min_sum': 9813,\n",
       "   'out_min_sum': 9813},\n",
       "  3067: {'in_times': 79,\n",
       "   'out_times': 63,\n",
       "   'in_min_sum': 1256,\n",
       "   'out_min_sum': 1547},\n",
       "  3066: {'in_times': 11,\n",
       "   'out_times': 12,\n",
       "   'in_min_sum': 342,\n",
       "   'out_min_sum': 890},\n",
       "  3069: {'in_times': 59,\n",
       "   'out_times': 70,\n",
       "   'in_min_sum': 877,\n",
       "   'out_min_sum': 1025},\n",
       "  3055: {'in_times': 122,\n",
       "   'out_times': 72,\n",
       "   'in_min_sum': 3376,\n",
       "   'out_min_sum': 1755},\n",
       "  3036: {'in_times': 9, 'out_times': 4, 'in_min_sum': 179, 'out_min_sum': 82},\n",
       "  3008: {'in_times': 41,\n",
       "   'out_times': 89,\n",
       "   'in_min_sum': 858,\n",
       "   'out_min_sum': 955},\n",
       "  3074: {'in_times': 28,\n",
       "   'out_times': 20,\n",
       "   'in_min_sum': 348,\n",
       "   'out_min_sum': 525},\n",
       "  3022: {'in_times': 48,\n",
       "   'out_times': 37,\n",
       "   'in_min_sum': 862,\n",
       "   'out_min_sum': 577},\n",
       "  3006: {'in_times': 46,\n",
       "   'out_times': 52,\n",
       "   'in_min_sum': 471,\n",
       "   'out_min_sum': 415},\n",
       "  3058: {'in_times': 18,\n",
       "   'out_times': 18,\n",
       "   'in_min_sum': 376,\n",
       "   'out_min_sum': 334},\n",
       "  3026: {'in_times': 31,\n",
       "   'out_times': 15,\n",
       "   'in_min_sum': 1357,\n",
       "   'out_min_sum': 278},\n",
       "  3027: {'in_times': 44,\n",
       "   'out_times': 14,\n",
       "   'in_min_sum': 929,\n",
       "   'out_min_sum': 127},\n",
       "  3068: {'in_times': 44,\n",
       "   'out_times': 12,\n",
       "   'in_min_sum': 423,\n",
       "   'out_min_sum': 372},\n",
       "  3025: {'in_times': 11,\n",
       "   'out_times': 7,\n",
       "   'in_min_sum': 1600,\n",
       "   'out_min_sum': 96},\n",
       "  3010: {'in_times': 2, 'out_times': 3, 'in_min_sum': 85, 'out_min_sum': 75},\n",
       "  3019: {'in_times': 32,\n",
       "   'out_times': 24,\n",
       "   'in_min_sum': 655,\n",
       "   'out_min_sum': 270},\n",
       "  3033: {'in_times': 7, 'out_times': 8, 'in_min_sum': 98, 'out_min_sum': 132},\n",
       "  3064: {'in_times': 35,\n",
       "   'out_times': 27,\n",
       "   'in_min_sum': 910,\n",
       "   'out_min_sum': 1432},\n",
       "  3032: {'in_times': 12,\n",
       "   'out_times': 22,\n",
       "   'in_min_sum': 630,\n",
       "   'out_min_sum': 459},\n",
       "  3018: {'in_times': 24,\n",
       "   'out_times': 19,\n",
       "   'in_min_sum': 930,\n",
       "   'out_min_sum': 447},\n",
       "  3011: {'in_times': 22,\n",
       "   'out_times': 17,\n",
       "   'in_min_sum': 1651,\n",
       "   'out_min_sum': 179},\n",
       "  3046: {'in_times': 12, 'out_times': 5, 'in_min_sum': 257, 'out_min_sum': 68},\n",
       "  3045: {'in_times': 1, 'out_times': 8, 'in_min_sum': 17, 'out_min_sum': 187},\n",
       "  3007: {'in_times': 27, 'out_times': 5, 'in_min_sum': 929, 'out_min_sum': 38},\n",
       "  3024: {'in_times': 29, 'out_times': 4, 'in_min_sum': 989, 'out_min_sum': 57},\n",
       "  3048: {'in_times': 43,\n",
       "   'out_times': 49,\n",
       "   'in_min_sum': 912,\n",
       "   'out_min_sum': 798},\n",
       "  3079: {'in_times': 4, 'out_times': 2, 'in_min_sum': 212, 'out_min_sum': 45},\n",
       "  3077: {'in_times': 14,\n",
       "   'out_times': 14,\n",
       "   'in_min_sum': 263,\n",
       "   'out_min_sum': 372},\n",
       "  3023: {'in_times': 11,\n",
       "   'out_times': 13,\n",
       "   'in_min_sum': 234,\n",
       "   'out_min_sum': 209},\n",
       "  3057: {'in_times': 1, 'out_times': 16, 'in_min_sum': 10, 'out_min_sum': 443},\n",
       "  3080: {'in_times': 0, 'out_times': 2, 'in_min_sum': 0, 'out_min_sum': 45},\n",
       "  3060: {'in_times': 1, 'out_times': 3, 'in_min_sum': 15, 'out_min_sum': 42},\n",
       "  3020: {'in_times': 9,\n",
       "   'out_times': 10,\n",
       "   'in_min_sum': 183,\n",
       "   'out_min_sum': 120},\n",
       "  3056: {'in_times': 4, 'out_times': 11, 'in_min_sum': 53, 'out_min_sum': 272},\n",
       "  3059: {'in_times': 3,\n",
       "   'out_times': 10,\n",
       "   'in_min_sum': 118,\n",
       "   'out_min_sum': 527},\n",
       "  3078: {'in_times': 5, 'out_times': 1, 'in_min_sum': 87, 'out_min_sum': 17},\n",
       "  3054: {'in_times': 11,\n",
       "   'out_times': 6,\n",
       "   'in_min_sum': 176,\n",
       "   'out_min_sum': 107},\n",
       "  3082: {'in_times': 53,\n",
       "   'out_times': 33,\n",
       "   'in_min_sum': 871,\n",
       "   'out_min_sum': 591},\n",
       "  4108: {'in_times': 1, 'out_times': 0, 'in_min_sum': 19, 'out_min_sum': 0},\n",
       "  3081: {'in_times': 2, 'out_times': 0, 'in_min_sum': 37, 'out_min_sum': 0}},\n",
       " 'total_min_related': 95283,\n",
       " 'total_times_related': 4159}"
      ]
     },
     "execution_count": 36,
     "metadata": {},
     "output_type": "execute_result"
    }
   ],
   "source": [
    "list_station[0]"
   ]
  },
  {
   "cell_type": "markdown",
   "metadata": {},
   "source": [
    "## process every quater"
   ]
  },
  {
   "cell_type": "code",
   "execution_count": 37,
   "metadata": {
    "ExecuteTime": {
     "end_time": "2020-11-20T12:36:13.909218Z",
     "start_time": "2020-11-20T12:36:13.892217Z"
    }
   },
   "outputs": [],
   "source": [
    "def process_quater(quater, l):\n",
    "    # quater - '2016-q3'\n",
    "    list_station = copy.deepcopy(l)\n",
    "    fn = 'metro-bike-%s.csv' % quater\n",
    "    pth_quarter = \"../processed_data/\" + fn\n",
    "    \n",
    "    df_trip = pd.read_csv(pth_quarter)\n",
    "    \n",
    "    l_trip = df_trip.to_dict('records')\n",
    "    \n",
    "    # 2.1\n",
    "    for stt in list_station:\n",
    "        dur_stat = [[i + 1, 0] for i in range(121)]\n",
    "        for t in l_trip:\n",
    "            if t['start_station'] == stt['station']:\n",
    "                if t['duration'] > 120:\n",
    "                    # add at duration == 121\n",
    "                    dur_stat[120][1] += 1\n",
    "                else:\n",
    "                    dur_stat[t['duration'] - 1][1] += 1\n",
    "            if t['end_station'] == stt['station']:\n",
    "                # in == out\n",
    "                if t['end_station'] == t['start_station']:\n",
    "                    continue\n",
    "                if t['duration'] > 120:\n",
    "                    dur_stat[120][1] += 1\n",
    "                else:\n",
    "                    dur_stat[t['duration'] - 1][1] += 1\n",
    "        stt['trip_duration_distribution'] = dur_stat\n",
    "        \n",
    "    # 2.2\n",
    "    for stt in list_station:\n",
    "        # {3005: 20, 3006: 5, ...}  ==>\n",
    "        # [{\"station_id\": 3005, \"times\": 20}, ...]\n",
    "        dep_stat = {}\n",
    "        for t in l_trip:\n",
    "            if t['start_station'] == stt['station']:\n",
    "                target = t['end_station']\n",
    "                if dep_stat.get(target) == None:\n",
    "                    dep_stat[target] = 1\n",
    "                else:\n",
    "                    dep_stat[target] += 1\n",
    "        dict_stat = [{'station_id': t[0], 'times': t[1]} for t in dep_stat.items()]\n",
    "        stt['times_departure'] = sorted(dict_stat, key=lambda x: x['station_id'])\n",
    "        \n",
    "    # 2.3\n",
    "    for stt in list_station:\n",
    "        # {3005: 20, 3006: 5, ...}  ==>\n",
    "        # [{\"station_id\": 3005, \"times\": 20}, ...]\n",
    "        dep_stat = {}\n",
    "        for t in l_trip:\n",
    "            if t['end_station'] == stt['station']:\n",
    "                target = t['start_station']\n",
    "                if dep_stat.get(target) == None:\n",
    "                    dep_stat[target] = 1\n",
    "                else:\n",
    "                    dep_stat[target] += 1\n",
    "        dict_stat = [{'station_id': t[0], 'times': t[1]} for t in dep_stat.items()]\n",
    "        stt['times_return'] = sorted(dict_stat, key=lambda x: x['station_id'])\n",
    "        \n",
    "    # 2.4\n",
    "    time_format = '%m/%d/%Y %H:%M'\n",
    "    for stt in list_station:\n",
    "        # {0: 20, 1: 5, ...}  ==>\n",
    "        # [{\"hour\": 0, \"times\": 20}, ...]\n",
    "        busy_stat = {i: 0 for i in range(24)}\n",
    "        for t in l_trip:\n",
    "            if t['start_station'] == stt['station']:\n",
    "                start_hour = time.strptime(t['start_time'], time_format).tm_hour\n",
    "                busy_stat[start_hour] += 1\n",
    "            if t['end_station'] == stt['station']:\n",
    "                end_hour = time.strptime(t['end_time'], time_format).tm_hour\n",
    "                busy_stat[end_hour] += 1\n",
    "        stt['busy24'] = busy_stat\n",
    "        \n",
    "    # 2.5\n",
    "    for stt in list_station:\n",
    "        stt['related_station'] = {}\n",
    "        for t in l_trip:\n",
    "            if t['start_station'] == stt['station']:\n",
    "                to_station = t['end_station']\n",
    "                if stt['related_station'].get(to_station) == None:\n",
    "                    stt['related_station'][to_station] = {\n",
    "                        \"in_times\": 0,\n",
    "                        \"out_times\": 0,\n",
    "                        \"in_min_sum\": 0,\n",
    "                        \"out_min_sum\": 0\n",
    "                    }\n",
    "                stt['related_station'][to_station]['out_times'] += 1\n",
    "                stt['related_station'][to_station]['out_min_sum'] += t['duration']\n",
    "\n",
    "            if t['end_station'] == stt['station']:\n",
    "                from_station = t['start_station']\n",
    "                if stt['related_station'].get(from_station) == None:\n",
    "                    stt['related_station'][from_station] = {\n",
    "                        \"in_times\": 0,\n",
    "                        \"out_times\": 0,\n",
    "                        \"in_min_sum\": 0,\n",
    "                        \"out_min_sum\": 0\n",
    "                    }\n",
    "                stt['related_station'][from_station]['in_times'] += 1\n",
    "                stt['related_station'][from_station]['in_min_sum'] += t['duration']\n",
    "    \n",
    "    # 2.6\n",
    "    for stt in list_station:\n",
    "        stt['total_min_related'] = 0\n",
    "        stt['total_times_related'] = 0\n",
    "        for t in l_trip:\n",
    "            if t['start_station'] == stt['station']:\n",
    "                stt['total_min_related'] += t['duration']\n",
    "                stt['total_times_related'] += 1\n",
    "\n",
    "            if t['start_station'] == t['end_station']:\n",
    "                continue\n",
    "\n",
    "            if t['end_station'] == stt['station']:\n",
    "                stt['total_min_related'] += t['duration']\n",
    "                stt['total_times_related'] += 1\n",
    "    \n",
    "    # save as geojson\n",
    "    fc = FeatureCollection([getFeature(s) for s in list_station])\n",
    "    with open('../chart_data/station/%s.json' % quater, 'w', encoding='utf-8') as fp:\n",
    "        geojson.dump(fc, fp)\n",
    "    print('finish:', quater)"
   ]
  },
  {
   "cell_type": "code",
   "execution_count": 40,
   "metadata": {
    "ExecuteTime": {
     "end_time": "2020-11-20T12:36:29.596250Z",
     "start_time": "2020-11-20T12:36:29.592250Z"
    }
   },
   "outputs": [],
   "source": [
    "quarters = [\n",
    "    '2016-q3',\n",
    "    '2016-q4',\n",
    "    '2017-q1',\n",
    "    '2017-q2',\n",
    "    '2017-q3',\n",
    "    '2017-q4',\n",
    "    '2016-q3',\n",
    "    '2018-q1',\n",
    "    '2018-q2',\n",
    "    '2018-q3',\n",
    "    '2018-q4',\n",
    "    '2019-q1',\n",
    "    '2019-q2',\n",
    "    '2019-q3',\n",
    "    '2019-q4',\n",
    "    '2020-q1',\n",
    "    '2020-q2'\n",
    "]"
   ]
  },
  {
   "cell_type": "code",
   "execution_count": 41,
   "metadata": {
    "ExecuteTime": {
     "end_time": "2020-11-20T12:44:07.067525Z",
     "start_time": "2020-11-20T12:36:32.324245Z"
    }
   },
   "outputs": [
    {
     "name": "stdout",
     "output_type": "stream",
     "text": [
      "finish: 2016-q3\n",
      "finish: 2016-q4\n",
      "finish: 2017-q1\n",
      "finish: 2017-q2\n",
      "finish: 2017-q3\n",
      "finish: 2017-q4\n",
      "finish: 2016-q3\n",
      "finish: 2018-q1\n",
      "finish: 2018-q2\n",
      "finish: 2018-q3\n",
      "finish: 2018-q4\n",
      "finish: 2019-q1\n",
      "finish: 2019-q2\n",
      "finish: 2019-q3\n",
      "finish: 2019-q4\n",
      "finish: 2020-q1\n",
      "finish: 2020-q2\n"
     ]
    }
   ],
   "source": [
    "for quarter in quarters:\n",
    "    process_quater(quarter, l_origin)"
   ]
  },
  {
   "cell_type": "code",
   "execution_count": null,
   "metadata": {},
   "outputs": [],
   "source": []
  },
  {
   "cell_type": "code",
   "execution_count": null,
   "metadata": {},
   "outputs": [],
   "source": []
  },
  {
   "cell_type": "code",
   "execution_count": null,
   "metadata": {},
   "outputs": [],
   "source": []
  },
  {
   "cell_type": "code",
   "execution_count": null,
   "metadata": {},
   "outputs": [],
   "source": []
  },
  {
   "cell_type": "code",
   "execution_count": null,
   "metadata": {},
   "outputs": [],
   "source": []
  },
  {
   "cell_type": "code",
   "execution_count": null,
   "metadata": {},
   "outputs": [],
   "source": []
  },
  {
   "cell_type": "code",
   "execution_count": null,
   "metadata": {},
   "outputs": [],
   "source": []
  },
  {
   "cell_type": "code",
   "execution_count": null,
   "metadata": {},
   "outputs": [],
   "source": []
  },
  {
   "cell_type": "code",
   "execution_count": null,
   "metadata": {},
   "outputs": [],
   "source": []
  }
 ],
 "metadata": {
  "kernelspec": {
   "display_name": "Python [conda env:mecsc]",
   "language": "python",
   "name": "conda-env-mecsc-py"
  },
  "language_info": {
   "codemirror_mode": {
    "name": "ipython",
    "version": 3
   },
   "file_extension": ".py",
   "mimetype": "text/x-python",
   "name": "python",
   "nbconvert_exporter": "python",
   "pygments_lexer": "ipython3",
   "version": "3.6.12"
  },
  "toc": {
   "base_numbering": 1,
   "nav_menu": {},
   "number_sections": true,
   "sideBar": true,
   "skip_h1_title": false,
   "title_cell": "Table of Contents",
   "title_sidebar": "Contents",
   "toc_cell": false,
   "toc_position": {
    "height": "calc(100% - 180px)",
    "left": "10px",
    "top": "150px",
    "width": "165px"
   },
   "toc_section_display": true,
   "toc_window_display": true
  }
 },
 "nbformat": 4,
 "nbformat_minor": 2
}
