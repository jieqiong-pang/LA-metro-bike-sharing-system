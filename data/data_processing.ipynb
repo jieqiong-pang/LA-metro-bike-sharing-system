{
 "cells": [
  {
   "cell_type": "code",
   "execution_count": 1,
   "metadata": {
    "ExecuteTime": {
     "end_time": "2020-10-01T20:51:20.530624Z",
     "start_time": "2020-10-01T20:51:19.910564Z"
    }
   },
   "outputs": [],
   "source": [
    "import pandas as pd\n",
    "import data_process_utility as dpu"
   ]
  },
  {
   "cell_type": "code",
   "execution_count": 2,
   "metadata": {
    "ExecuteTime": {
     "end_time": "2020-10-01T20:51:20.535574Z",
     "start_time": "2020-10-01T20:51:20.532973Z"
    }
   },
   "outputs": [],
   "source": [
    "t_format_check = \"%Y-%m-%d %H:%M:%S\"\n",
    "t_format_output = \"%m/%d/%Y %H:%M\""
   ]
  },
  {
   "cell_type": "markdown",
   "metadata": {},
   "source": [
    "## process 2016 q3"
   ]
  },
  {
   "cell_type": "code",
   "execution_count": 3,
   "metadata": {
    "ExecuteTime": {
     "end_time": "2020-10-01T20:51:20.541031Z",
     "start_time": "2020-10-01T20:51:20.538405Z"
    }
   },
   "outputs": [],
   "source": [
    "year_q = (16, 3)"
   ]
  },
  {
   "cell_type": "code",
   "execution_count": 4,
   "metadata": {
    "ExecuteTime": {
     "end_time": "2020-10-01T20:51:20.552712Z",
     "start_time": "2020-10-01T20:51:20.543628Z"
    }
   },
   "outputs": [
    {
     "data": {
      "text/plain": [
       "'./rawdata/metro-bike-2016-q3.csv'"
      ]
     },
     "execution_count": 4,
     "metadata": {},
     "output_type": "execute_result"
    }
   ],
   "source": [
    "raw_filepath = \"./rawdata/metro-bike-20%s-q%d.csv\" % year_q\n",
    "output_filepath = \"./processed_data/metro-bike-20%s-q%d.csv\" % year_q\n",
    "raw_filepath"
   ]
  },
  {
   "cell_type": "code",
   "execution_count": 5,
   "metadata": {
    "ExecuteTime": {
     "end_time": "2020-10-01T20:51:20.674253Z",
     "start_time": "2020-10-01T20:51:20.554497Z"
    }
   },
   "outputs": [],
   "source": [
    "df = pd.read_csv(raw_filepath)"
   ]
  },
  {
   "cell_type": "code",
   "execution_count": 6,
   "metadata": {
    "ExecuteTime": {
     "end_time": "2020-10-01T20:51:20.701134Z",
     "start_time": "2020-10-01T20:51:20.676280Z"
    }
   },
   "outputs": [
    {
     "data": {
      "text/html": [
       "<div>\n",
       "<style scoped>\n",
       "    .dataframe tbody tr th:only-of-type {\n",
       "        vertical-align: middle;\n",
       "    }\n",
       "\n",
       "    .dataframe tbody tr th {\n",
       "        vertical-align: top;\n",
       "    }\n",
       "\n",
       "    .dataframe thead th {\n",
       "        text-align: right;\n",
       "    }\n",
       "</style>\n",
       "<table border=\"1\" class=\"dataframe\">\n",
       "  <thead>\n",
       "    <tr style=\"text-align: right;\">\n",
       "      <th></th>\n",
       "      <th>trip_id</th>\n",
       "      <th>duration</th>\n",
       "      <th>start_time</th>\n",
       "      <th>end_time</th>\n",
       "      <th>start_station_id</th>\n",
       "      <th>start_lat</th>\n",
       "      <th>start_lon</th>\n",
       "      <th>end_station_id</th>\n",
       "      <th>end_lat</th>\n",
       "      <th>end_lon</th>\n",
       "      <th>bike_id</th>\n",
       "      <th>plan_duration</th>\n",
       "      <th>trip_route_category</th>\n",
       "      <th>passholder_type</th>\n",
       "    </tr>\n",
       "  </thead>\n",
       "  <tbody>\n",
       "    <tr>\n",
       "      <th>0</th>\n",
       "      <td>1912818</td>\n",
       "      <td>180</td>\n",
       "      <td>7/7/2016 4:17</td>\n",
       "      <td>7/7/2016 4:20</td>\n",
       "      <td>3014</td>\n",
       "      <td>34.056610</td>\n",
       "      <td>-118.23721</td>\n",
       "      <td>3014</td>\n",
       "      <td>34.056610</td>\n",
       "      <td>-118.23721</td>\n",
       "      <td>6281</td>\n",
       "      <td>30</td>\n",
       "      <td>Round Trip</td>\n",
       "      <td>Monthly Pass</td>\n",
       "    </tr>\n",
       "    <tr>\n",
       "      <th>1</th>\n",
       "      <td>1919661</td>\n",
       "      <td>1980</td>\n",
       "      <td>7/7/2016 6:00</td>\n",
       "      <td>7/7/2016 6:33</td>\n",
       "      <td>3014</td>\n",
       "      <td>34.056610</td>\n",
       "      <td>-118.23721</td>\n",
       "      <td>3014</td>\n",
       "      <td>34.056610</td>\n",
       "      <td>-118.23721</td>\n",
       "      <td>6281</td>\n",
       "      <td>30</td>\n",
       "      <td>Round Trip</td>\n",
       "      <td>Monthly Pass</td>\n",
       "    </tr>\n",
       "    <tr>\n",
       "      <th>2</th>\n",
       "      <td>1933383</td>\n",
       "      <td>300</td>\n",
       "      <td>7/7/2016 10:32</td>\n",
       "      <td>7/7/2016 10:37</td>\n",
       "      <td>3016</td>\n",
       "      <td>34.052898</td>\n",
       "      <td>-118.24156</td>\n",
       "      <td>3016</td>\n",
       "      <td>34.052898</td>\n",
       "      <td>-118.24156</td>\n",
       "      <td>5861</td>\n",
       "      <td>365</td>\n",
       "      <td>Round Trip</td>\n",
       "      <td>Flex Pass</td>\n",
       "    </tr>\n",
       "    <tr>\n",
       "      <th>3</th>\n",
       "      <td>1944197</td>\n",
       "      <td>10860</td>\n",
       "      <td>7/7/2016 10:37</td>\n",
       "      <td>7/7/2016 13:38</td>\n",
       "      <td>3016</td>\n",
       "      <td>34.052898</td>\n",
       "      <td>-118.24156</td>\n",
       "      <td>3016</td>\n",
       "      <td>34.052898</td>\n",
       "      <td>-118.24156</td>\n",
       "      <td>5861</td>\n",
       "      <td>365</td>\n",
       "      <td>Round Trip</td>\n",
       "      <td>Flex Pass</td>\n",
       "    </tr>\n",
       "    <tr>\n",
       "      <th>4</th>\n",
       "      <td>1940317</td>\n",
       "      <td>420</td>\n",
       "      <td>7/7/2016 12:51</td>\n",
       "      <td>7/7/2016 12:58</td>\n",
       "      <td>3032</td>\n",
       "      <td>34.049889</td>\n",
       "      <td>-118.25588</td>\n",
       "      <td>3032</td>\n",
       "      <td>34.049889</td>\n",
       "      <td>-118.25588</td>\n",
       "      <td>6674</td>\n",
       "      <td>0</td>\n",
       "      <td>Round Trip</td>\n",
       "      <td>Walk-up</td>\n",
       "    </tr>\n",
       "    <tr>\n",
       "      <th>...</th>\n",
       "      <td>...</td>\n",
       "      <td>...</td>\n",
       "      <td>...</td>\n",
       "      <td>...</td>\n",
       "      <td>...</td>\n",
       "      <td>...</td>\n",
       "      <td>...</td>\n",
       "      <td>...</td>\n",
       "      <td>...</td>\n",
       "      <td>...</td>\n",
       "      <td>...</td>\n",
       "      <td>...</td>\n",
       "      <td>...</td>\n",
       "      <td>...</td>\n",
       "    </tr>\n",
       "    <tr>\n",
       "      <th>55434</th>\n",
       "      <td>8365125</td>\n",
       "      <td>840</td>\n",
       "      <td>9/30/2016 23:43</td>\n",
       "      <td>9/30/2016 23:57</td>\n",
       "      <td>3054</td>\n",
       "      <td>34.039219</td>\n",
       "      <td>-118.23649</td>\n",
       "      <td>3005</td>\n",
       "      <td>34.048550</td>\n",
       "      <td>-118.25905</td>\n",
       "      <td>6146</td>\n",
       "      <td>30</td>\n",
       "      <td>One Way</td>\n",
       "      <td>Monthly Pass</td>\n",
       "    </tr>\n",
       "    <tr>\n",
       "      <th>55435</th>\n",
       "      <td>8369653</td>\n",
       "      <td>840</td>\n",
       "      <td>9/30/2016 23:44</td>\n",
       "      <td>9/30/2016 23:58</td>\n",
       "      <td>3051</td>\n",
       "      <td>34.045422</td>\n",
       "      <td>-118.25352</td>\n",
       "      <td>3055</td>\n",
       "      <td>34.044159</td>\n",
       "      <td>-118.25158</td>\n",
       "      <td>6069</td>\n",
       "      <td>30</td>\n",
       "      <td>One Way</td>\n",
       "      <td>Monthly Pass</td>\n",
       "    </tr>\n",
       "    <tr>\n",
       "      <th>55436</th>\n",
       "      <td>8369652</td>\n",
       "      <td>1020</td>\n",
       "      <td>9/30/2016 23:47</td>\n",
       "      <td>10/1/2016 0:04</td>\n",
       "      <td>3032</td>\n",
       "      <td>34.049889</td>\n",
       "      <td>-118.25588</td>\n",
       "      <td>3023</td>\n",
       "      <td>34.050911</td>\n",
       "      <td>-118.24097</td>\n",
       "      <td>5725</td>\n",
       "      <td>0</td>\n",
       "      <td>One Way</td>\n",
       "      <td>Walk-up</td>\n",
       "    </tr>\n",
       "    <tr>\n",
       "      <th>55437</th>\n",
       "      <td>8369651</td>\n",
       "      <td>540</td>\n",
       "      <td>9/30/2016 23:53</td>\n",
       "      <td>10/1/2016 0:02</td>\n",
       "      <td>3035</td>\n",
       "      <td>34.048401</td>\n",
       "      <td>-118.26095</td>\n",
       "      <td>3031</td>\n",
       "      <td>34.044701</td>\n",
       "      <td>-118.25244</td>\n",
       "      <td>5975</td>\n",
       "      <td>0</td>\n",
       "      <td>One Way</td>\n",
       "      <td>Walk-up</td>\n",
       "    </tr>\n",
       "    <tr>\n",
       "      <th>55438</th>\n",
       "      <td>8369650</td>\n",
       "      <td>480</td>\n",
       "      <td>9/30/2016 23:54</td>\n",
       "      <td>10/1/2016 0:02</td>\n",
       "      <td>3035</td>\n",
       "      <td>34.048401</td>\n",
       "      <td>-118.26095</td>\n",
       "      <td>3031</td>\n",
       "      <td>34.044701</td>\n",
       "      <td>-118.25244</td>\n",
       "      <td>6683</td>\n",
       "      <td>0</td>\n",
       "      <td>One Way</td>\n",
       "      <td>Walk-up</td>\n",
       "    </tr>\n",
       "  </tbody>\n",
       "</table>\n",
       "<p>55439 rows × 14 columns</p>\n",
       "</div>"
      ],
      "text/plain": [
       "       trip_id  duration       start_time         end_time  start_station_id  \\\n",
       "0      1912818       180    7/7/2016 4:17    7/7/2016 4:20              3014   \n",
       "1      1919661      1980    7/7/2016 6:00    7/7/2016 6:33              3014   \n",
       "2      1933383       300   7/7/2016 10:32   7/7/2016 10:37              3016   \n",
       "3      1944197     10860   7/7/2016 10:37   7/7/2016 13:38              3016   \n",
       "4      1940317       420   7/7/2016 12:51   7/7/2016 12:58              3032   \n",
       "...        ...       ...              ...              ...               ...   \n",
       "55434  8365125       840  9/30/2016 23:43  9/30/2016 23:57              3054   \n",
       "55435  8369653       840  9/30/2016 23:44  9/30/2016 23:58              3051   \n",
       "55436  8369652      1020  9/30/2016 23:47   10/1/2016 0:04              3032   \n",
       "55437  8369651       540  9/30/2016 23:53   10/1/2016 0:02              3035   \n",
       "55438  8369650       480  9/30/2016 23:54   10/1/2016 0:02              3035   \n",
       "\n",
       "       start_lat  start_lon  end_station_id    end_lat    end_lon  bike_id  \\\n",
       "0      34.056610 -118.23721            3014  34.056610 -118.23721     6281   \n",
       "1      34.056610 -118.23721            3014  34.056610 -118.23721     6281   \n",
       "2      34.052898 -118.24156            3016  34.052898 -118.24156     5861   \n",
       "3      34.052898 -118.24156            3016  34.052898 -118.24156     5861   \n",
       "4      34.049889 -118.25588            3032  34.049889 -118.25588     6674   \n",
       "...          ...        ...             ...        ...        ...      ...   \n",
       "55434  34.039219 -118.23649            3005  34.048550 -118.25905     6146   \n",
       "55435  34.045422 -118.25352            3055  34.044159 -118.25158     6069   \n",
       "55436  34.049889 -118.25588            3023  34.050911 -118.24097     5725   \n",
       "55437  34.048401 -118.26095            3031  34.044701 -118.25244     5975   \n",
       "55438  34.048401 -118.26095            3031  34.044701 -118.25244     6683   \n",
       "\n",
       "       plan_duration trip_route_category passholder_type  \n",
       "0                 30          Round Trip    Monthly Pass  \n",
       "1                 30          Round Trip    Monthly Pass  \n",
       "2                365          Round Trip       Flex Pass  \n",
       "3                365          Round Trip       Flex Pass  \n",
       "4                  0          Round Trip         Walk-up  \n",
       "...              ...                 ...             ...  \n",
       "55434             30             One Way    Monthly Pass  \n",
       "55435             30             One Way    Monthly Pass  \n",
       "55436              0             One Way         Walk-up  \n",
       "55437              0             One Way         Walk-up  \n",
       "55438              0             One Way         Walk-up  \n",
       "\n",
       "[55439 rows x 14 columns]"
      ]
     },
     "execution_count": 6,
     "metadata": {},
     "output_type": "execute_result"
    }
   ],
   "source": [
    "df"
   ]
  },
  {
   "cell_type": "code",
   "execution_count": 7,
   "metadata": {
    "ExecuteTime": {
     "end_time": "2020-10-01T20:51:20.707002Z",
     "start_time": "2020-10-01T20:51:20.702991Z"
    }
   },
   "outputs": [
    {
     "data": {
      "text/plain": [
       "Index(['trip_id', 'duration', 'start_time', 'end_time', 'start_station_id',\n",
       "       'start_lat', 'start_lon', 'end_station_id', 'end_lat', 'end_lon',\n",
       "       'bike_id', 'plan_duration', 'trip_route_category', 'passholder_type'],\n",
       "      dtype='object')"
      ]
     },
     "execution_count": 7,
     "metadata": {},
     "output_type": "execute_result"
    }
   ],
   "source": [
    "df.columns"
   ]
  },
  {
   "cell_type": "code",
   "execution_count": 8,
   "metadata": {
    "ExecuteTime": {
     "end_time": "2020-10-01T20:51:20.747470Z",
     "start_time": "2020-10-01T20:51:20.710749Z"
    }
   },
   "outputs": [
    {
     "data": {
      "text/plain": [
       "Index(['trip_id', 'duration', 'start_time', 'end_time', 'start_station',\n",
       "       'start_lat', 'start_lon', 'end_station', 'end_lat', 'end_lon',\n",
       "       'bike_id', 'plan_duration', 'trip_route_category', 'passholder_type'],\n",
       "      dtype='object')"
      ]
     },
     "execution_count": 8,
     "metadata": {},
     "output_type": "execute_result"
    }
   ],
   "source": [
    "df = df.rename(columns = {'start_station_id': 'start_station', 'end_station_id': 'end_station'})\n",
    "df.columns"
   ]
  },
  {
   "cell_type": "code",
   "execution_count": 9,
   "metadata": {
    "ExecuteTime": {
     "end_time": "2020-10-01T20:51:20.756708Z",
     "start_time": "2020-10-01T20:51:20.751415Z"
    }
   },
   "outputs": [],
   "source": [
    "s1 = df.start_station == 3000\n",
    "s2 = df.end_station == 3000\n",
    "index3000 = df[s1 | s2].index"
   ]
  },
  {
   "cell_type": "code",
   "execution_count": 10,
   "metadata": {
    "ExecuteTime": {
     "end_time": "2020-10-01T20:51:20.767292Z",
     "start_time": "2020-10-01T20:51:20.758361Z"
    }
   },
   "outputs": [],
   "source": [
    "df_without_3000 = df.drop(index3000)"
   ]
  },
  {
   "cell_type": "code",
   "execution_count": 11,
   "metadata": {
    "ExecuteTime": {
     "end_time": "2020-10-01T20:51:20.774415Z",
     "start_time": "2020-10-01T20:51:20.769756Z"
    }
   },
   "outputs": [],
   "source": [
    "df_position = df_without_3000[[\"start_lat\", \"start_lon\", \"end_lat\", \"end_lon\"]]"
   ]
  },
  {
   "cell_type": "code",
   "execution_count": 12,
   "metadata": {
    "ExecuteTime": {
     "end_time": "2020-10-01T20:51:20.779337Z",
     "start_time": "2020-10-01T20:51:20.776401Z"
    }
   },
   "outputs": [],
   "source": [
    "df_position_isnull = df_position.isnull()"
   ]
  },
  {
   "cell_type": "code",
   "execution_count": 13,
   "metadata": {
    "ExecuteTime": {
     "end_time": "2020-10-01T20:51:20.785931Z",
     "start_time": "2020-10-01T20:51:20.781463Z"
    }
   },
   "outputs": [],
   "source": [
    "index_station_without_position = df_position_isnull[df_position_isnull.any(axis=1)].index"
   ]
  },
  {
   "cell_type": "code",
   "execution_count": 14,
   "metadata": {
    "ExecuteTime": {
     "end_time": "2020-10-01T20:51:20.802159Z",
     "start_time": "2020-10-01T20:51:20.788025Z"
    }
   },
   "outputs": [],
   "source": [
    "df_clean = df_without_3000.drop(index_station_without_position)"
   ]
  },
  {
   "cell_type": "code",
   "execution_count": 15,
   "metadata": {
    "ExecuteTime": {
     "end_time": "2020-10-01T20:51:20.819395Z",
     "start_time": "2020-10-01T20:51:20.804080Z"
    },
    "scrolled": true
   },
   "outputs": [
    {
     "data": {
      "text/plain": [
       "trip_id                False\n",
       "duration               False\n",
       "start_time             False\n",
       "end_time               False\n",
       "start_station          False\n",
       "start_lat              False\n",
       "start_lon              False\n",
       "end_station            False\n",
       "end_lat                False\n",
       "end_lon                False\n",
       "bike_id                False\n",
       "plan_duration          False\n",
       "trip_route_category    False\n",
       "passholder_type        False\n",
       "dtype: bool"
      ]
     },
     "execution_count": 15,
     "metadata": {},
     "output_type": "execute_result"
    }
   ],
   "source": [
    "dpu.df_has_nan(df_clean)"
   ]
  },
  {
   "cell_type": "code",
   "execution_count": 16,
   "metadata": {
    "ExecuteTime": {
     "end_time": "2020-10-01T20:51:20.828420Z",
     "start_time": "2020-10-01T20:51:20.820946Z"
    }
   },
   "outputs": [
    {
     "data": {
      "text/plain": [
       "'7/7/2016 4:17'"
      ]
     },
     "execution_count": 16,
     "metadata": {},
     "output_type": "execute_result"
    }
   ],
   "source": [
    "time_need_check = list(df_clean.start_time)[0]\n",
    "time_need_check"
   ]
  },
  {
   "cell_type": "code",
   "execution_count": 17,
   "metadata": {
    "ExecuteTime": {
     "end_time": "2020-10-01T20:51:20.835281Z",
     "start_time": "2020-10-01T20:51:20.830401Z"
    }
   },
   "outputs": [
    {
     "data": {
      "text/plain": [
       "False"
      ]
     },
     "execution_count": 17,
     "metadata": {},
     "output_type": "execute_result"
    }
   ],
   "source": [
    "time_format_need_change = dpu.is_time_format(time_need_check, t_format_check)\n",
    "time_format_need_change"
   ]
  },
  {
   "cell_type": "code",
   "execution_count": 18,
   "metadata": {
    "ExecuteTime": {
     "end_time": "2020-10-01T20:51:20.844213Z",
     "start_time": "2020-10-01T20:51:20.837657Z"
    }
   },
   "outputs": [],
   "source": [
    "if time_format_need_change:\n",
    "    df_clean[[\"start_time\", \"end_time\"]] = df_clean[[\"start_time\", \"end_time\"]].applymap(lambda ts: dpu.change_time_format(ts, t_format_check, t_format_output))"
   ]
  },
  {
   "cell_type": "code",
   "execution_count": 19,
   "metadata": {
    "ExecuteTime": {
     "end_time": "2020-10-01T20:51:20.867931Z",
     "start_time": "2020-10-01T20:51:20.846363Z"
    }
   },
   "outputs": [
    {
     "data": {
      "text/html": [
       "<div>\n",
       "<style scoped>\n",
       "    .dataframe tbody tr th:only-of-type {\n",
       "        vertical-align: middle;\n",
       "    }\n",
       "\n",
       "    .dataframe tbody tr th {\n",
       "        vertical-align: top;\n",
       "    }\n",
       "\n",
       "    .dataframe thead th {\n",
       "        text-align: right;\n",
       "    }\n",
       "</style>\n",
       "<table border=\"1\" class=\"dataframe\">\n",
       "  <thead>\n",
       "    <tr style=\"text-align: right;\">\n",
       "      <th></th>\n",
       "      <th>trip_id</th>\n",
       "      <th>duration</th>\n",
       "      <th>start_time</th>\n",
       "      <th>end_time</th>\n",
       "      <th>start_station</th>\n",
       "      <th>start_lat</th>\n",
       "      <th>start_lon</th>\n",
       "      <th>end_station</th>\n",
       "      <th>end_lat</th>\n",
       "      <th>end_lon</th>\n",
       "      <th>bike_id</th>\n",
       "      <th>plan_duration</th>\n",
       "      <th>trip_route_category</th>\n",
       "      <th>passholder_type</th>\n",
       "    </tr>\n",
       "  </thead>\n",
       "  <tbody>\n",
       "    <tr>\n",
       "      <th>0</th>\n",
       "      <td>1912818</td>\n",
       "      <td>180</td>\n",
       "      <td>7/7/2016 4:17</td>\n",
       "      <td>7/7/2016 4:20</td>\n",
       "      <td>3014</td>\n",
       "      <td>34.056610</td>\n",
       "      <td>-118.23721</td>\n",
       "      <td>3014</td>\n",
       "      <td>34.056610</td>\n",
       "      <td>-118.23721</td>\n",
       "      <td>6281</td>\n",
       "      <td>30</td>\n",
       "      <td>Round Trip</td>\n",
       "      <td>Monthly Pass</td>\n",
       "    </tr>\n",
       "    <tr>\n",
       "      <th>1</th>\n",
       "      <td>1919661</td>\n",
       "      <td>1980</td>\n",
       "      <td>7/7/2016 6:00</td>\n",
       "      <td>7/7/2016 6:33</td>\n",
       "      <td>3014</td>\n",
       "      <td>34.056610</td>\n",
       "      <td>-118.23721</td>\n",
       "      <td>3014</td>\n",
       "      <td>34.056610</td>\n",
       "      <td>-118.23721</td>\n",
       "      <td>6281</td>\n",
       "      <td>30</td>\n",
       "      <td>Round Trip</td>\n",
       "      <td>Monthly Pass</td>\n",
       "    </tr>\n",
       "    <tr>\n",
       "      <th>2</th>\n",
       "      <td>1933383</td>\n",
       "      <td>300</td>\n",
       "      <td>7/7/2016 10:32</td>\n",
       "      <td>7/7/2016 10:37</td>\n",
       "      <td>3016</td>\n",
       "      <td>34.052898</td>\n",
       "      <td>-118.24156</td>\n",
       "      <td>3016</td>\n",
       "      <td>34.052898</td>\n",
       "      <td>-118.24156</td>\n",
       "      <td>5861</td>\n",
       "      <td>365</td>\n",
       "      <td>Round Trip</td>\n",
       "      <td>Flex Pass</td>\n",
       "    </tr>\n",
       "    <tr>\n",
       "      <th>3</th>\n",
       "      <td>1944197</td>\n",
       "      <td>10860</td>\n",
       "      <td>7/7/2016 10:37</td>\n",
       "      <td>7/7/2016 13:38</td>\n",
       "      <td>3016</td>\n",
       "      <td>34.052898</td>\n",
       "      <td>-118.24156</td>\n",
       "      <td>3016</td>\n",
       "      <td>34.052898</td>\n",
       "      <td>-118.24156</td>\n",
       "      <td>5861</td>\n",
       "      <td>365</td>\n",
       "      <td>Round Trip</td>\n",
       "      <td>Flex Pass</td>\n",
       "    </tr>\n",
       "    <tr>\n",
       "      <th>4</th>\n",
       "      <td>1940317</td>\n",
       "      <td>420</td>\n",
       "      <td>7/7/2016 12:51</td>\n",
       "      <td>7/7/2016 12:58</td>\n",
       "      <td>3032</td>\n",
       "      <td>34.049889</td>\n",
       "      <td>-118.25588</td>\n",
       "      <td>3032</td>\n",
       "      <td>34.049889</td>\n",
       "      <td>-118.25588</td>\n",
       "      <td>6674</td>\n",
       "      <td>0</td>\n",
       "      <td>Round Trip</td>\n",
       "      <td>Walk-up</td>\n",
       "    </tr>\n",
       "    <tr>\n",
       "      <th>...</th>\n",
       "      <td>...</td>\n",
       "      <td>...</td>\n",
       "      <td>...</td>\n",
       "      <td>...</td>\n",
       "      <td>...</td>\n",
       "      <td>...</td>\n",
       "      <td>...</td>\n",
       "      <td>...</td>\n",
       "      <td>...</td>\n",
       "      <td>...</td>\n",
       "      <td>...</td>\n",
       "      <td>...</td>\n",
       "      <td>...</td>\n",
       "      <td>...</td>\n",
       "    </tr>\n",
       "    <tr>\n",
       "      <th>55434</th>\n",
       "      <td>8365125</td>\n",
       "      <td>840</td>\n",
       "      <td>9/30/2016 23:43</td>\n",
       "      <td>9/30/2016 23:57</td>\n",
       "      <td>3054</td>\n",
       "      <td>34.039219</td>\n",
       "      <td>-118.23649</td>\n",
       "      <td>3005</td>\n",
       "      <td>34.048550</td>\n",
       "      <td>-118.25905</td>\n",
       "      <td>6146</td>\n",
       "      <td>30</td>\n",
       "      <td>One Way</td>\n",
       "      <td>Monthly Pass</td>\n",
       "    </tr>\n",
       "    <tr>\n",
       "      <th>55435</th>\n",
       "      <td>8369653</td>\n",
       "      <td>840</td>\n",
       "      <td>9/30/2016 23:44</td>\n",
       "      <td>9/30/2016 23:58</td>\n",
       "      <td>3051</td>\n",
       "      <td>34.045422</td>\n",
       "      <td>-118.25352</td>\n",
       "      <td>3055</td>\n",
       "      <td>34.044159</td>\n",
       "      <td>-118.25158</td>\n",
       "      <td>6069</td>\n",
       "      <td>30</td>\n",
       "      <td>One Way</td>\n",
       "      <td>Monthly Pass</td>\n",
       "    </tr>\n",
       "    <tr>\n",
       "      <th>55436</th>\n",
       "      <td>8369652</td>\n",
       "      <td>1020</td>\n",
       "      <td>9/30/2016 23:47</td>\n",
       "      <td>10/1/2016 0:04</td>\n",
       "      <td>3032</td>\n",
       "      <td>34.049889</td>\n",
       "      <td>-118.25588</td>\n",
       "      <td>3023</td>\n",
       "      <td>34.050911</td>\n",
       "      <td>-118.24097</td>\n",
       "      <td>5725</td>\n",
       "      <td>0</td>\n",
       "      <td>One Way</td>\n",
       "      <td>Walk-up</td>\n",
       "    </tr>\n",
       "    <tr>\n",
       "      <th>55437</th>\n",
       "      <td>8369651</td>\n",
       "      <td>540</td>\n",
       "      <td>9/30/2016 23:53</td>\n",
       "      <td>10/1/2016 0:02</td>\n",
       "      <td>3035</td>\n",
       "      <td>34.048401</td>\n",
       "      <td>-118.26095</td>\n",
       "      <td>3031</td>\n",
       "      <td>34.044701</td>\n",
       "      <td>-118.25244</td>\n",
       "      <td>5975</td>\n",
       "      <td>0</td>\n",
       "      <td>One Way</td>\n",
       "      <td>Walk-up</td>\n",
       "    </tr>\n",
       "    <tr>\n",
       "      <th>55438</th>\n",
       "      <td>8369650</td>\n",
       "      <td>480</td>\n",
       "      <td>9/30/2016 23:54</td>\n",
       "      <td>10/1/2016 0:02</td>\n",
       "      <td>3035</td>\n",
       "      <td>34.048401</td>\n",
       "      <td>-118.26095</td>\n",
       "      <td>3031</td>\n",
       "      <td>34.044701</td>\n",
       "      <td>-118.25244</td>\n",
       "      <td>6683</td>\n",
       "      <td>0</td>\n",
       "      <td>One Way</td>\n",
       "      <td>Walk-up</td>\n",
       "    </tr>\n",
       "  </tbody>\n",
       "</table>\n",
       "<p>55439 rows × 14 columns</p>\n",
       "</div>"
      ],
      "text/plain": [
       "       trip_id  duration       start_time         end_time  start_station  \\\n",
       "0      1912818       180    7/7/2016 4:17    7/7/2016 4:20           3014   \n",
       "1      1919661      1980    7/7/2016 6:00    7/7/2016 6:33           3014   \n",
       "2      1933383       300   7/7/2016 10:32   7/7/2016 10:37           3016   \n",
       "3      1944197     10860   7/7/2016 10:37   7/7/2016 13:38           3016   \n",
       "4      1940317       420   7/7/2016 12:51   7/7/2016 12:58           3032   \n",
       "...        ...       ...              ...              ...            ...   \n",
       "55434  8365125       840  9/30/2016 23:43  9/30/2016 23:57           3054   \n",
       "55435  8369653       840  9/30/2016 23:44  9/30/2016 23:58           3051   \n",
       "55436  8369652      1020  9/30/2016 23:47   10/1/2016 0:04           3032   \n",
       "55437  8369651       540  9/30/2016 23:53   10/1/2016 0:02           3035   \n",
       "55438  8369650       480  9/30/2016 23:54   10/1/2016 0:02           3035   \n",
       "\n",
       "       start_lat  start_lon  end_station    end_lat    end_lon  bike_id  \\\n",
       "0      34.056610 -118.23721         3014  34.056610 -118.23721     6281   \n",
       "1      34.056610 -118.23721         3014  34.056610 -118.23721     6281   \n",
       "2      34.052898 -118.24156         3016  34.052898 -118.24156     5861   \n",
       "3      34.052898 -118.24156         3016  34.052898 -118.24156     5861   \n",
       "4      34.049889 -118.25588         3032  34.049889 -118.25588     6674   \n",
       "...          ...        ...          ...        ...        ...      ...   \n",
       "55434  34.039219 -118.23649         3005  34.048550 -118.25905     6146   \n",
       "55435  34.045422 -118.25352         3055  34.044159 -118.25158     6069   \n",
       "55436  34.049889 -118.25588         3023  34.050911 -118.24097     5725   \n",
       "55437  34.048401 -118.26095         3031  34.044701 -118.25244     5975   \n",
       "55438  34.048401 -118.26095         3031  34.044701 -118.25244     6683   \n",
       "\n",
       "       plan_duration trip_route_category passholder_type  \n",
       "0                 30          Round Trip    Monthly Pass  \n",
       "1                 30          Round Trip    Monthly Pass  \n",
       "2                365          Round Trip       Flex Pass  \n",
       "3                365          Round Trip       Flex Pass  \n",
       "4                  0          Round Trip         Walk-up  \n",
       "...              ...                 ...             ...  \n",
       "55434             30             One Way    Monthly Pass  \n",
       "55435             30             One Way    Monthly Pass  \n",
       "55436              0             One Way         Walk-up  \n",
       "55437              0             One Way         Walk-up  \n",
       "55438              0             One Way         Walk-up  \n",
       "\n",
       "[55439 rows x 14 columns]"
      ]
     },
     "execution_count": 19,
     "metadata": {},
     "output_type": "execute_result"
    }
   ],
   "source": [
    "df_clean"
   ]
  },
  {
   "cell_type": "code",
   "execution_count": 20,
   "metadata": {
    "ExecuteTime": {
     "end_time": "2020-10-01T20:51:21.341104Z",
     "start_time": "2020-10-01T20:51:20.869710Z"
    }
   },
   "outputs": [],
   "source": [
    "df_clean.to_csv(output_filepath, index=False)"
   ]
  },
  {
   "cell_type": "markdown",
   "metadata": {},
   "source": [
    "## process 2016 q4"
   ]
  },
  {
   "cell_type": "code",
   "execution_count": 21,
   "metadata": {
    "ExecuteTime": {
     "end_time": "2020-10-01T20:51:21.346022Z",
     "start_time": "2020-10-01T20:51:21.343410Z"
    }
   },
   "outputs": [],
   "source": [
    "year_q = (16, 4)"
   ]
  },
  {
   "cell_type": "code",
   "execution_count": 22,
   "metadata": {
    "ExecuteTime": {
     "end_time": "2020-10-01T20:51:21.352835Z",
     "start_time": "2020-10-01T20:51:21.348117Z"
    }
   },
   "outputs": [
    {
     "data": {
      "text/plain": [
       "'./rawdata/metro-bike-2016-q4.csv'"
      ]
     },
     "execution_count": 22,
     "metadata": {},
     "output_type": "execute_result"
    }
   ],
   "source": [
    "raw_filepath = \"./rawdata/metro-bike-20%s-q%d.csv\" % year_q\n",
    "output_filepath = \"./processed_data/metro-bike-20%s-q%d.csv\" % year_q\n",
    "raw_filepath"
   ]
  },
  {
   "cell_type": "code",
   "execution_count": 23,
   "metadata": {
    "ExecuteTime": {
     "end_time": "2020-10-01T20:51:21.465242Z",
     "start_time": "2020-10-01T20:51:21.359166Z"
    }
   },
   "outputs": [],
   "source": [
    "df = pd.read_csv(raw_filepath)"
   ]
  },
  {
   "cell_type": "code",
   "execution_count": 24,
   "metadata": {
    "ExecuteTime": {
     "end_time": "2020-10-01T20:51:21.522218Z",
     "start_time": "2020-10-01T20:51:21.470508Z"
    }
   },
   "outputs": [
    {
     "data": {
      "text/html": [
       "<div>\n",
       "<style scoped>\n",
       "    .dataframe tbody tr th:only-of-type {\n",
       "        vertical-align: middle;\n",
       "    }\n",
       "\n",
       "    .dataframe tbody tr th {\n",
       "        vertical-align: top;\n",
       "    }\n",
       "\n",
       "    .dataframe thead th {\n",
       "        text-align: right;\n",
       "    }\n",
       "</style>\n",
       "<table border=\"1\" class=\"dataframe\">\n",
       "  <thead>\n",
       "    <tr style=\"text-align: right;\">\n",
       "      <th></th>\n",
       "      <th>trip_id</th>\n",
       "      <th>duration</th>\n",
       "      <th>start_time</th>\n",
       "      <th>end_time</th>\n",
       "      <th>start_station</th>\n",
       "      <th>start_lat</th>\n",
       "      <th>start_lon</th>\n",
       "      <th>end_station</th>\n",
       "      <th>end_lat</th>\n",
       "      <th>end_lon</th>\n",
       "      <th>bike_id</th>\n",
       "      <th>plan_duration</th>\n",
       "      <th>trip_route_category</th>\n",
       "      <th>passholder_type</th>\n",
       "    </tr>\n",
       "  </thead>\n",
       "  <tbody>\n",
       "    <tr>\n",
       "      <th>0</th>\n",
       "      <td>8374193</td>\n",
       "      <td>42</td>\n",
       "      <td>2016-10-01 00:38:00</td>\n",
       "      <td>2016-10-01 01:20:00</td>\n",
       "      <td>3051</td>\n",
       "      <td>34.045422</td>\n",
       "      <td>-118.253517</td>\n",
       "      <td>3027</td>\n",
       "      <td>34.049980</td>\n",
       "      <td>-118.247162</td>\n",
       "      <td>6075</td>\n",
       "      <td>1</td>\n",
       "      <td>One Way</td>\n",
       "      <td>Walk-up</td>\n",
       "    </tr>\n",
       "    <tr>\n",
       "      <th>1</th>\n",
       "      <td>8369649</td>\n",
       "      <td>7</td>\n",
       "      <td>2016-10-01 00:47:00</td>\n",
       "      <td>2016-10-01 00:54:00</td>\n",
       "      <td>3046</td>\n",
       "      <td>34.053020</td>\n",
       "      <td>-118.247948</td>\n",
       "      <td>3082</td>\n",
       "      <td>34.046520</td>\n",
       "      <td>-118.237411</td>\n",
       "      <td>5823</td>\n",
       "      <td>1</td>\n",
       "      <td>One Way</td>\n",
       "      <td>Walk-up</td>\n",
       "    </tr>\n",
       "    <tr>\n",
       "      <th>2</th>\n",
       "      <td>8369648</td>\n",
       "      <td>4</td>\n",
       "      <td>2016-10-01 00:48:00</td>\n",
       "      <td>2016-10-01 00:52:00</td>\n",
       "      <td>3062</td>\n",
       "      <td>34.047749</td>\n",
       "      <td>-118.243172</td>\n",
       "      <td>3022</td>\n",
       "      <td>34.046070</td>\n",
       "      <td>-118.233093</td>\n",
       "      <td>6301</td>\n",
       "      <td>30</td>\n",
       "      <td>One Way</td>\n",
       "      <td>Monthly Pass</td>\n",
       "    </tr>\n",
       "    <tr>\n",
       "      <th>3</th>\n",
       "      <td>8374190</td>\n",
       "      <td>52</td>\n",
       "      <td>2016-10-01 00:53:00</td>\n",
       "      <td>2016-10-01 01:45:00</td>\n",
       "      <td>3063</td>\n",
       "      <td>34.048038</td>\n",
       "      <td>-118.253738</td>\n",
       "      <td>3034</td>\n",
       "      <td>34.042061</td>\n",
       "      <td>-118.263382</td>\n",
       "      <td>6143</td>\n",
       "      <td>365</td>\n",
       "      <td>One Way</td>\n",
       "      <td>Flex Pass</td>\n",
       "    </tr>\n",
       "    <tr>\n",
       "      <th>4</th>\n",
       "      <td>8374189</td>\n",
       "      <td>51</td>\n",
       "      <td>2016-10-01 00:54:00</td>\n",
       "      <td>2016-10-01 01:45:00</td>\n",
       "      <td>3063</td>\n",
       "      <td>34.048038</td>\n",
       "      <td>-118.253738</td>\n",
       "      <td>3034</td>\n",
       "      <td>34.042061</td>\n",
       "      <td>-118.263382</td>\n",
       "      <td>6251</td>\n",
       "      <td>365</td>\n",
       "      <td>One Way</td>\n",
       "      <td>Flex Pass</td>\n",
       "    </tr>\n",
       "    <tr>\n",
       "      <th>...</th>\n",
       "      <td>...</td>\n",
       "      <td>...</td>\n",
       "      <td>...</td>\n",
       "      <td>...</td>\n",
       "      <td>...</td>\n",
       "      <td>...</td>\n",
       "      <td>...</td>\n",
       "      <td>...</td>\n",
       "      <td>...</td>\n",
       "      <td>...</td>\n",
       "      <td>...</td>\n",
       "      <td>...</td>\n",
       "      <td>...</td>\n",
       "      <td>...</td>\n",
       "    </tr>\n",
       "    <tr>\n",
       "      <th>43193</th>\n",
       "      <td>17056883</td>\n",
       "      <td>5</td>\n",
       "      <td>2016-12-31 23:17:00</td>\n",
       "      <td>2016-12-31 23:22:00</td>\n",
       "      <td>3069</td>\n",
       "      <td>34.050880</td>\n",
       "      <td>-118.248253</td>\n",
       "      <td>3046</td>\n",
       "      <td>34.053020</td>\n",
       "      <td>-118.247948</td>\n",
       "      <td>6692</td>\n",
       "      <td>30</td>\n",
       "      <td>One Way</td>\n",
       "      <td>Monthly Pass</td>\n",
       "    </tr>\n",
       "    <tr>\n",
       "      <th>43194</th>\n",
       "      <td>17056881</td>\n",
       "      <td>12</td>\n",
       "      <td>2016-12-31 23:24:00</td>\n",
       "      <td>2016-12-31 23:36:00</td>\n",
       "      <td>3033</td>\n",
       "      <td>34.040989</td>\n",
       "      <td>-118.255798</td>\n",
       "      <td>3030</td>\n",
       "      <td>34.051941</td>\n",
       "      <td>-118.243530</td>\n",
       "      <td>6220</td>\n",
       "      <td>1</td>\n",
       "      <td>One Way</td>\n",
       "      <td>Walk-up</td>\n",
       "    </tr>\n",
       "    <tr>\n",
       "      <th>43195</th>\n",
       "      <td>17056882</td>\n",
       "      <td>12</td>\n",
       "      <td>2016-12-31 23:24:00</td>\n",
       "      <td>2016-12-31 23:36:00</td>\n",
       "      <td>3033</td>\n",
       "      <td>34.040989</td>\n",
       "      <td>-118.255798</td>\n",
       "      <td>3030</td>\n",
       "      <td>34.051941</td>\n",
       "      <td>-118.243530</td>\n",
       "      <td>6520</td>\n",
       "      <td>1</td>\n",
       "      <td>One Way</td>\n",
       "      <td>Walk-up</td>\n",
       "    </tr>\n",
       "    <tr>\n",
       "      <th>43196</th>\n",
       "      <td>17056880</td>\n",
       "      <td>11</td>\n",
       "      <td>2016-12-31 23:25:00</td>\n",
       "      <td>2016-12-31 23:36:00</td>\n",
       "      <td>3033</td>\n",
       "      <td>34.040989</td>\n",
       "      <td>-118.255798</td>\n",
       "      <td>3030</td>\n",
       "      <td>34.051941</td>\n",
       "      <td>-118.243530</td>\n",
       "      <td>6533</td>\n",
       "      <td>1</td>\n",
       "      <td>One Way</td>\n",
       "      <td>Walk-up</td>\n",
       "    </tr>\n",
       "    <tr>\n",
       "      <th>43197</th>\n",
       "      <td>17056879</td>\n",
       "      <td>7</td>\n",
       "      <td>2016-12-31 23:26:00</td>\n",
       "      <td>2016-12-31 23:33:00</td>\n",
       "      <td>3046</td>\n",
       "      <td>34.053020</td>\n",
       "      <td>-118.247948</td>\n",
       "      <td>3030</td>\n",
       "      <td>34.051941</td>\n",
       "      <td>-118.243530</td>\n",
       "      <td>5754</td>\n",
       "      <td>30</td>\n",
       "      <td>One Way</td>\n",
       "      <td>Monthly Pass</td>\n",
       "    </tr>\n",
       "  </tbody>\n",
       "</table>\n",
       "<p>43198 rows × 14 columns</p>\n",
       "</div>"
      ],
      "text/plain": [
       "        trip_id  duration           start_time             end_time  \\\n",
       "0       8374193        42  2016-10-01 00:38:00  2016-10-01 01:20:00   \n",
       "1       8369649         7  2016-10-01 00:47:00  2016-10-01 00:54:00   \n",
       "2       8369648         4  2016-10-01 00:48:00  2016-10-01 00:52:00   \n",
       "3       8374190        52  2016-10-01 00:53:00  2016-10-01 01:45:00   \n",
       "4       8374189        51  2016-10-01 00:54:00  2016-10-01 01:45:00   \n",
       "...         ...       ...                  ...                  ...   \n",
       "43193  17056883         5  2016-12-31 23:17:00  2016-12-31 23:22:00   \n",
       "43194  17056881        12  2016-12-31 23:24:00  2016-12-31 23:36:00   \n",
       "43195  17056882        12  2016-12-31 23:24:00  2016-12-31 23:36:00   \n",
       "43196  17056880        11  2016-12-31 23:25:00  2016-12-31 23:36:00   \n",
       "43197  17056879         7  2016-12-31 23:26:00  2016-12-31 23:33:00   \n",
       "\n",
       "       start_station  start_lat   start_lon  end_station    end_lat  \\\n",
       "0               3051  34.045422 -118.253517         3027  34.049980   \n",
       "1               3046  34.053020 -118.247948         3082  34.046520   \n",
       "2               3062  34.047749 -118.243172         3022  34.046070   \n",
       "3               3063  34.048038 -118.253738         3034  34.042061   \n",
       "4               3063  34.048038 -118.253738         3034  34.042061   \n",
       "...              ...        ...         ...          ...        ...   \n",
       "43193           3069  34.050880 -118.248253         3046  34.053020   \n",
       "43194           3033  34.040989 -118.255798         3030  34.051941   \n",
       "43195           3033  34.040989 -118.255798         3030  34.051941   \n",
       "43196           3033  34.040989 -118.255798         3030  34.051941   \n",
       "43197           3046  34.053020 -118.247948         3030  34.051941   \n",
       "\n",
       "          end_lon  bike_id  plan_duration trip_route_category passholder_type  \n",
       "0     -118.247162     6075              1             One Way         Walk-up  \n",
       "1     -118.237411     5823              1             One Way         Walk-up  \n",
       "2     -118.233093     6301             30             One Way    Monthly Pass  \n",
       "3     -118.263382     6143            365             One Way       Flex Pass  \n",
       "4     -118.263382     6251            365             One Way       Flex Pass  \n",
       "...           ...      ...            ...                 ...             ...  \n",
       "43193 -118.247948     6692             30             One Way    Monthly Pass  \n",
       "43194 -118.243530     6220              1             One Way         Walk-up  \n",
       "43195 -118.243530     6520              1             One Way         Walk-up  \n",
       "43196 -118.243530     6533              1             One Way         Walk-up  \n",
       "43197 -118.243530     5754             30             One Way    Monthly Pass  \n",
       "\n",
       "[43198 rows x 14 columns]"
      ]
     },
     "execution_count": 24,
     "metadata": {},
     "output_type": "execute_result"
    }
   ],
   "source": [
    "df"
   ]
  },
  {
   "cell_type": "code",
   "execution_count": 25,
   "metadata": {
    "ExecuteTime": {
     "end_time": "2020-10-01T20:51:21.533761Z",
     "start_time": "2020-10-01T20:51:21.528198Z"
    }
   },
   "outputs": [],
   "source": [
    "# df = df.rename(columns = {'start_station_id': 'start_station', 'end_station_id': 'end_station'})\n",
    "# df.columns"
   ]
  },
  {
   "cell_type": "code",
   "execution_count": 26,
   "metadata": {
    "ExecuteTime": {
     "end_time": "2020-10-01T20:51:21.545301Z",
     "start_time": "2020-10-01T20:51:21.538213Z"
    }
   },
   "outputs": [],
   "source": [
    "s1 = df.start_station == 3000\n",
    "s2 = df.end_station == 3000\n",
    "index3000 = df[s1 | s2].index"
   ]
  },
  {
   "cell_type": "code",
   "execution_count": 27,
   "metadata": {
    "ExecuteTime": {
     "end_time": "2020-10-01T20:51:21.558197Z",
     "start_time": "2020-10-01T20:51:21.548232Z"
    }
   },
   "outputs": [],
   "source": [
    "df_without_3000 = df.drop(index3000)"
   ]
  },
  {
   "cell_type": "code",
   "execution_count": 28,
   "metadata": {
    "ExecuteTime": {
     "end_time": "2020-10-01T20:51:21.584537Z",
     "start_time": "2020-10-01T20:51:21.560667Z"
    }
   },
   "outputs": [
    {
     "name": "stdout",
     "output_type": "stream",
     "text": [
      "<class 'pandas.core.frame.DataFrame'>\n",
      "Int64Index: 42696 entries, 0 to 43197\n",
      "Data columns (total 14 columns):\n",
      " #   Column               Non-Null Count  Dtype  \n",
      "---  ------               --------------  -----  \n",
      " 0   trip_id              42696 non-null  int64  \n",
      " 1   duration             42696 non-null  int64  \n",
      " 2   start_time           42696 non-null  object \n",
      " 3   end_time             42696 non-null  object \n",
      " 4   start_station        42696 non-null  int64  \n",
      " 5   start_lat            42696 non-null  float64\n",
      " 6   start_lon            42696 non-null  float64\n",
      " 7   end_station          42696 non-null  int64  \n",
      " 8   end_lat              42696 non-null  float64\n",
      " 9   end_lon              42696 non-null  float64\n",
      " 10  bike_id              42696 non-null  int64  \n",
      " 11  plan_duration        42696 non-null  int64  \n",
      " 12  trip_route_category  42696 non-null  object \n",
      " 13  passholder_type      42696 non-null  object \n",
      "dtypes: float64(4), int64(6), object(4)\n",
      "memory usage: 4.9+ MB\n"
     ]
    }
   ],
   "source": [
    "df_without_3000.info()"
   ]
  },
  {
   "cell_type": "code",
   "execution_count": 29,
   "metadata": {
    "ExecuteTime": {
     "end_time": "2020-10-01T20:51:21.593246Z",
     "start_time": "2020-10-01T20:51:21.586938Z"
    }
   },
   "outputs": [],
   "source": [
    "df_position = df_without_3000[[\"start_lat\", \"start_lon\", \"end_lat\", \"end_lon\"]]"
   ]
  },
  {
   "cell_type": "code",
   "execution_count": 30,
   "metadata": {
    "ExecuteTime": {
     "end_time": "2020-10-01T20:51:21.599388Z",
     "start_time": "2020-10-01T20:51:21.595184Z"
    }
   },
   "outputs": [],
   "source": [
    "df_position_isnull = df_position.isnull()"
   ]
  },
  {
   "cell_type": "code",
   "execution_count": 31,
   "metadata": {
    "ExecuteTime": {
     "end_time": "2020-10-01T20:51:21.607443Z",
     "start_time": "2020-10-01T20:51:21.602270Z"
    }
   },
   "outputs": [],
   "source": [
    "index_station_without_position = df_position_isnull[df_position_isnull.any(axis=1)].index"
   ]
  },
  {
   "cell_type": "code",
   "execution_count": 32,
   "metadata": {
    "ExecuteTime": {
     "end_time": "2020-10-01T20:51:21.623241Z",
     "start_time": "2020-10-01T20:51:21.609968Z"
    }
   },
   "outputs": [],
   "source": [
    "df_clean = df_without_3000.drop(index_station_without_position)"
   ]
  },
  {
   "cell_type": "code",
   "execution_count": 33,
   "metadata": {
    "ExecuteTime": {
     "end_time": "2020-10-01T20:51:21.639359Z",
     "start_time": "2020-10-01T20:51:21.625549Z"
    },
    "scrolled": true
   },
   "outputs": [
    {
     "data": {
      "text/plain": [
       "trip_id                False\n",
       "duration               False\n",
       "start_time             False\n",
       "end_time               False\n",
       "start_station          False\n",
       "start_lat              False\n",
       "start_lon              False\n",
       "end_station            False\n",
       "end_lat                False\n",
       "end_lon                False\n",
       "bike_id                False\n",
       "plan_duration          False\n",
       "trip_route_category    False\n",
       "passholder_type        False\n",
       "dtype: bool"
      ]
     },
     "execution_count": 33,
     "metadata": {},
     "output_type": "execute_result"
    }
   ],
   "source": [
    "dpu.df_has_nan(df_clean)"
   ]
  },
  {
   "cell_type": "code",
   "execution_count": 34,
   "metadata": {
    "ExecuteTime": {
     "end_time": "2020-10-01T20:51:21.649503Z",
     "start_time": "2020-10-01T20:51:21.641260Z"
    }
   },
   "outputs": [
    {
     "data": {
      "text/plain": [
       "'2016-10-01 00:38:00'"
      ]
     },
     "execution_count": 34,
     "metadata": {},
     "output_type": "execute_result"
    }
   ],
   "source": [
    "time_need_check = list(df_clean.start_time)[0]\n",
    "time_need_check"
   ]
  },
  {
   "cell_type": "code",
   "execution_count": 35,
   "metadata": {
    "ExecuteTime": {
     "end_time": "2020-10-01T20:51:21.658162Z",
     "start_time": "2020-10-01T20:51:21.653011Z"
    }
   },
   "outputs": [
    {
     "data": {
      "text/plain": [
       "True"
      ]
     },
     "execution_count": 35,
     "metadata": {},
     "output_type": "execute_result"
    }
   ],
   "source": [
    "time_format_need_change = dpu.is_time_format(time_need_check, t_format_check)\n",
    "time_format_need_change"
   ]
  },
  {
   "cell_type": "code",
   "execution_count": 36,
   "metadata": {
    "ExecuteTime": {
     "end_time": "2020-10-01T20:51:23.493041Z",
     "start_time": "2020-10-01T20:51:21.661181Z"
    }
   },
   "outputs": [],
   "source": [
    "if time_format_need_change:\n",
    "    df_clean[[\"start_time\", \"end_time\"]] = df_clean[[\"start_time\", \"end_time\"]].applymap(lambda ts: dpu.change_time_format(ts, t_format_check, t_format_output))"
   ]
  },
  {
   "cell_type": "code",
   "execution_count": 37,
   "metadata": {
    "ExecuteTime": {
     "end_time": "2020-10-01T20:51:23.513612Z",
     "start_time": "2020-10-01T20:51:23.495226Z"
    }
   },
   "outputs": [
    {
     "data": {
      "text/html": [
       "<div>\n",
       "<style scoped>\n",
       "    .dataframe tbody tr th:only-of-type {\n",
       "        vertical-align: middle;\n",
       "    }\n",
       "\n",
       "    .dataframe tbody tr th {\n",
       "        vertical-align: top;\n",
       "    }\n",
       "\n",
       "    .dataframe thead th {\n",
       "        text-align: right;\n",
       "    }\n",
       "</style>\n",
       "<table border=\"1\" class=\"dataframe\">\n",
       "  <thead>\n",
       "    <tr style=\"text-align: right;\">\n",
       "      <th></th>\n",
       "      <th>trip_id</th>\n",
       "      <th>duration</th>\n",
       "      <th>start_time</th>\n",
       "      <th>end_time</th>\n",
       "      <th>start_station</th>\n",
       "      <th>start_lat</th>\n",
       "      <th>start_lon</th>\n",
       "      <th>end_station</th>\n",
       "      <th>end_lat</th>\n",
       "      <th>end_lon</th>\n",
       "      <th>bike_id</th>\n",
       "      <th>plan_duration</th>\n",
       "      <th>trip_route_category</th>\n",
       "      <th>passholder_type</th>\n",
       "    </tr>\n",
       "  </thead>\n",
       "  <tbody>\n",
       "    <tr>\n",
       "      <th>0</th>\n",
       "      <td>8374193</td>\n",
       "      <td>42</td>\n",
       "      <td>10/01/2016 00:38</td>\n",
       "      <td>10/01/2016 01:20</td>\n",
       "      <td>3051</td>\n",
       "      <td>34.045422</td>\n",
       "      <td>-118.253517</td>\n",
       "      <td>3027</td>\n",
       "      <td>34.049980</td>\n",
       "      <td>-118.247162</td>\n",
       "      <td>6075</td>\n",
       "      <td>1</td>\n",
       "      <td>One Way</td>\n",
       "      <td>Walk-up</td>\n",
       "    </tr>\n",
       "    <tr>\n",
       "      <th>1</th>\n",
       "      <td>8369649</td>\n",
       "      <td>7</td>\n",
       "      <td>10/01/2016 00:47</td>\n",
       "      <td>10/01/2016 00:54</td>\n",
       "      <td>3046</td>\n",
       "      <td>34.053020</td>\n",
       "      <td>-118.247948</td>\n",
       "      <td>3082</td>\n",
       "      <td>34.046520</td>\n",
       "      <td>-118.237411</td>\n",
       "      <td>5823</td>\n",
       "      <td>1</td>\n",
       "      <td>One Way</td>\n",
       "      <td>Walk-up</td>\n",
       "    </tr>\n",
       "    <tr>\n",
       "      <th>2</th>\n",
       "      <td>8369648</td>\n",
       "      <td>4</td>\n",
       "      <td>10/01/2016 00:48</td>\n",
       "      <td>10/01/2016 00:52</td>\n",
       "      <td>3062</td>\n",
       "      <td>34.047749</td>\n",
       "      <td>-118.243172</td>\n",
       "      <td>3022</td>\n",
       "      <td>34.046070</td>\n",
       "      <td>-118.233093</td>\n",
       "      <td>6301</td>\n",
       "      <td>30</td>\n",
       "      <td>One Way</td>\n",
       "      <td>Monthly Pass</td>\n",
       "    </tr>\n",
       "    <tr>\n",
       "      <th>3</th>\n",
       "      <td>8374190</td>\n",
       "      <td>52</td>\n",
       "      <td>10/01/2016 00:53</td>\n",
       "      <td>10/01/2016 01:45</td>\n",
       "      <td>3063</td>\n",
       "      <td>34.048038</td>\n",
       "      <td>-118.253738</td>\n",
       "      <td>3034</td>\n",
       "      <td>34.042061</td>\n",
       "      <td>-118.263382</td>\n",
       "      <td>6143</td>\n",
       "      <td>365</td>\n",
       "      <td>One Way</td>\n",
       "      <td>Flex Pass</td>\n",
       "    </tr>\n",
       "    <tr>\n",
       "      <th>4</th>\n",
       "      <td>8374189</td>\n",
       "      <td>51</td>\n",
       "      <td>10/01/2016 00:54</td>\n",
       "      <td>10/01/2016 01:45</td>\n",
       "      <td>3063</td>\n",
       "      <td>34.048038</td>\n",
       "      <td>-118.253738</td>\n",
       "      <td>3034</td>\n",
       "      <td>34.042061</td>\n",
       "      <td>-118.263382</td>\n",
       "      <td>6251</td>\n",
       "      <td>365</td>\n",
       "      <td>One Way</td>\n",
       "      <td>Flex Pass</td>\n",
       "    </tr>\n",
       "  </tbody>\n",
       "</table>\n",
       "</div>"
      ],
      "text/plain": [
       "   trip_id  duration        start_time          end_time  start_station  \\\n",
       "0  8374193        42  10/01/2016 00:38  10/01/2016 01:20           3051   \n",
       "1  8369649         7  10/01/2016 00:47  10/01/2016 00:54           3046   \n",
       "2  8369648         4  10/01/2016 00:48  10/01/2016 00:52           3062   \n",
       "3  8374190        52  10/01/2016 00:53  10/01/2016 01:45           3063   \n",
       "4  8374189        51  10/01/2016 00:54  10/01/2016 01:45           3063   \n",
       "\n",
       "   start_lat   start_lon  end_station    end_lat     end_lon  bike_id  \\\n",
       "0  34.045422 -118.253517         3027  34.049980 -118.247162     6075   \n",
       "1  34.053020 -118.247948         3082  34.046520 -118.237411     5823   \n",
       "2  34.047749 -118.243172         3022  34.046070 -118.233093     6301   \n",
       "3  34.048038 -118.253738         3034  34.042061 -118.263382     6143   \n",
       "4  34.048038 -118.253738         3034  34.042061 -118.263382     6251   \n",
       "\n",
       "   plan_duration trip_route_category passholder_type  \n",
       "0              1             One Way         Walk-up  \n",
       "1              1             One Way         Walk-up  \n",
       "2             30             One Way    Monthly Pass  \n",
       "3            365             One Way       Flex Pass  \n",
       "4            365             One Way       Flex Pass  "
      ]
     },
     "execution_count": 37,
     "metadata": {},
     "output_type": "execute_result"
    }
   ],
   "source": [
    "df_clean.head(5)"
   ]
  },
  {
   "cell_type": "code",
   "execution_count": 38,
   "metadata": {
    "ExecuteTime": {
     "end_time": "2020-10-01T20:51:23.950210Z",
     "start_time": "2020-10-01T20:51:23.516677Z"
    }
   },
   "outputs": [],
   "source": [
    "df_clean.to_csv(output_filepath, index=False)"
   ]
  },
  {
   "cell_type": "code",
   "execution_count": null,
   "metadata": {},
   "outputs": [],
   "source": []
  },
  {
   "cell_type": "markdown",
   "metadata": {},
   "source": [
    "## process 2017 q1"
   ]
  },
  {
   "cell_type": "code",
   "execution_count": 39,
   "metadata": {
    "ExecuteTime": {
     "end_time": "2020-10-01T20:51:23.954545Z",
     "start_time": "2020-10-01T20:51:23.952084Z"
    }
   },
   "outputs": [],
   "source": [
    "year_q = (17, 1)"
   ]
  },
  {
   "cell_type": "code",
   "execution_count": 40,
   "metadata": {
    "ExecuteTime": {
     "end_time": "2020-10-01T20:51:23.961046Z",
     "start_time": "2020-10-01T20:51:23.956703Z"
    }
   },
   "outputs": [
    {
     "data": {
      "text/plain": [
       "'./rawdata/metro-bike-2017-q1.csv'"
      ]
     },
     "execution_count": 40,
     "metadata": {},
     "output_type": "execute_result"
    }
   ],
   "source": [
    "raw_filepath = \"./rawdata/metro-bike-20%s-q%d.csv\" % year_q\n",
    "output_filepath = \"./processed_data/metro-bike-20%s-q%d.csv\" % year_q\n",
    "raw_filepath"
   ]
  },
  {
   "cell_type": "code",
   "execution_count": 41,
   "metadata": {
    "ExecuteTime": {
     "end_time": "2020-10-01T20:51:24.054456Z",
     "start_time": "2020-10-01T20:51:23.962997Z"
    }
   },
   "outputs": [],
   "source": [
    "df = pd.read_csv(raw_filepath)"
   ]
  },
  {
   "cell_type": "code",
   "execution_count": 42,
   "metadata": {
    "ExecuteTime": {
     "end_time": "2020-10-01T20:51:24.083517Z",
     "start_time": "2020-10-01T20:51:24.056963Z"
    }
   },
   "outputs": [
    {
     "data": {
      "text/html": [
       "<div>\n",
       "<style scoped>\n",
       "    .dataframe tbody tr th:only-of-type {\n",
       "        vertical-align: middle;\n",
       "    }\n",
       "\n",
       "    .dataframe tbody tr th {\n",
       "        vertical-align: top;\n",
       "    }\n",
       "\n",
       "    .dataframe thead th {\n",
       "        text-align: right;\n",
       "    }\n",
       "</style>\n",
       "<table border=\"1\" class=\"dataframe\">\n",
       "  <thead>\n",
       "    <tr style=\"text-align: right;\">\n",
       "      <th></th>\n",
       "      <th>trip_id</th>\n",
       "      <th>duration</th>\n",
       "      <th>start_time</th>\n",
       "      <th>end_time</th>\n",
       "      <th>start_station_id</th>\n",
       "      <th>start_lat</th>\n",
       "      <th>start_lon</th>\n",
       "      <th>end_station_id</th>\n",
       "      <th>end_lat</th>\n",
       "      <th>end_lon</th>\n",
       "      <th>bike_id</th>\n",
       "      <th>plan_duration</th>\n",
       "      <th>trip_route_category</th>\n",
       "      <th>passholder_type</th>\n",
       "    </tr>\n",
       "  </thead>\n",
       "  <tbody>\n",
       "    <tr>\n",
       "      <th>0</th>\n",
       "      <td>17059131</td>\n",
       "      <td>480</td>\n",
       "      <td>1/1/2017 0:15</td>\n",
       "      <td>1/1/2017 0:23</td>\n",
       "      <td>3030</td>\n",
       "      <td>34.051941</td>\n",
       "      <td>-118.243530</td>\n",
       "      <td>3029</td>\n",
       "      <td>34.048851</td>\n",
       "      <td>-118.246422</td>\n",
       "      <td>6220</td>\n",
       "      <td>30.0</td>\n",
       "      <td>One Way</td>\n",
       "      <td>Monthly Pass</td>\n",
       "    </tr>\n",
       "    <tr>\n",
       "      <th>1</th>\n",
       "      <td>17059130</td>\n",
       "      <td>720</td>\n",
       "      <td>1/1/2017 0:24</td>\n",
       "      <td>1/1/2017 0:36</td>\n",
       "      <td>3028</td>\n",
       "      <td>34.058319</td>\n",
       "      <td>-118.246094</td>\n",
       "      <td>3028</td>\n",
       "      <td>34.058319</td>\n",
       "      <td>-118.246094</td>\n",
       "      <td>6351</td>\n",
       "      <td>0.0</td>\n",
       "      <td>Round Trip</td>\n",
       "      <td>Walk-up</td>\n",
       "    </tr>\n",
       "    <tr>\n",
       "      <th>2</th>\n",
       "      <td>17059129</td>\n",
       "      <td>1020</td>\n",
       "      <td>1/1/2017 0:28</td>\n",
       "      <td>1/1/2017 0:45</td>\n",
       "      <td>3027</td>\n",
       "      <td>34.049980</td>\n",
       "      <td>-118.247162</td>\n",
       "      <td>3018</td>\n",
       "      <td>34.043732</td>\n",
       "      <td>-118.260139</td>\n",
       "      <td>5836</td>\n",
       "      <td>0.0</td>\n",
       "      <td>One Way</td>\n",
       "      <td>Walk-up</td>\n",
       "    </tr>\n",
       "    <tr>\n",
       "      <th>3</th>\n",
       "      <td>17059128</td>\n",
       "      <td>300</td>\n",
       "      <td>1/1/2017 0:38</td>\n",
       "      <td>1/1/2017 0:43</td>\n",
       "      <td>3007</td>\n",
       "      <td>34.050480</td>\n",
       "      <td>-118.254593</td>\n",
       "      <td>3031</td>\n",
       "      <td>34.044701</td>\n",
       "      <td>-118.252441</td>\n",
       "      <td>6142</td>\n",
       "      <td>30.0</td>\n",
       "      <td>One Way</td>\n",
       "      <td>Monthly Pass</td>\n",
       "    </tr>\n",
       "    <tr>\n",
       "      <th>4</th>\n",
       "      <td>17059127</td>\n",
       "      <td>300</td>\n",
       "      <td>1/1/2017 0:38</td>\n",
       "      <td>1/1/2017 0:43</td>\n",
       "      <td>3007</td>\n",
       "      <td>34.050480</td>\n",
       "      <td>-118.254593</td>\n",
       "      <td>3031</td>\n",
       "      <td>34.044701</td>\n",
       "      <td>-118.252441</td>\n",
       "      <td>6135</td>\n",
       "      <td>30.0</td>\n",
       "      <td>One Way</td>\n",
       "      <td>Monthly Pass</td>\n",
       "    </tr>\n",
       "    <tr>\n",
       "      <th>...</th>\n",
       "      <td>...</td>\n",
       "      <td>...</td>\n",
       "      <td>...</td>\n",
       "      <td>...</td>\n",
       "      <td>...</td>\n",
       "      <td>...</td>\n",
       "      <td>...</td>\n",
       "      <td>...</td>\n",
       "      <td>...</td>\n",
       "      <td>...</td>\n",
       "      <td>...</td>\n",
       "      <td>...</td>\n",
       "      <td>...</td>\n",
       "      <td>...</td>\n",
       "    </tr>\n",
       "    <tr>\n",
       "      <th>33781</th>\n",
       "      <td>23660993</td>\n",
       "      <td>540</td>\n",
       "      <td>3/31/2017 23:43</td>\n",
       "      <td>3/31/2017 23:52</td>\n",
       "      <td>3055</td>\n",
       "      <td>34.044159</td>\n",
       "      <td>-118.251579</td>\n",
       "      <td>3035</td>\n",
       "      <td>34.048401</td>\n",
       "      <td>-118.260948</td>\n",
       "      <td>5978</td>\n",
       "      <td>0.0</td>\n",
       "      <td>One Way</td>\n",
       "      <td>Walk-up</td>\n",
       "    </tr>\n",
       "    <tr>\n",
       "      <th>33782</th>\n",
       "      <td>23660992</td>\n",
       "      <td>480</td>\n",
       "      <td>3/31/2017 23:44</td>\n",
       "      <td>3/31/2017 23:52</td>\n",
       "      <td>3055</td>\n",
       "      <td>34.044159</td>\n",
       "      <td>-118.251579</td>\n",
       "      <td>3035</td>\n",
       "      <td>34.048401</td>\n",
       "      <td>-118.260948</td>\n",
       "      <td>6478</td>\n",
       "      <td>0.0</td>\n",
       "      <td>One Way</td>\n",
       "      <td>Walk-up</td>\n",
       "    </tr>\n",
       "    <tr>\n",
       "      <th>33783</th>\n",
       "      <td>23660991</td>\n",
       "      <td>480</td>\n",
       "      <td>3/31/2017 23:44</td>\n",
       "      <td>3/31/2017 23:52</td>\n",
       "      <td>3082</td>\n",
       "      <td>34.046520</td>\n",
       "      <td>-118.237411</td>\n",
       "      <td>3054</td>\n",
       "      <td>34.039219</td>\n",
       "      <td>-118.236488</td>\n",
       "      <td>6183</td>\n",
       "      <td>0.0</td>\n",
       "      <td>One Way</td>\n",
       "      <td>Walk-up</td>\n",
       "    </tr>\n",
       "    <tr>\n",
       "      <th>33784</th>\n",
       "      <td>23660990</td>\n",
       "      <td>420</td>\n",
       "      <td>3/31/2017 23:45</td>\n",
       "      <td>3/31/2017 23:52</td>\n",
       "      <td>3082</td>\n",
       "      <td>34.046520</td>\n",
       "      <td>-118.237411</td>\n",
       "      <td>3054</td>\n",
       "      <td>34.039219</td>\n",
       "      <td>-118.236488</td>\n",
       "      <td>5900</td>\n",
       "      <td>0.0</td>\n",
       "      <td>One Way</td>\n",
       "      <td>Walk-up</td>\n",
       "    </tr>\n",
       "    <tr>\n",
       "      <th>33785</th>\n",
       "      <td>23664826</td>\n",
       "      <td>1260</td>\n",
       "      <td>3/31/2017 23:45</td>\n",
       "      <td>4/1/2017 0:06</td>\n",
       "      <td>3078</td>\n",
       "      <td>34.064281</td>\n",
       "      <td>-118.238937</td>\n",
       "      <td>3029</td>\n",
       "      <td>34.048851</td>\n",
       "      <td>-118.246422</td>\n",
       "      <td>6207</td>\n",
       "      <td>0.0</td>\n",
       "      <td>One Way</td>\n",
       "      <td>Walk-up</td>\n",
       "    </tr>\n",
       "  </tbody>\n",
       "</table>\n",
       "<p>33786 rows × 14 columns</p>\n",
       "</div>"
      ],
      "text/plain": [
       "        trip_id  duration       start_time         end_time  start_station_id  \\\n",
       "0      17059131       480    1/1/2017 0:15    1/1/2017 0:23              3030   \n",
       "1      17059130       720    1/1/2017 0:24    1/1/2017 0:36              3028   \n",
       "2      17059129      1020    1/1/2017 0:28    1/1/2017 0:45              3027   \n",
       "3      17059128       300    1/1/2017 0:38    1/1/2017 0:43              3007   \n",
       "4      17059127       300    1/1/2017 0:38    1/1/2017 0:43              3007   \n",
       "...         ...       ...              ...              ...               ...   \n",
       "33781  23660993       540  3/31/2017 23:43  3/31/2017 23:52              3055   \n",
       "33782  23660992       480  3/31/2017 23:44  3/31/2017 23:52              3055   \n",
       "33783  23660991       480  3/31/2017 23:44  3/31/2017 23:52              3082   \n",
       "33784  23660990       420  3/31/2017 23:45  3/31/2017 23:52              3082   \n",
       "33785  23664826      1260  3/31/2017 23:45    4/1/2017 0:06              3078   \n",
       "\n",
       "       start_lat   start_lon  end_station_id    end_lat     end_lon bike_id  \\\n",
       "0      34.051941 -118.243530            3029  34.048851 -118.246422    6220   \n",
       "1      34.058319 -118.246094            3028  34.058319 -118.246094    6351   \n",
       "2      34.049980 -118.247162            3018  34.043732 -118.260139    5836   \n",
       "3      34.050480 -118.254593            3031  34.044701 -118.252441    6142   \n",
       "4      34.050480 -118.254593            3031  34.044701 -118.252441    6135   \n",
       "...          ...         ...             ...        ...         ...     ...   \n",
       "33781  34.044159 -118.251579            3035  34.048401 -118.260948    5978   \n",
       "33782  34.044159 -118.251579            3035  34.048401 -118.260948    6478   \n",
       "33783  34.046520 -118.237411            3054  34.039219 -118.236488    6183   \n",
       "33784  34.046520 -118.237411            3054  34.039219 -118.236488    5900   \n",
       "33785  34.064281 -118.238937            3029  34.048851 -118.246422    6207   \n",
       "\n",
       "       plan_duration trip_route_category passholder_type  \n",
       "0               30.0             One Way    Monthly Pass  \n",
       "1                0.0          Round Trip         Walk-up  \n",
       "2                0.0             One Way         Walk-up  \n",
       "3               30.0             One Way    Monthly Pass  \n",
       "4               30.0             One Way    Monthly Pass  \n",
       "...              ...                 ...             ...  \n",
       "33781            0.0             One Way         Walk-up  \n",
       "33782            0.0             One Way         Walk-up  \n",
       "33783            0.0             One Way         Walk-up  \n",
       "33784            0.0             One Way         Walk-up  \n",
       "33785            0.0             One Way         Walk-up  \n",
       "\n",
       "[33786 rows x 14 columns]"
      ]
     },
     "execution_count": 42,
     "metadata": {},
     "output_type": "execute_result"
    }
   ],
   "source": [
    "df"
   ]
  },
  {
   "cell_type": "code",
   "execution_count": 43,
   "metadata": {
    "ExecuteTime": {
     "end_time": "2020-10-01T20:51:24.095789Z",
     "start_time": "2020-10-01T20:51:24.085156Z"
    }
   },
   "outputs": [
    {
     "data": {
      "text/plain": [
       "Index(['trip_id', 'duration', 'start_time', 'end_time', 'start_station',\n",
       "       'start_lat', 'start_lon', 'end_station', 'end_lat', 'end_lon',\n",
       "       'bike_id', 'plan_duration', 'trip_route_category', 'passholder_type'],\n",
       "      dtype='object')"
      ]
     },
     "execution_count": 43,
     "metadata": {},
     "output_type": "execute_result"
    }
   ],
   "source": [
    "df = df.rename(columns = {'start_station_id': 'start_station', 'end_station_id': 'end_station'})\n",
    "df.columns"
   ]
  },
  {
   "cell_type": "code",
   "execution_count": 44,
   "metadata": {
    "ExecuteTime": {
     "end_time": "2020-10-01T20:51:24.103137Z",
     "start_time": "2020-10-01T20:51:24.097561Z"
    }
   },
   "outputs": [],
   "source": [
    "s1 = df.start_station == 3000\n",
    "s2 = df.end_station == 3000\n",
    "index3000 = df[s1 | s2].index"
   ]
  },
  {
   "cell_type": "code",
   "execution_count": 45,
   "metadata": {
    "ExecuteTime": {
     "end_time": "2020-10-01T20:51:24.111978Z",
     "start_time": "2020-10-01T20:51:24.104993Z"
    }
   },
   "outputs": [],
   "source": [
    "df_without_3000 = df.drop(index3000)"
   ]
  },
  {
   "cell_type": "code",
   "execution_count": 46,
   "metadata": {
    "ExecuteTime": {
     "end_time": "2020-10-01T20:51:24.131472Z",
     "start_time": "2020-10-01T20:51:24.113981Z"
    }
   },
   "outputs": [
    {
     "name": "stdout",
     "output_type": "stream",
     "text": [
      "<class 'pandas.core.frame.DataFrame'>\n",
      "Int64Index: 33198 entries, 0 to 33785\n",
      "Data columns (total 14 columns):\n",
      " #   Column               Non-Null Count  Dtype  \n",
      "---  ------               --------------  -----  \n",
      " 0   trip_id              33198 non-null  int64  \n",
      " 1   duration             33198 non-null  int64  \n",
      " 2   start_time           33198 non-null  object \n",
      " 3   end_time             33198 non-null  object \n",
      " 4   start_station        33198 non-null  int64  \n",
      " 5   start_lat            33198 non-null  float64\n",
      " 6   start_lon            33198 non-null  float64\n",
      " 7   end_station          33198 non-null  int64  \n",
      " 8   end_lat              33198 non-null  float64\n",
      " 9   end_lon              33198 non-null  float64\n",
      " 10  bike_id              33198 non-null  object \n",
      " 11  plan_duration        32894 non-null  float64\n",
      " 12  trip_route_category  33198 non-null  object \n",
      " 13  passholder_type      33198 non-null  object \n",
      "dtypes: float64(5), int64(4), object(5)\n",
      "memory usage: 3.8+ MB\n"
     ]
    }
   ],
   "source": [
    "df_without_3000.info()"
   ]
  },
  {
   "cell_type": "code",
   "execution_count": 47,
   "metadata": {
    "ExecuteTime": {
     "end_time": "2020-10-01T20:51:24.138177Z",
     "start_time": "2020-10-01T20:51:24.134168Z"
    }
   },
   "outputs": [],
   "source": [
    "df_position = df_without_3000[[\"start_lat\", \"start_lon\", \"end_lat\", \"end_lon\"]]"
   ]
  },
  {
   "cell_type": "code",
   "execution_count": 48,
   "metadata": {
    "ExecuteTime": {
     "end_time": "2020-10-01T20:51:24.143343Z",
     "start_time": "2020-10-01T20:51:24.140221Z"
    }
   },
   "outputs": [],
   "source": [
    "df_position_isnull = df_position.isnull()"
   ]
  },
  {
   "cell_type": "code",
   "execution_count": 49,
   "metadata": {
    "ExecuteTime": {
     "end_time": "2020-10-01T20:51:24.149291Z",
     "start_time": "2020-10-01T20:51:24.145513Z"
    }
   },
   "outputs": [],
   "source": [
    "index_station_without_position = df_position_isnull[df_position_isnull.any(axis=1)].index"
   ]
  },
  {
   "cell_type": "code",
   "execution_count": 50,
   "metadata": {
    "ExecuteTime": {
     "end_time": "2020-10-01T20:51:24.159440Z",
     "start_time": "2020-10-01T20:51:24.151259Z"
    }
   },
   "outputs": [],
   "source": [
    "df_clean = df_without_3000.drop(index_station_without_position)"
   ]
  },
  {
   "cell_type": "code",
   "execution_count": 51,
   "metadata": {
    "ExecuteTime": {
     "end_time": "2020-10-01T20:51:24.174389Z",
     "start_time": "2020-10-01T20:51:24.161004Z"
    },
    "scrolled": true
   },
   "outputs": [
    {
     "data": {
      "text/plain": [
       "trip_id                False\n",
       "duration               False\n",
       "start_time             False\n",
       "end_time               False\n",
       "start_station          False\n",
       "start_lat              False\n",
       "start_lon              False\n",
       "end_station            False\n",
       "end_lat                False\n",
       "end_lon                False\n",
       "bike_id                False\n",
       "plan_duration           True\n",
       "trip_route_category    False\n",
       "passholder_type        False\n",
       "dtype: bool"
      ]
     },
     "execution_count": 51,
     "metadata": {},
     "output_type": "execute_result"
    }
   ],
   "source": [
    "dpu.df_has_nan(df_clean)"
   ]
  },
  {
   "cell_type": "code",
   "execution_count": 52,
   "metadata": {
    "ExecuteTime": {
     "end_time": "2020-10-01T20:51:24.184305Z",
     "start_time": "2020-10-01T20:51:24.176623Z"
    }
   },
   "outputs": [
    {
     "data": {
      "text/plain": [
       "'1/1/2017 0:15'"
      ]
     },
     "execution_count": 52,
     "metadata": {},
     "output_type": "execute_result"
    }
   ],
   "source": [
    "time_need_check = list(df_clean.start_time)[0]\n",
    "time_need_check"
   ]
  },
  {
   "cell_type": "code",
   "execution_count": 53,
   "metadata": {
    "ExecuteTime": {
     "end_time": "2020-10-01T20:51:24.191128Z",
     "start_time": "2020-10-01T20:51:24.186536Z"
    }
   },
   "outputs": [
    {
     "data": {
      "text/plain": [
       "False"
      ]
     },
     "execution_count": 53,
     "metadata": {},
     "output_type": "execute_result"
    }
   ],
   "source": [
    "time_format_need_change = dpu.is_time_format(time_need_check, t_format_check)\n",
    "time_format_need_change"
   ]
  },
  {
   "cell_type": "code",
   "execution_count": 54,
   "metadata": {
    "ExecuteTime": {
     "end_time": "2020-10-01T20:51:24.196785Z",
     "start_time": "2020-10-01T20:51:24.193417Z"
    }
   },
   "outputs": [],
   "source": [
    "if time_format_need_change:\n",
    "    df_clean[[\"start_time\", \"end_time\"]] = df_clean[[\"start_time\", \"end_time\"]].applymap(lambda ts: dpu.change_time_format(ts, t_format_check, t_format_output))"
   ]
  },
  {
   "cell_type": "code",
   "execution_count": 55,
   "metadata": {
    "ExecuteTime": {
     "end_time": "2020-10-01T20:51:24.217219Z",
     "start_time": "2020-10-01T20:51:24.199417Z"
    }
   },
   "outputs": [
    {
     "data": {
      "text/html": [
       "<div>\n",
       "<style scoped>\n",
       "    .dataframe tbody tr th:only-of-type {\n",
       "        vertical-align: middle;\n",
       "    }\n",
       "\n",
       "    .dataframe tbody tr th {\n",
       "        vertical-align: top;\n",
       "    }\n",
       "\n",
       "    .dataframe thead th {\n",
       "        text-align: right;\n",
       "    }\n",
       "</style>\n",
       "<table border=\"1\" class=\"dataframe\">\n",
       "  <thead>\n",
       "    <tr style=\"text-align: right;\">\n",
       "      <th></th>\n",
       "      <th>trip_id</th>\n",
       "      <th>duration</th>\n",
       "      <th>start_time</th>\n",
       "      <th>end_time</th>\n",
       "      <th>start_station</th>\n",
       "      <th>start_lat</th>\n",
       "      <th>start_lon</th>\n",
       "      <th>end_station</th>\n",
       "      <th>end_lat</th>\n",
       "      <th>end_lon</th>\n",
       "      <th>bike_id</th>\n",
       "      <th>plan_duration</th>\n",
       "      <th>trip_route_category</th>\n",
       "      <th>passholder_type</th>\n",
       "    </tr>\n",
       "  </thead>\n",
       "  <tbody>\n",
       "    <tr>\n",
       "      <th>0</th>\n",
       "      <td>17059131</td>\n",
       "      <td>480</td>\n",
       "      <td>1/1/2017 0:15</td>\n",
       "      <td>1/1/2017 0:23</td>\n",
       "      <td>3030</td>\n",
       "      <td>34.051941</td>\n",
       "      <td>-118.243530</td>\n",
       "      <td>3029</td>\n",
       "      <td>34.048851</td>\n",
       "      <td>-118.246422</td>\n",
       "      <td>6220</td>\n",
       "      <td>30.0</td>\n",
       "      <td>One Way</td>\n",
       "      <td>Monthly Pass</td>\n",
       "    </tr>\n",
       "    <tr>\n",
       "      <th>1</th>\n",
       "      <td>17059130</td>\n",
       "      <td>720</td>\n",
       "      <td>1/1/2017 0:24</td>\n",
       "      <td>1/1/2017 0:36</td>\n",
       "      <td>3028</td>\n",
       "      <td>34.058319</td>\n",
       "      <td>-118.246094</td>\n",
       "      <td>3028</td>\n",
       "      <td>34.058319</td>\n",
       "      <td>-118.246094</td>\n",
       "      <td>6351</td>\n",
       "      <td>0.0</td>\n",
       "      <td>Round Trip</td>\n",
       "      <td>Walk-up</td>\n",
       "    </tr>\n",
       "    <tr>\n",
       "      <th>2</th>\n",
       "      <td>17059129</td>\n",
       "      <td>1020</td>\n",
       "      <td>1/1/2017 0:28</td>\n",
       "      <td>1/1/2017 0:45</td>\n",
       "      <td>3027</td>\n",
       "      <td>34.049980</td>\n",
       "      <td>-118.247162</td>\n",
       "      <td>3018</td>\n",
       "      <td>34.043732</td>\n",
       "      <td>-118.260139</td>\n",
       "      <td>5836</td>\n",
       "      <td>0.0</td>\n",
       "      <td>One Way</td>\n",
       "      <td>Walk-up</td>\n",
       "    </tr>\n",
       "    <tr>\n",
       "      <th>3</th>\n",
       "      <td>17059128</td>\n",
       "      <td>300</td>\n",
       "      <td>1/1/2017 0:38</td>\n",
       "      <td>1/1/2017 0:43</td>\n",
       "      <td>3007</td>\n",
       "      <td>34.050480</td>\n",
       "      <td>-118.254593</td>\n",
       "      <td>3031</td>\n",
       "      <td>34.044701</td>\n",
       "      <td>-118.252441</td>\n",
       "      <td>6142</td>\n",
       "      <td>30.0</td>\n",
       "      <td>One Way</td>\n",
       "      <td>Monthly Pass</td>\n",
       "    </tr>\n",
       "    <tr>\n",
       "      <th>4</th>\n",
       "      <td>17059127</td>\n",
       "      <td>300</td>\n",
       "      <td>1/1/2017 0:38</td>\n",
       "      <td>1/1/2017 0:43</td>\n",
       "      <td>3007</td>\n",
       "      <td>34.050480</td>\n",
       "      <td>-118.254593</td>\n",
       "      <td>3031</td>\n",
       "      <td>34.044701</td>\n",
       "      <td>-118.252441</td>\n",
       "      <td>6135</td>\n",
       "      <td>30.0</td>\n",
       "      <td>One Way</td>\n",
       "      <td>Monthly Pass</td>\n",
       "    </tr>\n",
       "  </tbody>\n",
       "</table>\n",
       "</div>"
      ],
      "text/plain": [
       "    trip_id  duration     start_time       end_time  start_station  start_lat  \\\n",
       "0  17059131       480  1/1/2017 0:15  1/1/2017 0:23           3030  34.051941   \n",
       "1  17059130       720  1/1/2017 0:24  1/1/2017 0:36           3028  34.058319   \n",
       "2  17059129      1020  1/1/2017 0:28  1/1/2017 0:45           3027  34.049980   \n",
       "3  17059128       300  1/1/2017 0:38  1/1/2017 0:43           3007  34.050480   \n",
       "4  17059127       300  1/1/2017 0:38  1/1/2017 0:43           3007  34.050480   \n",
       "\n",
       "    start_lon  end_station    end_lat     end_lon bike_id  plan_duration  \\\n",
       "0 -118.243530         3029  34.048851 -118.246422    6220           30.0   \n",
       "1 -118.246094         3028  34.058319 -118.246094    6351            0.0   \n",
       "2 -118.247162         3018  34.043732 -118.260139    5836            0.0   \n",
       "3 -118.254593         3031  34.044701 -118.252441    6142           30.0   \n",
       "4 -118.254593         3031  34.044701 -118.252441    6135           30.0   \n",
       "\n",
       "  trip_route_category passholder_type  \n",
       "0             One Way    Monthly Pass  \n",
       "1          Round Trip         Walk-up  \n",
       "2             One Way         Walk-up  \n",
       "3             One Way    Monthly Pass  \n",
       "4             One Way    Monthly Pass  "
      ]
     },
     "execution_count": 55,
     "metadata": {},
     "output_type": "execute_result"
    }
   ],
   "source": [
    "df_clean.head(5)"
   ]
  },
  {
   "cell_type": "code",
   "execution_count": 56,
   "metadata": {
    "ExecuteTime": {
     "end_time": "2020-10-01T20:51:24.570627Z",
     "start_time": "2020-10-01T20:51:24.219274Z"
    }
   },
   "outputs": [],
   "source": [
    "df_clean.to_csv(output_filepath, index=False)"
   ]
  },
  {
   "cell_type": "code",
   "execution_count": null,
   "metadata": {},
   "outputs": [],
   "source": []
  },
  {
   "cell_type": "markdown",
   "metadata": {},
   "source": [
    "## process 2017 q2"
   ]
  },
  {
   "cell_type": "code",
   "execution_count": 57,
   "metadata": {
    "ExecuteTime": {
     "end_time": "2020-10-01T20:51:24.575264Z",
     "start_time": "2020-10-01T20:51:24.572724Z"
    }
   },
   "outputs": [],
   "source": [
    "year_q = (17, 2)"
   ]
  },
  {
   "cell_type": "code",
   "execution_count": 58,
   "metadata": {
    "ExecuteTime": {
     "end_time": "2020-10-01T20:51:24.580939Z",
     "start_time": "2020-10-01T20:51:24.577238Z"
    }
   },
   "outputs": [
    {
     "data": {
      "text/plain": [
       "'./rawdata/metro-bike-2017-q2.csv'"
      ]
     },
     "execution_count": 58,
     "metadata": {},
     "output_type": "execute_result"
    }
   ],
   "source": [
    "raw_filepath = \"./rawdata/metro-bike-20%s-q%d.csv\" % year_q\n",
    "output_filepath = \"./processed_data/metro-bike-20%s-q%d.csv\" % year_q\n",
    "raw_filepath"
   ]
  },
  {
   "cell_type": "code",
   "execution_count": 59,
   "metadata": {
    "ExecuteTime": {
     "end_time": "2020-10-01T20:51:24.723162Z",
     "start_time": "2020-10-01T20:51:24.582722Z"
    }
   },
   "outputs": [],
   "source": [
    "df = pd.read_csv(raw_filepath)"
   ]
  },
  {
   "cell_type": "code",
   "execution_count": 60,
   "metadata": {
    "ExecuteTime": {
     "end_time": "2020-10-01T20:51:24.751878Z",
     "start_time": "2020-10-01T20:51:24.725250Z"
    }
   },
   "outputs": [
    {
     "data": {
      "text/html": [
       "<div>\n",
       "<style scoped>\n",
       "    .dataframe tbody tr th:only-of-type {\n",
       "        vertical-align: middle;\n",
       "    }\n",
       "\n",
       "    .dataframe tbody tr th {\n",
       "        vertical-align: top;\n",
       "    }\n",
       "\n",
       "    .dataframe thead th {\n",
       "        text-align: right;\n",
       "    }\n",
       "</style>\n",
       "<table border=\"1\" class=\"dataframe\">\n",
       "  <thead>\n",
       "    <tr style=\"text-align: right;\">\n",
       "      <th></th>\n",
       "      <th>trip_id</th>\n",
       "      <th>duration</th>\n",
       "      <th>start_time</th>\n",
       "      <th>end_time</th>\n",
       "      <th>start_station</th>\n",
       "      <th>start_lat</th>\n",
       "      <th>start_lon</th>\n",
       "      <th>end_station</th>\n",
       "      <th>end_lat</th>\n",
       "      <th>end_lon</th>\n",
       "      <th>bike_id</th>\n",
       "      <th>plan_duration</th>\n",
       "      <th>trip_route_category</th>\n",
       "      <th>passholder_type</th>\n",
       "    </tr>\n",
       "  </thead>\n",
       "  <tbody>\n",
       "    <tr>\n",
       "      <th>0</th>\n",
       "      <td>32815764</td>\n",
       "      <td>18</td>\n",
       "      <td>2017-06-25 19:53:00</td>\n",
       "      <td>2017-06-25 20:11:00</td>\n",
       "      <td>3047</td>\n",
       "      <td>34.039982</td>\n",
       "      <td>-118.266403</td>\n",
       "      <td>3005</td>\n",
       "      <td>34.048500</td>\n",
       "      <td>-118.258537</td>\n",
       "      <td>4727</td>\n",
       "      <td>30</td>\n",
       "      <td>One Way</td>\n",
       "      <td>Monthly Pass</td>\n",
       "    </tr>\n",
       "    <tr>\n",
       "      <th>1</th>\n",
       "      <td>32821341</td>\n",
       "      <td>25</td>\n",
       "      <td>2017-06-25 20:35:00</td>\n",
       "      <td>2017-06-25 21:00:00</td>\n",
       "      <td>3005</td>\n",
       "      <td>34.048500</td>\n",
       "      <td>-118.258537</td>\n",
       "      <td>3020</td>\n",
       "      <td>34.031052</td>\n",
       "      <td>-118.267090</td>\n",
       "      <td>4727</td>\n",
       "      <td>30</td>\n",
       "      <td>One Way</td>\n",
       "      <td>Monthly Pass</td>\n",
       "    </tr>\n",
       "    <tr>\n",
       "      <th>2</th>\n",
       "      <td>31652471</td>\n",
       "      <td>10</td>\n",
       "      <td>2017-06-16 08:41:00</td>\n",
       "      <td>2017-06-16 08:51:00</td>\n",
       "      <td>3023</td>\n",
       "      <td>34.050911</td>\n",
       "      <td>-118.240967</td>\n",
       "      <td>3005</td>\n",
       "      <td>34.048500</td>\n",
       "      <td>-118.258537</td>\n",
       "      <td>4727</td>\n",
       "      <td>30</td>\n",
       "      <td>One Way</td>\n",
       "      <td>Monthly Pass</td>\n",
       "    </tr>\n",
       "    <tr>\n",
       "      <th>3</th>\n",
       "      <td>31700167</td>\n",
       "      <td>4</td>\n",
       "      <td>2017-06-16 17:39:00</td>\n",
       "      <td>2017-06-16 17:43:00</td>\n",
       "      <td>3005</td>\n",
       "      <td>34.048500</td>\n",
       "      <td>-118.258537</td>\n",
       "      <td>3051</td>\n",
       "      <td>34.045422</td>\n",
       "      <td>-118.253517</td>\n",
       "      <td>4727</td>\n",
       "      <td>30</td>\n",
       "      <td>One Way</td>\n",
       "      <td>Monthly Pass</td>\n",
       "    </tr>\n",
       "    <tr>\n",
       "      <th>4</th>\n",
       "      <td>31717085</td>\n",
       "      <td>17</td>\n",
       "      <td>2017-06-16 20:17:00</td>\n",
       "      <td>2017-06-16 20:34:00</td>\n",
       "      <td>3051</td>\n",
       "      <td>34.045422</td>\n",
       "      <td>-118.253517</td>\n",
       "      <td>3005</td>\n",
       "      <td>34.048500</td>\n",
       "      <td>-118.258537</td>\n",
       "      <td>4727</td>\n",
       "      <td>0</td>\n",
       "      <td>One Way</td>\n",
       "      <td>Walk-up</td>\n",
       "    </tr>\n",
       "    <tr>\n",
       "      <th>...</th>\n",
       "      <td>...</td>\n",
       "      <td>...</td>\n",
       "      <td>...</td>\n",
       "      <td>...</td>\n",
       "      <td>...</td>\n",
       "      <td>...</td>\n",
       "      <td>...</td>\n",
       "      <td>...</td>\n",
       "      <td>...</td>\n",
       "      <td>...</td>\n",
       "      <td>...</td>\n",
       "      <td>...</td>\n",
       "      <td>...</td>\n",
       "      <td>...</td>\n",
       "    </tr>\n",
       "    <tr>\n",
       "      <th>51913</th>\n",
       "      <td>24763845</td>\n",
       "      <td>5</td>\n",
       "      <td>2017-04-12 20:57:00</td>\n",
       "      <td>2017-04-12 21:02:00</td>\n",
       "      <td>3007</td>\n",
       "      <td>34.050480</td>\n",
       "      <td>-118.254593</td>\n",
       "      <td>3031</td>\n",
       "      <td>34.044701</td>\n",
       "      <td>-118.252441</td>\n",
       "      <td>6418</td>\n",
       "      <td>30</td>\n",
       "      <td>One Way</td>\n",
       "      <td>Monthly Pass</td>\n",
       "    </tr>\n",
       "    <tr>\n",
       "      <th>51914</th>\n",
       "      <td>24835328</td>\n",
       "      <td>10</td>\n",
       "      <td>2017-04-13 17:38:00</td>\n",
       "      <td>2017-04-13 17:48:00</td>\n",
       "      <td>3031</td>\n",
       "      <td>34.044701</td>\n",
       "      <td>-118.252441</td>\n",
       "      <td>3034</td>\n",
       "      <td>34.042061</td>\n",
       "      <td>-118.263382</td>\n",
       "      <td>6418</td>\n",
       "      <td>30</td>\n",
       "      <td>One Way</td>\n",
       "      <td>Monthly Pass</td>\n",
       "    </tr>\n",
       "    <tr>\n",
       "      <th>51915</th>\n",
       "      <td>24886519</td>\n",
       "      <td>5</td>\n",
       "      <td>2017-04-14 07:04:00</td>\n",
       "      <td>2017-04-14 07:09:00</td>\n",
       "      <td>3034</td>\n",
       "      <td>34.042061</td>\n",
       "      <td>-118.263382</td>\n",
       "      <td>3035</td>\n",
       "      <td>34.048401</td>\n",
       "      <td>-118.260948</td>\n",
       "      <td>6418</td>\n",
       "      <td>365</td>\n",
       "      <td>One Way</td>\n",
       "      <td>Flex Pass</td>\n",
       "    </tr>\n",
       "    <tr>\n",
       "      <th>51916</th>\n",
       "      <td>24926911</td>\n",
       "      <td>4</td>\n",
       "      <td>2017-04-14 18:06:00</td>\n",
       "      <td>2017-04-14 18:10:00</td>\n",
       "      <td>3038</td>\n",
       "      <td>34.046822</td>\n",
       "      <td>-118.248352</td>\n",
       "      <td>3042</td>\n",
       "      <td>34.049301</td>\n",
       "      <td>-118.238808</td>\n",
       "      <td>6418</td>\n",
       "      <td>30</td>\n",
       "      <td>One Way</td>\n",
       "      <td>Monthly Pass</td>\n",
       "    </tr>\n",
       "    <tr>\n",
       "      <th>51917</th>\n",
       "      <td>25101628</td>\n",
       "      <td>8</td>\n",
       "      <td>2017-04-16 16:46:00</td>\n",
       "      <td>2017-04-16 16:54:00</td>\n",
       "      <td>3068</td>\n",
       "      <td>34.053200</td>\n",
       "      <td>-118.250954</td>\n",
       "      <td>3026</td>\n",
       "      <td>34.063179</td>\n",
       "      <td>-118.245880</td>\n",
       "      <td>6418</td>\n",
       "      <td>365</td>\n",
       "      <td>One Way</td>\n",
       "      <td>Flex Pass</td>\n",
       "    </tr>\n",
       "  </tbody>\n",
       "</table>\n",
       "<p>51918 rows × 14 columns</p>\n",
       "</div>"
      ],
      "text/plain": [
       "        trip_id  duration           start_time             end_time  \\\n",
       "0      32815764        18  2017-06-25 19:53:00  2017-06-25 20:11:00   \n",
       "1      32821341        25  2017-06-25 20:35:00  2017-06-25 21:00:00   \n",
       "2      31652471        10  2017-06-16 08:41:00  2017-06-16 08:51:00   \n",
       "3      31700167         4  2017-06-16 17:39:00  2017-06-16 17:43:00   \n",
       "4      31717085        17  2017-06-16 20:17:00  2017-06-16 20:34:00   \n",
       "...         ...       ...                  ...                  ...   \n",
       "51913  24763845         5  2017-04-12 20:57:00  2017-04-12 21:02:00   \n",
       "51914  24835328        10  2017-04-13 17:38:00  2017-04-13 17:48:00   \n",
       "51915  24886519         5  2017-04-14 07:04:00  2017-04-14 07:09:00   \n",
       "51916  24926911         4  2017-04-14 18:06:00  2017-04-14 18:10:00   \n",
       "51917  25101628         8  2017-04-16 16:46:00  2017-04-16 16:54:00   \n",
       "\n",
       "       start_station  start_lat   start_lon  end_station    end_lat  \\\n",
       "0               3047  34.039982 -118.266403         3005  34.048500   \n",
       "1               3005  34.048500 -118.258537         3020  34.031052   \n",
       "2               3023  34.050911 -118.240967         3005  34.048500   \n",
       "3               3005  34.048500 -118.258537         3051  34.045422   \n",
       "4               3051  34.045422 -118.253517         3005  34.048500   \n",
       "...              ...        ...         ...          ...        ...   \n",
       "51913           3007  34.050480 -118.254593         3031  34.044701   \n",
       "51914           3031  34.044701 -118.252441         3034  34.042061   \n",
       "51915           3034  34.042061 -118.263382         3035  34.048401   \n",
       "51916           3038  34.046822 -118.248352         3042  34.049301   \n",
       "51917           3068  34.053200 -118.250954         3026  34.063179   \n",
       "\n",
       "          end_lon  bike_id  plan_duration trip_route_category passholder_type  \n",
       "0     -118.258537     4727             30             One Way    Monthly Pass  \n",
       "1     -118.267090     4727             30             One Way    Monthly Pass  \n",
       "2     -118.258537     4727             30             One Way    Monthly Pass  \n",
       "3     -118.253517     4727             30             One Way    Monthly Pass  \n",
       "4     -118.258537     4727              0             One Way         Walk-up  \n",
       "...           ...      ...            ...                 ...             ...  \n",
       "51913 -118.252441     6418             30             One Way    Monthly Pass  \n",
       "51914 -118.263382     6418             30             One Way    Monthly Pass  \n",
       "51915 -118.260948     6418            365             One Way       Flex Pass  \n",
       "51916 -118.238808     6418             30             One Way    Monthly Pass  \n",
       "51917 -118.245880     6418            365             One Way       Flex Pass  \n",
       "\n",
       "[51918 rows x 14 columns]"
      ]
     },
     "execution_count": 60,
     "metadata": {},
     "output_type": "execute_result"
    }
   ],
   "source": [
    "df"
   ]
  },
  {
   "cell_type": "code",
   "execution_count": 61,
   "metadata": {
    "ExecuteTime": {
     "end_time": "2020-10-01T20:51:24.757383Z",
     "start_time": "2020-10-01T20:51:24.755152Z"
    }
   },
   "outputs": [],
   "source": [
    "# df = df.rename(columns = {'start_station_id': 'start_station', 'end_station_id': 'end_station'})\n",
    "# df.columns"
   ]
  },
  {
   "cell_type": "code",
   "execution_count": 62,
   "metadata": {
    "ExecuteTime": {
     "end_time": "2020-10-01T20:51:24.766927Z",
     "start_time": "2020-10-01T20:51:24.759926Z"
    }
   },
   "outputs": [],
   "source": [
    "s1 = df.start_station == 3000\n",
    "s2 = df.end_station == 3000\n",
    "index3000 = df[s1 | s2].index"
   ]
  },
  {
   "cell_type": "code",
   "execution_count": 63,
   "metadata": {
    "ExecuteTime": {
     "end_time": "2020-10-01T20:51:24.780617Z",
     "start_time": "2020-10-01T20:51:24.769098Z"
    }
   },
   "outputs": [],
   "source": [
    "df_without_3000 = df.drop(index3000)"
   ]
  },
  {
   "cell_type": "code",
   "execution_count": 64,
   "metadata": {
    "ExecuteTime": {
     "end_time": "2020-10-01T20:51:24.802356Z",
     "start_time": "2020-10-01T20:51:24.782784Z"
    }
   },
   "outputs": [
    {
     "name": "stdout",
     "output_type": "stream",
     "text": [
      "<class 'pandas.core.frame.DataFrame'>\n",
      "Int64Index: 51099 entries, 0 to 51917\n",
      "Data columns (total 14 columns):\n",
      " #   Column               Non-Null Count  Dtype  \n",
      "---  ------               --------------  -----  \n",
      " 0   trip_id              51099 non-null  int64  \n",
      " 1   duration             51099 non-null  int64  \n",
      " 2   start_time           51099 non-null  object \n",
      " 3   end_time             51099 non-null  object \n",
      " 4   start_station        51099 non-null  int64  \n",
      " 5   start_lat            51099 non-null  float64\n",
      " 6   start_lon            51099 non-null  float64\n",
      " 7   end_station          51099 non-null  int64  \n",
      " 8   end_lat              51099 non-null  float64\n",
      " 9   end_lon              51099 non-null  float64\n",
      " 10  bike_id              51099 non-null  int64  \n",
      " 11  plan_duration        51099 non-null  int64  \n",
      " 12  trip_route_category  51099 non-null  object \n",
      " 13  passholder_type      51099 non-null  object \n",
      "dtypes: float64(4), int64(6), object(4)\n",
      "memory usage: 5.8+ MB\n"
     ]
    }
   ],
   "source": [
    "df_without_3000.info()"
   ]
  },
  {
   "cell_type": "code",
   "execution_count": 65,
   "metadata": {
    "ExecuteTime": {
     "end_time": "2020-10-01T20:51:24.809454Z",
     "start_time": "2020-10-01T20:51:24.804565Z"
    }
   },
   "outputs": [],
   "source": [
    "df_position = df_without_3000[[\"start_lat\", \"start_lon\", \"end_lat\", \"end_lon\"]]"
   ]
  },
  {
   "cell_type": "code",
   "execution_count": 66,
   "metadata": {
    "ExecuteTime": {
     "end_time": "2020-10-01T20:51:24.814826Z",
     "start_time": "2020-10-01T20:51:24.811677Z"
    }
   },
   "outputs": [],
   "source": [
    "df_position_isnull = df_position.isnull()"
   ]
  },
  {
   "cell_type": "code",
   "execution_count": 67,
   "metadata": {
    "ExecuteTime": {
     "end_time": "2020-10-01T20:51:24.822149Z",
     "start_time": "2020-10-01T20:51:24.817487Z"
    }
   },
   "outputs": [],
   "source": [
    "index_station_without_position = df_position_isnull[df_position_isnull.any(axis=1)].index"
   ]
  },
  {
   "cell_type": "code",
   "execution_count": 68,
   "metadata": {
    "ExecuteTime": {
     "end_time": "2020-10-01T20:51:24.854285Z",
     "start_time": "2020-10-01T20:51:24.839286Z"
    }
   },
   "outputs": [],
   "source": [
    "df_clean = df_without_3000.drop(index_station_without_position)"
   ]
  },
  {
   "cell_type": "code",
   "execution_count": 69,
   "metadata": {
    "ExecuteTime": {
     "end_time": "2020-10-01T20:51:24.878497Z",
     "start_time": "2020-10-01T20:51:24.863288Z"
    },
    "scrolled": true
   },
   "outputs": [
    {
     "data": {
      "text/plain": [
       "trip_id                False\n",
       "duration               False\n",
       "start_time             False\n",
       "end_time               False\n",
       "start_station          False\n",
       "start_lat              False\n",
       "start_lon              False\n",
       "end_station            False\n",
       "end_lat                False\n",
       "end_lon                False\n",
       "bike_id                False\n",
       "plan_duration          False\n",
       "trip_route_category    False\n",
       "passholder_type        False\n",
       "dtype: bool"
      ]
     },
     "execution_count": 69,
     "metadata": {},
     "output_type": "execute_result"
    }
   ],
   "source": [
    "dpu.df_has_nan(df_clean)"
   ]
  },
  {
   "cell_type": "code",
   "execution_count": 70,
   "metadata": {
    "ExecuteTime": {
     "end_time": "2020-10-01T20:51:24.890762Z",
     "start_time": "2020-10-01T20:51:24.880285Z"
    }
   },
   "outputs": [
    {
     "data": {
      "text/plain": [
       "'2017-06-25 19:53:00'"
      ]
     },
     "execution_count": 70,
     "metadata": {},
     "output_type": "execute_result"
    }
   ],
   "source": [
    "time_need_check = list(df_clean.start_time)[0]\n",
    "time_need_check"
   ]
  },
  {
   "cell_type": "code",
   "execution_count": 71,
   "metadata": {
    "ExecuteTime": {
     "end_time": "2020-10-01T20:51:24.896637Z",
     "start_time": "2020-10-01T20:51:24.892693Z"
    }
   },
   "outputs": [
    {
     "data": {
      "text/plain": [
       "True"
      ]
     },
     "execution_count": 71,
     "metadata": {},
     "output_type": "execute_result"
    }
   ],
   "source": [
    "time_format_need_change = dpu.is_time_format(time_need_check, t_format_check)\n",
    "time_format_need_change"
   ]
  },
  {
   "cell_type": "code",
   "execution_count": 72,
   "metadata": {
    "ExecuteTime": {
     "end_time": "2020-10-01T20:51:27.119012Z",
     "start_time": "2020-10-01T20:51:24.899312Z"
    }
   },
   "outputs": [],
   "source": [
    "if time_format_need_change:\n",
    "    df_clean[[\"start_time\", \"end_time\"]] = df_clean[[\"start_time\", \"end_time\"]].applymap(lambda ts: dpu.change_time_format(ts, t_format_check, t_format_output))"
   ]
  },
  {
   "cell_type": "code",
   "execution_count": 73,
   "metadata": {
    "ExecuteTime": {
     "end_time": "2020-10-01T20:51:27.135670Z",
     "start_time": "2020-10-01T20:51:27.120866Z"
    }
   },
   "outputs": [
    {
     "data": {
      "text/html": [
       "<div>\n",
       "<style scoped>\n",
       "    .dataframe tbody tr th:only-of-type {\n",
       "        vertical-align: middle;\n",
       "    }\n",
       "\n",
       "    .dataframe tbody tr th {\n",
       "        vertical-align: top;\n",
       "    }\n",
       "\n",
       "    .dataframe thead th {\n",
       "        text-align: right;\n",
       "    }\n",
       "</style>\n",
       "<table border=\"1\" class=\"dataframe\">\n",
       "  <thead>\n",
       "    <tr style=\"text-align: right;\">\n",
       "      <th></th>\n",
       "      <th>trip_id</th>\n",
       "      <th>duration</th>\n",
       "      <th>start_time</th>\n",
       "      <th>end_time</th>\n",
       "      <th>start_station</th>\n",
       "      <th>start_lat</th>\n",
       "      <th>start_lon</th>\n",
       "      <th>end_station</th>\n",
       "      <th>end_lat</th>\n",
       "      <th>end_lon</th>\n",
       "      <th>bike_id</th>\n",
       "      <th>plan_duration</th>\n",
       "      <th>trip_route_category</th>\n",
       "      <th>passholder_type</th>\n",
       "    </tr>\n",
       "  </thead>\n",
       "  <tbody>\n",
       "    <tr>\n",
       "      <th>0</th>\n",
       "      <td>32815764</td>\n",
       "      <td>18</td>\n",
       "      <td>06/25/2017 19:53</td>\n",
       "      <td>06/25/2017 20:11</td>\n",
       "      <td>3047</td>\n",
       "      <td>34.039982</td>\n",
       "      <td>-118.266403</td>\n",
       "      <td>3005</td>\n",
       "      <td>34.048500</td>\n",
       "      <td>-118.258537</td>\n",
       "      <td>4727</td>\n",
       "      <td>30</td>\n",
       "      <td>One Way</td>\n",
       "      <td>Monthly Pass</td>\n",
       "    </tr>\n",
       "    <tr>\n",
       "      <th>1</th>\n",
       "      <td>32821341</td>\n",
       "      <td>25</td>\n",
       "      <td>06/25/2017 20:35</td>\n",
       "      <td>06/25/2017 21:00</td>\n",
       "      <td>3005</td>\n",
       "      <td>34.048500</td>\n",
       "      <td>-118.258537</td>\n",
       "      <td>3020</td>\n",
       "      <td>34.031052</td>\n",
       "      <td>-118.267090</td>\n",
       "      <td>4727</td>\n",
       "      <td>30</td>\n",
       "      <td>One Way</td>\n",
       "      <td>Monthly Pass</td>\n",
       "    </tr>\n",
       "    <tr>\n",
       "      <th>2</th>\n",
       "      <td>31652471</td>\n",
       "      <td>10</td>\n",
       "      <td>06/16/2017 08:41</td>\n",
       "      <td>06/16/2017 08:51</td>\n",
       "      <td>3023</td>\n",
       "      <td>34.050911</td>\n",
       "      <td>-118.240967</td>\n",
       "      <td>3005</td>\n",
       "      <td>34.048500</td>\n",
       "      <td>-118.258537</td>\n",
       "      <td>4727</td>\n",
       "      <td>30</td>\n",
       "      <td>One Way</td>\n",
       "      <td>Monthly Pass</td>\n",
       "    </tr>\n",
       "    <tr>\n",
       "      <th>3</th>\n",
       "      <td>31700167</td>\n",
       "      <td>4</td>\n",
       "      <td>06/16/2017 17:39</td>\n",
       "      <td>06/16/2017 17:43</td>\n",
       "      <td>3005</td>\n",
       "      <td>34.048500</td>\n",
       "      <td>-118.258537</td>\n",
       "      <td>3051</td>\n",
       "      <td>34.045422</td>\n",
       "      <td>-118.253517</td>\n",
       "      <td>4727</td>\n",
       "      <td>30</td>\n",
       "      <td>One Way</td>\n",
       "      <td>Monthly Pass</td>\n",
       "    </tr>\n",
       "    <tr>\n",
       "      <th>4</th>\n",
       "      <td>31717085</td>\n",
       "      <td>17</td>\n",
       "      <td>06/16/2017 20:17</td>\n",
       "      <td>06/16/2017 20:34</td>\n",
       "      <td>3051</td>\n",
       "      <td>34.045422</td>\n",
       "      <td>-118.253517</td>\n",
       "      <td>3005</td>\n",
       "      <td>34.048500</td>\n",
       "      <td>-118.258537</td>\n",
       "      <td>4727</td>\n",
       "      <td>0</td>\n",
       "      <td>One Way</td>\n",
       "      <td>Walk-up</td>\n",
       "    </tr>\n",
       "  </tbody>\n",
       "</table>\n",
       "</div>"
      ],
      "text/plain": [
       "    trip_id  duration        start_time          end_time  start_station  \\\n",
       "0  32815764        18  06/25/2017 19:53  06/25/2017 20:11           3047   \n",
       "1  32821341        25  06/25/2017 20:35  06/25/2017 21:00           3005   \n",
       "2  31652471        10  06/16/2017 08:41  06/16/2017 08:51           3023   \n",
       "3  31700167         4  06/16/2017 17:39  06/16/2017 17:43           3005   \n",
       "4  31717085        17  06/16/2017 20:17  06/16/2017 20:34           3051   \n",
       "\n",
       "   start_lat   start_lon  end_station    end_lat     end_lon  bike_id  \\\n",
       "0  34.039982 -118.266403         3005  34.048500 -118.258537     4727   \n",
       "1  34.048500 -118.258537         3020  34.031052 -118.267090     4727   \n",
       "2  34.050911 -118.240967         3005  34.048500 -118.258537     4727   \n",
       "3  34.048500 -118.258537         3051  34.045422 -118.253517     4727   \n",
       "4  34.045422 -118.253517         3005  34.048500 -118.258537     4727   \n",
       "\n",
       "   plan_duration trip_route_category passholder_type  \n",
       "0             30             One Way    Monthly Pass  \n",
       "1             30             One Way    Monthly Pass  \n",
       "2             30             One Way    Monthly Pass  \n",
       "3             30             One Way    Monthly Pass  \n",
       "4              0             One Way         Walk-up  "
      ]
     },
     "execution_count": 73,
     "metadata": {},
     "output_type": "execute_result"
    }
   ],
   "source": [
    "df_clean.head(5)"
   ]
  },
  {
   "cell_type": "code",
   "execution_count": 74,
   "metadata": {
    "ExecuteTime": {
     "end_time": "2020-10-01T20:51:27.636626Z",
     "start_time": "2020-10-01T20:51:27.138118Z"
    }
   },
   "outputs": [],
   "source": [
    "df_clean.to_csv(output_filepath, index=False)"
   ]
  },
  {
   "cell_type": "code",
   "execution_count": null,
   "metadata": {},
   "outputs": [],
   "source": []
  },
  {
   "cell_type": "markdown",
   "metadata": {},
   "source": [
    "## process 2017 q3"
   ]
  },
  {
   "cell_type": "code",
   "execution_count": 75,
   "metadata": {
    "ExecuteTime": {
     "end_time": "2020-10-01T20:51:27.640862Z",
     "start_time": "2020-10-01T20:51:27.638535Z"
    }
   },
   "outputs": [],
   "source": [
    "year_q = (17, 3)"
   ]
  },
  {
   "cell_type": "code",
   "execution_count": 76,
   "metadata": {
    "ExecuteTime": {
     "end_time": "2020-10-01T20:51:27.646981Z",
     "start_time": "2020-10-01T20:51:27.643009Z"
    }
   },
   "outputs": [
    {
     "data": {
      "text/plain": [
       "'./rawdata/metro-bike-2017-q3.csv'"
      ]
     },
     "execution_count": 76,
     "metadata": {},
     "output_type": "execute_result"
    }
   ],
   "source": [
    "raw_filepath = \"./rawdata/metro-bike-20%s-q%d.csv\" % year_q\n",
    "output_filepath = \"./processed_data/metro-bike-20%s-q%d.csv\" % year_q\n",
    "raw_filepath"
   ]
  },
  {
   "cell_type": "code",
   "execution_count": 77,
   "metadata": {
    "ExecuteTime": {
     "end_time": "2020-10-01T20:51:27.838817Z",
     "start_time": "2020-10-01T20:51:27.649046Z"
    }
   },
   "outputs": [],
   "source": [
    "df = pd.read_csv(raw_filepath)"
   ]
  },
  {
   "cell_type": "code",
   "execution_count": 78,
   "metadata": {
    "ExecuteTime": {
     "end_time": "2020-10-01T20:51:27.867458Z",
     "start_time": "2020-10-01T20:51:27.840828Z"
    }
   },
   "outputs": [
    {
     "data": {
      "text/html": [
       "<div>\n",
       "<style scoped>\n",
       "    .dataframe tbody tr th:only-of-type {\n",
       "        vertical-align: middle;\n",
       "    }\n",
       "\n",
       "    .dataframe tbody tr th {\n",
       "        vertical-align: top;\n",
       "    }\n",
       "\n",
       "    .dataframe thead th {\n",
       "        text-align: right;\n",
       "    }\n",
       "</style>\n",
       "<table border=\"1\" class=\"dataframe\">\n",
       "  <thead>\n",
       "    <tr style=\"text-align: right;\">\n",
       "      <th></th>\n",
       "      <th>trip_id</th>\n",
       "      <th>duration</th>\n",
       "      <th>start_time</th>\n",
       "      <th>end_time</th>\n",
       "      <th>start_station</th>\n",
       "      <th>start_lat</th>\n",
       "      <th>start_lon</th>\n",
       "      <th>end_station</th>\n",
       "      <th>end_lat</th>\n",
       "      <th>end_lon</th>\n",
       "      <th>bike_id</th>\n",
       "      <th>plan_duration</th>\n",
       "      <th>trip_route_category</th>\n",
       "      <th>passholder_type</th>\n",
       "    </tr>\n",
       "  </thead>\n",
       "  <tbody>\n",
       "    <tr>\n",
       "      <th>0</th>\n",
       "      <td>33404951</td>\n",
       "      <td>36</td>\n",
       "      <td>7/1/2017 0:09</td>\n",
       "      <td>7/1/2017 0:45</td>\n",
       "      <td>3018</td>\n",
       "      <td>34.043732</td>\n",
       "      <td>-118.260139</td>\n",
       "      <td>3018</td>\n",
       "      <td>34.043732</td>\n",
       "      <td>-118.260139</td>\n",
       "      <td>5996</td>\n",
       "      <td>0</td>\n",
       "      <td>Round Trip</td>\n",
       "      <td>Walk-up</td>\n",
       "    </tr>\n",
       "    <tr>\n",
       "      <th>1</th>\n",
       "      <td>33404950</td>\n",
       "      <td>13</td>\n",
       "      <td>7/1/2017 0:10</td>\n",
       "      <td>7/1/2017 0:23</td>\n",
       "      <td>3055</td>\n",
       "      <td>34.044159</td>\n",
       "      <td>-118.251579</td>\n",
       "      <td>3082</td>\n",
       "      <td>34.046520</td>\n",
       "      <td>-118.237411</td>\n",
       "      <td>5777</td>\n",
       "      <td>0</td>\n",
       "      <td>One Way</td>\n",
       "      <td>Walk-up</td>\n",
       "    </tr>\n",
       "    <tr>\n",
       "      <th>2</th>\n",
       "      <td>33404947</td>\n",
       "      <td>34</td>\n",
       "      <td>7/1/2017 0:11</td>\n",
       "      <td>7/1/2017 0:45</td>\n",
       "      <td>3018</td>\n",
       "      <td>34.043732</td>\n",
       "      <td>-118.260139</td>\n",
       "      <td>3018</td>\n",
       "      <td>34.043732</td>\n",
       "      <td>-118.260139</td>\n",
       "      <td>6342</td>\n",
       "      <td>0</td>\n",
       "      <td>Round Trip</td>\n",
       "      <td>Walk-up</td>\n",
       "    </tr>\n",
       "    <tr>\n",
       "      <th>3</th>\n",
       "      <td>33404948</td>\n",
       "      <td>34</td>\n",
       "      <td>7/1/2017 0:11</td>\n",
       "      <td>7/1/2017 0:45</td>\n",
       "      <td>3018</td>\n",
       "      <td>34.043732</td>\n",
       "      <td>-118.260139</td>\n",
       "      <td>3018</td>\n",
       "      <td>34.043732</td>\n",
       "      <td>-118.260139</td>\n",
       "      <td>6478</td>\n",
       "      <td>0</td>\n",
       "      <td>Round Trip</td>\n",
       "      <td>Walk-up</td>\n",
       "    </tr>\n",
       "    <tr>\n",
       "      <th>4</th>\n",
       "      <td>33404949</td>\n",
       "      <td>12</td>\n",
       "      <td>7/1/2017 0:11</td>\n",
       "      <td>7/1/2017 0:23</td>\n",
       "      <td>3055</td>\n",
       "      <td>34.044159</td>\n",
       "      <td>-118.251579</td>\n",
       "      <td>3082</td>\n",
       "      <td>34.046520</td>\n",
       "      <td>-118.237411</td>\n",
       "      <td>6411</td>\n",
       "      <td>0</td>\n",
       "      <td>One Way</td>\n",
       "      <td>Walk-up</td>\n",
       "    </tr>\n",
       "    <tr>\n",
       "      <th>...</th>\n",
       "      <td>...</td>\n",
       "      <td>...</td>\n",
       "      <td>...</td>\n",
       "      <td>...</td>\n",
       "      <td>...</td>\n",
       "      <td>...</td>\n",
       "      <td>...</td>\n",
       "      <td>...</td>\n",
       "      <td>...</td>\n",
       "      <td>...</td>\n",
       "      <td>...</td>\n",
       "      <td>...</td>\n",
       "      <td>...</td>\n",
       "      <td>...</td>\n",
       "    </tr>\n",
       "    <tr>\n",
       "      <th>72332</th>\n",
       "      <td>49169380</td>\n",
       "      <td>50</td>\n",
       "      <td>9/30/2017 23:38</td>\n",
       "      <td>10/1/2017 0:28</td>\n",
       "      <td>3078</td>\n",
       "      <td>34.064281</td>\n",
       "      <td>-118.238937</td>\n",
       "      <td>3024</td>\n",
       "      <td>34.057720</td>\n",
       "      <td>-118.248970</td>\n",
       "      <td>6611</td>\n",
       "      <td>0</td>\n",
       "      <td>One Way</td>\n",
       "      <td>Walk-up</td>\n",
       "    </tr>\n",
       "    <tr>\n",
       "      <th>72333</th>\n",
       "      <td>49161856</td>\n",
       "      <td>18</td>\n",
       "      <td>9/30/2017 23:39</td>\n",
       "      <td>9/30/2017 23:57</td>\n",
       "      <td>3078</td>\n",
       "      <td>34.064281</td>\n",
       "      <td>-118.238937</td>\n",
       "      <td>3006</td>\n",
       "      <td>34.045540</td>\n",
       "      <td>-118.256668</td>\n",
       "      <td>5976</td>\n",
       "      <td>0</td>\n",
       "      <td>One Way</td>\n",
       "      <td>Walk-up</td>\n",
       "    </tr>\n",
       "    <tr>\n",
       "      <th>72334</th>\n",
       "      <td>49169378</td>\n",
       "      <td>47</td>\n",
       "      <td>9/30/2017 23:40</td>\n",
       "      <td>10/1/2017 0:27</td>\n",
       "      <td>3078</td>\n",
       "      <td>34.064281</td>\n",
       "      <td>-118.238937</td>\n",
       "      <td>3024</td>\n",
       "      <td>34.057720</td>\n",
       "      <td>-118.248970</td>\n",
       "      <td>6083</td>\n",
       "      <td>0</td>\n",
       "      <td>One Way</td>\n",
       "      <td>Walk-up</td>\n",
       "    </tr>\n",
       "    <tr>\n",
       "      <th>72335</th>\n",
       "      <td>49161855</td>\n",
       "      <td>9</td>\n",
       "      <td>9/30/2017 23:45</td>\n",
       "      <td>9/30/2017 23:54</td>\n",
       "      <td>3016</td>\n",
       "      <td>34.052898</td>\n",
       "      <td>-118.241562</td>\n",
       "      <td>3076</td>\n",
       "      <td>34.040600</td>\n",
       "      <td>-118.253838</td>\n",
       "      <td>6446</td>\n",
       "      <td>0</td>\n",
       "      <td>One Way</td>\n",
       "      <td>Walk-up</td>\n",
       "    </tr>\n",
       "    <tr>\n",
       "      <th>72336</th>\n",
       "      <td>49161854</td>\n",
       "      <td>8</td>\n",
       "      <td>9/30/2017 23:46</td>\n",
       "      <td>9/30/2017 23:54</td>\n",
       "      <td>3016</td>\n",
       "      <td>34.052898</td>\n",
       "      <td>-118.241562</td>\n",
       "      <td>3076</td>\n",
       "      <td>34.040600</td>\n",
       "      <td>-118.253838</td>\n",
       "      <td>6458</td>\n",
       "      <td>0</td>\n",
       "      <td>One Way</td>\n",
       "      <td>Walk-up</td>\n",
       "    </tr>\n",
       "  </tbody>\n",
       "</table>\n",
       "<p>72337 rows × 14 columns</p>\n",
       "</div>"
      ],
      "text/plain": [
       "        trip_id  duration       start_time         end_time  start_station  \\\n",
       "0      33404951        36    7/1/2017 0:09    7/1/2017 0:45           3018   \n",
       "1      33404950        13    7/1/2017 0:10    7/1/2017 0:23           3055   \n",
       "2      33404947        34    7/1/2017 0:11    7/1/2017 0:45           3018   \n",
       "3      33404948        34    7/1/2017 0:11    7/1/2017 0:45           3018   \n",
       "4      33404949        12    7/1/2017 0:11    7/1/2017 0:23           3055   \n",
       "...         ...       ...              ...              ...            ...   \n",
       "72332  49169380        50  9/30/2017 23:38   10/1/2017 0:28           3078   \n",
       "72333  49161856        18  9/30/2017 23:39  9/30/2017 23:57           3078   \n",
       "72334  49169378        47  9/30/2017 23:40   10/1/2017 0:27           3078   \n",
       "72335  49161855         9  9/30/2017 23:45  9/30/2017 23:54           3016   \n",
       "72336  49161854         8  9/30/2017 23:46  9/30/2017 23:54           3016   \n",
       "\n",
       "       start_lat   start_lon  end_station    end_lat     end_lon  bike_id  \\\n",
       "0      34.043732 -118.260139         3018  34.043732 -118.260139     5996   \n",
       "1      34.044159 -118.251579         3082  34.046520 -118.237411     5777   \n",
       "2      34.043732 -118.260139         3018  34.043732 -118.260139     6342   \n",
       "3      34.043732 -118.260139         3018  34.043732 -118.260139     6478   \n",
       "4      34.044159 -118.251579         3082  34.046520 -118.237411     6411   \n",
       "...          ...         ...          ...        ...         ...      ...   \n",
       "72332  34.064281 -118.238937         3024  34.057720 -118.248970     6611   \n",
       "72333  34.064281 -118.238937         3006  34.045540 -118.256668     5976   \n",
       "72334  34.064281 -118.238937         3024  34.057720 -118.248970     6083   \n",
       "72335  34.052898 -118.241562         3076  34.040600 -118.253838     6446   \n",
       "72336  34.052898 -118.241562         3076  34.040600 -118.253838     6458   \n",
       "\n",
       "       plan_duration trip_route_category passholder_type  \n",
       "0                  0          Round Trip         Walk-up  \n",
       "1                  0             One Way         Walk-up  \n",
       "2                  0          Round Trip         Walk-up  \n",
       "3                  0          Round Trip         Walk-up  \n",
       "4                  0             One Way         Walk-up  \n",
       "...              ...                 ...             ...  \n",
       "72332              0             One Way         Walk-up  \n",
       "72333              0             One Way         Walk-up  \n",
       "72334              0             One Way         Walk-up  \n",
       "72335              0             One Way         Walk-up  \n",
       "72336              0             One Way         Walk-up  \n",
       "\n",
       "[72337 rows x 14 columns]"
      ]
     },
     "execution_count": 78,
     "metadata": {},
     "output_type": "execute_result"
    }
   ],
   "source": [
    "df"
   ]
  },
  {
   "cell_type": "code",
   "execution_count": 79,
   "metadata": {
    "ExecuteTime": {
     "end_time": "2020-10-01T20:51:27.872093Z",
     "start_time": "2020-10-01T20:51:27.869961Z"
    }
   },
   "outputs": [],
   "source": [
    "# df = df.rename(columns = {'start_station_id': 'start_station', 'end_station_id': 'end_station'})\n",
    "# df.columns"
   ]
  },
  {
   "cell_type": "code",
   "execution_count": 80,
   "metadata": {
    "ExecuteTime": {
     "end_time": "2020-10-01T20:51:27.880386Z",
     "start_time": "2020-10-01T20:51:27.874151Z"
    }
   },
   "outputs": [],
   "source": [
    "s1 = df.start_station == 3000\n",
    "s2 = df.end_station == 3000\n",
    "index3000 = df[s1 | s2].index"
   ]
  },
  {
   "cell_type": "code",
   "execution_count": 81,
   "metadata": {
    "ExecuteTime": {
     "end_time": "2020-10-01T20:51:27.896877Z",
     "start_time": "2020-10-01T20:51:27.882757Z"
    }
   },
   "outputs": [],
   "source": [
    "df_without_3000 = df.drop(index3000)"
   ]
  },
  {
   "cell_type": "code",
   "execution_count": 82,
   "metadata": {
    "ExecuteTime": {
     "end_time": "2020-10-01T20:51:27.923327Z",
     "start_time": "2020-10-01T20:51:27.898976Z"
    }
   },
   "outputs": [
    {
     "name": "stdout",
     "output_type": "stream",
     "text": [
      "<class 'pandas.core.frame.DataFrame'>\n",
      "Int64Index: 71542 entries, 0 to 72336\n",
      "Data columns (total 14 columns):\n",
      " #   Column               Non-Null Count  Dtype  \n",
      "---  ------               --------------  -----  \n",
      " 0   trip_id              71542 non-null  int64  \n",
      " 1   duration             71542 non-null  int64  \n",
      " 2   start_time           71542 non-null  object \n",
      " 3   end_time             71542 non-null  object \n",
      " 4   start_station        71542 non-null  int64  \n",
      " 5   start_lat            71542 non-null  float64\n",
      " 6   start_lon            71542 non-null  float64\n",
      " 7   end_station          71542 non-null  int64  \n",
      " 8   end_lat              71542 non-null  float64\n",
      " 9   end_lon              71542 non-null  float64\n",
      " 10  bike_id              71542 non-null  int64  \n",
      " 11  plan_duration        71542 non-null  int64  \n",
      " 12  trip_route_category  71542 non-null  object \n",
      " 13  passholder_type      71542 non-null  object \n",
      "dtypes: float64(4), int64(6), object(4)\n",
      "memory usage: 8.2+ MB\n"
     ]
    }
   ],
   "source": [
    "df_without_3000.info()"
   ]
  },
  {
   "cell_type": "code",
   "execution_count": 83,
   "metadata": {
    "ExecuteTime": {
     "end_time": "2020-10-01T20:51:27.930147Z",
     "start_time": "2020-10-01T20:51:27.925750Z"
    }
   },
   "outputs": [],
   "source": [
    "df_position = df_without_3000[[\"start_lat\", \"start_lon\", \"end_lat\", \"end_lon\"]]"
   ]
  },
  {
   "cell_type": "code",
   "execution_count": 84,
   "metadata": {
    "ExecuteTime": {
     "end_time": "2020-10-01T20:51:27.935582Z",
     "start_time": "2020-10-01T20:51:27.932266Z"
    }
   },
   "outputs": [],
   "source": [
    "df_position_isnull = df_position.isnull()"
   ]
  },
  {
   "cell_type": "code",
   "execution_count": 85,
   "metadata": {
    "ExecuteTime": {
     "end_time": "2020-10-01T20:51:27.942077Z",
     "start_time": "2020-10-01T20:51:27.938201Z"
    }
   },
   "outputs": [],
   "source": [
    "index_station_without_position = df_position_isnull[df_position_isnull.any(axis=1)].index"
   ]
  },
  {
   "cell_type": "code",
   "execution_count": 86,
   "metadata": {
    "ExecuteTime": {
     "end_time": "2020-10-01T20:51:27.961176Z",
     "start_time": "2020-10-01T20:51:27.944317Z"
    }
   },
   "outputs": [],
   "source": [
    "df_clean = df_without_3000.drop(index_station_without_position)"
   ]
  },
  {
   "cell_type": "code",
   "execution_count": 87,
   "metadata": {
    "ExecuteTime": {
     "end_time": "2020-10-01T20:51:27.980961Z",
     "start_time": "2020-10-01T20:51:27.962975Z"
    },
    "scrolled": true
   },
   "outputs": [
    {
     "data": {
      "text/plain": [
       "trip_id                False\n",
       "duration               False\n",
       "start_time             False\n",
       "end_time               False\n",
       "start_station          False\n",
       "start_lat              False\n",
       "start_lon              False\n",
       "end_station            False\n",
       "end_lat                False\n",
       "end_lon                False\n",
       "bike_id                False\n",
       "plan_duration          False\n",
       "trip_route_category    False\n",
       "passholder_type        False\n",
       "dtype: bool"
      ]
     },
     "execution_count": 87,
     "metadata": {},
     "output_type": "execute_result"
    }
   ],
   "source": [
    "dpu.df_has_nan(df_clean)"
   ]
  },
  {
   "cell_type": "code",
   "execution_count": 88,
   "metadata": {
    "ExecuteTime": {
     "end_time": "2020-10-01T20:51:27.993573Z",
     "start_time": "2020-10-01T20:51:27.983473Z"
    }
   },
   "outputs": [
    {
     "data": {
      "text/plain": [
       "'7/1/2017 0:09'"
      ]
     },
     "execution_count": 88,
     "metadata": {},
     "output_type": "execute_result"
    }
   ],
   "source": [
    "time_need_check = list(df_clean.start_time)[0]\n",
    "time_need_check"
   ]
  },
  {
   "cell_type": "code",
   "execution_count": 89,
   "metadata": {
    "ExecuteTime": {
     "end_time": "2020-10-01T20:51:27.999724Z",
     "start_time": "2020-10-01T20:51:27.995722Z"
    }
   },
   "outputs": [
    {
     "data": {
      "text/plain": [
       "False"
      ]
     },
     "execution_count": 89,
     "metadata": {},
     "output_type": "execute_result"
    }
   ],
   "source": [
    "time_format_need_change = dpu.is_time_format(time_need_check, t_format_check)\n",
    "time_format_need_change"
   ]
  },
  {
   "cell_type": "code",
   "execution_count": 90,
   "metadata": {
    "ExecuteTime": {
     "end_time": "2020-10-01T20:51:28.004749Z",
     "start_time": "2020-10-01T20:51:28.001272Z"
    }
   },
   "outputs": [],
   "source": [
    "if time_format_need_change:\n",
    "    df_clean[[\"start_time\", \"end_time\"]] = df_clean[[\"start_time\", \"end_time\"]].applymap(lambda ts: dpu.change_time_format(ts, t_format_check, t_format_output))"
   ]
  },
  {
   "cell_type": "code",
   "execution_count": 91,
   "metadata": {
    "ExecuteTime": {
     "end_time": "2020-10-01T20:51:28.022984Z",
     "start_time": "2020-10-01T20:51:28.006987Z"
    }
   },
   "outputs": [
    {
     "data": {
      "text/html": [
       "<div>\n",
       "<style scoped>\n",
       "    .dataframe tbody tr th:only-of-type {\n",
       "        vertical-align: middle;\n",
       "    }\n",
       "\n",
       "    .dataframe tbody tr th {\n",
       "        vertical-align: top;\n",
       "    }\n",
       "\n",
       "    .dataframe thead th {\n",
       "        text-align: right;\n",
       "    }\n",
       "</style>\n",
       "<table border=\"1\" class=\"dataframe\">\n",
       "  <thead>\n",
       "    <tr style=\"text-align: right;\">\n",
       "      <th></th>\n",
       "      <th>trip_id</th>\n",
       "      <th>duration</th>\n",
       "      <th>start_time</th>\n",
       "      <th>end_time</th>\n",
       "      <th>start_station</th>\n",
       "      <th>start_lat</th>\n",
       "      <th>start_lon</th>\n",
       "      <th>end_station</th>\n",
       "      <th>end_lat</th>\n",
       "      <th>end_lon</th>\n",
       "      <th>bike_id</th>\n",
       "      <th>plan_duration</th>\n",
       "      <th>trip_route_category</th>\n",
       "      <th>passholder_type</th>\n",
       "    </tr>\n",
       "  </thead>\n",
       "  <tbody>\n",
       "    <tr>\n",
       "      <th>0</th>\n",
       "      <td>33404951</td>\n",
       "      <td>36</td>\n",
       "      <td>7/1/2017 0:09</td>\n",
       "      <td>7/1/2017 0:45</td>\n",
       "      <td>3018</td>\n",
       "      <td>34.043732</td>\n",
       "      <td>-118.260139</td>\n",
       "      <td>3018</td>\n",
       "      <td>34.043732</td>\n",
       "      <td>-118.260139</td>\n",
       "      <td>5996</td>\n",
       "      <td>0</td>\n",
       "      <td>Round Trip</td>\n",
       "      <td>Walk-up</td>\n",
       "    </tr>\n",
       "    <tr>\n",
       "      <th>1</th>\n",
       "      <td>33404950</td>\n",
       "      <td>13</td>\n",
       "      <td>7/1/2017 0:10</td>\n",
       "      <td>7/1/2017 0:23</td>\n",
       "      <td>3055</td>\n",
       "      <td>34.044159</td>\n",
       "      <td>-118.251579</td>\n",
       "      <td>3082</td>\n",
       "      <td>34.046520</td>\n",
       "      <td>-118.237411</td>\n",
       "      <td>5777</td>\n",
       "      <td>0</td>\n",
       "      <td>One Way</td>\n",
       "      <td>Walk-up</td>\n",
       "    </tr>\n",
       "    <tr>\n",
       "      <th>2</th>\n",
       "      <td>33404947</td>\n",
       "      <td>34</td>\n",
       "      <td>7/1/2017 0:11</td>\n",
       "      <td>7/1/2017 0:45</td>\n",
       "      <td>3018</td>\n",
       "      <td>34.043732</td>\n",
       "      <td>-118.260139</td>\n",
       "      <td>3018</td>\n",
       "      <td>34.043732</td>\n",
       "      <td>-118.260139</td>\n",
       "      <td>6342</td>\n",
       "      <td>0</td>\n",
       "      <td>Round Trip</td>\n",
       "      <td>Walk-up</td>\n",
       "    </tr>\n",
       "    <tr>\n",
       "      <th>3</th>\n",
       "      <td>33404948</td>\n",
       "      <td>34</td>\n",
       "      <td>7/1/2017 0:11</td>\n",
       "      <td>7/1/2017 0:45</td>\n",
       "      <td>3018</td>\n",
       "      <td>34.043732</td>\n",
       "      <td>-118.260139</td>\n",
       "      <td>3018</td>\n",
       "      <td>34.043732</td>\n",
       "      <td>-118.260139</td>\n",
       "      <td>6478</td>\n",
       "      <td>0</td>\n",
       "      <td>Round Trip</td>\n",
       "      <td>Walk-up</td>\n",
       "    </tr>\n",
       "    <tr>\n",
       "      <th>4</th>\n",
       "      <td>33404949</td>\n",
       "      <td>12</td>\n",
       "      <td>7/1/2017 0:11</td>\n",
       "      <td>7/1/2017 0:23</td>\n",
       "      <td>3055</td>\n",
       "      <td>34.044159</td>\n",
       "      <td>-118.251579</td>\n",
       "      <td>3082</td>\n",
       "      <td>34.046520</td>\n",
       "      <td>-118.237411</td>\n",
       "      <td>6411</td>\n",
       "      <td>0</td>\n",
       "      <td>One Way</td>\n",
       "      <td>Walk-up</td>\n",
       "    </tr>\n",
       "  </tbody>\n",
       "</table>\n",
       "</div>"
      ],
      "text/plain": [
       "    trip_id  duration     start_time       end_time  start_station  start_lat  \\\n",
       "0  33404951        36  7/1/2017 0:09  7/1/2017 0:45           3018  34.043732   \n",
       "1  33404950        13  7/1/2017 0:10  7/1/2017 0:23           3055  34.044159   \n",
       "2  33404947        34  7/1/2017 0:11  7/1/2017 0:45           3018  34.043732   \n",
       "3  33404948        34  7/1/2017 0:11  7/1/2017 0:45           3018  34.043732   \n",
       "4  33404949        12  7/1/2017 0:11  7/1/2017 0:23           3055  34.044159   \n",
       "\n",
       "    start_lon  end_station    end_lat     end_lon  bike_id  plan_duration  \\\n",
       "0 -118.260139         3018  34.043732 -118.260139     5996              0   \n",
       "1 -118.251579         3082  34.046520 -118.237411     5777              0   \n",
       "2 -118.260139         3018  34.043732 -118.260139     6342              0   \n",
       "3 -118.260139         3018  34.043732 -118.260139     6478              0   \n",
       "4 -118.251579         3082  34.046520 -118.237411     6411              0   \n",
       "\n",
       "  trip_route_category passholder_type  \n",
       "0          Round Trip         Walk-up  \n",
       "1             One Way         Walk-up  \n",
       "2          Round Trip         Walk-up  \n",
       "3          Round Trip         Walk-up  \n",
       "4             One Way         Walk-up  "
      ]
     },
     "execution_count": 91,
     "metadata": {},
     "output_type": "execute_result"
    }
   ],
   "source": [
    "df_clean.head(5)"
   ]
  },
  {
   "cell_type": "code",
   "execution_count": 92,
   "metadata": {
    "ExecuteTime": {
     "end_time": "2020-10-01T20:51:28.716479Z",
     "start_time": "2020-10-01T20:51:28.024988Z"
    }
   },
   "outputs": [],
   "source": [
    "df_clean.to_csv(output_filepath, index=False)"
   ]
  },
  {
   "cell_type": "code",
   "execution_count": null,
   "metadata": {},
   "outputs": [],
   "source": []
  },
  {
   "cell_type": "markdown",
   "metadata": {},
   "source": [
    "## process 2017 q4"
   ]
  },
  {
   "cell_type": "code",
   "execution_count": 93,
   "metadata": {
    "ExecuteTime": {
     "end_time": "2020-10-01T20:51:28.721154Z",
     "start_time": "2020-10-01T20:51:28.718433Z"
    }
   },
   "outputs": [],
   "source": [
    "year_q = (17, 4)"
   ]
  },
  {
   "cell_type": "code",
   "execution_count": 94,
   "metadata": {
    "ExecuteTime": {
     "end_time": "2020-10-01T20:51:28.727813Z",
     "start_time": "2020-10-01T20:51:28.723384Z"
    }
   },
   "outputs": [
    {
     "data": {
      "text/plain": [
       "'./rawdata/metro-bike-2017-q4.csv'"
      ]
     },
     "execution_count": 94,
     "metadata": {},
     "output_type": "execute_result"
    }
   ],
   "source": [
    "raw_filepath = \"./rawdata/metro-bike-20%s-q%d.csv\" % year_q\n",
    "output_filepath = \"./processed_data/metro-bike-20%s-q%d.csv\" % year_q\n",
    "raw_filepath"
   ]
  },
  {
   "cell_type": "code",
   "execution_count": 95,
   "metadata": {
    "ExecuteTime": {
     "end_time": "2020-10-01T20:51:28.915817Z",
     "start_time": "2020-10-01T20:51:28.729721Z"
    }
   },
   "outputs": [],
   "source": [
    "df = pd.read_csv(raw_filepath)"
   ]
  },
  {
   "cell_type": "code",
   "execution_count": 96,
   "metadata": {
    "ExecuteTime": {
     "end_time": "2020-10-01T20:51:28.947814Z",
     "start_time": "2020-10-01T20:51:28.918159Z"
    }
   },
   "outputs": [
    {
     "data": {
      "text/html": [
       "<div>\n",
       "<style scoped>\n",
       "    .dataframe tbody tr th:only-of-type {\n",
       "        vertical-align: middle;\n",
       "    }\n",
       "\n",
       "    .dataframe tbody tr th {\n",
       "        vertical-align: top;\n",
       "    }\n",
       "\n",
       "    .dataframe thead th {\n",
       "        text-align: right;\n",
       "    }\n",
       "</style>\n",
       "<table border=\"1\" class=\"dataframe\">\n",
       "  <thead>\n",
       "    <tr style=\"text-align: right;\">\n",
       "      <th></th>\n",
       "      <th>trip_id</th>\n",
       "      <th>duration</th>\n",
       "      <th>start_time</th>\n",
       "      <th>end_time</th>\n",
       "      <th>start_station</th>\n",
       "      <th>start_lat</th>\n",
       "      <th>start_lon</th>\n",
       "      <th>end_station</th>\n",
       "      <th>end_lat</th>\n",
       "      <th>end_lon</th>\n",
       "      <th>bike_id</th>\n",
       "      <th>plan_duration</th>\n",
       "      <th>trip_route_category</th>\n",
       "      <th>passholder_type</th>\n",
       "    </tr>\n",
       "  </thead>\n",
       "  <tbody>\n",
       "    <tr>\n",
       "      <th>0</th>\n",
       "      <td>65463879</td>\n",
       "      <td>2</td>\n",
       "      <td>2017-12-30 10:20:00</td>\n",
       "      <td>2017-12-30 10:22:00</td>\n",
       "      <td>3000</td>\n",
       "      <td>NaN</td>\n",
       "      <td>NaN</td>\n",
       "      <td>3000</td>\n",
       "      <td>NaN</td>\n",
       "      <td>NaN</td>\n",
       "      <td>12116</td>\n",
       "      <td>30</td>\n",
       "      <td>One Way</td>\n",
       "      <td>Monthly Pass</td>\n",
       "    </tr>\n",
       "    <tr>\n",
       "      <th>1</th>\n",
       "      <td>65465211</td>\n",
       "      <td>1440</td>\n",
       "      <td>2017-12-29 08:03:00</td>\n",
       "      <td>2018-01-01 09:27:00</td>\n",
       "      <td>3022</td>\n",
       "      <td>34.046070</td>\n",
       "      <td>-118.23309</td>\n",
       "      <td>3000</td>\n",
       "      <td>NaN</td>\n",
       "      <td>NaN</td>\n",
       "      <td>6370</td>\n",
       "      <td>0</td>\n",
       "      <td>One Way</td>\n",
       "      <td>Walk-up</td>\n",
       "    </tr>\n",
       "    <tr>\n",
       "      <th>2</th>\n",
       "      <td>65522945</td>\n",
       "      <td>1440</td>\n",
       "      <td>2017-12-30 23:44:00</td>\n",
       "      <td>2018-01-01 18:24:00</td>\n",
       "      <td>3007</td>\n",
       "      <td>34.050480</td>\n",
       "      <td>-118.25459</td>\n",
       "      <td>3000</td>\n",
       "      <td>NaN</td>\n",
       "      <td>NaN</td>\n",
       "      <td>6411</td>\n",
       "      <td>0</td>\n",
       "      <td>One Way</td>\n",
       "      <td>Walk-up</td>\n",
       "    </tr>\n",
       "    <tr>\n",
       "      <th>3</th>\n",
       "      <td>65529597</td>\n",
       "      <td>1440</td>\n",
       "      <td>2017-12-31 12:43:00</td>\n",
       "      <td>2018-01-01 19:26:00</td>\n",
       "      <td>3047</td>\n",
       "      <td>34.039982</td>\n",
       "      <td>-118.26640</td>\n",
       "      <td>3000</td>\n",
       "      <td>NaN</td>\n",
       "      <td>NaN</td>\n",
       "      <td>6627</td>\n",
       "      <td>0</td>\n",
       "      <td>One Way</td>\n",
       "      <td>Walk-up</td>\n",
       "    </tr>\n",
       "    <tr>\n",
       "      <th>4</th>\n",
       "      <td>65641268</td>\n",
       "      <td>1440</td>\n",
       "      <td>2017-12-30 22:13:00</td>\n",
       "      <td>2018-01-02 12:20:00</td>\n",
       "      <td>3023</td>\n",
       "      <td>34.050911</td>\n",
       "      <td>-118.24096</td>\n",
       "      <td>3000</td>\n",
       "      <td>NaN</td>\n",
       "      <td>NaN</td>\n",
       "      <td>6088</td>\n",
       "      <td>0</td>\n",
       "      <td>One Way</td>\n",
       "      <td>Walk-up</td>\n",
       "    </tr>\n",
       "    <tr>\n",
       "      <th>...</th>\n",
       "      <td>...</td>\n",
       "      <td>...</td>\n",
       "      <td>...</td>\n",
       "      <td>...</td>\n",
       "      <td>...</td>\n",
       "      <td>...</td>\n",
       "      <td>...</td>\n",
       "      <td>...</td>\n",
       "      <td>...</td>\n",
       "      <td>...</td>\n",
       "      <td>...</td>\n",
       "      <td>...</td>\n",
       "      <td>...</td>\n",
       "      <td>...</td>\n",
       "    </tr>\n",
       "    <tr>\n",
       "      <th>71209</th>\n",
       "      <td>65063624</td>\n",
       "      <td>38</td>\n",
       "      <td>2017-12-29 14:00:00</td>\n",
       "      <td>2017-12-29 14:38:00</td>\n",
       "      <td>4227</td>\n",
       "      <td>34.030628</td>\n",
       "      <td>-118.26960</td>\n",
       "      <td>4227</td>\n",
       "      <td>34.030628</td>\n",
       "      <td>-118.2696</td>\n",
       "      <td>6458</td>\n",
       "      <td>0</td>\n",
       "      <td>Round Trip</td>\n",
       "      <td>Walk-up</td>\n",
       "    </tr>\n",
       "    <tr>\n",
       "      <th>71210</th>\n",
       "      <td>65069022</td>\n",
       "      <td>24</td>\n",
       "      <td>2017-12-29 15:14:00</td>\n",
       "      <td>2017-12-29 15:38:00</td>\n",
       "      <td>4227</td>\n",
       "      <td>34.030628</td>\n",
       "      <td>-118.26960</td>\n",
       "      <td>4227</td>\n",
       "      <td>34.030628</td>\n",
       "      <td>-118.2696</td>\n",
       "      <td>6458</td>\n",
       "      <td>0</td>\n",
       "      <td>Round Trip</td>\n",
       "      <td>Walk-up</td>\n",
       "    </tr>\n",
       "    <tr>\n",
       "      <th>71211</th>\n",
       "      <td>65080190</td>\n",
       "      <td>28</td>\n",
       "      <td>2017-12-29 17:13:00</td>\n",
       "      <td>2017-12-29 17:41:00</td>\n",
       "      <td>4227</td>\n",
       "      <td>34.030628</td>\n",
       "      <td>-118.26960</td>\n",
       "      <td>4227</td>\n",
       "      <td>34.030628</td>\n",
       "      <td>-118.2696</td>\n",
       "      <td>6458</td>\n",
       "      <td>0</td>\n",
       "      <td>Round Trip</td>\n",
       "      <td>Walk-up</td>\n",
       "    </tr>\n",
       "    <tr>\n",
       "      <th>71212</th>\n",
       "      <td>65180032</td>\n",
       "      <td>10</td>\n",
       "      <td>2017-12-30 11:41:00</td>\n",
       "      <td>2017-12-30 11:51:00</td>\n",
       "      <td>3005</td>\n",
       "      <td>34.048500</td>\n",
       "      <td>-118.25853</td>\n",
       "      <td>4227</td>\n",
       "      <td>34.030628</td>\n",
       "      <td>-118.2696</td>\n",
       "      <td>6383</td>\n",
       "      <td>0</td>\n",
       "      <td>One Way</td>\n",
       "      <td>Walk-up</td>\n",
       "    </tr>\n",
       "    <tr>\n",
       "      <th>71213</th>\n",
       "      <td>65264376</td>\n",
       "      <td>15</td>\n",
       "      <td>2017-12-31 01:42:00</td>\n",
       "      <td>2017-12-31 01:57:00</td>\n",
       "      <td>3008</td>\n",
       "      <td>34.046612</td>\n",
       "      <td>-118.26273</td>\n",
       "      <td>4227</td>\n",
       "      <td>34.030628</td>\n",
       "      <td>-118.2696</td>\n",
       "      <td>5740</td>\n",
       "      <td>0</td>\n",
       "      <td>One Way</td>\n",
       "      <td>Walk-up</td>\n",
       "    </tr>\n",
       "  </tbody>\n",
       "</table>\n",
       "<p>71214 rows × 14 columns</p>\n",
       "</div>"
      ],
      "text/plain": [
       "        trip_id  duration           start_time             end_time  \\\n",
       "0      65463879         2  2017-12-30 10:20:00  2017-12-30 10:22:00   \n",
       "1      65465211      1440  2017-12-29 08:03:00  2018-01-01 09:27:00   \n",
       "2      65522945      1440  2017-12-30 23:44:00  2018-01-01 18:24:00   \n",
       "3      65529597      1440  2017-12-31 12:43:00  2018-01-01 19:26:00   \n",
       "4      65641268      1440  2017-12-30 22:13:00  2018-01-02 12:20:00   \n",
       "...         ...       ...                  ...                  ...   \n",
       "71209  65063624        38  2017-12-29 14:00:00  2017-12-29 14:38:00   \n",
       "71210  65069022        24  2017-12-29 15:14:00  2017-12-29 15:38:00   \n",
       "71211  65080190        28  2017-12-29 17:13:00  2017-12-29 17:41:00   \n",
       "71212  65180032        10  2017-12-30 11:41:00  2017-12-30 11:51:00   \n",
       "71213  65264376        15  2017-12-31 01:42:00  2017-12-31 01:57:00   \n",
       "\n",
       "       start_station  start_lat  start_lon  end_station    end_lat   end_lon  \\\n",
       "0               3000        NaN        NaN         3000        NaN       NaN   \n",
       "1               3022  34.046070 -118.23309         3000        NaN       NaN   \n",
       "2               3007  34.050480 -118.25459         3000        NaN       NaN   \n",
       "3               3047  34.039982 -118.26640         3000        NaN       NaN   \n",
       "4               3023  34.050911 -118.24096         3000        NaN       NaN   \n",
       "...              ...        ...        ...          ...        ...       ...   \n",
       "71209           4227  34.030628 -118.26960         4227  34.030628 -118.2696   \n",
       "71210           4227  34.030628 -118.26960         4227  34.030628 -118.2696   \n",
       "71211           4227  34.030628 -118.26960         4227  34.030628 -118.2696   \n",
       "71212           3005  34.048500 -118.25853         4227  34.030628 -118.2696   \n",
       "71213           3008  34.046612 -118.26273         4227  34.030628 -118.2696   \n",
       "\n",
       "       bike_id  plan_duration trip_route_category passholder_type  \n",
       "0        12116             30             One Way    Monthly Pass  \n",
       "1         6370              0             One Way         Walk-up  \n",
       "2         6411              0             One Way         Walk-up  \n",
       "3         6627              0             One Way         Walk-up  \n",
       "4         6088              0             One Way         Walk-up  \n",
       "...        ...            ...                 ...             ...  \n",
       "71209     6458              0          Round Trip         Walk-up  \n",
       "71210     6458              0          Round Trip         Walk-up  \n",
       "71211     6458              0          Round Trip         Walk-up  \n",
       "71212     6383              0             One Way         Walk-up  \n",
       "71213     5740              0             One Way         Walk-up  \n",
       "\n",
       "[71214 rows x 14 columns]"
      ]
     },
     "execution_count": 96,
     "metadata": {},
     "output_type": "execute_result"
    }
   ],
   "source": [
    "df"
   ]
  },
  {
   "cell_type": "code",
   "execution_count": 97,
   "metadata": {
    "ExecuteTime": {
     "end_time": "2020-10-01T20:51:28.952952Z",
     "start_time": "2020-10-01T20:51:28.950481Z"
    }
   },
   "outputs": [],
   "source": [
    "# df = df.rename(columns = {'start_station_id': 'start_station', 'end_station_id': 'end_station'})\n",
    "# df.columns"
   ]
  },
  {
   "cell_type": "code",
   "execution_count": 98,
   "metadata": {
    "ExecuteTime": {
     "end_time": "2020-10-01T20:51:28.961849Z",
     "start_time": "2020-10-01T20:51:28.955737Z"
    }
   },
   "outputs": [],
   "source": [
    "s1 = df.start_station == 3000\n",
    "s2 = df.end_station == 3000\n",
    "index3000 = df[s1 | s2].index"
   ]
  },
  {
   "cell_type": "code",
   "execution_count": 99,
   "metadata": {
    "ExecuteTime": {
     "end_time": "2020-10-01T20:51:28.976402Z",
     "start_time": "2020-10-01T20:51:28.963428Z"
    }
   },
   "outputs": [],
   "source": [
    "df_without_3000 = df.drop(index3000)"
   ]
  },
  {
   "cell_type": "code",
   "execution_count": 100,
   "metadata": {
    "ExecuteTime": {
     "end_time": "2020-10-01T20:51:29.002104Z",
     "start_time": "2020-10-01T20:51:28.977948Z"
    }
   },
   "outputs": [
    {
     "name": "stdout",
     "output_type": "stream",
     "text": [
      "<class 'pandas.core.frame.DataFrame'>\n",
      "Int64Index: 69499 entries, 1440 to 71213\n",
      "Data columns (total 14 columns):\n",
      " #   Column               Non-Null Count  Dtype  \n",
      "---  ------               --------------  -----  \n",
      " 0   trip_id              69499 non-null  int64  \n",
      " 1   duration             69499 non-null  int64  \n",
      " 2   start_time           69499 non-null  object \n",
      " 3   end_time             69499 non-null  object \n",
      " 4   start_station        69499 non-null  int64  \n",
      " 5   start_lat            69499 non-null  float64\n",
      " 6   start_lon            69499 non-null  float64\n",
      " 7   end_station          69499 non-null  int64  \n",
      " 8   end_lat              69499 non-null  float64\n",
      " 9   end_lon              69499 non-null  float64\n",
      " 10  bike_id              69499 non-null  int64  \n",
      " 11  plan_duration        69499 non-null  int64  \n",
      " 12  trip_route_category  69499 non-null  object \n",
      " 13  passholder_type      69499 non-null  object \n",
      "dtypes: float64(4), int64(6), object(4)\n",
      "memory usage: 8.0+ MB\n"
     ]
    }
   ],
   "source": [
    "df_without_3000.info()"
   ]
  },
  {
   "cell_type": "code",
   "execution_count": 101,
   "metadata": {
    "ExecuteTime": {
     "end_time": "2020-10-01T20:51:29.009439Z",
     "start_time": "2020-10-01T20:51:29.004432Z"
    }
   },
   "outputs": [],
   "source": [
    "df_position = df_without_3000[[\"start_lat\", \"start_lon\", \"end_lat\", \"end_lon\"]]"
   ]
  },
  {
   "cell_type": "code",
   "execution_count": 102,
   "metadata": {
    "ExecuteTime": {
     "end_time": "2020-10-01T20:51:29.014342Z",
     "start_time": "2020-10-01T20:51:29.011466Z"
    }
   },
   "outputs": [],
   "source": [
    "df_position_isnull = df_position.isnull()"
   ]
  },
  {
   "cell_type": "code",
   "execution_count": 103,
   "metadata": {
    "ExecuteTime": {
     "end_time": "2020-10-01T20:51:29.021052Z",
     "start_time": "2020-10-01T20:51:29.017141Z"
    }
   },
   "outputs": [],
   "source": [
    "index_station_without_position = df_position_isnull[df_position_isnull.any(axis=1)].index"
   ]
  },
  {
   "cell_type": "code",
   "execution_count": 104,
   "metadata": {
    "ExecuteTime": {
     "end_time": "2020-10-01T20:51:29.038494Z",
     "start_time": "2020-10-01T20:51:29.023237Z"
    }
   },
   "outputs": [],
   "source": [
    "df_clean = df_without_3000.drop(index_station_without_position)"
   ]
  },
  {
   "cell_type": "code",
   "execution_count": 105,
   "metadata": {
    "ExecuteTime": {
     "end_time": "2020-10-01T20:51:29.058628Z",
     "start_time": "2020-10-01T20:51:29.040923Z"
    },
    "scrolled": true
   },
   "outputs": [
    {
     "data": {
      "text/plain": [
       "trip_id                False\n",
       "duration               False\n",
       "start_time             False\n",
       "end_time               False\n",
       "start_station          False\n",
       "start_lat              False\n",
       "start_lon              False\n",
       "end_station            False\n",
       "end_lat                False\n",
       "end_lon                False\n",
       "bike_id                False\n",
       "plan_duration          False\n",
       "trip_route_category    False\n",
       "passholder_type        False\n",
       "dtype: bool"
      ]
     },
     "execution_count": 105,
     "metadata": {},
     "output_type": "execute_result"
    }
   ],
   "source": [
    "dpu.df_has_nan(df_clean)"
   ]
  },
  {
   "cell_type": "code",
   "execution_count": 106,
   "metadata": {
    "ExecuteTime": {
     "end_time": "2020-10-01T20:51:29.070628Z",
     "start_time": "2020-10-01T20:51:29.060416Z"
    }
   },
   "outputs": [
    {
     "data": {
      "text/plain": [
       "'2017-10-23 18:16:00'"
      ]
     },
     "execution_count": 106,
     "metadata": {},
     "output_type": "execute_result"
    }
   ],
   "source": [
    "time_need_check = list(df_clean.start_time)[0]\n",
    "time_need_check"
   ]
  },
  {
   "cell_type": "code",
   "execution_count": 107,
   "metadata": {
    "ExecuteTime": {
     "end_time": "2020-10-01T20:51:29.077355Z",
     "start_time": "2020-10-01T20:51:29.072708Z"
    }
   },
   "outputs": [
    {
     "data": {
      "text/plain": [
       "True"
      ]
     },
     "execution_count": 107,
     "metadata": {},
     "output_type": "execute_result"
    }
   ],
   "source": [
    "time_format_need_change = dpu.is_time_format(time_need_check, t_format_check)\n",
    "time_format_need_change"
   ]
  },
  {
   "cell_type": "code",
   "execution_count": 108,
   "metadata": {
    "ExecuteTime": {
     "end_time": "2020-10-01T20:51:32.082289Z",
     "start_time": "2020-10-01T20:51:29.080103Z"
    }
   },
   "outputs": [],
   "source": [
    "if time_format_need_change:\n",
    "    df_clean[[\"start_time\", \"end_time\"]] = df_clean[[\"start_time\", \"end_time\"]].applymap(lambda ts: dpu.change_time_format(ts, t_format_check, t_format_output))"
   ]
  },
  {
   "cell_type": "code",
   "execution_count": 109,
   "metadata": {
    "ExecuteTime": {
     "end_time": "2020-10-01T20:51:32.098232Z",
     "start_time": "2020-10-01T20:51:32.084303Z"
    }
   },
   "outputs": [
    {
     "data": {
      "text/html": [
       "<div>\n",
       "<style scoped>\n",
       "    .dataframe tbody tr th:only-of-type {\n",
       "        vertical-align: middle;\n",
       "    }\n",
       "\n",
       "    .dataframe tbody tr th {\n",
       "        vertical-align: top;\n",
       "    }\n",
       "\n",
       "    .dataframe thead th {\n",
       "        text-align: right;\n",
       "    }\n",
       "</style>\n",
       "<table border=\"1\" class=\"dataframe\">\n",
       "  <thead>\n",
       "    <tr style=\"text-align: right;\">\n",
       "      <th></th>\n",
       "      <th>trip_id</th>\n",
       "      <th>duration</th>\n",
       "      <th>start_time</th>\n",
       "      <th>end_time</th>\n",
       "      <th>start_station</th>\n",
       "      <th>start_lat</th>\n",
       "      <th>start_lon</th>\n",
       "      <th>end_station</th>\n",
       "      <th>end_lat</th>\n",
       "      <th>end_lon</th>\n",
       "      <th>bike_id</th>\n",
       "      <th>plan_duration</th>\n",
       "      <th>trip_route_category</th>\n",
       "      <th>passholder_type</th>\n",
       "    </tr>\n",
       "  </thead>\n",
       "  <tbody>\n",
       "    <tr>\n",
       "      <th>1440</th>\n",
       "      <td>53707737</td>\n",
       "      <td>7</td>\n",
       "      <td>10/23/2017 18:16</td>\n",
       "      <td>10/23/2017 18:23</td>\n",
       "      <td>3076</td>\n",
       "      <td>34.040600</td>\n",
       "      <td>-118.25383</td>\n",
       "      <td>3005</td>\n",
       "      <td>34.0485</td>\n",
       "      <td>-118.25853</td>\n",
       "      <td>6434</td>\n",
       "      <td>365</td>\n",
       "      <td>One Way</td>\n",
       "      <td>Flex Pass</td>\n",
       "    </tr>\n",
       "    <tr>\n",
       "      <th>1441</th>\n",
       "      <td>53707738</td>\n",
       "      <td>8</td>\n",
       "      <td>10/23/2017 18:15</td>\n",
       "      <td>10/23/2017 18:23</td>\n",
       "      <td>3076</td>\n",
       "      <td>34.040600</td>\n",
       "      <td>-118.25383</td>\n",
       "      <td>3005</td>\n",
       "      <td>34.0485</td>\n",
       "      <td>-118.25853</td>\n",
       "      <td>6088</td>\n",
       "      <td>0</td>\n",
       "      <td>One Way</td>\n",
       "      <td>Walk-up</td>\n",
       "    </tr>\n",
       "    <tr>\n",
       "      <th>1442</th>\n",
       "      <td>53707761</td>\n",
       "      <td>15</td>\n",
       "      <td>10/23/2017 18:00</td>\n",
       "      <td>10/23/2017 18:15</td>\n",
       "      <td>3032</td>\n",
       "      <td>34.049889</td>\n",
       "      <td>-118.25588</td>\n",
       "      <td>3005</td>\n",
       "      <td>34.0485</td>\n",
       "      <td>-118.25853</td>\n",
       "      <td>6096</td>\n",
       "      <td>30</td>\n",
       "      <td>One Way</td>\n",
       "      <td>Monthly Pass</td>\n",
       "    </tr>\n",
       "    <tr>\n",
       "      <th>1443</th>\n",
       "      <td>53716830</td>\n",
       "      <td>6</td>\n",
       "      <td>10/23/2017 19:35</td>\n",
       "      <td>10/23/2017 19:41</td>\n",
       "      <td>3040</td>\n",
       "      <td>34.053570</td>\n",
       "      <td>-118.26635</td>\n",
       "      <td>3005</td>\n",
       "      <td>34.0485</td>\n",
       "      <td>-118.25853</td>\n",
       "      <td>6581</td>\n",
       "      <td>30</td>\n",
       "      <td>One Way</td>\n",
       "      <td>Monthly Pass</td>\n",
       "    </tr>\n",
       "    <tr>\n",
       "      <th>1444</th>\n",
       "      <td>53716845</td>\n",
       "      <td>7</td>\n",
       "      <td>10/23/2017 19:26</td>\n",
       "      <td>10/23/2017 19:33</td>\n",
       "      <td>3074</td>\n",
       "      <td>34.044170</td>\n",
       "      <td>-118.26116</td>\n",
       "      <td>3005</td>\n",
       "      <td>34.0485</td>\n",
       "      <td>-118.25853</td>\n",
       "      <td>6231</td>\n",
       "      <td>30</td>\n",
       "      <td>One Way</td>\n",
       "      <td>Monthly Pass</td>\n",
       "    </tr>\n",
       "  </tbody>\n",
       "</table>\n",
       "</div>"
      ],
      "text/plain": [
       "       trip_id  duration        start_time          end_time  start_station  \\\n",
       "1440  53707737         7  10/23/2017 18:16  10/23/2017 18:23           3076   \n",
       "1441  53707738         8  10/23/2017 18:15  10/23/2017 18:23           3076   \n",
       "1442  53707761        15  10/23/2017 18:00  10/23/2017 18:15           3032   \n",
       "1443  53716830         6  10/23/2017 19:35  10/23/2017 19:41           3040   \n",
       "1444  53716845         7  10/23/2017 19:26  10/23/2017 19:33           3074   \n",
       "\n",
       "      start_lat  start_lon  end_station  end_lat    end_lon  bike_id  \\\n",
       "1440  34.040600 -118.25383         3005  34.0485 -118.25853     6434   \n",
       "1441  34.040600 -118.25383         3005  34.0485 -118.25853     6088   \n",
       "1442  34.049889 -118.25588         3005  34.0485 -118.25853     6096   \n",
       "1443  34.053570 -118.26635         3005  34.0485 -118.25853     6581   \n",
       "1444  34.044170 -118.26116         3005  34.0485 -118.25853     6231   \n",
       "\n",
       "      plan_duration trip_route_category passholder_type  \n",
       "1440            365             One Way       Flex Pass  \n",
       "1441              0             One Way         Walk-up  \n",
       "1442             30             One Way    Monthly Pass  \n",
       "1443             30             One Way    Monthly Pass  \n",
       "1444             30             One Way    Monthly Pass  "
      ]
     },
     "execution_count": 109,
     "metadata": {},
     "output_type": "execute_result"
    }
   ],
   "source": [
    "df_clean.head(5)"
   ]
  },
  {
   "cell_type": "code",
   "execution_count": 110,
   "metadata": {
    "ExecuteTime": {
     "end_time": "2020-10-01T20:51:32.685832Z",
     "start_time": "2020-10-01T20:51:32.099848Z"
    }
   },
   "outputs": [],
   "source": [
    "df_clean.to_csv(output_filepath, index=False)"
   ]
  },
  {
   "cell_type": "code",
   "execution_count": null,
   "metadata": {},
   "outputs": [],
   "source": []
  },
  {
   "cell_type": "markdown",
   "metadata": {},
   "source": [
    "## process 2018 q1"
   ]
  },
  {
   "cell_type": "code",
   "execution_count": 111,
   "metadata": {
    "ExecuteTime": {
     "end_time": "2020-10-01T20:51:32.690725Z",
     "start_time": "2020-10-01T20:51:32.687830Z"
    }
   },
   "outputs": [],
   "source": [
    "year_q = (18, 1)"
   ]
  },
  {
   "cell_type": "code",
   "execution_count": 112,
   "metadata": {
    "ExecuteTime": {
     "end_time": "2020-10-01T20:51:32.697199Z",
     "start_time": "2020-10-01T20:51:32.692780Z"
    }
   },
   "outputs": [
    {
     "data": {
      "text/plain": [
       "'./rawdata/metro-bike-2018-q1.csv'"
      ]
     },
     "execution_count": 112,
     "metadata": {},
     "output_type": "execute_result"
    }
   ],
   "source": [
    "raw_filepath = \"./rawdata/metro-bike-20%s-q%d.csv\" % year_q\n",
    "output_filepath = \"./processed_data/metro-bike-20%s-q%d.csv\" % year_q\n",
    "raw_filepath"
   ]
  },
  {
   "cell_type": "code",
   "execution_count": 113,
   "metadata": {
    "ExecuteTime": {
     "end_time": "2020-10-01T20:51:32.864053Z",
     "start_time": "2020-10-01T20:51:32.699271Z"
    }
   },
   "outputs": [],
   "source": [
    "df = pd.read_csv(raw_filepath)"
   ]
  },
  {
   "cell_type": "code",
   "execution_count": 114,
   "metadata": {
    "ExecuteTime": {
     "end_time": "2020-10-01T20:51:32.889329Z",
     "start_time": "2020-10-01T20:51:32.866095Z"
    }
   },
   "outputs": [
    {
     "data": {
      "text/html": [
       "<div>\n",
       "<style scoped>\n",
       "    .dataframe tbody tr th:only-of-type {\n",
       "        vertical-align: middle;\n",
       "    }\n",
       "\n",
       "    .dataframe tbody tr th {\n",
       "        vertical-align: top;\n",
       "    }\n",
       "\n",
       "    .dataframe thead th {\n",
       "        text-align: right;\n",
       "    }\n",
       "</style>\n",
       "<table border=\"1\" class=\"dataframe\">\n",
       "  <thead>\n",
       "    <tr style=\"text-align: right;\">\n",
       "      <th></th>\n",
       "      <th>trip_id</th>\n",
       "      <th>duration</th>\n",
       "      <th>start_time</th>\n",
       "      <th>end_time</th>\n",
       "      <th>start_station</th>\n",
       "      <th>start_lat</th>\n",
       "      <th>start_lon</th>\n",
       "      <th>end_station</th>\n",
       "      <th>end_lat</th>\n",
       "      <th>end_lon</th>\n",
       "      <th>bike_id</th>\n",
       "      <th>plan_duration</th>\n",
       "      <th>trip_route_category</th>\n",
       "      <th>passholder_type</th>\n",
       "    </tr>\n",
       "  </thead>\n",
       "  <tbody>\n",
       "    <tr>\n",
       "      <th>0</th>\n",
       "      <td>65406367</td>\n",
       "      <td>21</td>\n",
       "      <td>2018-01-01 00:04:00</td>\n",
       "      <td>2018-01-01 00:25:00</td>\n",
       "      <td>3063</td>\n",
       "      <td>34.049198</td>\n",
       "      <td>-118.252831</td>\n",
       "      <td>3018</td>\n",
       "      <td>34.043732</td>\n",
       "      <td>-118.260139</td>\n",
       "      <td>5889</td>\n",
       "      <td>0</td>\n",
       "      <td>One Way</td>\n",
       "      <td>Walk-up</td>\n",
       "    </tr>\n",
       "    <tr>\n",
       "      <th>1</th>\n",
       "      <td>65406366</td>\n",
       "      <td>20</td>\n",
       "      <td>2018-01-01 00:05:00</td>\n",
       "      <td>2018-01-01 00:25:00</td>\n",
       "      <td>3063</td>\n",
       "      <td>34.049198</td>\n",
       "      <td>-118.252831</td>\n",
       "      <td>3018</td>\n",
       "      <td>34.043732</td>\n",
       "      <td>-118.260139</td>\n",
       "      <td>6311</td>\n",
       "      <td>0</td>\n",
       "      <td>One Way</td>\n",
       "      <td>Walk-up</td>\n",
       "    </tr>\n",
       "    <tr>\n",
       "      <th>2</th>\n",
       "      <td>65406365</td>\n",
       "      <td>19</td>\n",
       "      <td>2018-01-01 00:06:00</td>\n",
       "      <td>2018-01-01 00:25:00</td>\n",
       "      <td>3063</td>\n",
       "      <td>34.049198</td>\n",
       "      <td>-118.252831</td>\n",
       "      <td>3018</td>\n",
       "      <td>34.043732</td>\n",
       "      <td>-118.260139</td>\n",
       "      <td>5753</td>\n",
       "      <td>0</td>\n",
       "      <td>One Way</td>\n",
       "      <td>Walk-up</td>\n",
       "    </tr>\n",
       "    <tr>\n",
       "      <th>3</th>\n",
       "      <td>65406364</td>\n",
       "      <td>22</td>\n",
       "      <td>2018-01-01 00:13:00</td>\n",
       "      <td>2018-01-01 00:35:00</td>\n",
       "      <td>3018</td>\n",
       "      <td>34.043732</td>\n",
       "      <td>-118.260139</td>\n",
       "      <td>3031</td>\n",
       "      <td>34.044701</td>\n",
       "      <td>-118.252441</td>\n",
       "      <td>6220</td>\n",
       "      <td>30</td>\n",
       "      <td>One Way</td>\n",
       "      <td>Monthly Pass</td>\n",
       "    </tr>\n",
       "    <tr>\n",
       "      <th>4</th>\n",
       "      <td>65406362</td>\n",
       "      <td>45</td>\n",
       "      <td>2018-01-01 00:14:00</td>\n",
       "      <td>2018-01-01 00:59:00</td>\n",
       "      <td>4204</td>\n",
       "      <td>33.988419</td>\n",
       "      <td>-118.451630</td>\n",
       "      <td>4216</td>\n",
       "      <td>34.023392</td>\n",
       "      <td>-118.479637</td>\n",
       "      <td>12436</td>\n",
       "      <td>30</td>\n",
       "      <td>One Way</td>\n",
       "      <td>Monthly Pass</td>\n",
       "    </tr>\n",
       "    <tr>\n",
       "      <th>...</th>\n",
       "      <td>...</td>\n",
       "      <td>...</td>\n",
       "      <td>...</td>\n",
       "      <td>...</td>\n",
       "      <td>...</td>\n",
       "      <td>...</td>\n",
       "      <td>...</td>\n",
       "      <td>...</td>\n",
       "      <td>...</td>\n",
       "      <td>...</td>\n",
       "      <td>...</td>\n",
       "      <td>...</td>\n",
       "      <td>...</td>\n",
       "      <td>...</td>\n",
       "    </tr>\n",
       "    <tr>\n",
       "      <th>65382</th>\n",
       "      <td>79626925</td>\n",
       "      <td>10</td>\n",
       "      <td>2018-03-31 23:31:00</td>\n",
       "      <td>2018-03-31 23:41:00</td>\n",
       "      <td>4149</td>\n",
       "      <td>34.138210</td>\n",
       "      <td>-118.147079</td>\n",
       "      <td>4183</td>\n",
       "      <td>34.146069</td>\n",
       "      <td>-118.129181</td>\n",
       "      <td>6573</td>\n",
       "      <td>30</td>\n",
       "      <td>One Way</td>\n",
       "      <td>Monthly Pass</td>\n",
       "    </tr>\n",
       "    <tr>\n",
       "      <th>65383</th>\n",
       "      <td>79626924</td>\n",
       "      <td>14</td>\n",
       "      <td>2018-03-31 23:35:00</td>\n",
       "      <td>2018-03-31 23:49:00</td>\n",
       "      <td>3011</td>\n",
       "      <td>34.041130</td>\n",
       "      <td>-118.267982</td>\n",
       "      <td>3008</td>\n",
       "      <td>34.046612</td>\n",
       "      <td>-118.262733</td>\n",
       "      <td>11967</td>\n",
       "      <td>1</td>\n",
       "      <td>One Way</td>\n",
       "      <td>One Day Pass</td>\n",
       "    </tr>\n",
       "    <tr>\n",
       "      <th>65384</th>\n",
       "      <td>79626923</td>\n",
       "      <td>1</td>\n",
       "      <td>2018-03-31 23:36:00</td>\n",
       "      <td>2018-03-31 23:37:00</td>\n",
       "      <td>3082</td>\n",
       "      <td>34.046520</td>\n",
       "      <td>-118.237411</td>\n",
       "      <td>3082</td>\n",
       "      <td>34.046520</td>\n",
       "      <td>-118.237411</td>\n",
       "      <td>5880</td>\n",
       "      <td>30</td>\n",
       "      <td>Round Trip</td>\n",
       "      <td>Monthly Pass</td>\n",
       "    </tr>\n",
       "    <tr>\n",
       "      <th>65385</th>\n",
       "      <td>79626922</td>\n",
       "      <td>10</td>\n",
       "      <td>2018-03-31 23:37:00</td>\n",
       "      <td>2018-03-31 23:47:00</td>\n",
       "      <td>3082</td>\n",
       "      <td>34.046520</td>\n",
       "      <td>-118.237411</td>\n",
       "      <td>3049</td>\n",
       "      <td>34.056969</td>\n",
       "      <td>-118.253593</td>\n",
       "      <td>6351</td>\n",
       "      <td>30</td>\n",
       "      <td>One Way</td>\n",
       "      <td>Monthly Pass</td>\n",
       "    </tr>\n",
       "    <tr>\n",
       "      <th>65386</th>\n",
       "      <td>79626921</td>\n",
       "      <td>7</td>\n",
       "      <td>2018-03-31 23:39:00</td>\n",
       "      <td>2018-03-31 23:46:00</td>\n",
       "      <td>3082</td>\n",
       "      <td>34.046520</td>\n",
       "      <td>-118.237411</td>\n",
       "      <td>3054</td>\n",
       "      <td>34.039219</td>\n",
       "      <td>-118.236488</td>\n",
       "      <td>6155</td>\n",
       "      <td>30</td>\n",
       "      <td>One Way</td>\n",
       "      <td>Monthly Pass</td>\n",
       "    </tr>\n",
       "  </tbody>\n",
       "</table>\n",
       "<p>65387 rows × 14 columns</p>\n",
       "</div>"
      ],
      "text/plain": [
       "        trip_id  duration           start_time             end_time  \\\n",
       "0      65406367        21  2018-01-01 00:04:00  2018-01-01 00:25:00   \n",
       "1      65406366        20  2018-01-01 00:05:00  2018-01-01 00:25:00   \n",
       "2      65406365        19  2018-01-01 00:06:00  2018-01-01 00:25:00   \n",
       "3      65406364        22  2018-01-01 00:13:00  2018-01-01 00:35:00   \n",
       "4      65406362        45  2018-01-01 00:14:00  2018-01-01 00:59:00   \n",
       "...         ...       ...                  ...                  ...   \n",
       "65382  79626925        10  2018-03-31 23:31:00  2018-03-31 23:41:00   \n",
       "65383  79626924        14  2018-03-31 23:35:00  2018-03-31 23:49:00   \n",
       "65384  79626923         1  2018-03-31 23:36:00  2018-03-31 23:37:00   \n",
       "65385  79626922        10  2018-03-31 23:37:00  2018-03-31 23:47:00   \n",
       "65386  79626921         7  2018-03-31 23:39:00  2018-03-31 23:46:00   \n",
       "\n",
       "       start_station  start_lat   start_lon  end_station    end_lat  \\\n",
       "0               3063  34.049198 -118.252831         3018  34.043732   \n",
       "1               3063  34.049198 -118.252831         3018  34.043732   \n",
       "2               3063  34.049198 -118.252831         3018  34.043732   \n",
       "3               3018  34.043732 -118.260139         3031  34.044701   \n",
       "4               4204  33.988419 -118.451630         4216  34.023392   \n",
       "...              ...        ...         ...          ...        ...   \n",
       "65382           4149  34.138210 -118.147079         4183  34.146069   \n",
       "65383           3011  34.041130 -118.267982         3008  34.046612   \n",
       "65384           3082  34.046520 -118.237411         3082  34.046520   \n",
       "65385           3082  34.046520 -118.237411         3049  34.056969   \n",
       "65386           3082  34.046520 -118.237411         3054  34.039219   \n",
       "\n",
       "          end_lon  bike_id  plan_duration trip_route_category passholder_type  \n",
       "0     -118.260139     5889              0             One Way         Walk-up  \n",
       "1     -118.260139     6311              0             One Way         Walk-up  \n",
       "2     -118.260139     5753              0             One Way         Walk-up  \n",
       "3     -118.252441     6220             30             One Way    Monthly Pass  \n",
       "4     -118.479637    12436             30             One Way    Monthly Pass  \n",
       "...           ...      ...            ...                 ...             ...  \n",
       "65382 -118.129181     6573             30             One Way    Monthly Pass  \n",
       "65383 -118.262733    11967              1             One Way    One Day Pass  \n",
       "65384 -118.237411     5880             30          Round Trip    Monthly Pass  \n",
       "65385 -118.253593     6351             30             One Way    Monthly Pass  \n",
       "65386 -118.236488     6155             30             One Way    Monthly Pass  \n",
       "\n",
       "[65387 rows x 14 columns]"
      ]
     },
     "execution_count": 114,
     "metadata": {},
     "output_type": "execute_result"
    }
   ],
   "source": [
    "df"
   ]
  },
  {
   "cell_type": "code",
   "execution_count": 115,
   "metadata": {
    "ExecuteTime": {
     "end_time": "2020-10-01T20:51:32.892836Z",
     "start_time": "2020-10-01T20:51:32.891018Z"
    }
   },
   "outputs": [],
   "source": [
    "# df = df.rename(columns = {'start_station_id': 'start_station', 'end_station_id': 'end_station'})\n",
    "# df.columns"
   ]
  },
  {
   "cell_type": "code",
   "execution_count": 116,
   "metadata": {
    "ExecuteTime": {
     "end_time": "2020-10-01T20:51:32.900363Z",
     "start_time": "2020-10-01T20:51:32.894755Z"
    }
   },
   "outputs": [],
   "source": [
    "s1 = df.start_station == 3000\n",
    "s2 = df.end_station == 3000\n",
    "index3000 = df[s1 | s2].index"
   ]
  },
  {
   "cell_type": "code",
   "execution_count": 117,
   "metadata": {
    "ExecuteTime": {
     "end_time": "2020-10-01T20:51:32.912753Z",
     "start_time": "2020-10-01T20:51:32.901840Z"
    }
   },
   "outputs": [],
   "source": [
    "df_without_3000 = df.drop(index3000)"
   ]
  },
  {
   "cell_type": "code",
   "execution_count": 118,
   "metadata": {
    "ExecuteTime": {
     "end_time": "2020-10-01T20:51:32.933995Z",
     "start_time": "2020-10-01T20:51:32.914441Z"
    }
   },
   "outputs": [
    {
     "name": "stdout",
     "output_type": "stream",
     "text": [
      "<class 'pandas.core.frame.DataFrame'>\n",
      "Int64Index: 64281 entries, 0 to 65386\n",
      "Data columns (total 14 columns):\n",
      " #   Column               Non-Null Count  Dtype  \n",
      "---  ------               --------------  -----  \n",
      " 0   trip_id              64281 non-null  int64  \n",
      " 1   duration             64281 non-null  int64  \n",
      " 2   start_time           64281 non-null  object \n",
      " 3   end_time             64281 non-null  object \n",
      " 4   start_station        64281 non-null  int64  \n",
      " 5   start_lat            64281 non-null  float64\n",
      " 6   start_lon            64281 non-null  float64\n",
      " 7   end_station          64281 non-null  int64  \n",
      " 8   end_lat              64281 non-null  float64\n",
      " 9   end_lon              64281 non-null  float64\n",
      " 10  bike_id              64281 non-null  int64  \n",
      " 11  plan_duration        64281 non-null  int64  \n",
      " 12  trip_route_category  64281 non-null  object \n",
      " 13  passholder_type      64281 non-null  object \n",
      "dtypes: float64(4), int64(6), object(4)\n",
      "memory usage: 7.4+ MB\n"
     ]
    }
   ],
   "source": [
    "df_without_3000.info()"
   ]
  },
  {
   "cell_type": "code",
   "execution_count": 119,
   "metadata": {
    "ExecuteTime": {
     "end_time": "2020-10-01T20:51:32.939520Z",
     "start_time": "2020-10-01T20:51:32.935721Z"
    }
   },
   "outputs": [],
   "source": [
    "df_position = df_without_3000[[\"start_lat\", \"start_lon\", \"end_lat\", \"end_lon\"]]"
   ]
  },
  {
   "cell_type": "code",
   "execution_count": 120,
   "metadata": {
    "ExecuteTime": {
     "end_time": "2020-10-01T20:51:32.943935Z",
     "start_time": "2020-10-01T20:51:32.941007Z"
    }
   },
   "outputs": [],
   "source": [
    "df_position_isnull = df_position.isnull()"
   ]
  },
  {
   "cell_type": "code",
   "execution_count": 121,
   "metadata": {
    "ExecuteTime": {
     "end_time": "2020-10-01T20:51:32.948999Z",
     "start_time": "2020-10-01T20:51:32.945743Z"
    }
   },
   "outputs": [],
   "source": [
    "index_station_without_position = df_position_isnull[df_position_isnull.any(axis=1)].index"
   ]
  },
  {
   "cell_type": "code",
   "execution_count": 122,
   "metadata": {
    "ExecuteTime": {
     "end_time": "2020-10-01T20:51:32.964339Z",
     "start_time": "2020-10-01T20:51:32.950442Z"
    }
   },
   "outputs": [],
   "source": [
    "df_clean = df_without_3000.drop(index_station_without_position)"
   ]
  },
  {
   "cell_type": "code",
   "execution_count": 123,
   "metadata": {
    "ExecuteTime": {
     "end_time": "2020-10-01T20:51:32.979908Z",
     "start_time": "2020-10-01T20:51:32.965904Z"
    },
    "scrolled": true
   },
   "outputs": [
    {
     "data": {
      "text/plain": [
       "trip_id                False\n",
       "duration               False\n",
       "start_time             False\n",
       "end_time               False\n",
       "start_station          False\n",
       "start_lat              False\n",
       "start_lon              False\n",
       "end_station            False\n",
       "end_lat                False\n",
       "end_lon                False\n",
       "bike_id                False\n",
       "plan_duration          False\n",
       "trip_route_category    False\n",
       "passholder_type        False\n",
       "dtype: bool"
      ]
     },
     "execution_count": 123,
     "metadata": {},
     "output_type": "execute_result"
    }
   ],
   "source": [
    "dpu.df_has_nan(df_clean)"
   ]
  },
  {
   "cell_type": "code",
   "execution_count": 124,
   "metadata": {
    "ExecuteTime": {
     "end_time": "2020-10-01T20:51:32.988989Z",
     "start_time": "2020-10-01T20:51:32.981348Z"
    }
   },
   "outputs": [
    {
     "data": {
      "text/plain": [
       "'2018-01-01 00:04:00'"
      ]
     },
     "execution_count": 124,
     "metadata": {},
     "output_type": "execute_result"
    }
   ],
   "source": [
    "time_need_check = list(df_clean.start_time)[0]\n",
    "time_need_check"
   ]
  },
  {
   "cell_type": "code",
   "execution_count": 125,
   "metadata": {
    "ExecuteTime": {
     "end_time": "2020-10-01T20:51:32.993909Z",
     "start_time": "2020-10-01T20:51:32.990568Z"
    }
   },
   "outputs": [
    {
     "data": {
      "text/plain": [
       "True"
      ]
     },
     "execution_count": 125,
     "metadata": {},
     "output_type": "execute_result"
    }
   ],
   "source": [
    "time_format_need_change = dpu.is_time_format(time_need_check, t_format_check)\n",
    "time_format_need_change"
   ]
  },
  {
   "cell_type": "code",
   "execution_count": 126,
   "metadata": {
    "ExecuteTime": {
     "end_time": "2020-10-01T20:51:35.618561Z",
     "start_time": "2020-10-01T20:51:32.995342Z"
    }
   },
   "outputs": [],
   "source": [
    "if time_format_need_change:\n",
    "    df_clean[[\"start_time\", \"end_time\"]] = df_clean[[\"start_time\", \"end_time\"]].applymap(lambda ts: dpu.change_time_format(ts, t_format_check, t_format_output))"
   ]
  },
  {
   "cell_type": "code",
   "execution_count": 127,
   "metadata": {
    "ExecuteTime": {
     "end_time": "2020-10-01T20:51:35.633801Z",
     "start_time": "2020-10-01T20:51:35.620128Z"
    }
   },
   "outputs": [
    {
     "data": {
      "text/html": [
       "<div>\n",
       "<style scoped>\n",
       "    .dataframe tbody tr th:only-of-type {\n",
       "        vertical-align: middle;\n",
       "    }\n",
       "\n",
       "    .dataframe tbody tr th {\n",
       "        vertical-align: top;\n",
       "    }\n",
       "\n",
       "    .dataframe thead th {\n",
       "        text-align: right;\n",
       "    }\n",
       "</style>\n",
       "<table border=\"1\" class=\"dataframe\">\n",
       "  <thead>\n",
       "    <tr style=\"text-align: right;\">\n",
       "      <th></th>\n",
       "      <th>trip_id</th>\n",
       "      <th>duration</th>\n",
       "      <th>start_time</th>\n",
       "      <th>end_time</th>\n",
       "      <th>start_station</th>\n",
       "      <th>start_lat</th>\n",
       "      <th>start_lon</th>\n",
       "      <th>end_station</th>\n",
       "      <th>end_lat</th>\n",
       "      <th>end_lon</th>\n",
       "      <th>bike_id</th>\n",
       "      <th>plan_duration</th>\n",
       "      <th>trip_route_category</th>\n",
       "      <th>passholder_type</th>\n",
       "    </tr>\n",
       "  </thead>\n",
       "  <tbody>\n",
       "    <tr>\n",
       "      <th>0</th>\n",
       "      <td>65406367</td>\n",
       "      <td>21</td>\n",
       "      <td>01/01/2018 00:04</td>\n",
       "      <td>01/01/2018 00:25</td>\n",
       "      <td>3063</td>\n",
       "      <td>34.049198</td>\n",
       "      <td>-118.252831</td>\n",
       "      <td>3018</td>\n",
       "      <td>34.043732</td>\n",
       "      <td>-118.260139</td>\n",
       "      <td>5889</td>\n",
       "      <td>0</td>\n",
       "      <td>One Way</td>\n",
       "      <td>Walk-up</td>\n",
       "    </tr>\n",
       "    <tr>\n",
       "      <th>1</th>\n",
       "      <td>65406366</td>\n",
       "      <td>20</td>\n",
       "      <td>01/01/2018 00:05</td>\n",
       "      <td>01/01/2018 00:25</td>\n",
       "      <td>3063</td>\n",
       "      <td>34.049198</td>\n",
       "      <td>-118.252831</td>\n",
       "      <td>3018</td>\n",
       "      <td>34.043732</td>\n",
       "      <td>-118.260139</td>\n",
       "      <td>6311</td>\n",
       "      <td>0</td>\n",
       "      <td>One Way</td>\n",
       "      <td>Walk-up</td>\n",
       "    </tr>\n",
       "    <tr>\n",
       "      <th>2</th>\n",
       "      <td>65406365</td>\n",
       "      <td>19</td>\n",
       "      <td>01/01/2018 00:06</td>\n",
       "      <td>01/01/2018 00:25</td>\n",
       "      <td>3063</td>\n",
       "      <td>34.049198</td>\n",
       "      <td>-118.252831</td>\n",
       "      <td>3018</td>\n",
       "      <td>34.043732</td>\n",
       "      <td>-118.260139</td>\n",
       "      <td>5753</td>\n",
       "      <td>0</td>\n",
       "      <td>One Way</td>\n",
       "      <td>Walk-up</td>\n",
       "    </tr>\n",
       "    <tr>\n",
       "      <th>3</th>\n",
       "      <td>65406364</td>\n",
       "      <td>22</td>\n",
       "      <td>01/01/2018 00:13</td>\n",
       "      <td>01/01/2018 00:35</td>\n",
       "      <td>3018</td>\n",
       "      <td>34.043732</td>\n",
       "      <td>-118.260139</td>\n",
       "      <td>3031</td>\n",
       "      <td>34.044701</td>\n",
       "      <td>-118.252441</td>\n",
       "      <td>6220</td>\n",
       "      <td>30</td>\n",
       "      <td>One Way</td>\n",
       "      <td>Monthly Pass</td>\n",
       "    </tr>\n",
       "    <tr>\n",
       "      <th>4</th>\n",
       "      <td>65406362</td>\n",
       "      <td>45</td>\n",
       "      <td>01/01/2018 00:14</td>\n",
       "      <td>01/01/2018 00:59</td>\n",
       "      <td>4204</td>\n",
       "      <td>33.988419</td>\n",
       "      <td>-118.451630</td>\n",
       "      <td>4216</td>\n",
       "      <td>34.023392</td>\n",
       "      <td>-118.479637</td>\n",
       "      <td>12436</td>\n",
       "      <td>30</td>\n",
       "      <td>One Way</td>\n",
       "      <td>Monthly Pass</td>\n",
       "    </tr>\n",
       "  </tbody>\n",
       "</table>\n",
       "</div>"
      ],
      "text/plain": [
       "    trip_id  duration        start_time          end_time  start_station  \\\n",
       "0  65406367        21  01/01/2018 00:04  01/01/2018 00:25           3063   \n",
       "1  65406366        20  01/01/2018 00:05  01/01/2018 00:25           3063   \n",
       "2  65406365        19  01/01/2018 00:06  01/01/2018 00:25           3063   \n",
       "3  65406364        22  01/01/2018 00:13  01/01/2018 00:35           3018   \n",
       "4  65406362        45  01/01/2018 00:14  01/01/2018 00:59           4204   \n",
       "\n",
       "   start_lat   start_lon  end_station    end_lat     end_lon  bike_id  \\\n",
       "0  34.049198 -118.252831         3018  34.043732 -118.260139     5889   \n",
       "1  34.049198 -118.252831         3018  34.043732 -118.260139     6311   \n",
       "2  34.049198 -118.252831         3018  34.043732 -118.260139     5753   \n",
       "3  34.043732 -118.260139         3031  34.044701 -118.252441     6220   \n",
       "4  33.988419 -118.451630         4216  34.023392 -118.479637    12436   \n",
       "\n",
       "   plan_duration trip_route_category passholder_type  \n",
       "0              0             One Way         Walk-up  \n",
       "1              0             One Way         Walk-up  \n",
       "2              0             One Way         Walk-up  \n",
       "3             30             One Way    Monthly Pass  \n",
       "4             30             One Way    Monthly Pass  "
      ]
     },
     "execution_count": 127,
     "metadata": {},
     "output_type": "execute_result"
    }
   ],
   "source": [
    "df_clean.head(5)"
   ]
  },
  {
   "cell_type": "code",
   "execution_count": 128,
   "metadata": {
    "ExecuteTime": {
     "end_time": "2020-10-01T20:51:36.293084Z",
     "start_time": "2020-10-01T20:51:35.635658Z"
    }
   },
   "outputs": [],
   "source": [
    "df_clean.to_csv(output_filepath, index=False)"
   ]
  },
  {
   "cell_type": "code",
   "execution_count": null,
   "metadata": {},
   "outputs": [],
   "source": []
  },
  {
   "cell_type": "markdown",
   "metadata": {},
   "source": [
    "## process 2018 q2"
   ]
  },
  {
   "cell_type": "code",
   "execution_count": 129,
   "metadata": {
    "ExecuteTime": {
     "end_time": "2020-10-01T20:51:36.297776Z",
     "start_time": "2020-10-01T20:51:36.295064Z"
    }
   },
   "outputs": [],
   "source": [
    "year_q = (18, 2)"
   ]
  },
  {
   "cell_type": "code",
   "execution_count": 130,
   "metadata": {
    "ExecuteTime": {
     "end_time": "2020-10-01T20:51:36.303887Z",
     "start_time": "2020-10-01T20:51:36.299586Z"
    }
   },
   "outputs": [
    {
     "data": {
      "text/plain": [
       "'./rawdata/metro-bike-2018-q2.csv'"
      ]
     },
     "execution_count": 130,
     "metadata": {},
     "output_type": "execute_result"
    }
   ],
   "source": [
    "raw_filepath = \"./rawdata/metro-bike-20%s-q%d.csv\" % year_q\n",
    "output_filepath = \"./processed_data/metro-bike-20%s-q%d.csv\" % year_q\n",
    "raw_filepath"
   ]
  },
  {
   "cell_type": "code",
   "execution_count": 131,
   "metadata": {
    "ExecuteTime": {
     "end_time": "2020-10-01T20:51:36.502425Z",
     "start_time": "2020-10-01T20:51:36.306123Z"
    }
   },
   "outputs": [],
   "source": [
    "df = pd.read_csv(raw_filepath)"
   ]
  },
  {
   "cell_type": "code",
   "execution_count": 132,
   "metadata": {
    "ExecuteTime": {
     "end_time": "2020-10-01T20:51:36.537019Z",
     "start_time": "2020-10-01T20:51:36.504508Z"
    }
   },
   "outputs": [
    {
     "data": {
      "text/html": [
       "<div>\n",
       "<style scoped>\n",
       "    .dataframe tbody tr th:only-of-type {\n",
       "        vertical-align: middle;\n",
       "    }\n",
       "\n",
       "    .dataframe tbody tr th {\n",
       "        vertical-align: top;\n",
       "    }\n",
       "\n",
       "    .dataframe thead th {\n",
       "        text-align: right;\n",
       "    }\n",
       "</style>\n",
       "<table border=\"1\" class=\"dataframe\">\n",
       "  <thead>\n",
       "    <tr style=\"text-align: right;\">\n",
       "      <th></th>\n",
       "      <th>trip_id</th>\n",
       "      <th>duration</th>\n",
       "      <th>start_time</th>\n",
       "      <th>end_time</th>\n",
       "      <th>start_station</th>\n",
       "      <th>start_lat</th>\n",
       "      <th>start_lon</th>\n",
       "      <th>end_station</th>\n",
       "      <th>end_lat</th>\n",
       "      <th>end_lon</th>\n",
       "      <th>bike_id</th>\n",
       "      <th>plan_duration</th>\n",
       "      <th>trip_route_category</th>\n",
       "      <th>passholder_type</th>\n",
       "    </tr>\n",
       "  </thead>\n",
       "  <tbody>\n",
       "    <tr>\n",
       "      <th>0</th>\n",
       "      <td>79633812</td>\n",
       "      <td>4</td>\n",
       "      <td>2018-04-01 00:04:00</td>\n",
       "      <td>2018-04-01 00:08:00</td>\n",
       "      <td>3062</td>\n",
       "      <td>34.047749</td>\n",
       "      <td>-118.243172</td>\n",
       "      <td>3027</td>\n",
       "      <td>34.049980</td>\n",
       "      <td>-118.247162</td>\n",
       "      <td>6073</td>\n",
       "      <td>30</td>\n",
       "      <td>One Way</td>\n",
       "      <td>Monthly Pass</td>\n",
       "    </tr>\n",
       "    <tr>\n",
       "      <th>1</th>\n",
       "      <td>79640723</td>\n",
       "      <td>56</td>\n",
       "      <td>2018-04-01 00:09:00</td>\n",
       "      <td>2018-04-01 01:05:00</td>\n",
       "      <td>4211</td>\n",
       "      <td>33.984928</td>\n",
       "      <td>-118.469963</td>\n",
       "      <td>4211</td>\n",
       "      <td>33.984928</td>\n",
       "      <td>-118.469963</td>\n",
       "      <td>6406</td>\n",
       "      <td>0</td>\n",
       "      <td>Round Trip</td>\n",
       "      <td>Walk-up</td>\n",
       "    </tr>\n",
       "    <tr>\n",
       "      <th>2</th>\n",
       "      <td>79633811</td>\n",
       "      <td>11</td>\n",
       "      <td>2018-04-01 00:15:00</td>\n",
       "      <td>2018-04-01 00:26:00</td>\n",
       "      <td>3019</td>\n",
       "      <td>34.038609</td>\n",
       "      <td>-118.260857</td>\n",
       "      <td>3027</td>\n",
       "      <td>34.049980</td>\n",
       "      <td>-118.247162</td>\n",
       "      <td>6213</td>\n",
       "      <td>365</td>\n",
       "      <td>One Way</td>\n",
       "      <td>Flex Pass</td>\n",
       "    </tr>\n",
       "    <tr>\n",
       "      <th>3</th>\n",
       "      <td>79633810</td>\n",
       "      <td>11</td>\n",
       "      <td>2018-04-01 00:28:00</td>\n",
       "      <td>2018-04-01 00:39:00</td>\n",
       "      <td>4214</td>\n",
       "      <td>33.995560</td>\n",
       "      <td>-118.481552</td>\n",
       "      <td>4210</td>\n",
       "      <td>33.984341</td>\n",
       "      <td>-118.471550</td>\n",
       "      <td>5889</td>\n",
       "      <td>0</td>\n",
       "      <td>One Way</td>\n",
       "      <td>Walk-up</td>\n",
       "    </tr>\n",
       "    <tr>\n",
       "      <th>4</th>\n",
       "      <td>79633809</td>\n",
       "      <td>7</td>\n",
       "      <td>2018-04-01 00:32:00</td>\n",
       "      <td>2018-04-01 00:39:00</td>\n",
       "      <td>4214</td>\n",
       "      <td>33.995560</td>\n",
       "      <td>-118.481552</td>\n",
       "      <td>4210</td>\n",
       "      <td>33.984341</td>\n",
       "      <td>-118.471550</td>\n",
       "      <td>12379</td>\n",
       "      <td>0</td>\n",
       "      <td>One Way</td>\n",
       "      <td>Walk-up</td>\n",
       "    </tr>\n",
       "    <tr>\n",
       "      <th>...</th>\n",
       "      <td>...</td>\n",
       "      <td>...</td>\n",
       "      <td>...</td>\n",
       "      <td>...</td>\n",
       "      <td>...</td>\n",
       "      <td>...</td>\n",
       "      <td>...</td>\n",
       "      <td>...</td>\n",
       "      <td>...</td>\n",
       "      <td>...</td>\n",
       "      <td>...</td>\n",
       "      <td>...</td>\n",
       "      <td>...</td>\n",
       "      <td>...</td>\n",
       "    </tr>\n",
       "    <tr>\n",
       "      <th>77352</th>\n",
       "      <td>94851146</td>\n",
       "      <td>37</td>\n",
       "      <td>2018-06-30 23:33:00</td>\n",
       "      <td>2018-07-01 00:10:00</td>\n",
       "      <td>3040</td>\n",
       "      <td>34.053570</td>\n",
       "      <td>-118.266357</td>\n",
       "      <td>3040</td>\n",
       "      <td>34.053570</td>\n",
       "      <td>-118.266357</td>\n",
       "      <td>6037</td>\n",
       "      <td>0</td>\n",
       "      <td>Round Trip</td>\n",
       "      <td>Walk-up</td>\n",
       "    </tr>\n",
       "    <tr>\n",
       "      <th>77353</th>\n",
       "      <td>94851145</td>\n",
       "      <td>23</td>\n",
       "      <td>2018-06-30 23:40:00</td>\n",
       "      <td>2018-07-01 00:03:00</td>\n",
       "      <td>3008</td>\n",
       "      <td>34.046612</td>\n",
       "      <td>-118.262733</td>\n",
       "      <td>3019</td>\n",
       "      <td>34.038609</td>\n",
       "      <td>-118.260857</td>\n",
       "      <td>5921</td>\n",
       "      <td>30</td>\n",
       "      <td>One Way</td>\n",
       "      <td>Monthly Pass</td>\n",
       "    </tr>\n",
       "    <tr>\n",
       "      <th>77354</th>\n",
       "      <td>94844549</td>\n",
       "      <td>1</td>\n",
       "      <td>2018-06-30 23:45:00</td>\n",
       "      <td>2018-06-30 23:46:00</td>\n",
       "      <td>3013</td>\n",
       "      <td>33.779819</td>\n",
       "      <td>-118.263023</td>\n",
       "      <td>3013</td>\n",
       "      <td>33.779819</td>\n",
       "      <td>-118.263023</td>\n",
       "      <td>12441</td>\n",
       "      <td>0</td>\n",
       "      <td>Round Trip</td>\n",
       "      <td>Walk-up</td>\n",
       "    </tr>\n",
       "    <tr>\n",
       "      <th>77355</th>\n",
       "      <td>94844548</td>\n",
       "      <td>3</td>\n",
       "      <td>2018-06-30 23:49:00</td>\n",
       "      <td>2018-06-30 23:52:00</td>\n",
       "      <td>3029</td>\n",
       "      <td>34.048851</td>\n",
       "      <td>-118.246422</td>\n",
       "      <td>3067</td>\n",
       "      <td>34.045181</td>\n",
       "      <td>-118.250237</td>\n",
       "      <td>6535</td>\n",
       "      <td>30</td>\n",
       "      <td>One Way</td>\n",
       "      <td>Monthly Pass</td>\n",
       "    </tr>\n",
       "    <tr>\n",
       "      <th>77356</th>\n",
       "      <td>94851142</td>\n",
       "      <td>29</td>\n",
       "      <td>2018-06-30 23:52:00</td>\n",
       "      <td>2018-07-01 00:21:00</td>\n",
       "      <td>3013</td>\n",
       "      <td>33.779819</td>\n",
       "      <td>-118.263023</td>\n",
       "      <td>3013</td>\n",
       "      <td>33.779819</td>\n",
       "      <td>-118.263023</td>\n",
       "      <td>12304</td>\n",
       "      <td>0</td>\n",
       "      <td>Round Trip</td>\n",
       "      <td>Walk-up</td>\n",
       "    </tr>\n",
       "  </tbody>\n",
       "</table>\n",
       "<p>77357 rows × 14 columns</p>\n",
       "</div>"
      ],
      "text/plain": [
       "        trip_id  duration           start_time             end_time  \\\n",
       "0      79633812         4  2018-04-01 00:04:00  2018-04-01 00:08:00   \n",
       "1      79640723        56  2018-04-01 00:09:00  2018-04-01 01:05:00   \n",
       "2      79633811        11  2018-04-01 00:15:00  2018-04-01 00:26:00   \n",
       "3      79633810        11  2018-04-01 00:28:00  2018-04-01 00:39:00   \n",
       "4      79633809         7  2018-04-01 00:32:00  2018-04-01 00:39:00   \n",
       "...         ...       ...                  ...                  ...   \n",
       "77352  94851146        37  2018-06-30 23:33:00  2018-07-01 00:10:00   \n",
       "77353  94851145        23  2018-06-30 23:40:00  2018-07-01 00:03:00   \n",
       "77354  94844549         1  2018-06-30 23:45:00  2018-06-30 23:46:00   \n",
       "77355  94844548         3  2018-06-30 23:49:00  2018-06-30 23:52:00   \n",
       "77356  94851142        29  2018-06-30 23:52:00  2018-07-01 00:21:00   \n",
       "\n",
       "       start_station  start_lat   start_lon  end_station    end_lat  \\\n",
       "0               3062  34.047749 -118.243172         3027  34.049980   \n",
       "1               4211  33.984928 -118.469963         4211  33.984928   \n",
       "2               3019  34.038609 -118.260857         3027  34.049980   \n",
       "3               4214  33.995560 -118.481552         4210  33.984341   \n",
       "4               4214  33.995560 -118.481552         4210  33.984341   \n",
       "...              ...        ...         ...          ...        ...   \n",
       "77352           3040  34.053570 -118.266357         3040  34.053570   \n",
       "77353           3008  34.046612 -118.262733         3019  34.038609   \n",
       "77354           3013  33.779819 -118.263023         3013  33.779819   \n",
       "77355           3029  34.048851 -118.246422         3067  34.045181   \n",
       "77356           3013  33.779819 -118.263023         3013  33.779819   \n",
       "\n",
       "          end_lon  bike_id  plan_duration trip_route_category passholder_type  \n",
       "0     -118.247162     6073             30             One Way    Monthly Pass  \n",
       "1     -118.469963     6406              0          Round Trip         Walk-up  \n",
       "2     -118.247162     6213            365             One Way       Flex Pass  \n",
       "3     -118.471550     5889              0             One Way         Walk-up  \n",
       "4     -118.471550    12379              0             One Way         Walk-up  \n",
       "...           ...      ...            ...                 ...             ...  \n",
       "77352 -118.266357     6037              0          Round Trip         Walk-up  \n",
       "77353 -118.260857     5921             30             One Way    Monthly Pass  \n",
       "77354 -118.263023    12441              0          Round Trip         Walk-up  \n",
       "77355 -118.250237     6535             30             One Way    Monthly Pass  \n",
       "77356 -118.263023    12304              0          Round Trip         Walk-up  \n",
       "\n",
       "[77357 rows x 14 columns]"
      ]
     },
     "execution_count": 132,
     "metadata": {},
     "output_type": "execute_result"
    }
   ],
   "source": [
    "df"
   ]
  },
  {
   "cell_type": "code",
   "execution_count": 133,
   "metadata": {
    "ExecuteTime": {
     "end_time": "2020-10-01T20:51:36.543341Z",
     "start_time": "2020-10-01T20:51:36.540187Z"
    }
   },
   "outputs": [],
   "source": [
    "# df = df.rename(columns = {'start_station_id': 'start_station', 'end_station_id': 'end_station'})\n",
    "# df.columns"
   ]
  },
  {
   "cell_type": "code",
   "execution_count": 134,
   "metadata": {
    "ExecuteTime": {
     "end_time": "2020-10-01T20:51:36.553937Z",
     "start_time": "2020-10-01T20:51:36.546292Z"
    }
   },
   "outputs": [],
   "source": [
    "s1 = df.start_station == 3000\n",
    "s2 = df.end_station == 3000\n",
    "index3000 = df[s1 | s2].index"
   ]
  },
  {
   "cell_type": "code",
   "execution_count": 135,
   "metadata": {
    "ExecuteTime": {
     "end_time": "2020-10-01T20:51:36.573193Z",
     "start_time": "2020-10-01T20:51:36.556403Z"
    }
   },
   "outputs": [],
   "source": [
    "df_without_3000 = df.drop(index3000)"
   ]
  },
  {
   "cell_type": "code",
   "execution_count": 136,
   "metadata": {
    "ExecuteTime": {
     "end_time": "2020-10-01T20:51:36.604649Z",
     "start_time": "2020-10-01T20:51:36.575729Z"
    }
   },
   "outputs": [
    {
     "name": "stdout",
     "output_type": "stream",
     "text": [
      "<class 'pandas.core.frame.DataFrame'>\n",
      "Int64Index: 76124 entries, 0 to 77356\n",
      "Data columns (total 14 columns):\n",
      " #   Column               Non-Null Count  Dtype  \n",
      "---  ------               --------------  -----  \n",
      " 0   trip_id              76124 non-null  int64  \n",
      " 1   duration             76124 non-null  int64  \n",
      " 2   start_time           76124 non-null  object \n",
      " 3   end_time             76124 non-null  object \n",
      " 4   start_station        76124 non-null  int64  \n",
      " 5   start_lat            76124 non-null  float64\n",
      " 6   start_lon            76124 non-null  float64\n",
      " 7   end_station          76124 non-null  int64  \n",
      " 8   end_lat              76124 non-null  float64\n",
      " 9   end_lon              76124 non-null  float64\n",
      " 10  bike_id              76124 non-null  int64  \n",
      " 11  plan_duration        76124 non-null  int64  \n",
      " 12  trip_route_category  76124 non-null  object \n",
      " 13  passholder_type      76124 non-null  object \n",
      "dtypes: float64(4), int64(6), object(4)\n",
      "memory usage: 8.7+ MB\n"
     ]
    }
   ],
   "source": [
    "df_without_3000.info()"
   ]
  },
  {
   "cell_type": "code",
   "execution_count": 137,
   "metadata": {
    "ExecuteTime": {
     "end_time": "2020-10-01T20:51:36.616002Z",
     "start_time": "2020-10-01T20:51:36.608789Z"
    }
   },
   "outputs": [],
   "source": [
    "df_position = df_without_3000[[\"start_lat\", \"start_lon\", \"end_lat\", \"end_lon\"]]"
   ]
  },
  {
   "cell_type": "code",
   "execution_count": 138,
   "metadata": {
    "ExecuteTime": {
     "end_time": "2020-10-01T20:51:36.622721Z",
     "start_time": "2020-10-01T20:51:36.618698Z"
    }
   },
   "outputs": [],
   "source": [
    "df_position_isnull = df_position.isnull()"
   ]
  },
  {
   "cell_type": "code",
   "execution_count": 139,
   "metadata": {
    "ExecuteTime": {
     "end_time": "2020-10-01T20:51:36.630906Z",
     "start_time": "2020-10-01T20:51:36.625612Z"
    }
   },
   "outputs": [],
   "source": [
    "index_station_without_position = df_position_isnull[df_position_isnull.any(axis=1)].index"
   ]
  },
  {
   "cell_type": "code",
   "execution_count": 140,
   "metadata": {
    "ExecuteTime": {
     "end_time": "2020-10-01T20:51:36.652681Z",
     "start_time": "2020-10-01T20:51:36.634071Z"
    }
   },
   "outputs": [],
   "source": [
    "df_clean = df_without_3000.drop(index_station_without_position)"
   ]
  },
  {
   "cell_type": "code",
   "execution_count": 141,
   "metadata": {
    "ExecuteTime": {
     "end_time": "2020-10-01T20:51:36.677178Z",
     "start_time": "2020-10-01T20:51:36.654617Z"
    },
    "scrolled": true
   },
   "outputs": [
    {
     "data": {
      "text/plain": [
       "trip_id                False\n",
       "duration               False\n",
       "start_time             False\n",
       "end_time               False\n",
       "start_station          False\n",
       "start_lat              False\n",
       "start_lon              False\n",
       "end_station            False\n",
       "end_lat                False\n",
       "end_lon                False\n",
       "bike_id                False\n",
       "plan_duration          False\n",
       "trip_route_category    False\n",
       "passholder_type        False\n",
       "dtype: bool"
      ]
     },
     "execution_count": 141,
     "metadata": {},
     "output_type": "execute_result"
    }
   ],
   "source": [
    "dpu.df_has_nan(df_clean)"
   ]
  },
  {
   "cell_type": "code",
   "execution_count": 142,
   "metadata": {
    "ExecuteTime": {
     "end_time": "2020-10-01T20:51:36.692108Z",
     "start_time": "2020-10-01T20:51:36.680624Z"
    }
   },
   "outputs": [
    {
     "data": {
      "text/plain": [
       "'2018-04-01 00:04:00'"
      ]
     },
     "execution_count": 142,
     "metadata": {},
     "output_type": "execute_result"
    }
   ],
   "source": [
    "time_need_check = list(df_clean.start_time)[0]\n",
    "time_need_check"
   ]
  },
  {
   "cell_type": "code",
   "execution_count": 143,
   "metadata": {
    "ExecuteTime": {
     "end_time": "2020-10-01T20:51:36.698762Z",
     "start_time": "2020-10-01T20:51:36.694564Z"
    }
   },
   "outputs": [
    {
     "data": {
      "text/plain": [
       "True"
      ]
     },
     "execution_count": 143,
     "metadata": {},
     "output_type": "execute_result"
    }
   ],
   "source": [
    "time_format_need_change = dpu.is_time_format(time_need_check, t_format_check)\n",
    "time_format_need_change"
   ]
  },
  {
   "cell_type": "code",
   "execution_count": 144,
   "metadata": {
    "ExecuteTime": {
     "end_time": "2020-10-01T20:51:39.731580Z",
     "start_time": "2020-10-01T20:51:36.700930Z"
    }
   },
   "outputs": [],
   "source": [
    "if time_format_need_change:\n",
    "    df_clean[[\"start_time\", \"end_time\"]] = df_clean[[\"start_time\", \"end_time\"]].applymap(lambda ts: dpu.change_time_format(ts, t_format_check, t_format_output))"
   ]
  },
  {
   "cell_type": "code",
   "execution_count": 145,
   "metadata": {
    "ExecuteTime": {
     "end_time": "2020-10-01T20:51:39.746393Z",
     "start_time": "2020-10-01T20:51:39.733121Z"
    }
   },
   "outputs": [
    {
     "data": {
      "text/html": [
       "<div>\n",
       "<style scoped>\n",
       "    .dataframe tbody tr th:only-of-type {\n",
       "        vertical-align: middle;\n",
       "    }\n",
       "\n",
       "    .dataframe tbody tr th {\n",
       "        vertical-align: top;\n",
       "    }\n",
       "\n",
       "    .dataframe thead th {\n",
       "        text-align: right;\n",
       "    }\n",
       "</style>\n",
       "<table border=\"1\" class=\"dataframe\">\n",
       "  <thead>\n",
       "    <tr style=\"text-align: right;\">\n",
       "      <th></th>\n",
       "      <th>trip_id</th>\n",
       "      <th>duration</th>\n",
       "      <th>start_time</th>\n",
       "      <th>end_time</th>\n",
       "      <th>start_station</th>\n",
       "      <th>start_lat</th>\n",
       "      <th>start_lon</th>\n",
       "      <th>end_station</th>\n",
       "      <th>end_lat</th>\n",
       "      <th>end_lon</th>\n",
       "      <th>bike_id</th>\n",
       "      <th>plan_duration</th>\n",
       "      <th>trip_route_category</th>\n",
       "      <th>passholder_type</th>\n",
       "    </tr>\n",
       "  </thead>\n",
       "  <tbody>\n",
       "    <tr>\n",
       "      <th>0</th>\n",
       "      <td>79633812</td>\n",
       "      <td>4</td>\n",
       "      <td>04/01/2018 00:04</td>\n",
       "      <td>04/01/2018 00:08</td>\n",
       "      <td>3062</td>\n",
       "      <td>34.047749</td>\n",
       "      <td>-118.243172</td>\n",
       "      <td>3027</td>\n",
       "      <td>34.049980</td>\n",
       "      <td>-118.247162</td>\n",
       "      <td>6073</td>\n",
       "      <td>30</td>\n",
       "      <td>One Way</td>\n",
       "      <td>Monthly Pass</td>\n",
       "    </tr>\n",
       "    <tr>\n",
       "      <th>1</th>\n",
       "      <td>79640723</td>\n",
       "      <td>56</td>\n",
       "      <td>04/01/2018 00:09</td>\n",
       "      <td>04/01/2018 01:05</td>\n",
       "      <td>4211</td>\n",
       "      <td>33.984928</td>\n",
       "      <td>-118.469963</td>\n",
       "      <td>4211</td>\n",
       "      <td>33.984928</td>\n",
       "      <td>-118.469963</td>\n",
       "      <td>6406</td>\n",
       "      <td>0</td>\n",
       "      <td>Round Trip</td>\n",
       "      <td>Walk-up</td>\n",
       "    </tr>\n",
       "    <tr>\n",
       "      <th>2</th>\n",
       "      <td>79633811</td>\n",
       "      <td>11</td>\n",
       "      <td>04/01/2018 00:15</td>\n",
       "      <td>04/01/2018 00:26</td>\n",
       "      <td>3019</td>\n",
       "      <td>34.038609</td>\n",
       "      <td>-118.260857</td>\n",
       "      <td>3027</td>\n",
       "      <td>34.049980</td>\n",
       "      <td>-118.247162</td>\n",
       "      <td>6213</td>\n",
       "      <td>365</td>\n",
       "      <td>One Way</td>\n",
       "      <td>Flex Pass</td>\n",
       "    </tr>\n",
       "    <tr>\n",
       "      <th>3</th>\n",
       "      <td>79633810</td>\n",
       "      <td>11</td>\n",
       "      <td>04/01/2018 00:28</td>\n",
       "      <td>04/01/2018 00:39</td>\n",
       "      <td>4214</td>\n",
       "      <td>33.995560</td>\n",
       "      <td>-118.481552</td>\n",
       "      <td>4210</td>\n",
       "      <td>33.984341</td>\n",
       "      <td>-118.471550</td>\n",
       "      <td>5889</td>\n",
       "      <td>0</td>\n",
       "      <td>One Way</td>\n",
       "      <td>Walk-up</td>\n",
       "    </tr>\n",
       "    <tr>\n",
       "      <th>4</th>\n",
       "      <td>79633809</td>\n",
       "      <td>7</td>\n",
       "      <td>04/01/2018 00:32</td>\n",
       "      <td>04/01/2018 00:39</td>\n",
       "      <td>4214</td>\n",
       "      <td>33.995560</td>\n",
       "      <td>-118.481552</td>\n",
       "      <td>4210</td>\n",
       "      <td>33.984341</td>\n",
       "      <td>-118.471550</td>\n",
       "      <td>12379</td>\n",
       "      <td>0</td>\n",
       "      <td>One Way</td>\n",
       "      <td>Walk-up</td>\n",
       "    </tr>\n",
       "  </tbody>\n",
       "</table>\n",
       "</div>"
      ],
      "text/plain": [
       "    trip_id  duration        start_time          end_time  start_station  \\\n",
       "0  79633812         4  04/01/2018 00:04  04/01/2018 00:08           3062   \n",
       "1  79640723        56  04/01/2018 00:09  04/01/2018 01:05           4211   \n",
       "2  79633811        11  04/01/2018 00:15  04/01/2018 00:26           3019   \n",
       "3  79633810        11  04/01/2018 00:28  04/01/2018 00:39           4214   \n",
       "4  79633809         7  04/01/2018 00:32  04/01/2018 00:39           4214   \n",
       "\n",
       "   start_lat   start_lon  end_station    end_lat     end_lon  bike_id  \\\n",
       "0  34.047749 -118.243172         3027  34.049980 -118.247162     6073   \n",
       "1  33.984928 -118.469963         4211  33.984928 -118.469963     6406   \n",
       "2  34.038609 -118.260857         3027  34.049980 -118.247162     6213   \n",
       "3  33.995560 -118.481552         4210  33.984341 -118.471550     5889   \n",
       "4  33.995560 -118.481552         4210  33.984341 -118.471550    12379   \n",
       "\n",
       "   plan_duration trip_route_category passholder_type  \n",
       "0             30             One Way    Monthly Pass  \n",
       "1              0          Round Trip         Walk-up  \n",
       "2            365             One Way       Flex Pass  \n",
       "3              0             One Way         Walk-up  \n",
       "4              0             One Way         Walk-up  "
      ]
     },
     "execution_count": 145,
     "metadata": {},
     "output_type": "execute_result"
    }
   ],
   "source": [
    "df_clean.head(5)"
   ]
  },
  {
   "cell_type": "code",
   "execution_count": 146,
   "metadata": {
    "ExecuteTime": {
     "end_time": "2020-10-01T20:51:40.448407Z",
     "start_time": "2020-10-01T20:51:39.747960Z"
    }
   },
   "outputs": [],
   "source": [
    "df_clean.to_csv(output_filepath, index=False)"
   ]
  },
  {
   "cell_type": "code",
   "execution_count": null,
   "metadata": {},
   "outputs": [],
   "source": []
  },
  {
   "cell_type": "markdown",
   "metadata": {},
   "source": [
    "## process 2018 q3"
   ]
  },
  {
   "cell_type": "code",
   "execution_count": 147,
   "metadata": {
    "ExecuteTime": {
     "end_time": "2020-10-01T20:51:40.452791Z",
     "start_time": "2020-10-01T20:51:40.449960Z"
    }
   },
   "outputs": [],
   "source": [
    "year_q = (18, 3)"
   ]
  },
  {
   "cell_type": "code",
   "execution_count": 148,
   "metadata": {
    "ExecuteTime": {
     "end_time": "2020-10-01T20:51:40.457772Z",
     "start_time": "2020-10-01T20:51:40.454372Z"
    }
   },
   "outputs": [
    {
     "data": {
      "text/plain": [
       "'./rawdata/metro-bike-2018-q3.csv'"
      ]
     },
     "execution_count": 148,
     "metadata": {},
     "output_type": "execute_result"
    }
   ],
   "source": [
    "raw_filepath = \"./rawdata/metro-bike-20%s-q%d.csv\" % year_q\n",
    "output_filepath = \"./processed_data/metro-bike-20%s-q%d.csv\" % year_q\n",
    "raw_filepath"
   ]
  },
  {
   "cell_type": "code",
   "execution_count": 149,
   "metadata": {
    "ExecuteTime": {
     "end_time": "2020-10-01T20:51:40.698246Z",
     "start_time": "2020-10-01T20:51:40.460525Z"
    }
   },
   "outputs": [],
   "source": [
    "df = pd.read_csv(raw_filepath)"
   ]
  },
  {
   "cell_type": "code",
   "execution_count": 150,
   "metadata": {
    "ExecuteTime": {
     "end_time": "2020-10-01T20:51:40.726744Z",
     "start_time": "2020-10-01T20:51:40.700178Z"
    }
   },
   "outputs": [
    {
     "data": {
      "text/html": [
       "<div>\n",
       "<style scoped>\n",
       "    .dataframe tbody tr th:only-of-type {\n",
       "        vertical-align: middle;\n",
       "    }\n",
       "\n",
       "    .dataframe tbody tr th {\n",
       "        vertical-align: top;\n",
       "    }\n",
       "\n",
       "    .dataframe thead th {\n",
       "        text-align: right;\n",
       "    }\n",
       "</style>\n",
       "<table border=\"1\" class=\"dataframe\">\n",
       "  <thead>\n",
       "    <tr style=\"text-align: right;\">\n",
       "      <th></th>\n",
       "      <th>trip_id</th>\n",
       "      <th>duration</th>\n",
       "      <th>start_time</th>\n",
       "      <th>end_time</th>\n",
       "      <th>start_station</th>\n",
       "      <th>start_lat</th>\n",
       "      <th>start_lon</th>\n",
       "      <th>end_station</th>\n",
       "      <th>end_lat</th>\n",
       "      <th>end_lon</th>\n",
       "      <th>bike_id</th>\n",
       "      <th>plan_duration</th>\n",
       "      <th>trip_route_category</th>\n",
       "      <th>passholder_type</th>\n",
       "    </tr>\n",
       "  </thead>\n",
       "  <tbody>\n",
       "    <tr>\n",
       "      <th>0</th>\n",
       "      <td>94851140</td>\n",
       "      <td>8</td>\n",
       "      <td>2018-07-01 00:04:00</td>\n",
       "      <td>2018-07-01 00:12:00</td>\n",
       "      <td>3058</td>\n",
       "      <td>34.035801</td>\n",
       "      <td>-118.233170</td>\n",
       "      <td>3082</td>\n",
       "      <td>34.046520</td>\n",
       "      <td>-118.237411</td>\n",
       "      <td>6279</td>\n",
       "      <td>30</td>\n",
       "      <td>One Way</td>\n",
       "      <td>Monthly Pass</td>\n",
       "    </tr>\n",
       "    <tr>\n",
       "      <th>1</th>\n",
       "      <td>94851141</td>\n",
       "      <td>8</td>\n",
       "      <td>2018-07-01 00:04:00</td>\n",
       "      <td>2018-07-01 00:12:00</td>\n",
       "      <td>3058</td>\n",
       "      <td>34.035801</td>\n",
       "      <td>-118.233170</td>\n",
       "      <td>3082</td>\n",
       "      <td>34.046520</td>\n",
       "      <td>-118.237411</td>\n",
       "      <td>6518</td>\n",
       "      <td>365</td>\n",
       "      <td>One Way</td>\n",
       "      <td>Flex Pass</td>\n",
       "    </tr>\n",
       "    <tr>\n",
       "      <th>2</th>\n",
       "      <td>94851138</td>\n",
       "      <td>15</td>\n",
       "      <td>2018-07-01 00:09:00</td>\n",
       "      <td>2018-07-01 00:24:00</td>\n",
       "      <td>4147</td>\n",
       "      <td>34.145248</td>\n",
       "      <td>-118.150070</td>\n",
       "      <td>4174</td>\n",
       "      <td>34.165291</td>\n",
       "      <td>-118.150970</td>\n",
       "      <td>4823</td>\n",
       "      <td>365</td>\n",
       "      <td>One Way</td>\n",
       "      <td>Monthly Pass</td>\n",
       "    </tr>\n",
       "    <tr>\n",
       "      <th>3</th>\n",
       "      <td>94851137</td>\n",
       "      <td>7</td>\n",
       "      <td>2018-07-01 00:22:00</td>\n",
       "      <td>2018-07-01 00:29:00</td>\n",
       "      <td>4157</td>\n",
       "      <td>34.140999</td>\n",
       "      <td>-118.132088</td>\n",
       "      <td>4162</td>\n",
       "      <td>34.147499</td>\n",
       "      <td>-118.148010</td>\n",
       "      <td>6115</td>\n",
       "      <td>30</td>\n",
       "      <td>One Way</td>\n",
       "      <td>Monthly Pass</td>\n",
       "    </tr>\n",
       "    <tr>\n",
       "      <th>4</th>\n",
       "      <td>94851136</td>\n",
       "      <td>35</td>\n",
       "      <td>2018-07-01 00:23:00</td>\n",
       "      <td>2018-07-01 00:58:00</td>\n",
       "      <td>3013</td>\n",
       "      <td>33.779819</td>\n",
       "      <td>-118.263023</td>\n",
       "      <td>3013</td>\n",
       "      <td>33.779819</td>\n",
       "      <td>-118.263023</td>\n",
       "      <td>12055</td>\n",
       "      <td>1</td>\n",
       "      <td>Round Trip</td>\n",
       "      <td>Walk-up</td>\n",
       "    </tr>\n",
       "    <tr>\n",
       "      <th>...</th>\n",
       "      <td>...</td>\n",
       "      <td>...</td>\n",
       "      <td>...</td>\n",
       "      <td>...</td>\n",
       "      <td>...</td>\n",
       "      <td>...</td>\n",
       "      <td>...</td>\n",
       "      <td>...</td>\n",
       "      <td>...</td>\n",
       "      <td>...</td>\n",
       "      <td>...</td>\n",
       "      <td>...</td>\n",
       "      <td>...</td>\n",
       "      <td>...</td>\n",
       "    </tr>\n",
       "    <tr>\n",
       "      <th>95278</th>\n",
       "      <td>106412141</td>\n",
       "      <td>30</td>\n",
       "      <td>2018-09-30 23:47:00</td>\n",
       "      <td>2018-10-01 00:17:00</td>\n",
       "      <td>3038</td>\n",
       "      <td>34.046822</td>\n",
       "      <td>-118.248352</td>\n",
       "      <td>3038</td>\n",
       "      <td>34.046822</td>\n",
       "      <td>-118.248352</td>\n",
       "      <td>6258</td>\n",
       "      <td>1</td>\n",
       "      <td>Round Trip</td>\n",
       "      <td>Walk-up</td>\n",
       "    </tr>\n",
       "    <tr>\n",
       "      <th>95279</th>\n",
       "      <td>106411454</td>\n",
       "      <td>10</td>\n",
       "      <td>2018-09-30 23:52:00</td>\n",
       "      <td>2018-10-01 00:02:00</td>\n",
       "      <td>3035</td>\n",
       "      <td>34.048401</td>\n",
       "      <td>-118.260948</td>\n",
       "      <td>3074</td>\n",
       "      <td>34.044170</td>\n",
       "      <td>-118.261169</td>\n",
       "      <td>5931</td>\n",
       "      <td>30</td>\n",
       "      <td>One Way</td>\n",
       "      <td>Monthly Pass</td>\n",
       "    </tr>\n",
       "    <tr>\n",
       "      <th>95280</th>\n",
       "      <td>106411455</td>\n",
       "      <td>11</td>\n",
       "      <td>2018-09-30 23:52:00</td>\n",
       "      <td>2018-10-01 00:03:00</td>\n",
       "      <td>3024</td>\n",
       "      <td>34.057720</td>\n",
       "      <td>-118.248970</td>\n",
       "      <td>3055</td>\n",
       "      <td>34.044159</td>\n",
       "      <td>-118.251579</td>\n",
       "      <td>6100</td>\n",
       "      <td>30</td>\n",
       "      <td>One Way</td>\n",
       "      <td>Monthly Pass</td>\n",
       "    </tr>\n",
       "    <tr>\n",
       "      <th>95281</th>\n",
       "      <td>106411453</td>\n",
       "      <td>9</td>\n",
       "      <td>2018-09-30 23:54:00</td>\n",
       "      <td>2018-10-01 00:03:00</td>\n",
       "      <td>3008</td>\n",
       "      <td>34.046612</td>\n",
       "      <td>-118.262733</td>\n",
       "      <td>3052</td>\n",
       "      <td>34.051102</td>\n",
       "      <td>-118.264557</td>\n",
       "      <td>5879</td>\n",
       "      <td>1</td>\n",
       "      <td>One Way</td>\n",
       "      <td>Walk-up</td>\n",
       "    </tr>\n",
       "    <tr>\n",
       "      <th>95282</th>\n",
       "      <td>106411452</td>\n",
       "      <td>7</td>\n",
       "      <td>2018-09-30 23:57:00</td>\n",
       "      <td>2018-10-01 00:04:00</td>\n",
       "      <td>3026</td>\n",
       "      <td>34.063179</td>\n",
       "      <td>-118.245880</td>\n",
       "      <td>3049</td>\n",
       "      <td>34.056969</td>\n",
       "      <td>-118.253593</td>\n",
       "      <td>6121</td>\n",
       "      <td>30</td>\n",
       "      <td>One Way</td>\n",
       "      <td>Monthly Pass</td>\n",
       "    </tr>\n",
       "  </tbody>\n",
       "</table>\n",
       "<p>95283 rows × 14 columns</p>\n",
       "</div>"
      ],
      "text/plain": [
       "         trip_id  duration           start_time             end_time  \\\n",
       "0       94851140         8  2018-07-01 00:04:00  2018-07-01 00:12:00   \n",
       "1       94851141         8  2018-07-01 00:04:00  2018-07-01 00:12:00   \n",
       "2       94851138        15  2018-07-01 00:09:00  2018-07-01 00:24:00   \n",
       "3       94851137         7  2018-07-01 00:22:00  2018-07-01 00:29:00   \n",
       "4       94851136        35  2018-07-01 00:23:00  2018-07-01 00:58:00   \n",
       "...          ...       ...                  ...                  ...   \n",
       "95278  106412141        30  2018-09-30 23:47:00  2018-10-01 00:17:00   \n",
       "95279  106411454        10  2018-09-30 23:52:00  2018-10-01 00:02:00   \n",
       "95280  106411455        11  2018-09-30 23:52:00  2018-10-01 00:03:00   \n",
       "95281  106411453         9  2018-09-30 23:54:00  2018-10-01 00:03:00   \n",
       "95282  106411452         7  2018-09-30 23:57:00  2018-10-01 00:04:00   \n",
       "\n",
       "       start_station  start_lat   start_lon  end_station    end_lat  \\\n",
       "0               3058  34.035801 -118.233170         3082  34.046520   \n",
       "1               3058  34.035801 -118.233170         3082  34.046520   \n",
       "2               4147  34.145248 -118.150070         4174  34.165291   \n",
       "3               4157  34.140999 -118.132088         4162  34.147499   \n",
       "4               3013  33.779819 -118.263023         3013  33.779819   \n",
       "...              ...        ...         ...          ...        ...   \n",
       "95278           3038  34.046822 -118.248352         3038  34.046822   \n",
       "95279           3035  34.048401 -118.260948         3074  34.044170   \n",
       "95280           3024  34.057720 -118.248970         3055  34.044159   \n",
       "95281           3008  34.046612 -118.262733         3052  34.051102   \n",
       "95282           3026  34.063179 -118.245880         3049  34.056969   \n",
       "\n",
       "          end_lon  bike_id  plan_duration trip_route_category passholder_type  \n",
       "0     -118.237411     6279             30             One Way    Monthly Pass  \n",
       "1     -118.237411     6518            365             One Way       Flex Pass  \n",
       "2     -118.150970     4823            365             One Way    Monthly Pass  \n",
       "3     -118.148010     6115             30             One Way    Monthly Pass  \n",
       "4     -118.263023    12055              1          Round Trip         Walk-up  \n",
       "...           ...      ...            ...                 ...             ...  \n",
       "95278 -118.248352     6258              1          Round Trip         Walk-up  \n",
       "95279 -118.261169     5931             30             One Way    Monthly Pass  \n",
       "95280 -118.251579     6100             30             One Way    Monthly Pass  \n",
       "95281 -118.264557     5879              1             One Way         Walk-up  \n",
       "95282 -118.253593     6121             30             One Way    Monthly Pass  \n",
       "\n",
       "[95283 rows x 14 columns]"
      ]
     },
     "execution_count": 150,
     "metadata": {},
     "output_type": "execute_result"
    }
   ],
   "source": [
    "df"
   ]
  },
  {
   "cell_type": "code",
   "execution_count": 151,
   "metadata": {
    "ExecuteTime": {
     "end_time": "2020-10-01T20:51:40.731595Z",
     "start_time": "2020-10-01T20:51:40.729162Z"
    }
   },
   "outputs": [],
   "source": [
    "# df = df.rename(columns = {'start_station_id': 'start_station', 'end_station_id': 'end_station'})\n",
    "# df.columns"
   ]
  },
  {
   "cell_type": "code",
   "execution_count": 152,
   "metadata": {
    "ExecuteTime": {
     "end_time": "2020-10-01T20:51:40.740553Z",
     "start_time": "2020-10-01T20:51:40.733518Z"
    }
   },
   "outputs": [],
   "source": [
    "s1 = df.start_station == 3000\n",
    "s2 = df.end_station == 3000\n",
    "index3000 = df[s1 | s2].index"
   ]
  },
  {
   "cell_type": "code",
   "execution_count": 153,
   "metadata": {
    "ExecuteTime": {
     "end_time": "2020-10-01T20:51:40.759303Z",
     "start_time": "2020-10-01T20:51:40.742659Z"
    }
   },
   "outputs": [],
   "source": [
    "df_without_3000 = df.drop(index3000)"
   ]
  },
  {
   "cell_type": "code",
   "execution_count": 154,
   "metadata": {
    "ExecuteTime": {
     "end_time": "2020-10-01T20:51:40.789059Z",
     "start_time": "2020-10-01T20:51:40.761521Z"
    }
   },
   "outputs": [
    {
     "name": "stdout",
     "output_type": "stream",
     "text": [
      "<class 'pandas.core.frame.DataFrame'>\n",
      "Int64Index: 93199 entries, 0 to 95282\n",
      "Data columns (total 14 columns):\n",
      " #   Column               Non-Null Count  Dtype  \n",
      "---  ------               --------------  -----  \n",
      " 0   trip_id              93199 non-null  int64  \n",
      " 1   duration             93199 non-null  int64  \n",
      " 2   start_time           93199 non-null  object \n",
      " 3   end_time             93199 non-null  object \n",
      " 4   start_station        93199 non-null  int64  \n",
      " 5   start_lat            93199 non-null  float64\n",
      " 6   start_lon            93199 non-null  float64\n",
      " 7   end_station          93199 non-null  int64  \n",
      " 8   end_lat              93199 non-null  float64\n",
      " 9   end_lon              93199 non-null  float64\n",
      " 10  bike_id              93199 non-null  int64  \n",
      " 11  plan_duration        93199 non-null  int64  \n",
      " 12  trip_route_category  93199 non-null  object \n",
      " 13  passholder_type      93199 non-null  object \n",
      "dtypes: float64(4), int64(6), object(4)\n",
      "memory usage: 10.7+ MB\n"
     ]
    }
   ],
   "source": [
    "df_without_3000.info()"
   ]
  },
  {
   "cell_type": "code",
   "execution_count": 155,
   "metadata": {
    "ExecuteTime": {
     "end_time": "2020-10-01T20:51:40.795377Z",
     "start_time": "2020-10-01T20:51:40.791010Z"
    }
   },
   "outputs": [],
   "source": [
    "df_position = df_without_3000[[\"start_lat\", \"start_lon\", \"end_lat\", \"end_lon\"]]"
   ]
  },
  {
   "cell_type": "code",
   "execution_count": 156,
   "metadata": {
    "ExecuteTime": {
     "end_time": "2020-10-01T20:51:40.801552Z",
     "start_time": "2020-10-01T20:51:40.798084Z"
    }
   },
   "outputs": [],
   "source": [
    "df_position_isnull = df_position.isnull()"
   ]
  },
  {
   "cell_type": "code",
   "execution_count": 157,
   "metadata": {
    "ExecuteTime": {
     "end_time": "2020-10-01T20:51:40.809150Z",
     "start_time": "2020-10-01T20:51:40.803771Z"
    }
   },
   "outputs": [],
   "source": [
    "index_station_without_position = df_position_isnull[df_position_isnull.any(axis=1)].index"
   ]
  },
  {
   "cell_type": "code",
   "execution_count": 158,
   "metadata": {
    "ExecuteTime": {
     "end_time": "2020-10-01T20:51:40.833763Z",
     "start_time": "2020-10-01T20:51:40.812028Z"
    }
   },
   "outputs": [],
   "source": [
    "df_clean = df_without_3000.drop(index_station_without_position)"
   ]
  },
  {
   "cell_type": "code",
   "execution_count": 159,
   "metadata": {
    "ExecuteTime": {
     "end_time": "2020-10-01T20:51:40.860154Z",
     "start_time": "2020-10-01T20:51:40.836094Z"
    },
    "scrolled": true
   },
   "outputs": [
    {
     "data": {
      "text/plain": [
       "trip_id                False\n",
       "duration               False\n",
       "start_time             False\n",
       "end_time               False\n",
       "start_station          False\n",
       "start_lat              False\n",
       "start_lon              False\n",
       "end_station            False\n",
       "end_lat                False\n",
       "end_lon                False\n",
       "bike_id                False\n",
       "plan_duration          False\n",
       "trip_route_category    False\n",
       "passholder_type        False\n",
       "dtype: bool"
      ]
     },
     "execution_count": 159,
     "metadata": {},
     "output_type": "execute_result"
    }
   ],
   "source": [
    "dpu.df_has_nan(df_clean)"
   ]
  },
  {
   "cell_type": "code",
   "execution_count": 160,
   "metadata": {
    "ExecuteTime": {
     "end_time": "2020-10-01T20:51:40.873301Z",
     "start_time": "2020-10-01T20:51:40.862160Z"
    }
   },
   "outputs": [
    {
     "data": {
      "text/plain": [
       "'2018-07-01 00:04:00'"
      ]
     },
     "execution_count": 160,
     "metadata": {},
     "output_type": "execute_result"
    }
   ],
   "source": [
    "time_need_check = list(df_clean.start_time)[0]\n",
    "time_need_check"
   ]
  },
  {
   "cell_type": "code",
   "execution_count": 161,
   "metadata": {
    "ExecuteTime": {
     "end_time": "2020-10-01T20:51:40.878627Z",
     "start_time": "2020-10-01T20:51:40.875007Z"
    }
   },
   "outputs": [
    {
     "data": {
      "text/plain": [
       "True"
      ]
     },
     "execution_count": 161,
     "metadata": {},
     "output_type": "execute_result"
    }
   ],
   "source": [
    "time_format_need_change = dpu.is_time_format(time_need_check, t_format_check)\n",
    "time_format_need_change"
   ]
  },
  {
   "cell_type": "code",
   "execution_count": 162,
   "metadata": {
    "ExecuteTime": {
     "end_time": "2020-10-01T20:51:44.786699Z",
     "start_time": "2020-10-01T20:51:40.880196Z"
    }
   },
   "outputs": [],
   "source": [
    "if time_format_need_change:\n",
    "    df_clean[[\"start_time\", \"end_time\"]] = df_clean[[\"start_time\", \"end_time\"]].applymap(lambda ts: dpu.change_time_format(ts, t_format_check, t_format_output))"
   ]
  },
  {
   "cell_type": "code",
   "execution_count": 163,
   "metadata": {
    "ExecuteTime": {
     "end_time": "2020-10-01T20:51:44.805498Z",
     "start_time": "2020-10-01T20:51:44.789329Z"
    }
   },
   "outputs": [
    {
     "data": {
      "text/html": [
       "<div>\n",
       "<style scoped>\n",
       "    .dataframe tbody tr th:only-of-type {\n",
       "        vertical-align: middle;\n",
       "    }\n",
       "\n",
       "    .dataframe tbody tr th {\n",
       "        vertical-align: top;\n",
       "    }\n",
       "\n",
       "    .dataframe thead th {\n",
       "        text-align: right;\n",
       "    }\n",
       "</style>\n",
       "<table border=\"1\" class=\"dataframe\">\n",
       "  <thead>\n",
       "    <tr style=\"text-align: right;\">\n",
       "      <th></th>\n",
       "      <th>trip_id</th>\n",
       "      <th>duration</th>\n",
       "      <th>start_time</th>\n",
       "      <th>end_time</th>\n",
       "      <th>start_station</th>\n",
       "      <th>start_lat</th>\n",
       "      <th>start_lon</th>\n",
       "      <th>end_station</th>\n",
       "      <th>end_lat</th>\n",
       "      <th>end_lon</th>\n",
       "      <th>bike_id</th>\n",
       "      <th>plan_duration</th>\n",
       "      <th>trip_route_category</th>\n",
       "      <th>passholder_type</th>\n",
       "    </tr>\n",
       "  </thead>\n",
       "  <tbody>\n",
       "    <tr>\n",
       "      <th>0</th>\n",
       "      <td>94851140</td>\n",
       "      <td>8</td>\n",
       "      <td>07/01/2018 00:04</td>\n",
       "      <td>07/01/2018 00:12</td>\n",
       "      <td>3058</td>\n",
       "      <td>34.035801</td>\n",
       "      <td>-118.233170</td>\n",
       "      <td>3082</td>\n",
       "      <td>34.046520</td>\n",
       "      <td>-118.237411</td>\n",
       "      <td>6279</td>\n",
       "      <td>30</td>\n",
       "      <td>One Way</td>\n",
       "      <td>Monthly Pass</td>\n",
       "    </tr>\n",
       "    <tr>\n",
       "      <th>1</th>\n",
       "      <td>94851141</td>\n",
       "      <td>8</td>\n",
       "      <td>07/01/2018 00:04</td>\n",
       "      <td>07/01/2018 00:12</td>\n",
       "      <td>3058</td>\n",
       "      <td>34.035801</td>\n",
       "      <td>-118.233170</td>\n",
       "      <td>3082</td>\n",
       "      <td>34.046520</td>\n",
       "      <td>-118.237411</td>\n",
       "      <td>6518</td>\n",
       "      <td>365</td>\n",
       "      <td>One Way</td>\n",
       "      <td>Flex Pass</td>\n",
       "    </tr>\n",
       "    <tr>\n",
       "      <th>2</th>\n",
       "      <td>94851138</td>\n",
       "      <td>15</td>\n",
       "      <td>07/01/2018 00:09</td>\n",
       "      <td>07/01/2018 00:24</td>\n",
       "      <td>4147</td>\n",
       "      <td>34.145248</td>\n",
       "      <td>-118.150070</td>\n",
       "      <td>4174</td>\n",
       "      <td>34.165291</td>\n",
       "      <td>-118.150970</td>\n",
       "      <td>4823</td>\n",
       "      <td>365</td>\n",
       "      <td>One Way</td>\n",
       "      <td>Monthly Pass</td>\n",
       "    </tr>\n",
       "    <tr>\n",
       "      <th>3</th>\n",
       "      <td>94851137</td>\n",
       "      <td>7</td>\n",
       "      <td>07/01/2018 00:22</td>\n",
       "      <td>07/01/2018 00:29</td>\n",
       "      <td>4157</td>\n",
       "      <td>34.140999</td>\n",
       "      <td>-118.132088</td>\n",
       "      <td>4162</td>\n",
       "      <td>34.147499</td>\n",
       "      <td>-118.148010</td>\n",
       "      <td>6115</td>\n",
       "      <td>30</td>\n",
       "      <td>One Way</td>\n",
       "      <td>Monthly Pass</td>\n",
       "    </tr>\n",
       "    <tr>\n",
       "      <th>4</th>\n",
       "      <td>94851136</td>\n",
       "      <td>35</td>\n",
       "      <td>07/01/2018 00:23</td>\n",
       "      <td>07/01/2018 00:58</td>\n",
       "      <td>3013</td>\n",
       "      <td>33.779819</td>\n",
       "      <td>-118.263023</td>\n",
       "      <td>3013</td>\n",
       "      <td>33.779819</td>\n",
       "      <td>-118.263023</td>\n",
       "      <td>12055</td>\n",
       "      <td>1</td>\n",
       "      <td>Round Trip</td>\n",
       "      <td>Walk-up</td>\n",
       "    </tr>\n",
       "  </tbody>\n",
       "</table>\n",
       "</div>"
      ],
      "text/plain": [
       "    trip_id  duration        start_time          end_time  start_station  \\\n",
       "0  94851140         8  07/01/2018 00:04  07/01/2018 00:12           3058   \n",
       "1  94851141         8  07/01/2018 00:04  07/01/2018 00:12           3058   \n",
       "2  94851138        15  07/01/2018 00:09  07/01/2018 00:24           4147   \n",
       "3  94851137         7  07/01/2018 00:22  07/01/2018 00:29           4157   \n",
       "4  94851136        35  07/01/2018 00:23  07/01/2018 00:58           3013   \n",
       "\n",
       "   start_lat   start_lon  end_station    end_lat     end_lon  bike_id  \\\n",
       "0  34.035801 -118.233170         3082  34.046520 -118.237411     6279   \n",
       "1  34.035801 -118.233170         3082  34.046520 -118.237411     6518   \n",
       "2  34.145248 -118.150070         4174  34.165291 -118.150970     4823   \n",
       "3  34.140999 -118.132088         4162  34.147499 -118.148010     6115   \n",
       "4  33.779819 -118.263023         3013  33.779819 -118.263023    12055   \n",
       "\n",
       "   plan_duration trip_route_category passholder_type  \n",
       "0             30             One Way    Monthly Pass  \n",
       "1            365             One Way       Flex Pass  \n",
       "2            365             One Way    Monthly Pass  \n",
       "3             30             One Way    Monthly Pass  \n",
       "4              1          Round Trip         Walk-up  "
      ]
     },
     "execution_count": 163,
     "metadata": {},
     "output_type": "execute_result"
    }
   ],
   "source": [
    "df_clean.head(5)"
   ]
  },
  {
   "cell_type": "code",
   "execution_count": 164,
   "metadata": {
    "ExecuteTime": {
     "end_time": "2020-10-01T20:51:45.663414Z",
     "start_time": "2020-10-01T20:51:44.807499Z"
    }
   },
   "outputs": [],
   "source": [
    "df_clean.to_csv(output_filepath, index=False)"
   ]
  },
  {
   "cell_type": "code",
   "execution_count": null,
   "metadata": {},
   "outputs": [],
   "source": []
  },
  {
   "cell_type": "markdown",
   "metadata": {},
   "source": [
    "## process 2018 q4"
   ]
  },
  {
   "cell_type": "code",
   "execution_count": 165,
   "metadata": {
    "ExecuteTime": {
     "end_time": "2020-10-01T20:51:45.668184Z",
     "start_time": "2020-10-01T20:51:45.665175Z"
    }
   },
   "outputs": [],
   "source": [
    "year_q = (18, 4)"
   ]
  },
  {
   "cell_type": "code",
   "execution_count": 166,
   "metadata": {
    "ExecuteTime": {
     "end_time": "2020-10-01T20:51:45.675585Z",
     "start_time": "2020-10-01T20:51:45.670576Z"
    }
   },
   "outputs": [
    {
     "data": {
      "text/plain": [
       "'./rawdata/metro-bike-2018-q4.csv'"
      ]
     },
     "execution_count": 166,
     "metadata": {},
     "output_type": "execute_result"
    }
   ],
   "source": [
    "raw_filepath = \"./rawdata/metro-bike-20%s-q%d.csv\" % year_q\n",
    "output_filepath = \"./processed_data/metro-bike-20%s-q%d.csv\" % year_q\n",
    "raw_filepath"
   ]
  },
  {
   "cell_type": "code",
   "execution_count": 167,
   "metadata": {
    "ExecuteTime": {
     "end_time": "2020-10-01T20:51:45.885560Z",
     "start_time": "2020-10-01T20:51:45.678339Z"
    }
   },
   "outputs": [],
   "source": [
    "df = pd.read_csv(raw_filepath)"
   ]
  },
  {
   "cell_type": "code",
   "execution_count": 168,
   "metadata": {
    "ExecuteTime": {
     "end_time": "2020-10-01T20:51:45.914341Z",
     "start_time": "2020-10-01T20:51:45.887752Z"
    }
   },
   "outputs": [
    {
     "data": {
      "text/html": [
       "<div>\n",
       "<style scoped>\n",
       "    .dataframe tbody tr th:only-of-type {\n",
       "        vertical-align: middle;\n",
       "    }\n",
       "\n",
       "    .dataframe tbody tr th {\n",
       "        vertical-align: top;\n",
       "    }\n",
       "\n",
       "    .dataframe thead th {\n",
       "        text-align: right;\n",
       "    }\n",
       "</style>\n",
       "<table border=\"1\" class=\"dataframe\">\n",
       "  <thead>\n",
       "    <tr style=\"text-align: right;\">\n",
       "      <th></th>\n",
       "      <th>trip_id</th>\n",
       "      <th>duration</th>\n",
       "      <th>start_time</th>\n",
       "      <th>end_time</th>\n",
       "      <th>start_station</th>\n",
       "      <th>start_lat</th>\n",
       "      <th>start_lon</th>\n",
       "      <th>end_station</th>\n",
       "      <th>end_lat</th>\n",
       "      <th>end_lon</th>\n",
       "      <th>bike_id</th>\n",
       "      <th>plan_duration</th>\n",
       "      <th>trip_route_category</th>\n",
       "      <th>passholder_type</th>\n",
       "      <th>bike_type</th>\n",
       "    </tr>\n",
       "  </thead>\n",
       "  <tbody>\n",
       "    <tr>\n",
       "      <th>0</th>\n",
       "      <td>106412136</td>\n",
       "      <td>3</td>\n",
       "      <td>2018-10-01 00:15:00</td>\n",
       "      <td>2018-10-01 00:18:00</td>\n",
       "      <td>3074</td>\n",
       "      <td>34.044170</td>\n",
       "      <td>-118.261169</td>\n",
       "      <td>3005</td>\n",
       "      <td>34.048500</td>\n",
       "      <td>-118.258537</td>\n",
       "      <td>12138</td>\n",
       "      <td>30</td>\n",
       "      <td>One Way</td>\n",
       "      <td>Monthly Pass</td>\n",
       "      <td>standard</td>\n",
       "    </tr>\n",
       "    <tr>\n",
       "      <th>1</th>\n",
       "      <td>106412364</td>\n",
       "      <td>5</td>\n",
       "      <td>2018-10-01 00:19:00</td>\n",
       "      <td>2018-10-01 00:24:00</td>\n",
       "      <td>3005</td>\n",
       "      <td>34.048500</td>\n",
       "      <td>-118.258537</td>\n",
       "      <td>3052</td>\n",
       "      <td>34.051102</td>\n",
       "      <td>-118.264557</td>\n",
       "      <td>12269</td>\n",
       "      <td>30</td>\n",
       "      <td>One Way</td>\n",
       "      <td>Monthly Pass</td>\n",
       "      <td>standard</td>\n",
       "    </tr>\n",
       "    <tr>\n",
       "      <th>2</th>\n",
       "      <td>106413729</td>\n",
       "      <td>34</td>\n",
       "      <td>2018-10-01 00:19:00</td>\n",
       "      <td>2018-10-01 00:53:00</td>\n",
       "      <td>3042</td>\n",
       "      <td>34.049301</td>\n",
       "      <td>-118.238808</td>\n",
       "      <td>3042</td>\n",
       "      <td>34.049301</td>\n",
       "      <td>-118.238808</td>\n",
       "      <td>12446</td>\n",
       "      <td>1</td>\n",
       "      <td>Round Trip</td>\n",
       "      <td>Walk-up</td>\n",
       "      <td>standard</td>\n",
       "    </tr>\n",
       "    <tr>\n",
       "      <th>3</th>\n",
       "      <td>106413727</td>\n",
       "      <td>33</td>\n",
       "      <td>2018-10-01 00:20:00</td>\n",
       "      <td>2018-10-01 00:53:00</td>\n",
       "      <td>3042</td>\n",
       "      <td>34.049301</td>\n",
       "      <td>-118.238808</td>\n",
       "      <td>3042</td>\n",
       "      <td>34.049301</td>\n",
       "      <td>-118.238808</td>\n",
       "      <td>12074</td>\n",
       "      <td>1</td>\n",
       "      <td>Round Trip</td>\n",
       "      <td>Walk-up</td>\n",
       "      <td>standard</td>\n",
       "    </tr>\n",
       "    <tr>\n",
       "      <th>4</th>\n",
       "      <td>106430682</td>\n",
       "      <td>412</td>\n",
       "      <td>2018-10-01 00:20:00</td>\n",
       "      <td>2018-10-01 07:12:00</td>\n",
       "      <td>3042</td>\n",
       "      <td>34.049301</td>\n",
       "      <td>-118.238808</td>\n",
       "      <td>3042</td>\n",
       "      <td>34.049301</td>\n",
       "      <td>-118.238808</td>\n",
       "      <td>6165</td>\n",
       "      <td>1</td>\n",
       "      <td>Round Trip</td>\n",
       "      <td>Walk-up</td>\n",
       "      <td>standard</td>\n",
       "    </tr>\n",
       "    <tr>\n",
       "      <th>...</th>\n",
       "      <td>...</td>\n",
       "      <td>...</td>\n",
       "      <td>...</td>\n",
       "      <td>...</td>\n",
       "      <td>...</td>\n",
       "      <td>...</td>\n",
       "      <td>...</td>\n",
       "      <td>...</td>\n",
       "      <td>...</td>\n",
       "      <td>...</td>\n",
       "      <td>...</td>\n",
       "      <td>...</td>\n",
       "      <td>...</td>\n",
       "      <td>...</td>\n",
       "      <td>...</td>\n",
       "    </tr>\n",
       "    <tr>\n",
       "      <th>73862</th>\n",
       "      <td>112536055</td>\n",
       "      <td>9</td>\n",
       "      <td>2018-12-31 23:46:00</td>\n",
       "      <td>2018-12-31 23:55:00</td>\n",
       "      <td>3069</td>\n",
       "      <td>34.050880</td>\n",
       "      <td>-118.248253</td>\n",
       "      <td>3069</td>\n",
       "      <td>34.050880</td>\n",
       "      <td>-118.248253</td>\n",
       "      <td>6222</td>\n",
       "      <td>1</td>\n",
       "      <td>Round Trip</td>\n",
       "      <td>Walk-up</td>\n",
       "      <td>standard</td>\n",
       "    </tr>\n",
       "    <tr>\n",
       "      <th>73863</th>\n",
       "      <td>112536054</td>\n",
       "      <td>7</td>\n",
       "      <td>2018-12-31 23:47:00</td>\n",
       "      <td>2018-12-31 23:54:00</td>\n",
       "      <td>3069</td>\n",
       "      <td>34.050880</td>\n",
       "      <td>-118.248253</td>\n",
       "      <td>3069</td>\n",
       "      <td>34.050880</td>\n",
       "      <td>-118.248253</td>\n",
       "      <td>5730</td>\n",
       "      <td>1</td>\n",
       "      <td>Round Trip</td>\n",
       "      <td>Walk-up</td>\n",
       "      <td>standard</td>\n",
       "    </tr>\n",
       "    <tr>\n",
       "      <th>73864</th>\n",
       "      <td>112540414</td>\n",
       "      <td>97</td>\n",
       "      <td>2018-12-31 23:51:00</td>\n",
       "      <td>2019-01-01 01:28:00</td>\n",
       "      <td>4211</td>\n",
       "      <td>33.984928</td>\n",
       "      <td>-118.469963</td>\n",
       "      <td>4210</td>\n",
       "      <td>33.984341</td>\n",
       "      <td>-118.471550</td>\n",
       "      <td>12347</td>\n",
       "      <td>1</td>\n",
       "      <td>One Way</td>\n",
       "      <td>Walk-up</td>\n",
       "      <td>standard</td>\n",
       "    </tr>\n",
       "    <tr>\n",
       "      <th>73865</th>\n",
       "      <td>112537256</td>\n",
       "      <td>28</td>\n",
       "      <td>2018-12-31 23:54:00</td>\n",
       "      <td>2019-01-01 00:22:00</td>\n",
       "      <td>3005</td>\n",
       "      <td>34.048500</td>\n",
       "      <td>-118.258537</td>\n",
       "      <td>3082</td>\n",
       "      <td>34.046520</td>\n",
       "      <td>-118.237411</td>\n",
       "      <td>12128</td>\n",
       "      <td>1</td>\n",
       "      <td>One Way</td>\n",
       "      <td>Walk-up</td>\n",
       "      <td>standard</td>\n",
       "    </tr>\n",
       "    <tr>\n",
       "      <th>73866</th>\n",
       "      <td>112537255</td>\n",
       "      <td>26</td>\n",
       "      <td>2018-12-31 23:56:00</td>\n",
       "      <td>2019-01-01 00:22:00</td>\n",
       "      <td>3005</td>\n",
       "      <td>34.048500</td>\n",
       "      <td>-118.258537</td>\n",
       "      <td>3082</td>\n",
       "      <td>34.046520</td>\n",
       "      <td>-118.237411</td>\n",
       "      <td>12017</td>\n",
       "      <td>1</td>\n",
       "      <td>One Way</td>\n",
       "      <td>Walk-up</td>\n",
       "      <td>standard</td>\n",
       "    </tr>\n",
       "  </tbody>\n",
       "</table>\n",
       "<p>73867 rows × 15 columns</p>\n",
       "</div>"
      ],
      "text/plain": [
       "         trip_id  duration           start_time             end_time  \\\n",
       "0      106412136         3  2018-10-01 00:15:00  2018-10-01 00:18:00   \n",
       "1      106412364         5  2018-10-01 00:19:00  2018-10-01 00:24:00   \n",
       "2      106413729        34  2018-10-01 00:19:00  2018-10-01 00:53:00   \n",
       "3      106413727        33  2018-10-01 00:20:00  2018-10-01 00:53:00   \n",
       "4      106430682       412  2018-10-01 00:20:00  2018-10-01 07:12:00   \n",
       "...          ...       ...                  ...                  ...   \n",
       "73862  112536055         9  2018-12-31 23:46:00  2018-12-31 23:55:00   \n",
       "73863  112536054         7  2018-12-31 23:47:00  2018-12-31 23:54:00   \n",
       "73864  112540414        97  2018-12-31 23:51:00  2019-01-01 01:28:00   \n",
       "73865  112537256        28  2018-12-31 23:54:00  2019-01-01 00:22:00   \n",
       "73866  112537255        26  2018-12-31 23:56:00  2019-01-01 00:22:00   \n",
       "\n",
       "       start_station  start_lat   start_lon  end_station    end_lat  \\\n",
       "0               3074  34.044170 -118.261169         3005  34.048500   \n",
       "1               3005  34.048500 -118.258537         3052  34.051102   \n",
       "2               3042  34.049301 -118.238808         3042  34.049301   \n",
       "3               3042  34.049301 -118.238808         3042  34.049301   \n",
       "4               3042  34.049301 -118.238808         3042  34.049301   \n",
       "...              ...        ...         ...          ...        ...   \n",
       "73862           3069  34.050880 -118.248253         3069  34.050880   \n",
       "73863           3069  34.050880 -118.248253         3069  34.050880   \n",
       "73864           4211  33.984928 -118.469963         4210  33.984341   \n",
       "73865           3005  34.048500 -118.258537         3082  34.046520   \n",
       "73866           3005  34.048500 -118.258537         3082  34.046520   \n",
       "\n",
       "          end_lon  bike_id  plan_duration trip_route_category passholder_type  \\\n",
       "0     -118.258537    12138             30             One Way    Monthly Pass   \n",
       "1     -118.264557    12269             30             One Way    Monthly Pass   \n",
       "2     -118.238808    12446              1          Round Trip         Walk-up   \n",
       "3     -118.238808    12074              1          Round Trip         Walk-up   \n",
       "4     -118.238808     6165              1          Round Trip         Walk-up   \n",
       "...           ...      ...            ...                 ...             ...   \n",
       "73862 -118.248253     6222              1          Round Trip         Walk-up   \n",
       "73863 -118.248253     5730              1          Round Trip         Walk-up   \n",
       "73864 -118.471550    12347              1             One Way         Walk-up   \n",
       "73865 -118.237411    12128              1             One Way         Walk-up   \n",
       "73866 -118.237411    12017              1             One Way         Walk-up   \n",
       "\n",
       "      bike_type  \n",
       "0      standard  \n",
       "1      standard  \n",
       "2      standard  \n",
       "3      standard  \n",
       "4      standard  \n",
       "...         ...  \n",
       "73862  standard  \n",
       "73863  standard  \n",
       "73864  standard  \n",
       "73865  standard  \n",
       "73866  standard  \n",
       "\n",
       "[73867 rows x 15 columns]"
      ]
     },
     "execution_count": 168,
     "metadata": {},
     "output_type": "execute_result"
    }
   ],
   "source": [
    "df"
   ]
  },
  {
   "cell_type": "code",
   "execution_count": 169,
   "metadata": {
    "ExecuteTime": {
     "end_time": "2020-10-01T20:51:45.918933Z",
     "start_time": "2020-10-01T20:51:45.916738Z"
    }
   },
   "outputs": [],
   "source": [
    "# df = df.rename(columns = {'start_station_id': 'start_station', 'end_station_id': 'end_station'})\n",
    "# df.columns"
   ]
  },
  {
   "cell_type": "code",
   "execution_count": 170,
   "metadata": {
    "ExecuteTime": {
     "end_time": "2020-10-01T20:51:45.927883Z",
     "start_time": "2020-10-01T20:51:45.920935Z"
    }
   },
   "outputs": [],
   "source": [
    "s1 = df.start_station == 3000\n",
    "s2 = df.end_station == 3000\n",
    "index3000 = df[s1 | s2].index"
   ]
  },
  {
   "cell_type": "code",
   "execution_count": 171,
   "metadata": {
    "ExecuteTime": {
     "end_time": "2020-10-01T20:51:45.945489Z",
     "start_time": "2020-10-01T20:51:45.929745Z"
    }
   },
   "outputs": [],
   "source": [
    "df_without_3000 = df.drop(index3000)"
   ]
  },
  {
   "cell_type": "code",
   "execution_count": 172,
   "metadata": {
    "ExecuteTime": {
     "end_time": "2020-10-01T20:51:45.973792Z",
     "start_time": "2020-10-01T20:51:45.947517Z"
    }
   },
   "outputs": [
    {
     "name": "stdout",
     "output_type": "stream",
     "text": [
      "<class 'pandas.core.frame.DataFrame'>\n",
      "Int64Index: 72763 entries, 0 to 73866\n",
      "Data columns (total 15 columns):\n",
      " #   Column               Non-Null Count  Dtype  \n",
      "---  ------               --------------  -----  \n",
      " 0   trip_id              72763 non-null  int64  \n",
      " 1   duration             72763 non-null  int64  \n",
      " 2   start_time           72763 non-null  object \n",
      " 3   end_time             72763 non-null  object \n",
      " 4   start_station        72763 non-null  int64  \n",
      " 5   start_lat            72763 non-null  float64\n",
      " 6   start_lon            72763 non-null  float64\n",
      " 7   end_station          72763 non-null  int64  \n",
      " 8   end_lat              72763 non-null  float64\n",
      " 9   end_lon              72763 non-null  float64\n",
      " 10  bike_id              72763 non-null  int64  \n",
      " 11  plan_duration        72763 non-null  int64  \n",
      " 12  trip_route_category  72763 non-null  object \n",
      " 13  passholder_type      72763 non-null  object \n",
      " 14  bike_type            72763 non-null  object \n",
      "dtypes: float64(4), int64(6), object(5)\n",
      "memory usage: 8.9+ MB\n"
     ]
    }
   ],
   "source": [
    "df_without_3000.info()"
   ]
  },
  {
   "cell_type": "code",
   "execution_count": 173,
   "metadata": {
    "ExecuteTime": {
     "end_time": "2020-10-01T20:51:45.979526Z",
     "start_time": "2020-10-01T20:51:45.975769Z"
    }
   },
   "outputs": [],
   "source": [
    "df_position = df_without_3000[[\"start_lat\", \"start_lon\", \"end_lat\", \"end_lon\"]]"
   ]
  },
  {
   "cell_type": "code",
   "execution_count": 174,
   "metadata": {
    "ExecuteTime": {
     "end_time": "2020-10-01T20:51:45.984264Z",
     "start_time": "2020-10-01T20:51:45.981178Z"
    }
   },
   "outputs": [],
   "source": [
    "df_position_isnull = df_position.isnull()"
   ]
  },
  {
   "cell_type": "code",
   "execution_count": 175,
   "metadata": {
    "ExecuteTime": {
     "end_time": "2020-10-01T20:51:45.990743Z",
     "start_time": "2020-10-01T20:51:45.986416Z"
    }
   },
   "outputs": [],
   "source": [
    "index_station_without_position = df_position_isnull[df_position_isnull.any(axis=1)].index"
   ]
  },
  {
   "cell_type": "code",
   "execution_count": 176,
   "metadata": {
    "ExecuteTime": {
     "end_time": "2020-10-01T20:51:46.009304Z",
     "start_time": "2020-10-01T20:51:45.992689Z"
    }
   },
   "outputs": [],
   "source": [
    "df_clean = df_without_3000.drop(index_station_without_position)"
   ]
  },
  {
   "cell_type": "code",
   "execution_count": 177,
   "metadata": {
    "ExecuteTime": {
     "end_time": "2020-10-01T20:51:46.034435Z",
     "start_time": "2020-10-01T20:51:46.011829Z"
    },
    "scrolled": true
   },
   "outputs": [
    {
     "data": {
      "text/plain": [
       "trip_id                False\n",
       "duration               False\n",
       "start_time             False\n",
       "end_time               False\n",
       "start_station          False\n",
       "start_lat              False\n",
       "start_lon              False\n",
       "end_station            False\n",
       "end_lat                False\n",
       "end_lon                False\n",
       "bike_id                False\n",
       "plan_duration          False\n",
       "trip_route_category    False\n",
       "passholder_type        False\n",
       "bike_type              False\n",
       "dtype: bool"
      ]
     },
     "execution_count": 177,
     "metadata": {},
     "output_type": "execute_result"
    }
   ],
   "source": [
    "dpu.df_has_nan(df_clean)"
   ]
  },
  {
   "cell_type": "code",
   "execution_count": 178,
   "metadata": {
    "ExecuteTime": {
     "end_time": "2020-10-01T20:51:46.047114Z",
     "start_time": "2020-10-01T20:51:46.036874Z"
    }
   },
   "outputs": [
    {
     "data": {
      "text/plain": [
       "'2018-10-01 00:15:00'"
      ]
     },
     "execution_count": 178,
     "metadata": {},
     "output_type": "execute_result"
    }
   ],
   "source": [
    "time_need_check = list(df_clean.start_time)[0]\n",
    "time_need_check"
   ]
  },
  {
   "cell_type": "code",
   "execution_count": 179,
   "metadata": {
    "ExecuteTime": {
     "end_time": "2020-10-01T20:51:46.053463Z",
     "start_time": "2020-10-01T20:51:46.049335Z"
    }
   },
   "outputs": [
    {
     "data": {
      "text/plain": [
       "True"
      ]
     },
     "execution_count": 179,
     "metadata": {},
     "output_type": "execute_result"
    }
   ],
   "source": [
    "time_format_need_change = dpu.is_time_format(time_need_check, t_format_check)\n",
    "time_format_need_change"
   ]
  },
  {
   "cell_type": "code",
   "execution_count": 180,
   "metadata": {
    "ExecuteTime": {
     "end_time": "2020-10-01T20:51:49.026029Z",
     "start_time": "2020-10-01T20:51:46.055669Z"
    }
   },
   "outputs": [],
   "source": [
    "if time_format_need_change:\n",
    "    df_clean[[\"start_time\", \"end_time\"]] = df_clean[[\"start_time\", \"end_time\"]].applymap(lambda ts: dpu.change_time_format(ts, t_format_check, t_format_output))"
   ]
  },
  {
   "cell_type": "code",
   "execution_count": 181,
   "metadata": {
    "ExecuteTime": {
     "end_time": "2020-10-01T20:51:49.041306Z",
     "start_time": "2020-10-01T20:51:49.027858Z"
    }
   },
   "outputs": [
    {
     "data": {
      "text/html": [
       "<div>\n",
       "<style scoped>\n",
       "    .dataframe tbody tr th:only-of-type {\n",
       "        vertical-align: middle;\n",
       "    }\n",
       "\n",
       "    .dataframe tbody tr th {\n",
       "        vertical-align: top;\n",
       "    }\n",
       "\n",
       "    .dataframe thead th {\n",
       "        text-align: right;\n",
       "    }\n",
       "</style>\n",
       "<table border=\"1\" class=\"dataframe\">\n",
       "  <thead>\n",
       "    <tr style=\"text-align: right;\">\n",
       "      <th></th>\n",
       "      <th>trip_id</th>\n",
       "      <th>duration</th>\n",
       "      <th>start_time</th>\n",
       "      <th>end_time</th>\n",
       "      <th>start_station</th>\n",
       "      <th>start_lat</th>\n",
       "      <th>start_lon</th>\n",
       "      <th>end_station</th>\n",
       "      <th>end_lat</th>\n",
       "      <th>end_lon</th>\n",
       "      <th>bike_id</th>\n",
       "      <th>plan_duration</th>\n",
       "      <th>trip_route_category</th>\n",
       "      <th>passholder_type</th>\n",
       "      <th>bike_type</th>\n",
       "    </tr>\n",
       "  </thead>\n",
       "  <tbody>\n",
       "    <tr>\n",
       "      <th>0</th>\n",
       "      <td>106412136</td>\n",
       "      <td>3</td>\n",
       "      <td>10/01/2018 00:15</td>\n",
       "      <td>10/01/2018 00:18</td>\n",
       "      <td>3074</td>\n",
       "      <td>34.044170</td>\n",
       "      <td>-118.261169</td>\n",
       "      <td>3005</td>\n",
       "      <td>34.048500</td>\n",
       "      <td>-118.258537</td>\n",
       "      <td>12138</td>\n",
       "      <td>30</td>\n",
       "      <td>One Way</td>\n",
       "      <td>Monthly Pass</td>\n",
       "      <td>standard</td>\n",
       "    </tr>\n",
       "    <tr>\n",
       "      <th>1</th>\n",
       "      <td>106412364</td>\n",
       "      <td>5</td>\n",
       "      <td>10/01/2018 00:19</td>\n",
       "      <td>10/01/2018 00:24</td>\n",
       "      <td>3005</td>\n",
       "      <td>34.048500</td>\n",
       "      <td>-118.258537</td>\n",
       "      <td>3052</td>\n",
       "      <td>34.051102</td>\n",
       "      <td>-118.264557</td>\n",
       "      <td>12269</td>\n",
       "      <td>30</td>\n",
       "      <td>One Way</td>\n",
       "      <td>Monthly Pass</td>\n",
       "      <td>standard</td>\n",
       "    </tr>\n",
       "    <tr>\n",
       "      <th>2</th>\n",
       "      <td>106413729</td>\n",
       "      <td>34</td>\n",
       "      <td>10/01/2018 00:19</td>\n",
       "      <td>10/01/2018 00:53</td>\n",
       "      <td>3042</td>\n",
       "      <td>34.049301</td>\n",
       "      <td>-118.238808</td>\n",
       "      <td>3042</td>\n",
       "      <td>34.049301</td>\n",
       "      <td>-118.238808</td>\n",
       "      <td>12446</td>\n",
       "      <td>1</td>\n",
       "      <td>Round Trip</td>\n",
       "      <td>Walk-up</td>\n",
       "      <td>standard</td>\n",
       "    </tr>\n",
       "    <tr>\n",
       "      <th>3</th>\n",
       "      <td>106413727</td>\n",
       "      <td>33</td>\n",
       "      <td>10/01/2018 00:20</td>\n",
       "      <td>10/01/2018 00:53</td>\n",
       "      <td>3042</td>\n",
       "      <td>34.049301</td>\n",
       "      <td>-118.238808</td>\n",
       "      <td>3042</td>\n",
       "      <td>34.049301</td>\n",
       "      <td>-118.238808</td>\n",
       "      <td>12074</td>\n",
       "      <td>1</td>\n",
       "      <td>Round Trip</td>\n",
       "      <td>Walk-up</td>\n",
       "      <td>standard</td>\n",
       "    </tr>\n",
       "    <tr>\n",
       "      <th>4</th>\n",
       "      <td>106430682</td>\n",
       "      <td>412</td>\n",
       "      <td>10/01/2018 00:20</td>\n",
       "      <td>10/01/2018 07:12</td>\n",
       "      <td>3042</td>\n",
       "      <td>34.049301</td>\n",
       "      <td>-118.238808</td>\n",
       "      <td>3042</td>\n",
       "      <td>34.049301</td>\n",
       "      <td>-118.238808</td>\n",
       "      <td>6165</td>\n",
       "      <td>1</td>\n",
       "      <td>Round Trip</td>\n",
       "      <td>Walk-up</td>\n",
       "      <td>standard</td>\n",
       "    </tr>\n",
       "  </tbody>\n",
       "</table>\n",
       "</div>"
      ],
      "text/plain": [
       "     trip_id  duration        start_time          end_time  start_station  \\\n",
       "0  106412136         3  10/01/2018 00:15  10/01/2018 00:18           3074   \n",
       "1  106412364         5  10/01/2018 00:19  10/01/2018 00:24           3005   \n",
       "2  106413729        34  10/01/2018 00:19  10/01/2018 00:53           3042   \n",
       "3  106413727        33  10/01/2018 00:20  10/01/2018 00:53           3042   \n",
       "4  106430682       412  10/01/2018 00:20  10/01/2018 07:12           3042   \n",
       "\n",
       "   start_lat   start_lon  end_station    end_lat     end_lon  bike_id  \\\n",
       "0  34.044170 -118.261169         3005  34.048500 -118.258537    12138   \n",
       "1  34.048500 -118.258537         3052  34.051102 -118.264557    12269   \n",
       "2  34.049301 -118.238808         3042  34.049301 -118.238808    12446   \n",
       "3  34.049301 -118.238808         3042  34.049301 -118.238808    12074   \n",
       "4  34.049301 -118.238808         3042  34.049301 -118.238808     6165   \n",
       "\n",
       "   plan_duration trip_route_category passholder_type bike_type  \n",
       "0             30             One Way    Monthly Pass  standard  \n",
       "1             30             One Way    Monthly Pass  standard  \n",
       "2              1          Round Trip         Walk-up  standard  \n",
       "3              1          Round Trip         Walk-up  standard  \n",
       "4              1          Round Trip         Walk-up  standard  "
      ]
     },
     "execution_count": 181,
     "metadata": {},
     "output_type": "execute_result"
    }
   ],
   "source": [
    "df_clean.head(5)"
   ]
  },
  {
   "cell_type": "code",
   "execution_count": 182,
   "metadata": {
    "ExecuteTime": {
     "end_time": "2020-10-01T20:51:49.746970Z",
     "start_time": "2020-10-01T20:51:49.042794Z"
    }
   },
   "outputs": [],
   "source": [
    "df_clean.to_csv(output_filepath, index=False)"
   ]
  },
  {
   "cell_type": "code",
   "execution_count": null,
   "metadata": {},
   "outputs": [],
   "source": []
  },
  {
   "cell_type": "markdown",
   "metadata": {},
   "source": [
    "## process 2019 q1"
   ]
  },
  {
   "cell_type": "code",
   "execution_count": 183,
   "metadata": {
    "ExecuteTime": {
     "end_time": "2020-10-01T20:51:49.751343Z",
     "start_time": "2020-10-01T20:51:49.748915Z"
    }
   },
   "outputs": [],
   "source": [
    "year_q = (19, 1)"
   ]
  },
  {
   "cell_type": "code",
   "execution_count": 184,
   "metadata": {
    "ExecuteTime": {
     "end_time": "2020-10-01T20:51:49.757915Z",
     "start_time": "2020-10-01T20:51:49.753413Z"
    }
   },
   "outputs": [
    {
     "data": {
      "text/plain": [
       "'./rawdata/metro-bike-2019-q1.csv'"
      ]
     },
     "execution_count": 184,
     "metadata": {},
     "output_type": "execute_result"
    }
   ],
   "source": [
    "raw_filepath = \"./rawdata/metro-bike-20%s-q%d.csv\" % year_q\n",
    "output_filepath = \"./processed_data/metro-bike-20%s-q%d.csv\" % year_q\n",
    "raw_filepath"
   ]
  },
  {
   "cell_type": "code",
   "execution_count": 185,
   "metadata": {
    "ExecuteTime": {
     "end_time": "2020-10-01T20:51:49.922139Z",
     "start_time": "2020-10-01T20:51:49.760266Z"
    }
   },
   "outputs": [],
   "source": [
    "df = pd.read_csv(raw_filepath)"
   ]
  },
  {
   "cell_type": "code",
   "execution_count": 186,
   "metadata": {
    "ExecuteTime": {
     "end_time": "2020-10-01T20:51:49.950557Z",
     "start_time": "2020-10-01T20:51:49.924401Z"
    }
   },
   "outputs": [
    {
     "data": {
      "text/html": [
       "<div>\n",
       "<style scoped>\n",
       "    .dataframe tbody tr th:only-of-type {\n",
       "        vertical-align: middle;\n",
       "    }\n",
       "\n",
       "    .dataframe tbody tr th {\n",
       "        vertical-align: top;\n",
       "    }\n",
       "\n",
       "    .dataframe thead th {\n",
       "        text-align: right;\n",
       "    }\n",
       "</style>\n",
       "<table border=\"1\" class=\"dataframe\">\n",
       "  <thead>\n",
       "    <tr style=\"text-align: right;\">\n",
       "      <th></th>\n",
       "      <th>trip_id</th>\n",
       "      <th>duration</th>\n",
       "      <th>start_time</th>\n",
       "      <th>end_time</th>\n",
       "      <th>start_station</th>\n",
       "      <th>start_lat</th>\n",
       "      <th>start_lon</th>\n",
       "      <th>end_station</th>\n",
       "      <th>end_lat</th>\n",
       "      <th>end_lon</th>\n",
       "      <th>bike_id</th>\n",
       "      <th>plan_duration</th>\n",
       "      <th>trip_route_category</th>\n",
       "      <th>passholder_type</th>\n",
       "      <th>bike_type</th>\n",
       "    </tr>\n",
       "  </thead>\n",
       "  <tbody>\n",
       "    <tr>\n",
       "      <th>0</th>\n",
       "      <td>112536773</td>\n",
       "      <td>7</td>\n",
       "      <td>2019-01-01 00:07:00</td>\n",
       "      <td>2019-01-01 00:14:00</td>\n",
       "      <td>3046</td>\n",
       "      <td>34.052872</td>\n",
       "      <td>-118.247490</td>\n",
       "      <td>3051</td>\n",
       "      <td>34.045422</td>\n",
       "      <td>-118.253517</td>\n",
       "      <td>06468</td>\n",
       "      <td>1</td>\n",
       "      <td>One Way</td>\n",
       "      <td>Walk-up</td>\n",
       "      <td>standard</td>\n",
       "    </tr>\n",
       "    <tr>\n",
       "      <th>1</th>\n",
       "      <td>112536772</td>\n",
       "      <td>6</td>\n",
       "      <td>2019-01-01 00:08:00</td>\n",
       "      <td>2019-01-01 00:14:00</td>\n",
       "      <td>3046</td>\n",
       "      <td>34.052872</td>\n",
       "      <td>-118.247490</td>\n",
       "      <td>3051</td>\n",
       "      <td>34.045422</td>\n",
       "      <td>-118.253517</td>\n",
       "      <td>12311</td>\n",
       "      <td>1</td>\n",
       "      <td>One Way</td>\n",
       "      <td>Walk-up</td>\n",
       "      <td>standard</td>\n",
       "    </tr>\n",
       "    <tr>\n",
       "      <th>2</th>\n",
       "      <td>112538689</td>\n",
       "      <td>32</td>\n",
       "      <td>2019-01-01 00:18:00</td>\n",
       "      <td>2019-01-01 00:50:00</td>\n",
       "      <td>3030</td>\n",
       "      <td>34.051941</td>\n",
       "      <td>-118.243530</td>\n",
       "      <td>3075</td>\n",
       "      <td>34.042110</td>\n",
       "      <td>-118.256187</td>\n",
       "      <td>05992</td>\n",
       "      <td>1</td>\n",
       "      <td>One Way</td>\n",
       "      <td>Walk-up</td>\n",
       "      <td>standard</td>\n",
       "    </tr>\n",
       "    <tr>\n",
       "      <th>3</th>\n",
       "      <td>112538688</td>\n",
       "      <td>30</td>\n",
       "      <td>2019-01-01 00:20:00</td>\n",
       "      <td>2019-01-01 00:50:00</td>\n",
       "      <td>3030</td>\n",
       "      <td>34.051941</td>\n",
       "      <td>-118.243530</td>\n",
       "      <td>3075</td>\n",
       "      <td>34.042110</td>\n",
       "      <td>-118.256187</td>\n",
       "      <td>05860</td>\n",
       "      <td>1</td>\n",
       "      <td>One Way</td>\n",
       "      <td>Walk-up</td>\n",
       "      <td>standard</td>\n",
       "    </tr>\n",
       "    <tr>\n",
       "      <th>4</th>\n",
       "      <td>112538687</td>\n",
       "      <td>28</td>\n",
       "      <td>2019-01-01 00:22:00</td>\n",
       "      <td>2019-01-01 00:50:00</td>\n",
       "      <td>3030</td>\n",
       "      <td>34.051941</td>\n",
       "      <td>-118.243530</td>\n",
       "      <td>3075</td>\n",
       "      <td>34.042110</td>\n",
       "      <td>-118.256187</td>\n",
       "      <td>06006</td>\n",
       "      <td>1</td>\n",
       "      <td>One Way</td>\n",
       "      <td>Walk-up</td>\n",
       "      <td>standard</td>\n",
       "    </tr>\n",
       "    <tr>\n",
       "      <th>...</th>\n",
       "      <td>...</td>\n",
       "      <td>...</td>\n",
       "      <td>...</td>\n",
       "      <td>...</td>\n",
       "      <td>...</td>\n",
       "      <td>...</td>\n",
       "      <td>...</td>\n",
       "      <td>...</td>\n",
       "      <td>...</td>\n",
       "      <td>...</td>\n",
       "      <td>...</td>\n",
       "      <td>...</td>\n",
       "      <td>...</td>\n",
       "      <td>...</td>\n",
       "      <td>...</td>\n",
       "    </tr>\n",
       "    <tr>\n",
       "      <th>57353</th>\n",
       "      <td>118592974</td>\n",
       "      <td>547</td>\n",
       "      <td>2019-03-31 22:23:00</td>\n",
       "      <td>2019-04-01 07:30:00</td>\n",
       "      <td>3077</td>\n",
       "      <td>34.039871</td>\n",
       "      <td>-118.250038</td>\n",
       "      <td>3010</td>\n",
       "      <td>34.037048</td>\n",
       "      <td>-118.254868</td>\n",
       "      <td>05885</td>\n",
       "      <td>1</td>\n",
       "      <td>One Way</td>\n",
       "      <td>Walk-up</td>\n",
       "      <td>standard</td>\n",
       "    </tr>\n",
       "    <tr>\n",
       "      <th>57354</th>\n",
       "      <td>118571367</td>\n",
       "      <td>20</td>\n",
       "      <td>2019-03-31 22:41:00</td>\n",
       "      <td>2019-03-31 23:01:00</td>\n",
       "      <td>3038</td>\n",
       "      <td>34.046822</td>\n",
       "      <td>-118.248352</td>\n",
       "      <td>3051</td>\n",
       "      <td>34.045422</td>\n",
       "      <td>-118.253517</td>\n",
       "      <td>12059</td>\n",
       "      <td>30</td>\n",
       "      <td>One Way</td>\n",
       "      <td>Monthly Pass</td>\n",
       "      <td>standard</td>\n",
       "    </tr>\n",
       "    <tr>\n",
       "      <th>57355</th>\n",
       "      <td>118571366</td>\n",
       "      <td>12</td>\n",
       "      <td>2019-03-31 23:02:00</td>\n",
       "      <td>2019-03-31 23:14:00</td>\n",
       "      <td>3051</td>\n",
       "      <td>34.045422</td>\n",
       "      <td>-118.253517</td>\n",
       "      <td>3047</td>\n",
       "      <td>34.039982</td>\n",
       "      <td>-118.266403</td>\n",
       "      <td>12059</td>\n",
       "      <td>30</td>\n",
       "      <td>One Way</td>\n",
       "      <td>Monthly Pass</td>\n",
       "      <td>standard</td>\n",
       "    </tr>\n",
       "    <tr>\n",
       "      <th>57356</th>\n",
       "      <td>118571365</td>\n",
       "      <td>18</td>\n",
       "      <td>2019-03-31 23:22:00</td>\n",
       "      <td>2019-03-31 23:40:00</td>\n",
       "      <td>3052</td>\n",
       "      <td>34.051102</td>\n",
       "      <td>-118.264557</td>\n",
       "      <td>3005</td>\n",
       "      <td>34.048500</td>\n",
       "      <td>-118.258537</td>\n",
       "      <td>06295</td>\n",
       "      <td>30</td>\n",
       "      <td>One Way</td>\n",
       "      <td>Monthly Pass</td>\n",
       "      <td>standard</td>\n",
       "    </tr>\n",
       "    <tr>\n",
       "      <th>57357</th>\n",
       "      <td>118571364</td>\n",
       "      <td>22</td>\n",
       "      <td>2019-03-31 23:36:00</td>\n",
       "      <td>2019-03-31 23:58:00</td>\n",
       "      <td>3026</td>\n",
       "      <td>34.063179</td>\n",
       "      <td>-118.245880</td>\n",
       "      <td>3047</td>\n",
       "      <td>34.039982</td>\n",
       "      <td>-118.266403</td>\n",
       "      <td>12308</td>\n",
       "      <td>1</td>\n",
       "      <td>One Way</td>\n",
       "      <td>Walk-up</td>\n",
       "      <td>standard</td>\n",
       "    </tr>\n",
       "  </tbody>\n",
       "</table>\n",
       "<p>57358 rows × 15 columns</p>\n",
       "</div>"
      ],
      "text/plain": [
       "         trip_id  duration           start_time             end_time  \\\n",
       "0      112536773         7  2019-01-01 00:07:00  2019-01-01 00:14:00   \n",
       "1      112536772         6  2019-01-01 00:08:00  2019-01-01 00:14:00   \n",
       "2      112538689        32  2019-01-01 00:18:00  2019-01-01 00:50:00   \n",
       "3      112538688        30  2019-01-01 00:20:00  2019-01-01 00:50:00   \n",
       "4      112538687        28  2019-01-01 00:22:00  2019-01-01 00:50:00   \n",
       "...          ...       ...                  ...                  ...   \n",
       "57353  118592974       547  2019-03-31 22:23:00  2019-04-01 07:30:00   \n",
       "57354  118571367        20  2019-03-31 22:41:00  2019-03-31 23:01:00   \n",
       "57355  118571366        12  2019-03-31 23:02:00  2019-03-31 23:14:00   \n",
       "57356  118571365        18  2019-03-31 23:22:00  2019-03-31 23:40:00   \n",
       "57357  118571364        22  2019-03-31 23:36:00  2019-03-31 23:58:00   \n",
       "\n",
       "       start_station  start_lat   start_lon  end_station    end_lat  \\\n",
       "0               3046  34.052872 -118.247490         3051  34.045422   \n",
       "1               3046  34.052872 -118.247490         3051  34.045422   \n",
       "2               3030  34.051941 -118.243530         3075  34.042110   \n",
       "3               3030  34.051941 -118.243530         3075  34.042110   \n",
       "4               3030  34.051941 -118.243530         3075  34.042110   \n",
       "...              ...        ...         ...          ...        ...   \n",
       "57353           3077  34.039871 -118.250038         3010  34.037048   \n",
       "57354           3038  34.046822 -118.248352         3051  34.045422   \n",
       "57355           3051  34.045422 -118.253517         3047  34.039982   \n",
       "57356           3052  34.051102 -118.264557         3005  34.048500   \n",
       "57357           3026  34.063179 -118.245880         3047  34.039982   \n",
       "\n",
       "          end_lon bike_id  plan_duration trip_route_category passholder_type  \\\n",
       "0     -118.253517   06468              1             One Way         Walk-up   \n",
       "1     -118.253517   12311              1             One Way         Walk-up   \n",
       "2     -118.256187   05992              1             One Way         Walk-up   \n",
       "3     -118.256187   05860              1             One Way         Walk-up   \n",
       "4     -118.256187   06006              1             One Way         Walk-up   \n",
       "...           ...     ...            ...                 ...             ...   \n",
       "57353 -118.254868   05885              1             One Way         Walk-up   \n",
       "57354 -118.253517   12059             30             One Way    Monthly Pass   \n",
       "57355 -118.266403   12059             30             One Way    Monthly Pass   \n",
       "57356 -118.258537   06295             30             One Way    Monthly Pass   \n",
       "57357 -118.266403   12308              1             One Way         Walk-up   \n",
       "\n",
       "      bike_type  \n",
       "0      standard  \n",
       "1      standard  \n",
       "2      standard  \n",
       "3      standard  \n",
       "4      standard  \n",
       "...         ...  \n",
       "57353  standard  \n",
       "57354  standard  \n",
       "57355  standard  \n",
       "57356  standard  \n",
       "57357  standard  \n",
       "\n",
       "[57358 rows x 15 columns]"
      ]
     },
     "execution_count": 186,
     "metadata": {},
     "output_type": "execute_result"
    }
   ],
   "source": [
    "df"
   ]
  },
  {
   "cell_type": "code",
   "execution_count": 187,
   "metadata": {
    "ExecuteTime": {
     "end_time": "2020-10-01T20:51:49.954938Z",
     "start_time": "2020-10-01T20:51:49.952694Z"
    }
   },
   "outputs": [],
   "source": [
    "# df = df.rename(columns = {'start_station_id': 'start_station', 'end_station_id': 'end_station'})\n",
    "# df.columns"
   ]
  },
  {
   "cell_type": "code",
   "execution_count": 188,
   "metadata": {
    "ExecuteTime": {
     "end_time": "2020-10-01T20:51:49.962684Z",
     "start_time": "2020-10-01T20:51:49.956773Z"
    }
   },
   "outputs": [],
   "source": [
    "s1 = df.start_station == 3000\n",
    "s2 = df.end_station == 3000\n",
    "index3000 = df[s1 | s2].index"
   ]
  },
  {
   "cell_type": "code",
   "execution_count": 189,
   "metadata": {
    "ExecuteTime": {
     "end_time": "2020-10-01T20:51:49.976489Z",
     "start_time": "2020-10-01T20:51:49.964142Z"
    }
   },
   "outputs": [],
   "source": [
    "df_without_3000 = df.drop(index3000)"
   ]
  },
  {
   "cell_type": "code",
   "execution_count": 190,
   "metadata": {
    "ExecuteTime": {
     "end_time": "2020-10-01T20:51:50.001694Z",
     "start_time": "2020-10-01T20:51:49.978567Z"
    }
   },
   "outputs": [
    {
     "name": "stdout",
     "output_type": "stream",
     "text": [
      "<class 'pandas.core.frame.DataFrame'>\n",
      "Int64Index: 56320 entries, 0 to 57357\n",
      "Data columns (total 15 columns):\n",
      " #   Column               Non-Null Count  Dtype  \n",
      "---  ------               --------------  -----  \n",
      " 0   trip_id              56320 non-null  int64  \n",
      " 1   duration             56320 non-null  int64  \n",
      " 2   start_time           56320 non-null  object \n",
      " 3   end_time             56320 non-null  object \n",
      " 4   start_station        56320 non-null  int64  \n",
      " 5   start_lat            56010 non-null  float64\n",
      " 6   start_lon            56010 non-null  float64\n",
      " 7   end_station          56320 non-null  int64  \n",
      " 8   end_lat              55881 non-null  float64\n",
      " 9   end_lon              55881 non-null  float64\n",
      " 10  bike_id              56320 non-null  object \n",
      " 11  plan_duration        56320 non-null  int64  \n",
      " 12  trip_route_category  56320 non-null  object \n",
      " 13  passholder_type      56320 non-null  object \n",
      " 14  bike_type            56320 non-null  object \n",
      "dtypes: float64(4), int64(5), object(6)\n",
      "memory usage: 6.9+ MB\n"
     ]
    }
   ],
   "source": [
    "df_without_3000.info()"
   ]
  },
  {
   "cell_type": "code",
   "execution_count": 191,
   "metadata": {
    "ExecuteTime": {
     "end_time": "2020-10-01T20:51:50.007113Z",
     "start_time": "2020-10-01T20:51:50.003477Z"
    }
   },
   "outputs": [],
   "source": [
    "df_position = df_without_3000[[\"start_lat\", \"start_lon\", \"end_lat\", \"end_lon\"]]"
   ]
  },
  {
   "cell_type": "code",
   "execution_count": 192,
   "metadata": {
    "ExecuteTime": {
     "end_time": "2020-10-01T20:51:50.012245Z",
     "start_time": "2020-10-01T20:51:50.009157Z"
    }
   },
   "outputs": [],
   "source": [
    "df_position_isnull = df_position.isnull()"
   ]
  },
  {
   "cell_type": "code",
   "execution_count": 193,
   "metadata": {
    "ExecuteTime": {
     "end_time": "2020-10-01T20:51:50.017883Z",
     "start_time": "2020-10-01T20:51:50.014366Z"
    }
   },
   "outputs": [],
   "source": [
    "index_station_without_position = df_position_isnull[df_position_isnull.any(axis=1)].index"
   ]
  },
  {
   "cell_type": "code",
   "execution_count": 194,
   "metadata": {
    "ExecuteTime": {
     "end_time": "2020-10-01T20:51:50.029009Z",
     "start_time": "2020-10-01T20:51:50.019798Z"
    }
   },
   "outputs": [],
   "source": [
    "df_clean = df_without_3000.drop(index_station_without_position)"
   ]
  },
  {
   "cell_type": "code",
   "execution_count": 195,
   "metadata": {
    "ExecuteTime": {
     "end_time": "2020-10-01T20:51:50.049201Z",
     "start_time": "2020-10-01T20:51:50.030910Z"
    },
    "scrolled": true
   },
   "outputs": [
    {
     "data": {
      "text/plain": [
       "trip_id                False\n",
       "duration               False\n",
       "start_time             False\n",
       "end_time               False\n",
       "start_station          False\n",
       "start_lat              False\n",
       "start_lon              False\n",
       "end_station            False\n",
       "end_lat                False\n",
       "end_lon                False\n",
       "bike_id                False\n",
       "plan_duration          False\n",
       "trip_route_category    False\n",
       "passholder_type        False\n",
       "bike_type              False\n",
       "dtype: bool"
      ]
     },
     "execution_count": 195,
     "metadata": {},
     "output_type": "execute_result"
    }
   ],
   "source": [
    "dpu.df_has_nan(df_clean)"
   ]
  },
  {
   "cell_type": "code",
   "execution_count": 196,
   "metadata": {
    "ExecuteTime": {
     "end_time": "2020-10-01T20:51:50.058888Z",
     "start_time": "2020-10-01T20:51:50.051072Z"
    }
   },
   "outputs": [
    {
     "data": {
      "text/plain": [
       "'2019-01-01 00:07:00'"
      ]
     },
     "execution_count": 196,
     "metadata": {},
     "output_type": "execute_result"
    }
   ],
   "source": [
    "time_need_check = list(df_clean.start_time)[0]\n",
    "time_need_check"
   ]
  },
  {
   "cell_type": "code",
   "execution_count": 197,
   "metadata": {
    "ExecuteTime": {
     "end_time": "2020-10-01T20:51:50.064440Z",
     "start_time": "2020-10-01T20:51:50.060763Z"
    }
   },
   "outputs": [
    {
     "data": {
      "text/plain": [
       "True"
      ]
     },
     "execution_count": 197,
     "metadata": {},
     "output_type": "execute_result"
    }
   ],
   "source": [
    "time_format_need_change = dpu.is_time_format(time_need_check, t_format_check)\n",
    "time_format_need_change"
   ]
  },
  {
   "cell_type": "code",
   "execution_count": 198,
   "metadata": {
    "ExecuteTime": {
     "end_time": "2020-10-01T20:51:52.220595Z",
     "start_time": "2020-10-01T20:51:50.066212Z"
    }
   },
   "outputs": [],
   "source": [
    "if time_format_need_change:\n",
    "    df_clean[[\"start_time\", \"end_time\"]] = df_clean[[\"start_time\", \"end_time\"]].applymap(lambda ts: dpu.change_time_format(ts, t_format_check, t_format_output))"
   ]
  },
  {
   "cell_type": "code",
   "execution_count": 199,
   "metadata": {
    "ExecuteTime": {
     "end_time": "2020-10-01T20:51:52.238419Z",
     "start_time": "2020-10-01T20:51:52.222563Z"
    }
   },
   "outputs": [
    {
     "data": {
      "text/html": [
       "<div>\n",
       "<style scoped>\n",
       "    .dataframe tbody tr th:only-of-type {\n",
       "        vertical-align: middle;\n",
       "    }\n",
       "\n",
       "    .dataframe tbody tr th {\n",
       "        vertical-align: top;\n",
       "    }\n",
       "\n",
       "    .dataframe thead th {\n",
       "        text-align: right;\n",
       "    }\n",
       "</style>\n",
       "<table border=\"1\" class=\"dataframe\">\n",
       "  <thead>\n",
       "    <tr style=\"text-align: right;\">\n",
       "      <th></th>\n",
       "      <th>trip_id</th>\n",
       "      <th>duration</th>\n",
       "      <th>start_time</th>\n",
       "      <th>end_time</th>\n",
       "      <th>start_station</th>\n",
       "      <th>start_lat</th>\n",
       "      <th>start_lon</th>\n",
       "      <th>end_station</th>\n",
       "      <th>end_lat</th>\n",
       "      <th>end_lon</th>\n",
       "      <th>bike_id</th>\n",
       "      <th>plan_duration</th>\n",
       "      <th>trip_route_category</th>\n",
       "      <th>passholder_type</th>\n",
       "      <th>bike_type</th>\n",
       "    </tr>\n",
       "  </thead>\n",
       "  <tbody>\n",
       "    <tr>\n",
       "      <th>0</th>\n",
       "      <td>112536773</td>\n",
       "      <td>7</td>\n",
       "      <td>01/01/2019 00:07</td>\n",
       "      <td>01/01/2019 00:14</td>\n",
       "      <td>3046</td>\n",
       "      <td>34.052872</td>\n",
       "      <td>-118.24749</td>\n",
       "      <td>3051</td>\n",
       "      <td>34.045422</td>\n",
       "      <td>-118.253517</td>\n",
       "      <td>06468</td>\n",
       "      <td>1</td>\n",
       "      <td>One Way</td>\n",
       "      <td>Walk-up</td>\n",
       "      <td>standard</td>\n",
       "    </tr>\n",
       "    <tr>\n",
       "      <th>1</th>\n",
       "      <td>112536772</td>\n",
       "      <td>6</td>\n",
       "      <td>01/01/2019 00:08</td>\n",
       "      <td>01/01/2019 00:14</td>\n",
       "      <td>3046</td>\n",
       "      <td>34.052872</td>\n",
       "      <td>-118.24749</td>\n",
       "      <td>3051</td>\n",
       "      <td>34.045422</td>\n",
       "      <td>-118.253517</td>\n",
       "      <td>12311</td>\n",
       "      <td>1</td>\n",
       "      <td>One Way</td>\n",
       "      <td>Walk-up</td>\n",
       "      <td>standard</td>\n",
       "    </tr>\n",
       "    <tr>\n",
       "      <th>2</th>\n",
       "      <td>112538689</td>\n",
       "      <td>32</td>\n",
       "      <td>01/01/2019 00:18</td>\n",
       "      <td>01/01/2019 00:50</td>\n",
       "      <td>3030</td>\n",
       "      <td>34.051941</td>\n",
       "      <td>-118.24353</td>\n",
       "      <td>3075</td>\n",
       "      <td>34.042110</td>\n",
       "      <td>-118.256187</td>\n",
       "      <td>05992</td>\n",
       "      <td>1</td>\n",
       "      <td>One Way</td>\n",
       "      <td>Walk-up</td>\n",
       "      <td>standard</td>\n",
       "    </tr>\n",
       "    <tr>\n",
       "      <th>3</th>\n",
       "      <td>112538688</td>\n",
       "      <td>30</td>\n",
       "      <td>01/01/2019 00:20</td>\n",
       "      <td>01/01/2019 00:50</td>\n",
       "      <td>3030</td>\n",
       "      <td>34.051941</td>\n",
       "      <td>-118.24353</td>\n",
       "      <td>3075</td>\n",
       "      <td>34.042110</td>\n",
       "      <td>-118.256187</td>\n",
       "      <td>05860</td>\n",
       "      <td>1</td>\n",
       "      <td>One Way</td>\n",
       "      <td>Walk-up</td>\n",
       "      <td>standard</td>\n",
       "    </tr>\n",
       "    <tr>\n",
       "      <th>4</th>\n",
       "      <td>112538687</td>\n",
       "      <td>28</td>\n",
       "      <td>01/01/2019 00:22</td>\n",
       "      <td>01/01/2019 00:50</td>\n",
       "      <td>3030</td>\n",
       "      <td>34.051941</td>\n",
       "      <td>-118.24353</td>\n",
       "      <td>3075</td>\n",
       "      <td>34.042110</td>\n",
       "      <td>-118.256187</td>\n",
       "      <td>06006</td>\n",
       "      <td>1</td>\n",
       "      <td>One Way</td>\n",
       "      <td>Walk-up</td>\n",
       "      <td>standard</td>\n",
       "    </tr>\n",
       "  </tbody>\n",
       "</table>\n",
       "</div>"
      ],
      "text/plain": [
       "     trip_id  duration        start_time          end_time  start_station  \\\n",
       "0  112536773         7  01/01/2019 00:07  01/01/2019 00:14           3046   \n",
       "1  112536772         6  01/01/2019 00:08  01/01/2019 00:14           3046   \n",
       "2  112538689        32  01/01/2019 00:18  01/01/2019 00:50           3030   \n",
       "3  112538688        30  01/01/2019 00:20  01/01/2019 00:50           3030   \n",
       "4  112538687        28  01/01/2019 00:22  01/01/2019 00:50           3030   \n",
       "\n",
       "   start_lat  start_lon  end_station    end_lat     end_lon bike_id  \\\n",
       "0  34.052872 -118.24749         3051  34.045422 -118.253517   06468   \n",
       "1  34.052872 -118.24749         3051  34.045422 -118.253517   12311   \n",
       "2  34.051941 -118.24353         3075  34.042110 -118.256187   05992   \n",
       "3  34.051941 -118.24353         3075  34.042110 -118.256187   05860   \n",
       "4  34.051941 -118.24353         3075  34.042110 -118.256187   06006   \n",
       "\n",
       "   plan_duration trip_route_category passholder_type bike_type  \n",
       "0              1             One Way         Walk-up  standard  \n",
       "1              1             One Way         Walk-up  standard  \n",
       "2              1             One Way         Walk-up  standard  \n",
       "3              1             One Way         Walk-up  standard  \n",
       "4              1             One Way         Walk-up  standard  "
      ]
     },
     "execution_count": 199,
     "metadata": {},
     "output_type": "execute_result"
    }
   ],
   "source": [
    "df_clean.head(5)"
   ]
  },
  {
   "cell_type": "code",
   "execution_count": 200,
   "metadata": {
    "ExecuteTime": {
     "end_time": "2020-10-01T20:51:52.781038Z",
     "start_time": "2020-10-01T20:51:52.240441Z"
    }
   },
   "outputs": [],
   "source": [
    "df_clean.to_csv(output_filepath, index=False)"
   ]
  },
  {
   "cell_type": "code",
   "execution_count": null,
   "metadata": {},
   "outputs": [],
   "source": []
  },
  {
   "cell_type": "markdown",
   "metadata": {},
   "source": [
    "## process 2019 q2"
   ]
  },
  {
   "cell_type": "code",
   "execution_count": 201,
   "metadata": {
    "ExecuteTime": {
     "end_time": "2020-10-01T20:51:52.785540Z",
     "start_time": "2020-10-01T20:51:52.783024Z"
    }
   },
   "outputs": [],
   "source": [
    "year_q = (19, 2)"
   ]
  },
  {
   "cell_type": "code",
   "execution_count": 202,
   "metadata": {
    "ExecuteTime": {
     "end_time": "2020-10-01T20:51:52.792114Z",
     "start_time": "2020-10-01T20:51:52.787617Z"
    }
   },
   "outputs": [
    {
     "data": {
      "text/plain": [
       "'./rawdata/metro-bike-2019-q2.csv'"
      ]
     },
     "execution_count": 202,
     "metadata": {},
     "output_type": "execute_result"
    }
   ],
   "source": [
    "raw_filepath = \"./rawdata/metro-bike-20%s-q%d.csv\" % year_q\n",
    "output_filepath = \"./processed_data/metro-bike-20%s-q%d.csv\" % year_q\n",
    "raw_filepath"
   ]
  },
  {
   "cell_type": "code",
   "execution_count": 203,
   "metadata": {
    "ExecuteTime": {
     "end_time": "2020-10-01T20:51:53.005990Z",
     "start_time": "2020-10-01T20:51:52.824971Z"
    }
   },
   "outputs": [],
   "source": [
    "df = pd.read_csv(raw_filepath)"
   ]
  },
  {
   "cell_type": "code",
   "execution_count": 204,
   "metadata": {
    "ExecuteTime": {
     "end_time": "2020-10-01T20:51:53.040856Z",
     "start_time": "2020-10-01T20:51:53.013325Z"
    }
   },
   "outputs": [
    {
     "data": {
      "text/html": [
       "<div>\n",
       "<style scoped>\n",
       "    .dataframe tbody tr th:only-of-type {\n",
       "        vertical-align: middle;\n",
       "    }\n",
       "\n",
       "    .dataframe tbody tr th {\n",
       "        vertical-align: top;\n",
       "    }\n",
       "\n",
       "    .dataframe thead th {\n",
       "        text-align: right;\n",
       "    }\n",
       "</style>\n",
       "<table border=\"1\" class=\"dataframe\">\n",
       "  <thead>\n",
       "    <tr style=\"text-align: right;\">\n",
       "      <th></th>\n",
       "      <th>trip_id</th>\n",
       "      <th>duration</th>\n",
       "      <th>start_time</th>\n",
       "      <th>end_time</th>\n",
       "      <th>start_station</th>\n",
       "      <th>start_lat</th>\n",
       "      <th>start_lon</th>\n",
       "      <th>end_station</th>\n",
       "      <th>end_lat</th>\n",
       "      <th>end_lon</th>\n",
       "      <th>bike_id</th>\n",
       "      <th>plan_duration</th>\n",
       "      <th>trip_route_category</th>\n",
       "      <th>passholder_type</th>\n",
       "      <th>bike_type</th>\n",
       "    </tr>\n",
       "  </thead>\n",
       "  <tbody>\n",
       "    <tr>\n",
       "      <th>0</th>\n",
       "      <td>118571839</td>\n",
       "      <td>7</td>\n",
       "      <td>2019-04-01 00:02:00</td>\n",
       "      <td>2019-04-01 00:09:00</td>\n",
       "      <td>3069</td>\n",
       "      <td>34.050880</td>\n",
       "      <td>-118.248253</td>\n",
       "      <td>3034</td>\n",
       "      <td>34.042061</td>\n",
       "      <td>-118.263382</td>\n",
       "      <td>6459</td>\n",
       "      <td>1</td>\n",
       "      <td>One Way</td>\n",
       "      <td>Walk-up</td>\n",
       "      <td>standard</td>\n",
       "    </tr>\n",
       "    <tr>\n",
       "      <th>1</th>\n",
       "      <td>118574695</td>\n",
       "      <td>12</td>\n",
       "      <td>2019-04-01 00:56:00</td>\n",
       "      <td>2019-04-01 01:08:00</td>\n",
       "      <td>3031</td>\n",
       "      <td>34.044701</td>\n",
       "      <td>-118.252441</td>\n",
       "      <td>4311</td>\n",
       "      <td>34.059689</td>\n",
       "      <td>-118.294662</td>\n",
       "      <td>12229</td>\n",
       "      <td>30</td>\n",
       "      <td>One Way</td>\n",
       "      <td>Monthly Pass</td>\n",
       "      <td>standard</td>\n",
       "    </tr>\n",
       "    <tr>\n",
       "      <th>2</th>\n",
       "      <td>118575167</td>\n",
       "      <td>12</td>\n",
       "      <td>2019-04-01 01:06:00</td>\n",
       "      <td>2019-04-01 01:18:00</td>\n",
       "      <td>3038</td>\n",
       "      <td>34.046822</td>\n",
       "      <td>-118.248352</td>\n",
       "      <td>3082</td>\n",
       "      <td>34.046520</td>\n",
       "      <td>-118.237411</td>\n",
       "      <td>6422</td>\n",
       "      <td>1</td>\n",
       "      <td>One Way</td>\n",
       "      <td>Walk-up</td>\n",
       "      <td>standard</td>\n",
       "    </tr>\n",
       "    <tr>\n",
       "      <th>3</th>\n",
       "      <td>118577060</td>\n",
       "      <td>48</td>\n",
       "      <td>2019-04-01 01:08:00</td>\n",
       "      <td>2019-04-01 01:56:00</td>\n",
       "      <td>3068</td>\n",
       "      <td>34.053200</td>\n",
       "      <td>-118.250954</td>\n",
       "      <td>3005</td>\n",
       "      <td>34.048500</td>\n",
       "      <td>-118.258537</td>\n",
       "      <td>12211</td>\n",
       "      <td>30</td>\n",
       "      <td>One Way</td>\n",
       "      <td>Monthly Pass</td>\n",
       "      <td>standard</td>\n",
       "    </tr>\n",
       "    <tr>\n",
       "      <th>4</th>\n",
       "      <td>118575166</td>\n",
       "      <td>9</td>\n",
       "      <td>2019-04-01 01:09:00</td>\n",
       "      <td>2019-04-01 01:18:00</td>\n",
       "      <td>3038</td>\n",
       "      <td>34.046822</td>\n",
       "      <td>-118.248352</td>\n",
       "      <td>3082</td>\n",
       "      <td>34.046520</td>\n",
       "      <td>-118.237411</td>\n",
       "      <td>12005</td>\n",
       "      <td>1</td>\n",
       "      <td>One Way</td>\n",
       "      <td>Walk-up</td>\n",
       "      <td>standard</td>\n",
       "    </tr>\n",
       "    <tr>\n",
       "      <th>...</th>\n",
       "      <td>...</td>\n",
       "      <td>...</td>\n",
       "      <td>...</td>\n",
       "      <td>...</td>\n",
       "      <td>...</td>\n",
       "      <td>...</td>\n",
       "      <td>...</td>\n",
       "      <td>...</td>\n",
       "      <td>...</td>\n",
       "      <td>...</td>\n",
       "      <td>...</td>\n",
       "      <td>...</td>\n",
       "      <td>...</td>\n",
       "      <td>...</td>\n",
       "      <td>...</td>\n",
       "    </tr>\n",
       "    <tr>\n",
       "      <th>64540</th>\n",
       "      <td>124656632</td>\n",
       "      <td>4</td>\n",
       "      <td>2019-06-30 23:30:00</td>\n",
       "      <td>2019-06-30 23:34:00</td>\n",
       "      <td>4405</td>\n",
       "      <td>34.051899</td>\n",
       "      <td>-118.293678</td>\n",
       "      <td>4306</td>\n",
       "      <td>34.057652</td>\n",
       "      <td>-118.292183</td>\n",
       "      <td>5887</td>\n",
       "      <td>30</td>\n",
       "      <td>One Way</td>\n",
       "      <td>Monthly Pass</td>\n",
       "      <td>standard</td>\n",
       "    </tr>\n",
       "    <tr>\n",
       "      <th>64541</th>\n",
       "      <td>124656631</td>\n",
       "      <td>13</td>\n",
       "      <td>2019-06-30 23:31:00</td>\n",
       "      <td>2019-06-30 23:44:00</td>\n",
       "      <td>3022</td>\n",
       "      <td>34.046070</td>\n",
       "      <td>-118.233093</td>\n",
       "      <td>3038</td>\n",
       "      <td>34.046822</td>\n",
       "      <td>-118.248352</td>\n",
       "      <td>17492</td>\n",
       "      <td>365</td>\n",
       "      <td>One Way</td>\n",
       "      <td>Annual Pass</td>\n",
       "      <td>electric</td>\n",
       "    </tr>\n",
       "    <tr>\n",
       "      <th>64542</th>\n",
       "      <td>124656630</td>\n",
       "      <td>3</td>\n",
       "      <td>2019-06-30 23:33:00</td>\n",
       "      <td>2019-06-30 23:36:00</td>\n",
       "      <td>4345</td>\n",
       "      <td>33.995560</td>\n",
       "      <td>-118.481552</td>\n",
       "      <td>4345</td>\n",
       "      <td>33.995560</td>\n",
       "      <td>-118.481552</td>\n",
       "      <td>15646</td>\n",
       "      <td>1</td>\n",
       "      <td>Round Trip</td>\n",
       "      <td>Walk-up</td>\n",
       "      <td>smart</td>\n",
       "    </tr>\n",
       "    <tr>\n",
       "      <th>64543</th>\n",
       "      <td>124656629</td>\n",
       "      <td>17</td>\n",
       "      <td>2019-06-30 23:34:00</td>\n",
       "      <td>2019-06-30 23:51:00</td>\n",
       "      <td>3016</td>\n",
       "      <td>34.052898</td>\n",
       "      <td>-118.241562</td>\n",
       "      <td>4410</td>\n",
       "      <td>34.063351</td>\n",
       "      <td>-118.296799</td>\n",
       "      <td>17493</td>\n",
       "      <td>365</td>\n",
       "      <td>One Way</td>\n",
       "      <td>Annual Pass</td>\n",
       "      <td>electric</td>\n",
       "    </tr>\n",
       "    <tr>\n",
       "      <th>64544</th>\n",
       "      <td>124656628</td>\n",
       "      <td>4</td>\n",
       "      <td>2019-06-30 23:36:00</td>\n",
       "      <td>2019-06-30 23:40:00</td>\n",
       "      <td>4306</td>\n",
       "      <td>34.057652</td>\n",
       "      <td>-118.292183</td>\n",
       "      <td>4410</td>\n",
       "      <td>34.063351</td>\n",
       "      <td>-118.296799</td>\n",
       "      <td>18920</td>\n",
       "      <td>30</td>\n",
       "      <td>One Way</td>\n",
       "      <td>Monthly Pass</td>\n",
       "      <td>electric</td>\n",
       "    </tr>\n",
       "  </tbody>\n",
       "</table>\n",
       "<p>64545 rows × 15 columns</p>\n",
       "</div>"
      ],
      "text/plain": [
       "         trip_id  duration           start_time             end_time  \\\n",
       "0      118571839         7  2019-04-01 00:02:00  2019-04-01 00:09:00   \n",
       "1      118574695        12  2019-04-01 00:56:00  2019-04-01 01:08:00   \n",
       "2      118575167        12  2019-04-01 01:06:00  2019-04-01 01:18:00   \n",
       "3      118577060        48  2019-04-01 01:08:00  2019-04-01 01:56:00   \n",
       "4      118575166         9  2019-04-01 01:09:00  2019-04-01 01:18:00   \n",
       "...          ...       ...                  ...                  ...   \n",
       "64540  124656632         4  2019-06-30 23:30:00  2019-06-30 23:34:00   \n",
       "64541  124656631        13  2019-06-30 23:31:00  2019-06-30 23:44:00   \n",
       "64542  124656630         3  2019-06-30 23:33:00  2019-06-30 23:36:00   \n",
       "64543  124656629        17  2019-06-30 23:34:00  2019-06-30 23:51:00   \n",
       "64544  124656628         4  2019-06-30 23:36:00  2019-06-30 23:40:00   \n",
       "\n",
       "       start_station  start_lat   start_lon  end_station    end_lat  \\\n",
       "0               3069  34.050880 -118.248253         3034  34.042061   \n",
       "1               3031  34.044701 -118.252441         4311  34.059689   \n",
       "2               3038  34.046822 -118.248352         3082  34.046520   \n",
       "3               3068  34.053200 -118.250954         3005  34.048500   \n",
       "4               3038  34.046822 -118.248352         3082  34.046520   \n",
       "...              ...        ...         ...          ...        ...   \n",
       "64540           4405  34.051899 -118.293678         4306  34.057652   \n",
       "64541           3022  34.046070 -118.233093         3038  34.046822   \n",
       "64542           4345  33.995560 -118.481552         4345  33.995560   \n",
       "64543           3016  34.052898 -118.241562         4410  34.063351   \n",
       "64544           4306  34.057652 -118.292183         4410  34.063351   \n",
       "\n",
       "          end_lon  bike_id  plan_duration trip_route_category passholder_type  \\\n",
       "0     -118.263382     6459              1             One Way         Walk-up   \n",
       "1     -118.294662    12229             30             One Way    Monthly Pass   \n",
       "2     -118.237411     6422              1             One Way         Walk-up   \n",
       "3     -118.258537    12211             30             One Way    Monthly Pass   \n",
       "4     -118.237411    12005              1             One Way         Walk-up   \n",
       "...           ...      ...            ...                 ...             ...   \n",
       "64540 -118.292183     5887             30             One Way    Monthly Pass   \n",
       "64541 -118.248352    17492            365             One Way     Annual Pass   \n",
       "64542 -118.481552    15646              1          Round Trip         Walk-up   \n",
       "64543 -118.296799    17493            365             One Way     Annual Pass   \n",
       "64544 -118.296799    18920             30             One Way    Monthly Pass   \n",
       "\n",
       "      bike_type  \n",
       "0      standard  \n",
       "1      standard  \n",
       "2      standard  \n",
       "3      standard  \n",
       "4      standard  \n",
       "...         ...  \n",
       "64540  standard  \n",
       "64541  electric  \n",
       "64542     smart  \n",
       "64543  electric  \n",
       "64544  electric  \n",
       "\n",
       "[64545 rows x 15 columns]"
      ]
     },
     "execution_count": 204,
     "metadata": {},
     "output_type": "execute_result"
    }
   ],
   "source": [
    "df"
   ]
  },
  {
   "cell_type": "code",
   "execution_count": 205,
   "metadata": {
    "ExecuteTime": {
     "end_time": "2020-10-01T20:51:53.045641Z",
     "start_time": "2020-10-01T20:51:53.043307Z"
    }
   },
   "outputs": [],
   "source": [
    "# df = df.rename(columns = {'start_station_id': 'start_station', 'end_station_id': 'end_station'})\n",
    "# df.columns"
   ]
  },
  {
   "cell_type": "code",
   "execution_count": 206,
   "metadata": {
    "ExecuteTime": {
     "end_time": "2020-10-01T20:51:53.054515Z",
     "start_time": "2020-10-01T20:51:53.047826Z"
    }
   },
   "outputs": [],
   "source": [
    "s1 = df.start_station == 3000\n",
    "s2 = df.end_station == 3000\n",
    "index3000 = df[s1 | s2].index"
   ]
  },
  {
   "cell_type": "code",
   "execution_count": 207,
   "metadata": {
    "ExecuteTime": {
     "end_time": "2020-10-01T20:51:53.070175Z",
     "start_time": "2020-10-01T20:51:53.056723Z"
    }
   },
   "outputs": [],
   "source": [
    "df_without_3000 = df.drop(index3000)"
   ]
  },
  {
   "cell_type": "code",
   "execution_count": 208,
   "metadata": {
    "ExecuteTime": {
     "end_time": "2020-10-01T20:51:53.097334Z",
     "start_time": "2020-10-01T20:51:53.072194Z"
    }
   },
   "outputs": [
    {
     "name": "stdout",
     "output_type": "stream",
     "text": [
      "<class 'pandas.core.frame.DataFrame'>\n",
      "Int64Index: 63583 entries, 0 to 64544\n",
      "Data columns (total 15 columns):\n",
      " #   Column               Non-Null Count  Dtype  \n",
      "---  ------               --------------  -----  \n",
      " 0   trip_id              63583 non-null  int64  \n",
      " 1   duration             63583 non-null  int64  \n",
      " 2   start_time           63583 non-null  object \n",
      " 3   end_time             63583 non-null  object \n",
      " 4   start_station        63583 non-null  int64  \n",
      " 5   start_lat            62621 non-null  float64\n",
      " 6   start_lon            62621 non-null  float64\n",
      " 7   end_station          63583 non-null  int64  \n",
      " 8   end_lat              61921 non-null  float64\n",
      " 9   end_lon              61921 non-null  float64\n",
      " 10  bike_id              63583 non-null  int64  \n",
      " 11  plan_duration        63583 non-null  int64  \n",
      " 12  trip_route_category  63583 non-null  object \n",
      " 13  passholder_type      63583 non-null  object \n",
      " 14  bike_type            63583 non-null  object \n",
      "dtypes: float64(4), int64(6), object(5)\n",
      "memory usage: 7.8+ MB\n"
     ]
    }
   ],
   "source": [
    "df_without_3000.info()"
   ]
  },
  {
   "cell_type": "code",
   "execution_count": 209,
   "metadata": {
    "ExecuteTime": {
     "end_time": "2020-10-01T20:51:53.103806Z",
     "start_time": "2020-10-01T20:51:53.099515Z"
    }
   },
   "outputs": [],
   "source": [
    "df_position = df_without_3000[[\"start_lat\", \"start_lon\", \"end_lat\", \"end_lon\"]]"
   ]
  },
  {
   "cell_type": "code",
   "execution_count": 210,
   "metadata": {
    "ExecuteTime": {
     "end_time": "2020-10-01T20:51:53.110163Z",
     "start_time": "2020-10-01T20:51:53.106457Z"
    }
   },
   "outputs": [],
   "source": [
    "df_position_isnull = df_position.isnull()"
   ]
  },
  {
   "cell_type": "code",
   "execution_count": 211,
   "metadata": {
    "ExecuteTime": {
     "end_time": "2020-10-01T20:51:53.117467Z",
     "start_time": "2020-10-01T20:51:53.112981Z"
    }
   },
   "outputs": [],
   "source": [
    "index_station_without_position = df_position_isnull[df_position_isnull.any(axis=1)].index"
   ]
  },
  {
   "cell_type": "code",
   "execution_count": 212,
   "metadata": {
    "ExecuteTime": {
     "end_time": "2020-10-01T20:51:53.131534Z",
     "start_time": "2020-10-01T20:51:53.119520Z"
    }
   },
   "outputs": [],
   "source": [
    "df_clean = df_without_3000.drop(index_station_without_position)"
   ]
  },
  {
   "cell_type": "code",
   "execution_count": 213,
   "metadata": {
    "ExecuteTime": {
     "end_time": "2020-10-01T20:51:53.151825Z",
     "start_time": "2020-10-01T20:51:53.133518Z"
    },
    "scrolled": true
   },
   "outputs": [
    {
     "data": {
      "text/plain": [
       "trip_id                False\n",
       "duration               False\n",
       "start_time             False\n",
       "end_time               False\n",
       "start_station          False\n",
       "start_lat              False\n",
       "start_lon              False\n",
       "end_station            False\n",
       "end_lat                False\n",
       "end_lon                False\n",
       "bike_id                False\n",
       "plan_duration          False\n",
       "trip_route_category    False\n",
       "passholder_type        False\n",
       "bike_type              False\n",
       "dtype: bool"
      ]
     },
     "execution_count": 213,
     "metadata": {},
     "output_type": "execute_result"
    }
   ],
   "source": [
    "dpu.df_has_nan(df_clean)"
   ]
  },
  {
   "cell_type": "code",
   "execution_count": 214,
   "metadata": {
    "ExecuteTime": {
     "end_time": "2020-10-01T20:51:53.163326Z",
     "start_time": "2020-10-01T20:51:53.153859Z"
    }
   },
   "outputs": [
    {
     "data": {
      "text/plain": [
       "'2019-04-01 00:02:00'"
      ]
     },
     "execution_count": 214,
     "metadata": {},
     "output_type": "execute_result"
    }
   ],
   "source": [
    "time_need_check = list(df_clean.start_time)[0]\n",
    "time_need_check"
   ]
  },
  {
   "cell_type": "code",
   "execution_count": 215,
   "metadata": {
    "ExecuteTime": {
     "end_time": "2020-10-01T20:51:53.169383Z",
     "start_time": "2020-10-01T20:51:53.165348Z"
    }
   },
   "outputs": [
    {
     "data": {
      "text/plain": [
       "True"
      ]
     },
     "execution_count": 215,
     "metadata": {},
     "output_type": "execute_result"
    }
   ],
   "source": [
    "time_format_need_change = dpu.is_time_format(time_need_check, t_format_check)\n",
    "time_format_need_change"
   ]
  },
  {
   "cell_type": "code",
   "execution_count": 216,
   "metadata": {
    "ExecuteTime": {
     "end_time": "2020-10-01T20:51:55.683525Z",
     "start_time": "2020-10-01T20:51:53.171380Z"
    }
   },
   "outputs": [],
   "source": [
    "if time_format_need_change:\n",
    "    df_clean[[\"start_time\", \"end_time\"]] = df_clean[[\"start_time\", \"end_time\"]].applymap(lambda ts: dpu.change_time_format(ts, t_format_check, t_format_output))"
   ]
  },
  {
   "cell_type": "code",
   "execution_count": 217,
   "metadata": {
    "ExecuteTime": {
     "end_time": "2020-10-01T20:51:55.699156Z",
     "start_time": "2020-10-01T20:51:55.685318Z"
    }
   },
   "outputs": [
    {
     "data": {
      "text/html": [
       "<div>\n",
       "<style scoped>\n",
       "    .dataframe tbody tr th:only-of-type {\n",
       "        vertical-align: middle;\n",
       "    }\n",
       "\n",
       "    .dataframe tbody tr th {\n",
       "        vertical-align: top;\n",
       "    }\n",
       "\n",
       "    .dataframe thead th {\n",
       "        text-align: right;\n",
       "    }\n",
       "</style>\n",
       "<table border=\"1\" class=\"dataframe\">\n",
       "  <thead>\n",
       "    <tr style=\"text-align: right;\">\n",
       "      <th></th>\n",
       "      <th>trip_id</th>\n",
       "      <th>duration</th>\n",
       "      <th>start_time</th>\n",
       "      <th>end_time</th>\n",
       "      <th>start_station</th>\n",
       "      <th>start_lat</th>\n",
       "      <th>start_lon</th>\n",
       "      <th>end_station</th>\n",
       "      <th>end_lat</th>\n",
       "      <th>end_lon</th>\n",
       "      <th>bike_id</th>\n",
       "      <th>plan_duration</th>\n",
       "      <th>trip_route_category</th>\n",
       "      <th>passholder_type</th>\n",
       "      <th>bike_type</th>\n",
       "    </tr>\n",
       "  </thead>\n",
       "  <tbody>\n",
       "    <tr>\n",
       "      <th>0</th>\n",
       "      <td>118571839</td>\n",
       "      <td>7</td>\n",
       "      <td>04/01/2019 00:02</td>\n",
       "      <td>04/01/2019 00:09</td>\n",
       "      <td>3069</td>\n",
       "      <td>34.050880</td>\n",
       "      <td>-118.248253</td>\n",
       "      <td>3034</td>\n",
       "      <td>34.042061</td>\n",
       "      <td>-118.263382</td>\n",
       "      <td>6459</td>\n",
       "      <td>1</td>\n",
       "      <td>One Way</td>\n",
       "      <td>Walk-up</td>\n",
       "      <td>standard</td>\n",
       "    </tr>\n",
       "    <tr>\n",
       "      <th>1</th>\n",
       "      <td>118574695</td>\n",
       "      <td>12</td>\n",
       "      <td>04/01/2019 00:56</td>\n",
       "      <td>04/01/2019 01:08</td>\n",
       "      <td>3031</td>\n",
       "      <td>34.044701</td>\n",
       "      <td>-118.252441</td>\n",
       "      <td>4311</td>\n",
       "      <td>34.059689</td>\n",
       "      <td>-118.294662</td>\n",
       "      <td>12229</td>\n",
       "      <td>30</td>\n",
       "      <td>One Way</td>\n",
       "      <td>Monthly Pass</td>\n",
       "      <td>standard</td>\n",
       "    </tr>\n",
       "    <tr>\n",
       "      <th>2</th>\n",
       "      <td>118575167</td>\n",
       "      <td>12</td>\n",
       "      <td>04/01/2019 01:06</td>\n",
       "      <td>04/01/2019 01:18</td>\n",
       "      <td>3038</td>\n",
       "      <td>34.046822</td>\n",
       "      <td>-118.248352</td>\n",
       "      <td>3082</td>\n",
       "      <td>34.046520</td>\n",
       "      <td>-118.237411</td>\n",
       "      <td>6422</td>\n",
       "      <td>1</td>\n",
       "      <td>One Way</td>\n",
       "      <td>Walk-up</td>\n",
       "      <td>standard</td>\n",
       "    </tr>\n",
       "    <tr>\n",
       "      <th>3</th>\n",
       "      <td>118577060</td>\n",
       "      <td>48</td>\n",
       "      <td>04/01/2019 01:08</td>\n",
       "      <td>04/01/2019 01:56</td>\n",
       "      <td>3068</td>\n",
       "      <td>34.053200</td>\n",
       "      <td>-118.250954</td>\n",
       "      <td>3005</td>\n",
       "      <td>34.048500</td>\n",
       "      <td>-118.258537</td>\n",
       "      <td>12211</td>\n",
       "      <td>30</td>\n",
       "      <td>One Way</td>\n",
       "      <td>Monthly Pass</td>\n",
       "      <td>standard</td>\n",
       "    </tr>\n",
       "    <tr>\n",
       "      <th>4</th>\n",
       "      <td>118575166</td>\n",
       "      <td>9</td>\n",
       "      <td>04/01/2019 01:09</td>\n",
       "      <td>04/01/2019 01:18</td>\n",
       "      <td>3038</td>\n",
       "      <td>34.046822</td>\n",
       "      <td>-118.248352</td>\n",
       "      <td>3082</td>\n",
       "      <td>34.046520</td>\n",
       "      <td>-118.237411</td>\n",
       "      <td>12005</td>\n",
       "      <td>1</td>\n",
       "      <td>One Way</td>\n",
       "      <td>Walk-up</td>\n",
       "      <td>standard</td>\n",
       "    </tr>\n",
       "  </tbody>\n",
       "</table>\n",
       "</div>"
      ],
      "text/plain": [
       "     trip_id  duration        start_time          end_time  start_station  \\\n",
       "0  118571839         7  04/01/2019 00:02  04/01/2019 00:09           3069   \n",
       "1  118574695        12  04/01/2019 00:56  04/01/2019 01:08           3031   \n",
       "2  118575167        12  04/01/2019 01:06  04/01/2019 01:18           3038   \n",
       "3  118577060        48  04/01/2019 01:08  04/01/2019 01:56           3068   \n",
       "4  118575166         9  04/01/2019 01:09  04/01/2019 01:18           3038   \n",
       "\n",
       "   start_lat   start_lon  end_station    end_lat     end_lon  bike_id  \\\n",
       "0  34.050880 -118.248253         3034  34.042061 -118.263382     6459   \n",
       "1  34.044701 -118.252441         4311  34.059689 -118.294662    12229   \n",
       "2  34.046822 -118.248352         3082  34.046520 -118.237411     6422   \n",
       "3  34.053200 -118.250954         3005  34.048500 -118.258537    12211   \n",
       "4  34.046822 -118.248352         3082  34.046520 -118.237411    12005   \n",
       "\n",
       "   plan_duration trip_route_category passholder_type bike_type  \n",
       "0              1             One Way         Walk-up  standard  \n",
       "1             30             One Way    Monthly Pass  standard  \n",
       "2              1             One Way         Walk-up  standard  \n",
       "3             30             One Way    Monthly Pass  standard  \n",
       "4              1             One Way         Walk-up  standard  "
      ]
     },
     "execution_count": 217,
     "metadata": {},
     "output_type": "execute_result"
    }
   ],
   "source": [
    "df_clean.head(5)"
   ]
  },
  {
   "cell_type": "code",
   "execution_count": 218,
   "metadata": {
    "ExecuteTime": {
     "end_time": "2020-10-01T20:51:56.285546Z",
     "start_time": "2020-10-01T20:51:55.701260Z"
    }
   },
   "outputs": [],
   "source": [
    "df_clean.to_csv(output_filepath, index=False)"
   ]
  },
  {
   "cell_type": "code",
   "execution_count": null,
   "metadata": {},
   "outputs": [],
   "source": []
  },
  {
   "cell_type": "markdown",
   "metadata": {},
   "source": [
    "## process 2019 q3"
   ]
  },
  {
   "cell_type": "code",
   "execution_count": 219,
   "metadata": {
    "ExecuteTime": {
     "end_time": "2020-10-01T20:51:56.289978Z",
     "start_time": "2020-10-01T20:51:56.287537Z"
    }
   },
   "outputs": [],
   "source": [
    "year_q = (19, 3)"
   ]
  },
  {
   "cell_type": "code",
   "execution_count": 220,
   "metadata": {
    "ExecuteTime": {
     "end_time": "2020-10-01T20:51:56.295605Z",
     "start_time": "2020-10-01T20:51:56.291731Z"
    }
   },
   "outputs": [
    {
     "data": {
      "text/plain": [
       "'./rawdata/metro-bike-2019-q3.csv'"
      ]
     },
     "execution_count": 220,
     "metadata": {},
     "output_type": "execute_result"
    }
   ],
   "source": [
    "raw_filepath = \"./rawdata/metro-bike-20%s-q%d.csv\" % year_q\n",
    "output_filepath = \"./processed_data/metro-bike-20%s-q%d.csv\" % year_q\n",
    "raw_filepath"
   ]
  },
  {
   "cell_type": "code",
   "execution_count": 221,
   "metadata": {
    "ExecuteTime": {
     "end_time": "2020-10-01T20:51:56.534633Z",
     "start_time": "2020-10-01T20:51:56.297455Z"
    }
   },
   "outputs": [
    {
     "name": "stderr",
     "output_type": "stream",
     "text": [
      "/Users/markduan/opt/anaconda3/envs/mypy37/lib/python3.7/site-packages/IPython/core/interactiveshell.py:3063: DtypeWarning: Columns (10) have mixed types.Specify dtype option on import or set low_memory=False.\n",
      "  interactivity=interactivity, compiler=compiler, result=result)\n"
     ]
    }
   ],
   "source": [
    "df = pd.read_csv(raw_filepath)"
   ]
  },
  {
   "cell_type": "code",
   "execution_count": 222,
   "metadata": {
    "ExecuteTime": {
     "end_time": "2020-10-01T20:51:56.566453Z",
     "start_time": "2020-10-01T20:51:56.537255Z"
    }
   },
   "outputs": [
    {
     "data": {
      "text/html": [
       "<div>\n",
       "<style scoped>\n",
       "    .dataframe tbody tr th:only-of-type {\n",
       "        vertical-align: middle;\n",
       "    }\n",
       "\n",
       "    .dataframe tbody tr th {\n",
       "        vertical-align: top;\n",
       "    }\n",
       "\n",
       "    .dataframe thead th {\n",
       "        text-align: right;\n",
       "    }\n",
       "</style>\n",
       "<table border=\"1\" class=\"dataframe\">\n",
       "  <thead>\n",
       "    <tr style=\"text-align: right;\">\n",
       "      <th></th>\n",
       "      <th>trip_id</th>\n",
       "      <th>duration</th>\n",
       "      <th>start_time</th>\n",
       "      <th>end_time</th>\n",
       "      <th>start_station</th>\n",
       "      <th>start_lat</th>\n",
       "      <th>start_lon</th>\n",
       "      <th>end_station</th>\n",
       "      <th>end_lat</th>\n",
       "      <th>end_lon</th>\n",
       "      <th>bike_id</th>\n",
       "      <th>plan_duration</th>\n",
       "      <th>trip_route_category</th>\n",
       "      <th>passholder_type</th>\n",
       "      <th>bike_type</th>\n",
       "    </tr>\n",
       "  </thead>\n",
       "  <tbody>\n",
       "    <tr>\n",
       "      <th>0</th>\n",
       "      <td>124657107</td>\n",
       "      <td>5</td>\n",
       "      <td>7/1/2019 0:04</td>\n",
       "      <td>7/1/2019 0:09</td>\n",
       "      <td>4312</td>\n",
       "      <td>34.066990</td>\n",
       "      <td>-118.290878</td>\n",
       "      <td>4410</td>\n",
       "      <td>34.063351</td>\n",
       "      <td>-118.296799</td>\n",
       "      <td>6168</td>\n",
       "      <td>30</td>\n",
       "      <td>One Way</td>\n",
       "      <td>Monthly Pass</td>\n",
       "      <td>standard</td>\n",
       "    </tr>\n",
       "    <tr>\n",
       "      <th>1</th>\n",
       "      <td>124657587</td>\n",
       "      <td>9</td>\n",
       "      <td>7/1/2019 0:07</td>\n",
       "      <td>7/1/2019 0:16</td>\n",
       "      <td>3066</td>\n",
       "      <td>34.063389</td>\n",
       "      <td>-118.236160</td>\n",
       "      <td>3066</td>\n",
       "      <td>34.063389</td>\n",
       "      <td>-118.236160</td>\n",
       "      <td>17584</td>\n",
       "      <td>30</td>\n",
       "      <td>Round Trip</td>\n",
       "      <td>Monthly Pass</td>\n",
       "      <td>electric</td>\n",
       "    </tr>\n",
       "    <tr>\n",
       "      <th>2</th>\n",
       "      <td>124658068</td>\n",
       "      <td>5</td>\n",
       "      <td>7/1/2019 0:20</td>\n",
       "      <td>7/1/2019 0:25</td>\n",
       "      <td>4410</td>\n",
       "      <td>34.063351</td>\n",
       "      <td>-118.296799</td>\n",
       "      <td>4312</td>\n",
       "      <td>34.066990</td>\n",
       "      <td>-118.290878</td>\n",
       "      <td>18920</td>\n",
       "      <td>30</td>\n",
       "      <td>One Way</td>\n",
       "      <td>Monthly Pass</td>\n",
       "      <td>electric</td>\n",
       "    </tr>\n",
       "    <tr>\n",
       "      <th>3</th>\n",
       "      <td>124659747</td>\n",
       "      <td>20</td>\n",
       "      <td>7/1/2019 0:44</td>\n",
       "      <td>7/1/2019 1:04</td>\n",
       "      <td>3045</td>\n",
       "      <td>34.028511</td>\n",
       "      <td>-118.256668</td>\n",
       "      <td>4275</td>\n",
       "      <td>34.012520</td>\n",
       "      <td>-118.285896</td>\n",
       "      <td>6016</td>\n",
       "      <td>1</td>\n",
       "      <td>One Way</td>\n",
       "      <td>Walk-up</td>\n",
       "      <td>standard</td>\n",
       "    </tr>\n",
       "    <tr>\n",
       "      <th>4</th>\n",
       "      <td>124660227</td>\n",
       "      <td>27</td>\n",
       "      <td>7/1/2019 0:44</td>\n",
       "      <td>7/1/2019 1:11</td>\n",
       "      <td>3035</td>\n",
       "      <td>34.048401</td>\n",
       "      <td>-118.260948</td>\n",
       "      <td>3049</td>\n",
       "      <td>34.056969</td>\n",
       "      <td>-118.253593</td>\n",
       "      <td>5867</td>\n",
       "      <td>30</td>\n",
       "      <td>One Way</td>\n",
       "      <td>Monthly Pass</td>\n",
       "      <td>standard</td>\n",
       "    </tr>\n",
       "    <tr>\n",
       "      <th>...</th>\n",
       "      <td>...</td>\n",
       "      <td>...</td>\n",
       "      <td>...</td>\n",
       "      <td>...</td>\n",
       "      <td>...</td>\n",
       "      <td>...</td>\n",
       "      <td>...</td>\n",
       "      <td>...</td>\n",
       "      <td>...</td>\n",
       "      <td>...</td>\n",
       "      <td>...</td>\n",
       "      <td>...</td>\n",
       "      <td>...</td>\n",
       "      <td>...</td>\n",
       "      <td>...</td>\n",
       "    </tr>\n",
       "    <tr>\n",
       "      <th>92119</th>\n",
       "      <td>130053092</td>\n",
       "      <td>8</td>\n",
       "      <td>9/30/2019 23:32</td>\n",
       "      <td>9/30/2019 23:40</td>\n",
       "      <td>3038</td>\n",
       "      <td>34.046822</td>\n",
       "      <td>-118.248352</td>\n",
       "      <td>3078</td>\n",
       "      <td>34.064281</td>\n",
       "      <td>-118.238937</td>\n",
       "      <td>19655</td>\n",
       "      <td>1</td>\n",
       "      <td>One Way</td>\n",
       "      <td>Walk-up</td>\n",
       "      <td>electric</td>\n",
       "    </tr>\n",
       "    <tr>\n",
       "      <th>92120</th>\n",
       "      <td>130053090</td>\n",
       "      <td>15</td>\n",
       "      <td>9/30/2019 23:38</td>\n",
       "      <td>9/30/2019 23:53</td>\n",
       "      <td>4401</td>\n",
       "      <td>34.075611</td>\n",
       "      <td>-118.291862</td>\n",
       "      <td>4401</td>\n",
       "      <td>34.075611</td>\n",
       "      <td>-118.291862</td>\n",
       "      <td>18984</td>\n",
       "      <td>30</td>\n",
       "      <td>Round Trip</td>\n",
       "      <td>Monthly Pass</td>\n",
       "      <td>electric</td>\n",
       "    </tr>\n",
       "    <tr>\n",
       "      <th>92121</th>\n",
       "      <td>130053089</td>\n",
       "      <td>1</td>\n",
       "      <td>9/30/2019 23:40</td>\n",
       "      <td>9/30/2019 23:41</td>\n",
       "      <td>3038</td>\n",
       "      <td>34.046822</td>\n",
       "      <td>-118.248352</td>\n",
       "      <td>3067</td>\n",
       "      <td>34.045181</td>\n",
       "      <td>-118.250237</td>\n",
       "      <td>12361</td>\n",
       "      <td>365</td>\n",
       "      <td>One Way</td>\n",
       "      <td>Annual Pass</td>\n",
       "      <td>standard</td>\n",
       "    </tr>\n",
       "    <tr>\n",
       "      <th>92122</th>\n",
       "      <td>130053088</td>\n",
       "      <td>22</td>\n",
       "      <td>9/30/2019 23:41</td>\n",
       "      <td>10/1/2019 0:03</td>\n",
       "      <td>3067</td>\n",
       "      <td>34.045181</td>\n",
       "      <td>-118.250237</td>\n",
       "      <td>3049</td>\n",
       "      <td>34.056969</td>\n",
       "      <td>-118.253593</td>\n",
       "      <td>16580</td>\n",
       "      <td>365</td>\n",
       "      <td>One Way</td>\n",
       "      <td>Annual Pass</td>\n",
       "      <td>electric</td>\n",
       "    </tr>\n",
       "    <tr>\n",
       "      <th>92123</th>\n",
       "      <td>130053087</td>\n",
       "      <td>4</td>\n",
       "      <td>9/30/2019 23:58</td>\n",
       "      <td>10/1/2019 0:02</td>\n",
       "      <td>4417</td>\n",
       "      <td>34.164951</td>\n",
       "      <td>-118.363632</td>\n",
       "      <td>4285</td>\n",
       "      <td>NaN</td>\n",
       "      <td>NaN</td>\n",
       "      <td>15727</td>\n",
       "      <td>365</td>\n",
       "      <td>One Way</td>\n",
       "      <td>Walk-up</td>\n",
       "      <td>smart</td>\n",
       "    </tr>\n",
       "  </tbody>\n",
       "</table>\n",
       "<p>92124 rows × 15 columns</p>\n",
       "</div>"
      ],
      "text/plain": [
       "         trip_id  duration       start_time         end_time  start_station  \\\n",
       "0      124657107         5    7/1/2019 0:04    7/1/2019 0:09           4312   \n",
       "1      124657587         9    7/1/2019 0:07    7/1/2019 0:16           3066   \n",
       "2      124658068         5    7/1/2019 0:20    7/1/2019 0:25           4410   \n",
       "3      124659747        20    7/1/2019 0:44    7/1/2019 1:04           3045   \n",
       "4      124660227        27    7/1/2019 0:44    7/1/2019 1:11           3035   \n",
       "...          ...       ...              ...              ...            ...   \n",
       "92119  130053092         8  9/30/2019 23:32  9/30/2019 23:40           3038   \n",
       "92120  130053090        15  9/30/2019 23:38  9/30/2019 23:53           4401   \n",
       "92121  130053089         1  9/30/2019 23:40  9/30/2019 23:41           3038   \n",
       "92122  130053088        22  9/30/2019 23:41   10/1/2019 0:03           3067   \n",
       "92123  130053087         4  9/30/2019 23:58   10/1/2019 0:02           4417   \n",
       "\n",
       "       start_lat   start_lon  end_station    end_lat     end_lon bike_id  \\\n",
       "0      34.066990 -118.290878         4410  34.063351 -118.296799    6168   \n",
       "1      34.063389 -118.236160         3066  34.063389 -118.236160   17584   \n",
       "2      34.063351 -118.296799         4312  34.066990 -118.290878   18920   \n",
       "3      34.028511 -118.256668         4275  34.012520 -118.285896    6016   \n",
       "4      34.048401 -118.260948         3049  34.056969 -118.253593    5867   \n",
       "...          ...         ...          ...        ...         ...     ...   \n",
       "92119  34.046822 -118.248352         3078  34.064281 -118.238937   19655   \n",
       "92120  34.075611 -118.291862         4401  34.075611 -118.291862   18984   \n",
       "92121  34.046822 -118.248352         3067  34.045181 -118.250237   12361   \n",
       "92122  34.045181 -118.250237         3049  34.056969 -118.253593   16580   \n",
       "92123  34.164951 -118.363632         4285        NaN         NaN   15727   \n",
       "\n",
       "       plan_duration trip_route_category passholder_type bike_type  \n",
       "0                 30             One Way    Monthly Pass  standard  \n",
       "1                 30          Round Trip    Monthly Pass  electric  \n",
       "2                 30             One Way    Monthly Pass  electric  \n",
       "3                  1             One Way         Walk-up  standard  \n",
       "4                 30             One Way    Monthly Pass  standard  \n",
       "...              ...                 ...             ...       ...  \n",
       "92119              1             One Way         Walk-up  electric  \n",
       "92120             30          Round Trip    Monthly Pass  electric  \n",
       "92121            365             One Way     Annual Pass  standard  \n",
       "92122            365             One Way     Annual Pass  electric  \n",
       "92123            365             One Way         Walk-up     smart  \n",
       "\n",
       "[92124 rows x 15 columns]"
      ]
     },
     "execution_count": 222,
     "metadata": {},
     "output_type": "execute_result"
    }
   ],
   "source": [
    "df"
   ]
  },
  {
   "cell_type": "code",
   "execution_count": 223,
   "metadata": {
    "ExecuteTime": {
     "end_time": "2020-10-01T20:51:56.572486Z",
     "start_time": "2020-10-01T20:51:56.569796Z"
    }
   },
   "outputs": [],
   "source": [
    "# df = df.rename(columns = {'start_station_id': 'start_station', 'end_station_id': 'end_station'})\n",
    "# df.columns"
   ]
  },
  {
   "cell_type": "code",
   "execution_count": 224,
   "metadata": {
    "ExecuteTime": {
     "end_time": "2020-10-01T20:51:56.582716Z",
     "start_time": "2020-10-01T20:51:56.575193Z"
    }
   },
   "outputs": [],
   "source": [
    "s1 = df.start_station == 3000\n",
    "s2 = df.end_station == 3000\n",
    "index3000 = df[s1 | s2].index"
   ]
  },
  {
   "cell_type": "code",
   "execution_count": 225,
   "metadata": {
    "ExecuteTime": {
     "end_time": "2020-10-01T20:51:56.602815Z",
     "start_time": "2020-10-01T20:51:56.584853Z"
    }
   },
   "outputs": [],
   "source": [
    "df_without_3000 = df.drop(index3000)"
   ]
  },
  {
   "cell_type": "code",
   "execution_count": 226,
   "metadata": {
    "ExecuteTime": {
     "end_time": "2020-10-01T20:51:56.640574Z",
     "start_time": "2020-10-01T20:51:56.605681Z"
    }
   },
   "outputs": [
    {
     "name": "stdout",
     "output_type": "stream",
     "text": [
      "<class 'pandas.core.frame.DataFrame'>\n",
      "Int64Index: 90677 entries, 0 to 92123\n",
      "Data columns (total 15 columns):\n",
      " #   Column               Non-Null Count  Dtype  \n",
      "---  ------               --------------  -----  \n",
      " 0   trip_id              90677 non-null  int64  \n",
      " 1   duration             90677 non-null  int64  \n",
      " 2   start_time           90677 non-null  object \n",
      " 3   end_time             90677 non-null  object \n",
      " 4   start_station        90677 non-null  int64  \n",
      " 5   start_lat            88713 non-null  float64\n",
      " 6   start_lon            88713 non-null  float64\n",
      " 7   end_station          90677 non-null  int64  \n",
      " 8   end_lat              87948 non-null  float64\n",
      " 9   end_lon              87948 non-null  float64\n",
      " 10  bike_id              90677 non-null  object \n",
      " 11  plan_duration        90677 non-null  int64  \n",
      " 12  trip_route_category  90677 non-null  object \n",
      " 13  passholder_type      90677 non-null  object \n",
      " 14  bike_type            90677 non-null  object \n",
      "dtypes: float64(4), int64(5), object(6)\n",
      "memory usage: 11.1+ MB\n"
     ]
    }
   ],
   "source": [
    "df_without_3000.info()"
   ]
  },
  {
   "cell_type": "code",
   "execution_count": 227,
   "metadata": {
    "ExecuteTime": {
     "end_time": "2020-10-01T20:51:56.647182Z",
     "start_time": "2020-10-01T20:51:56.642723Z"
    }
   },
   "outputs": [],
   "source": [
    "df_position = df_without_3000[[\"start_lat\", \"start_lon\", \"end_lat\", \"end_lon\"]]"
   ]
  },
  {
   "cell_type": "code",
   "execution_count": 228,
   "metadata": {
    "ExecuteTime": {
     "end_time": "2020-10-01T20:51:56.652659Z",
     "start_time": "2020-10-01T20:51:56.649381Z"
    }
   },
   "outputs": [],
   "source": [
    "df_position_isnull = df_position.isnull()"
   ]
  },
  {
   "cell_type": "code",
   "execution_count": 229,
   "metadata": {
    "ExecuteTime": {
     "end_time": "2020-10-01T20:51:56.659621Z",
     "start_time": "2020-10-01T20:51:56.654632Z"
    }
   },
   "outputs": [],
   "source": [
    "index_station_without_position = df_position_isnull[df_position_isnull.any(axis=1)].index"
   ]
  },
  {
   "cell_type": "code",
   "execution_count": 230,
   "metadata": {
    "ExecuteTime": {
     "end_time": "2020-10-01T20:51:56.678926Z",
     "start_time": "2020-10-01T20:51:56.661793Z"
    }
   },
   "outputs": [],
   "source": [
    "df_clean = df_without_3000.drop(index_station_without_position)"
   ]
  },
  {
   "cell_type": "code",
   "execution_count": 231,
   "metadata": {
    "ExecuteTime": {
     "end_time": "2020-10-01T20:51:56.708152Z",
     "start_time": "2020-10-01T20:51:56.681144Z"
    },
    "scrolled": true
   },
   "outputs": [
    {
     "data": {
      "text/plain": [
       "trip_id                False\n",
       "duration               False\n",
       "start_time             False\n",
       "end_time               False\n",
       "start_station          False\n",
       "start_lat              False\n",
       "start_lon              False\n",
       "end_station            False\n",
       "end_lat                False\n",
       "end_lon                False\n",
       "bike_id                False\n",
       "plan_duration          False\n",
       "trip_route_category    False\n",
       "passholder_type        False\n",
       "bike_type              False\n",
       "dtype: bool"
      ]
     },
     "execution_count": 231,
     "metadata": {},
     "output_type": "execute_result"
    }
   ],
   "source": [
    "dpu.df_has_nan(df_clean)"
   ]
  },
  {
   "cell_type": "code",
   "execution_count": 232,
   "metadata": {
    "ExecuteTime": {
     "end_time": "2020-10-01T20:51:56.721285Z",
     "start_time": "2020-10-01T20:51:56.710048Z"
    }
   },
   "outputs": [
    {
     "data": {
      "text/plain": [
       "'7/1/2019 0:04'"
      ]
     },
     "execution_count": 232,
     "metadata": {},
     "output_type": "execute_result"
    }
   ],
   "source": [
    "time_need_check = list(df_clean.start_time)[0]\n",
    "time_need_check"
   ]
  },
  {
   "cell_type": "code",
   "execution_count": 233,
   "metadata": {
    "ExecuteTime": {
     "end_time": "2020-10-01T20:51:56.728230Z",
     "start_time": "2020-10-01T20:51:56.723489Z"
    }
   },
   "outputs": [
    {
     "data": {
      "text/plain": [
       "False"
      ]
     },
     "execution_count": 233,
     "metadata": {},
     "output_type": "execute_result"
    }
   ],
   "source": [
    "time_format_need_change = dpu.is_time_format(time_need_check, t_format_check)\n",
    "time_format_need_change"
   ]
  },
  {
   "cell_type": "code",
   "execution_count": 234,
   "metadata": {
    "ExecuteTime": {
     "end_time": "2020-10-01T20:51:56.733051Z",
     "start_time": "2020-10-01T20:51:56.730202Z"
    }
   },
   "outputs": [],
   "source": [
    "if time_format_need_change:\n",
    "    df_clean[[\"start_time\", \"end_time\"]] = df_clean[[\"start_time\", \"end_time\"]].applymap(lambda ts: dpu.change_time_format(ts, t_format_check, t_format_output))"
   ]
  },
  {
   "cell_type": "code",
   "execution_count": 235,
   "metadata": {
    "ExecuteTime": {
     "end_time": "2020-10-01T20:51:56.749416Z",
     "start_time": "2020-10-01T20:51:56.734790Z"
    }
   },
   "outputs": [
    {
     "data": {
      "text/html": [
       "<div>\n",
       "<style scoped>\n",
       "    .dataframe tbody tr th:only-of-type {\n",
       "        vertical-align: middle;\n",
       "    }\n",
       "\n",
       "    .dataframe tbody tr th {\n",
       "        vertical-align: top;\n",
       "    }\n",
       "\n",
       "    .dataframe thead th {\n",
       "        text-align: right;\n",
       "    }\n",
       "</style>\n",
       "<table border=\"1\" class=\"dataframe\">\n",
       "  <thead>\n",
       "    <tr style=\"text-align: right;\">\n",
       "      <th></th>\n",
       "      <th>trip_id</th>\n",
       "      <th>duration</th>\n",
       "      <th>start_time</th>\n",
       "      <th>end_time</th>\n",
       "      <th>start_station</th>\n",
       "      <th>start_lat</th>\n",
       "      <th>start_lon</th>\n",
       "      <th>end_station</th>\n",
       "      <th>end_lat</th>\n",
       "      <th>end_lon</th>\n",
       "      <th>bike_id</th>\n",
       "      <th>plan_duration</th>\n",
       "      <th>trip_route_category</th>\n",
       "      <th>passholder_type</th>\n",
       "      <th>bike_type</th>\n",
       "    </tr>\n",
       "  </thead>\n",
       "  <tbody>\n",
       "    <tr>\n",
       "      <th>0</th>\n",
       "      <td>124657107</td>\n",
       "      <td>5</td>\n",
       "      <td>7/1/2019 0:04</td>\n",
       "      <td>7/1/2019 0:09</td>\n",
       "      <td>4312</td>\n",
       "      <td>34.066990</td>\n",
       "      <td>-118.290878</td>\n",
       "      <td>4410</td>\n",
       "      <td>34.063351</td>\n",
       "      <td>-118.296799</td>\n",
       "      <td>6168</td>\n",
       "      <td>30</td>\n",
       "      <td>One Way</td>\n",
       "      <td>Monthly Pass</td>\n",
       "      <td>standard</td>\n",
       "    </tr>\n",
       "    <tr>\n",
       "      <th>1</th>\n",
       "      <td>124657587</td>\n",
       "      <td>9</td>\n",
       "      <td>7/1/2019 0:07</td>\n",
       "      <td>7/1/2019 0:16</td>\n",
       "      <td>3066</td>\n",
       "      <td>34.063389</td>\n",
       "      <td>-118.236160</td>\n",
       "      <td>3066</td>\n",
       "      <td>34.063389</td>\n",
       "      <td>-118.236160</td>\n",
       "      <td>17584</td>\n",
       "      <td>30</td>\n",
       "      <td>Round Trip</td>\n",
       "      <td>Monthly Pass</td>\n",
       "      <td>electric</td>\n",
       "    </tr>\n",
       "    <tr>\n",
       "      <th>2</th>\n",
       "      <td>124658068</td>\n",
       "      <td>5</td>\n",
       "      <td>7/1/2019 0:20</td>\n",
       "      <td>7/1/2019 0:25</td>\n",
       "      <td>4410</td>\n",
       "      <td>34.063351</td>\n",
       "      <td>-118.296799</td>\n",
       "      <td>4312</td>\n",
       "      <td>34.066990</td>\n",
       "      <td>-118.290878</td>\n",
       "      <td>18920</td>\n",
       "      <td>30</td>\n",
       "      <td>One Way</td>\n",
       "      <td>Monthly Pass</td>\n",
       "      <td>electric</td>\n",
       "    </tr>\n",
       "    <tr>\n",
       "      <th>3</th>\n",
       "      <td>124659747</td>\n",
       "      <td>20</td>\n",
       "      <td>7/1/2019 0:44</td>\n",
       "      <td>7/1/2019 1:04</td>\n",
       "      <td>3045</td>\n",
       "      <td>34.028511</td>\n",
       "      <td>-118.256668</td>\n",
       "      <td>4275</td>\n",
       "      <td>34.012520</td>\n",
       "      <td>-118.285896</td>\n",
       "      <td>6016</td>\n",
       "      <td>1</td>\n",
       "      <td>One Way</td>\n",
       "      <td>Walk-up</td>\n",
       "      <td>standard</td>\n",
       "    </tr>\n",
       "    <tr>\n",
       "      <th>4</th>\n",
       "      <td>124660227</td>\n",
       "      <td>27</td>\n",
       "      <td>7/1/2019 0:44</td>\n",
       "      <td>7/1/2019 1:11</td>\n",
       "      <td>3035</td>\n",
       "      <td>34.048401</td>\n",
       "      <td>-118.260948</td>\n",
       "      <td>3049</td>\n",
       "      <td>34.056969</td>\n",
       "      <td>-118.253593</td>\n",
       "      <td>5867</td>\n",
       "      <td>30</td>\n",
       "      <td>One Way</td>\n",
       "      <td>Monthly Pass</td>\n",
       "      <td>standard</td>\n",
       "    </tr>\n",
       "  </tbody>\n",
       "</table>\n",
       "</div>"
      ],
      "text/plain": [
       "     trip_id  duration     start_time       end_time  start_station  \\\n",
       "0  124657107         5  7/1/2019 0:04  7/1/2019 0:09           4312   \n",
       "1  124657587         9  7/1/2019 0:07  7/1/2019 0:16           3066   \n",
       "2  124658068         5  7/1/2019 0:20  7/1/2019 0:25           4410   \n",
       "3  124659747        20  7/1/2019 0:44  7/1/2019 1:04           3045   \n",
       "4  124660227        27  7/1/2019 0:44  7/1/2019 1:11           3035   \n",
       "\n",
       "   start_lat   start_lon  end_station    end_lat     end_lon bike_id  \\\n",
       "0  34.066990 -118.290878         4410  34.063351 -118.296799    6168   \n",
       "1  34.063389 -118.236160         3066  34.063389 -118.236160   17584   \n",
       "2  34.063351 -118.296799         4312  34.066990 -118.290878   18920   \n",
       "3  34.028511 -118.256668         4275  34.012520 -118.285896    6016   \n",
       "4  34.048401 -118.260948         3049  34.056969 -118.253593    5867   \n",
       "\n",
       "   plan_duration trip_route_category passholder_type bike_type  \n",
       "0             30             One Way    Monthly Pass  standard  \n",
       "1             30          Round Trip    Monthly Pass  electric  \n",
       "2             30             One Way    Monthly Pass  electric  \n",
       "3              1             One Way         Walk-up  standard  \n",
       "4             30             One Way    Monthly Pass  standard  "
      ]
     },
     "execution_count": 235,
     "metadata": {},
     "output_type": "execute_result"
    }
   ],
   "source": [
    "df_clean.head(5)"
   ]
  },
  {
   "cell_type": "code",
   "execution_count": 236,
   "metadata": {
    "ExecuteTime": {
     "end_time": "2020-10-01T20:51:56.779433Z",
     "start_time": "2020-10-01T20:51:56.751145Z"
    }
   },
   "outputs": [
    {
     "name": "stdout",
     "output_type": "stream",
     "text": [
      "<class 'pandas.core.frame.DataFrame'>\n",
      "Int64Index: 86760 entries, 0 to 92122\n",
      "Data columns (total 15 columns):\n",
      " #   Column               Non-Null Count  Dtype  \n",
      "---  ------               --------------  -----  \n",
      " 0   trip_id              86760 non-null  int64  \n",
      " 1   duration             86760 non-null  int64  \n",
      " 2   start_time           86760 non-null  object \n",
      " 3   end_time             86760 non-null  object \n",
      " 4   start_station        86760 non-null  int64  \n",
      " 5   start_lat            86760 non-null  float64\n",
      " 6   start_lon            86760 non-null  float64\n",
      " 7   end_station          86760 non-null  int64  \n",
      " 8   end_lat              86760 non-null  float64\n",
      " 9   end_lon              86760 non-null  float64\n",
      " 10  bike_id              86760 non-null  object \n",
      " 11  plan_duration        86760 non-null  int64  \n",
      " 12  trip_route_category  86760 non-null  object \n",
      " 13  passholder_type      86760 non-null  object \n",
      " 14  bike_type            86760 non-null  object \n",
      "dtypes: float64(4), int64(5), object(6)\n",
      "memory usage: 10.6+ MB\n"
     ]
    }
   ],
   "source": [
    "df_clean.info()"
   ]
  },
  {
   "cell_type": "code",
   "execution_count": 237,
   "metadata": {
    "ExecuteTime": {
     "end_time": "2020-10-01T20:51:57.611824Z",
     "start_time": "2020-10-01T20:51:56.781056Z"
    }
   },
   "outputs": [],
   "source": [
    "df_clean.to_csv(output_filepath, index=False)"
   ]
  },
  {
   "cell_type": "code",
   "execution_count": null,
   "metadata": {},
   "outputs": [],
   "source": []
  },
  {
   "cell_type": "markdown",
   "metadata": {},
   "source": [
    "## process 2019 q4"
   ]
  },
  {
   "cell_type": "code",
   "execution_count": 238,
   "metadata": {
    "ExecuteTime": {
     "end_time": "2020-10-01T20:51:57.615838Z",
     "start_time": "2020-10-01T20:51:57.613391Z"
    }
   },
   "outputs": [],
   "source": [
    "year_q = (19, 4)"
   ]
  },
  {
   "cell_type": "code",
   "execution_count": 239,
   "metadata": {
    "ExecuteTime": {
     "end_time": "2020-10-01T20:51:57.621124Z",
     "start_time": "2020-10-01T20:51:57.617484Z"
    }
   },
   "outputs": [
    {
     "data": {
      "text/plain": [
       "'./rawdata/metro-bike-2019-q4.csv'"
      ]
     },
     "execution_count": 239,
     "metadata": {},
     "output_type": "execute_result"
    }
   ],
   "source": [
    "raw_filepath = \"./rawdata/metro-bike-20%s-q%d.csv\" % year_q\n",
    "output_filepath = \"./processed_data/metro-bike-20%s-q%d.csv\" % year_q\n",
    "raw_filepath"
   ]
  },
  {
   "cell_type": "code",
   "execution_count": 240,
   "metadata": {
    "ExecuteTime": {
     "end_time": "2020-10-01T20:51:57.857373Z",
     "start_time": "2020-10-01T20:51:57.623491Z"
    }
   },
   "outputs": [],
   "source": [
    "df = pd.read_csv(raw_filepath)"
   ]
  },
  {
   "cell_type": "code",
   "execution_count": 241,
   "metadata": {
    "ExecuteTime": {
     "end_time": "2020-10-01T20:51:57.885236Z",
     "start_time": "2020-10-01T20:51:57.859541Z"
    }
   },
   "outputs": [
    {
     "data": {
      "text/html": [
       "<div>\n",
       "<style scoped>\n",
       "    .dataframe tbody tr th:only-of-type {\n",
       "        vertical-align: middle;\n",
       "    }\n",
       "\n",
       "    .dataframe tbody tr th {\n",
       "        vertical-align: top;\n",
       "    }\n",
       "\n",
       "    .dataframe thead th {\n",
       "        text-align: right;\n",
       "    }\n",
       "</style>\n",
       "<table border=\"1\" class=\"dataframe\">\n",
       "  <thead>\n",
       "    <tr style=\"text-align: right;\">\n",
       "      <th></th>\n",
       "      <th>trip_id</th>\n",
       "      <th>duration</th>\n",
       "      <th>start_time</th>\n",
       "      <th>end_time</th>\n",
       "      <th>start_station</th>\n",
       "      <th>start_lat</th>\n",
       "      <th>start_lon</th>\n",
       "      <th>end_station</th>\n",
       "      <th>end_lat</th>\n",
       "      <th>end_lon</th>\n",
       "      <th>bike_id</th>\n",
       "      <th>plan_duration</th>\n",
       "      <th>trip_route_category</th>\n",
       "      <th>passholder_type</th>\n",
       "      <th>bike_type</th>\n",
       "    </tr>\n",
       "  </thead>\n",
       "  <tbody>\n",
       "    <tr>\n",
       "      <th>0</th>\n",
       "      <td>130053086</td>\n",
       "      <td>25</td>\n",
       "      <td>2019-10-01 00:03:10</td>\n",
       "      <td>2019-10-01 00:28:40</td>\n",
       "      <td>3049</td>\n",
       "      <td>34.056969</td>\n",
       "      <td>-118.253593</td>\n",
       "      <td>3038</td>\n",
       "      <td>34.046822</td>\n",
       "      <td>-118.248352</td>\n",
       "      <td>16580</td>\n",
       "      <td>365</td>\n",
       "      <td>One Way</td>\n",
       "      <td>Annual Pass</td>\n",
       "      <td>electric</td>\n",
       "    </tr>\n",
       "    <tr>\n",
       "      <th>1</th>\n",
       "      <td>130053085</td>\n",
       "      <td>2</td>\n",
       "      <td>2019-10-01 00:07:43</td>\n",
       "      <td>2019-10-01 00:09:44</td>\n",
       "      <td>3067</td>\n",
       "      <td>34.045181</td>\n",
       "      <td>-118.250237</td>\n",
       "      <td>3029</td>\n",
       "      <td>34.048851</td>\n",
       "      <td>-118.246422</td>\n",
       "      <td>19587</td>\n",
       "      <td>30</td>\n",
       "      <td>One Way</td>\n",
       "      <td>Monthly Pass</td>\n",
       "      <td>electric</td>\n",
       "    </tr>\n",
       "    <tr>\n",
       "      <th>2</th>\n",
       "      <td>130053084</td>\n",
       "      <td>15</td>\n",
       "      <td>2019-10-01 00:17:30</td>\n",
       "      <td>2019-10-01 00:32:01</td>\n",
       "      <td>4420</td>\n",
       "      <td>34.168629</td>\n",
       "      <td>-118.377068</td>\n",
       "      <td>4416</td>\n",
       "      <td>34.157581</td>\n",
       "      <td>-118.388260</td>\n",
       "      <td>15625</td>\n",
       "      <td>30</td>\n",
       "      <td>One Way</td>\n",
       "      <td>Monthly Pass</td>\n",
       "      <td>smart</td>\n",
       "    </tr>\n",
       "    <tr>\n",
       "      <th>3</th>\n",
       "      <td>130053083</td>\n",
       "      <td>4</td>\n",
       "      <td>2019-10-01 00:18:20</td>\n",
       "      <td>2019-10-01 00:22:34</td>\n",
       "      <td>3031</td>\n",
       "      <td>34.044701</td>\n",
       "      <td>-118.252441</td>\n",
       "      <td>3006</td>\n",
       "      <td>34.045540</td>\n",
       "      <td>-118.256668</td>\n",
       "      <td>12450</td>\n",
       "      <td>365</td>\n",
       "      <td>One Way</td>\n",
       "      <td>Annual Pass</td>\n",
       "      <td>standard</td>\n",
       "    </tr>\n",
       "    <tr>\n",
       "      <th>4</th>\n",
       "      <td>130053082</td>\n",
       "      <td>20</td>\n",
       "      <td>2019-10-01 00:22:09</td>\n",
       "      <td>2019-10-01 00:42:53</td>\n",
       "      <td>3042</td>\n",
       "      <td>34.049301</td>\n",
       "      <td>-118.238808</td>\n",
       "      <td>4314</td>\n",
       "      <td>34.057709</td>\n",
       "      <td>-118.279762</td>\n",
       "      <td>17519</td>\n",
       "      <td>365</td>\n",
       "      <td>One Way</td>\n",
       "      <td>Annual Pass</td>\n",
       "      <td>electric</td>\n",
       "    </tr>\n",
       "    <tr>\n",
       "      <th>...</th>\n",
       "      <td>...</td>\n",
       "      <td>...</td>\n",
       "      <td>...</td>\n",
       "      <td>...</td>\n",
       "      <td>...</td>\n",
       "      <td>...</td>\n",
       "      <td>...</td>\n",
       "      <td>...</td>\n",
       "      <td>...</td>\n",
       "      <td>...</td>\n",
       "      <td>...</td>\n",
       "      <td>...</td>\n",
       "      <td>...</td>\n",
       "      <td>...</td>\n",
       "      <td>...</td>\n",
       "    </tr>\n",
       "    <tr>\n",
       "      <th>76310</th>\n",
       "      <td>134982544</td>\n",
       "      <td>1440</td>\n",
       "      <td>2019-12-31 23:35:51</td>\n",
       "      <td>2020-01-02 17:13:50</td>\n",
       "      <td>4491</td>\n",
       "      <td>34.047440</td>\n",
       "      <td>-118.247940</td>\n",
       "      <td>4491</td>\n",
       "      <td>34.047440</td>\n",
       "      <td>-118.247940</td>\n",
       "      <td>5903</td>\n",
       "      <td>30</td>\n",
       "      <td>Round Trip</td>\n",
       "      <td>Monthly Pass</td>\n",
       "      <td>standard</td>\n",
       "    </tr>\n",
       "    <tr>\n",
       "      <th>76311</th>\n",
       "      <td>134866394</td>\n",
       "      <td>9</td>\n",
       "      <td>2019-12-31 23:41:52</td>\n",
       "      <td>2019-12-31 23:50:58</td>\n",
       "      <td>4491</td>\n",
       "      <td>34.047440</td>\n",
       "      <td>-118.247940</td>\n",
       "      <td>3022</td>\n",
       "      <td>34.046070</td>\n",
       "      <td>-118.233093</td>\n",
       "      <td>18912</td>\n",
       "      <td>30</td>\n",
       "      <td>One Way</td>\n",
       "      <td>Monthly Pass</td>\n",
       "      <td>electric</td>\n",
       "    </tr>\n",
       "    <tr>\n",
       "      <th>76312</th>\n",
       "      <td>134866292</td>\n",
       "      <td>4</td>\n",
       "      <td>2019-12-31 23:43:19</td>\n",
       "      <td>2019-12-31 23:47:41</td>\n",
       "      <td>3051</td>\n",
       "      <td>34.045422</td>\n",
       "      <td>-118.253517</td>\n",
       "      <td>3064</td>\n",
       "      <td>34.046810</td>\n",
       "      <td>-118.256981</td>\n",
       "      <td>12298</td>\n",
       "      <td>365</td>\n",
       "      <td>One Way</td>\n",
       "      <td>Annual Pass</td>\n",
       "      <td>standard</td>\n",
       "    </tr>\n",
       "    <tr>\n",
       "      <th>76313</th>\n",
       "      <td>134866392</td>\n",
       "      <td>5</td>\n",
       "      <td>2019-12-31 23:48:17</td>\n",
       "      <td>2019-12-31 23:53:55</td>\n",
       "      <td>3064</td>\n",
       "      <td>34.046810</td>\n",
       "      <td>-118.256981</td>\n",
       "      <td>3074</td>\n",
       "      <td>34.044170</td>\n",
       "      <td>-118.261169</td>\n",
       "      <td>19053</td>\n",
       "      <td>365</td>\n",
       "      <td>One Way</td>\n",
       "      <td>Annual Pass</td>\n",
       "      <td>electric</td>\n",
       "    </tr>\n",
       "    <tr>\n",
       "      <th>76314</th>\n",
       "      <td>134867192</td>\n",
       "      <td>27</td>\n",
       "      <td>2019-12-31 23:58:52</td>\n",
       "      <td>2020-01-01 00:25:27</td>\n",
       "      <td>3074</td>\n",
       "      <td>34.044170</td>\n",
       "      <td>-118.261169</td>\n",
       "      <td>3049</td>\n",
       "      <td>34.056969</td>\n",
       "      <td>-118.253593</td>\n",
       "      <td>19053</td>\n",
       "      <td>365</td>\n",
       "      <td>One Way</td>\n",
       "      <td>Annual Pass</td>\n",
       "      <td>electric</td>\n",
       "    </tr>\n",
       "  </tbody>\n",
       "</table>\n",
       "<p>76315 rows × 15 columns</p>\n",
       "</div>"
      ],
      "text/plain": [
       "         trip_id  duration           start_time             end_time  \\\n",
       "0      130053086        25  2019-10-01 00:03:10  2019-10-01 00:28:40   \n",
       "1      130053085         2  2019-10-01 00:07:43  2019-10-01 00:09:44   \n",
       "2      130053084        15  2019-10-01 00:17:30  2019-10-01 00:32:01   \n",
       "3      130053083         4  2019-10-01 00:18:20  2019-10-01 00:22:34   \n",
       "4      130053082        20  2019-10-01 00:22:09  2019-10-01 00:42:53   \n",
       "...          ...       ...                  ...                  ...   \n",
       "76310  134982544      1440  2019-12-31 23:35:51  2020-01-02 17:13:50   \n",
       "76311  134866394         9  2019-12-31 23:41:52  2019-12-31 23:50:58   \n",
       "76312  134866292         4  2019-12-31 23:43:19  2019-12-31 23:47:41   \n",
       "76313  134866392         5  2019-12-31 23:48:17  2019-12-31 23:53:55   \n",
       "76314  134867192        27  2019-12-31 23:58:52  2020-01-01 00:25:27   \n",
       "\n",
       "       start_station  start_lat   start_lon  end_station    end_lat  \\\n",
       "0               3049  34.056969 -118.253593         3038  34.046822   \n",
       "1               3067  34.045181 -118.250237         3029  34.048851   \n",
       "2               4420  34.168629 -118.377068         4416  34.157581   \n",
       "3               3031  34.044701 -118.252441         3006  34.045540   \n",
       "4               3042  34.049301 -118.238808         4314  34.057709   \n",
       "...              ...        ...         ...          ...        ...   \n",
       "76310           4491  34.047440 -118.247940         4491  34.047440   \n",
       "76311           4491  34.047440 -118.247940         3022  34.046070   \n",
       "76312           3051  34.045422 -118.253517         3064  34.046810   \n",
       "76313           3064  34.046810 -118.256981         3074  34.044170   \n",
       "76314           3074  34.044170 -118.261169         3049  34.056969   \n",
       "\n",
       "          end_lon  bike_id  plan_duration trip_route_category passholder_type  \\\n",
       "0     -118.248352    16580            365             One Way     Annual Pass   \n",
       "1     -118.246422    19587             30             One Way    Monthly Pass   \n",
       "2     -118.388260    15625             30             One Way    Monthly Pass   \n",
       "3     -118.256668    12450            365             One Way     Annual Pass   \n",
       "4     -118.279762    17519            365             One Way     Annual Pass   \n",
       "...           ...      ...            ...                 ...             ...   \n",
       "76310 -118.247940     5903             30          Round Trip    Monthly Pass   \n",
       "76311 -118.233093    18912             30             One Way    Monthly Pass   \n",
       "76312 -118.256981    12298            365             One Way     Annual Pass   \n",
       "76313 -118.261169    19053            365             One Way     Annual Pass   \n",
       "76314 -118.253593    19053            365             One Way     Annual Pass   \n",
       "\n",
       "      bike_type  \n",
       "0      electric  \n",
       "1      electric  \n",
       "2         smart  \n",
       "3      standard  \n",
       "4      electric  \n",
       "...         ...  \n",
       "76310  standard  \n",
       "76311  electric  \n",
       "76312  standard  \n",
       "76313  electric  \n",
       "76314  electric  \n",
       "\n",
       "[76315 rows x 15 columns]"
      ]
     },
     "execution_count": 241,
     "metadata": {},
     "output_type": "execute_result"
    }
   ],
   "source": [
    "df"
   ]
  },
  {
   "cell_type": "code",
   "execution_count": 242,
   "metadata": {
    "ExecuteTime": {
     "end_time": "2020-10-01T20:51:57.888931Z",
     "start_time": "2020-10-01T20:51:57.887003Z"
    }
   },
   "outputs": [],
   "source": [
    "# df = df.rename(columns = {'start_station_id': 'start_station', 'end_station_id': 'end_station'})\n",
    "# df.columns"
   ]
  },
  {
   "cell_type": "code",
   "execution_count": 243,
   "metadata": {
    "ExecuteTime": {
     "end_time": "2020-10-01T20:51:57.896974Z",
     "start_time": "2020-10-01T20:51:57.890876Z"
    }
   },
   "outputs": [],
   "source": [
    "s1 = df.start_station == 3000\n",
    "s2 = df.end_station == 3000\n",
    "index3000 = df[s1 | s2].index"
   ]
  },
  {
   "cell_type": "code",
   "execution_count": 244,
   "metadata": {
    "ExecuteTime": {
     "end_time": "2020-10-01T20:51:57.915338Z",
     "start_time": "2020-10-01T20:51:57.898988Z"
    }
   },
   "outputs": [],
   "source": [
    "df_without_3000 = df.drop(index3000)"
   ]
  },
  {
   "cell_type": "code",
   "execution_count": 245,
   "metadata": {
    "ExecuteTime": {
     "end_time": "2020-10-01T20:51:57.944994Z",
     "start_time": "2020-10-01T20:51:57.917772Z"
    }
   },
   "outputs": [
    {
     "name": "stdout",
     "output_type": "stream",
     "text": [
      "<class 'pandas.core.frame.DataFrame'>\n",
      "Int64Index: 75098 entries, 0 to 76314\n",
      "Data columns (total 15 columns):\n",
      " #   Column               Non-Null Count  Dtype  \n",
      "---  ------               --------------  -----  \n",
      " 0   trip_id              75098 non-null  int64  \n",
      " 1   duration             75098 non-null  int64  \n",
      " 2   start_time           75098 non-null  object \n",
      " 3   end_time             75098 non-null  object \n",
      " 4   start_station        75098 non-null  int64  \n",
      " 5   start_lat            74073 non-null  float64\n",
      " 6   start_lon            74073 non-null  float64\n",
      " 7   end_station          75098 non-null  int64  \n",
      " 8   end_lat              73737 non-null  float64\n",
      " 9   end_lon              73737 non-null  float64\n",
      " 10  bike_id              75098 non-null  int64  \n",
      " 11  plan_duration        75098 non-null  int64  \n",
      " 12  trip_route_category  75098 non-null  object \n",
      " 13  passholder_type      75098 non-null  object \n",
      " 14  bike_type            75098 non-null  object \n",
      "dtypes: float64(4), int64(6), object(5)\n",
      "memory usage: 9.2+ MB\n"
     ]
    }
   ],
   "source": [
    "df_without_3000.info()"
   ]
  },
  {
   "cell_type": "code",
   "execution_count": 246,
   "metadata": {
    "ExecuteTime": {
     "end_time": "2020-10-01T20:51:57.951505Z",
     "start_time": "2020-10-01T20:51:57.947222Z"
    }
   },
   "outputs": [],
   "source": [
    "df_position = df_without_3000[[\"start_lat\", \"start_lon\", \"end_lat\", \"end_lon\"]]"
   ]
  },
  {
   "cell_type": "code",
   "execution_count": 247,
   "metadata": {
    "ExecuteTime": {
     "end_time": "2020-10-01T20:51:57.957027Z",
     "start_time": "2020-10-01T20:51:57.953619Z"
    }
   },
   "outputs": [],
   "source": [
    "df_position_isnull = df_position.isnull()"
   ]
  },
  {
   "cell_type": "code",
   "execution_count": 248,
   "metadata": {
    "ExecuteTime": {
     "end_time": "2020-10-01T20:51:57.963000Z",
     "start_time": "2020-10-01T20:51:57.958962Z"
    }
   },
   "outputs": [],
   "source": [
    "index_station_without_position = df_position_isnull[df_position_isnull.any(axis=1)].index"
   ]
  },
  {
   "cell_type": "code",
   "execution_count": 249,
   "metadata": {
    "ExecuteTime": {
     "end_time": "2020-10-01T20:51:57.974850Z",
     "start_time": "2020-10-01T20:51:57.964746Z"
    }
   },
   "outputs": [],
   "source": [
    "df_clean = df_without_3000.drop(index_station_without_position)"
   ]
  },
  {
   "cell_type": "code",
   "execution_count": 250,
   "metadata": {
    "ExecuteTime": {
     "end_time": "2020-10-01T20:51:57.996535Z",
     "start_time": "2020-10-01T20:51:57.976725Z"
    },
    "scrolled": true
   },
   "outputs": [
    {
     "data": {
      "text/plain": [
       "trip_id                False\n",
       "duration               False\n",
       "start_time             False\n",
       "end_time               False\n",
       "start_station          False\n",
       "start_lat              False\n",
       "start_lon              False\n",
       "end_station            False\n",
       "end_lat                False\n",
       "end_lon                False\n",
       "bike_id                False\n",
       "plan_duration          False\n",
       "trip_route_category    False\n",
       "passholder_type        False\n",
       "bike_type              False\n",
       "dtype: bool"
      ]
     },
     "execution_count": 250,
     "metadata": {},
     "output_type": "execute_result"
    }
   ],
   "source": [
    "dpu.df_has_nan(df_clean)"
   ]
  },
  {
   "cell_type": "code",
   "execution_count": 251,
   "metadata": {
    "ExecuteTime": {
     "end_time": "2020-10-01T20:51:58.008610Z",
     "start_time": "2020-10-01T20:51:57.998586Z"
    }
   },
   "outputs": [
    {
     "data": {
      "text/plain": [
       "'2019-10-01 00:03:10'"
      ]
     },
     "execution_count": 251,
     "metadata": {},
     "output_type": "execute_result"
    }
   ],
   "source": [
    "time_need_check = list(df_clean.start_time)[0]\n",
    "time_need_check"
   ]
  },
  {
   "cell_type": "code",
   "execution_count": 252,
   "metadata": {
    "ExecuteTime": {
     "end_time": "2020-10-01T20:51:58.014275Z",
     "start_time": "2020-10-01T20:51:58.010428Z"
    }
   },
   "outputs": [
    {
     "data": {
      "text/plain": [
       "True"
      ]
     },
     "execution_count": 252,
     "metadata": {},
     "output_type": "execute_result"
    }
   ],
   "source": [
    "time_format_need_change = dpu.is_time_format(time_need_check, t_format_check)\n",
    "time_format_need_change"
   ]
  },
  {
   "cell_type": "code",
   "execution_count": 253,
   "metadata": {
    "ExecuteTime": {
     "end_time": "2020-10-01T20:52:01.037351Z",
     "start_time": "2020-10-01T20:51:58.015816Z"
    }
   },
   "outputs": [],
   "source": [
    "if time_format_need_change:\n",
    "    df_clean[[\"start_time\", \"end_time\"]] = df_clean[[\"start_time\", \"end_time\"]].applymap(lambda ts: dpu.change_time_format(ts, t_format_check, t_format_output))"
   ]
  },
  {
   "cell_type": "code",
   "execution_count": 254,
   "metadata": {
    "ExecuteTime": {
     "end_time": "2020-10-01T20:52:01.057179Z",
     "start_time": "2020-10-01T20:52:01.040074Z"
    }
   },
   "outputs": [
    {
     "data": {
      "text/html": [
       "<div>\n",
       "<style scoped>\n",
       "    .dataframe tbody tr th:only-of-type {\n",
       "        vertical-align: middle;\n",
       "    }\n",
       "\n",
       "    .dataframe tbody tr th {\n",
       "        vertical-align: top;\n",
       "    }\n",
       "\n",
       "    .dataframe thead th {\n",
       "        text-align: right;\n",
       "    }\n",
       "</style>\n",
       "<table border=\"1\" class=\"dataframe\">\n",
       "  <thead>\n",
       "    <tr style=\"text-align: right;\">\n",
       "      <th></th>\n",
       "      <th>trip_id</th>\n",
       "      <th>duration</th>\n",
       "      <th>start_time</th>\n",
       "      <th>end_time</th>\n",
       "      <th>start_station</th>\n",
       "      <th>start_lat</th>\n",
       "      <th>start_lon</th>\n",
       "      <th>end_station</th>\n",
       "      <th>end_lat</th>\n",
       "      <th>end_lon</th>\n",
       "      <th>bike_id</th>\n",
       "      <th>plan_duration</th>\n",
       "      <th>trip_route_category</th>\n",
       "      <th>passholder_type</th>\n",
       "      <th>bike_type</th>\n",
       "    </tr>\n",
       "  </thead>\n",
       "  <tbody>\n",
       "    <tr>\n",
       "      <th>0</th>\n",
       "      <td>130053086</td>\n",
       "      <td>25</td>\n",
       "      <td>10/01/2019 00:03</td>\n",
       "      <td>10/01/2019 00:28</td>\n",
       "      <td>3049</td>\n",
       "      <td>34.056969</td>\n",
       "      <td>-118.253593</td>\n",
       "      <td>3038</td>\n",
       "      <td>34.046822</td>\n",
       "      <td>-118.248352</td>\n",
       "      <td>16580</td>\n",
       "      <td>365</td>\n",
       "      <td>One Way</td>\n",
       "      <td>Annual Pass</td>\n",
       "      <td>electric</td>\n",
       "    </tr>\n",
       "    <tr>\n",
       "      <th>1</th>\n",
       "      <td>130053085</td>\n",
       "      <td>2</td>\n",
       "      <td>10/01/2019 00:07</td>\n",
       "      <td>10/01/2019 00:09</td>\n",
       "      <td>3067</td>\n",
       "      <td>34.045181</td>\n",
       "      <td>-118.250237</td>\n",
       "      <td>3029</td>\n",
       "      <td>34.048851</td>\n",
       "      <td>-118.246422</td>\n",
       "      <td>19587</td>\n",
       "      <td>30</td>\n",
       "      <td>One Way</td>\n",
       "      <td>Monthly Pass</td>\n",
       "      <td>electric</td>\n",
       "    </tr>\n",
       "    <tr>\n",
       "      <th>2</th>\n",
       "      <td>130053084</td>\n",
       "      <td>15</td>\n",
       "      <td>10/01/2019 00:17</td>\n",
       "      <td>10/01/2019 00:32</td>\n",
       "      <td>4420</td>\n",
       "      <td>34.168629</td>\n",
       "      <td>-118.377068</td>\n",
       "      <td>4416</td>\n",
       "      <td>34.157581</td>\n",
       "      <td>-118.388260</td>\n",
       "      <td>15625</td>\n",
       "      <td>30</td>\n",
       "      <td>One Way</td>\n",
       "      <td>Monthly Pass</td>\n",
       "      <td>smart</td>\n",
       "    </tr>\n",
       "    <tr>\n",
       "      <th>3</th>\n",
       "      <td>130053083</td>\n",
       "      <td>4</td>\n",
       "      <td>10/01/2019 00:18</td>\n",
       "      <td>10/01/2019 00:22</td>\n",
       "      <td>3031</td>\n",
       "      <td>34.044701</td>\n",
       "      <td>-118.252441</td>\n",
       "      <td>3006</td>\n",
       "      <td>34.045540</td>\n",
       "      <td>-118.256668</td>\n",
       "      <td>12450</td>\n",
       "      <td>365</td>\n",
       "      <td>One Way</td>\n",
       "      <td>Annual Pass</td>\n",
       "      <td>standard</td>\n",
       "    </tr>\n",
       "    <tr>\n",
       "      <th>4</th>\n",
       "      <td>130053082</td>\n",
       "      <td>20</td>\n",
       "      <td>10/01/2019 00:22</td>\n",
       "      <td>10/01/2019 00:42</td>\n",
       "      <td>3042</td>\n",
       "      <td>34.049301</td>\n",
       "      <td>-118.238808</td>\n",
       "      <td>4314</td>\n",
       "      <td>34.057709</td>\n",
       "      <td>-118.279762</td>\n",
       "      <td>17519</td>\n",
       "      <td>365</td>\n",
       "      <td>One Way</td>\n",
       "      <td>Annual Pass</td>\n",
       "      <td>electric</td>\n",
       "    </tr>\n",
       "  </tbody>\n",
       "</table>\n",
       "</div>"
      ],
      "text/plain": [
       "     trip_id  duration        start_time          end_time  start_station  \\\n",
       "0  130053086        25  10/01/2019 00:03  10/01/2019 00:28           3049   \n",
       "1  130053085         2  10/01/2019 00:07  10/01/2019 00:09           3067   \n",
       "2  130053084        15  10/01/2019 00:17  10/01/2019 00:32           4420   \n",
       "3  130053083         4  10/01/2019 00:18  10/01/2019 00:22           3031   \n",
       "4  130053082        20  10/01/2019 00:22  10/01/2019 00:42           3042   \n",
       "\n",
       "   start_lat   start_lon  end_station    end_lat     end_lon  bike_id  \\\n",
       "0  34.056969 -118.253593         3038  34.046822 -118.248352    16580   \n",
       "1  34.045181 -118.250237         3029  34.048851 -118.246422    19587   \n",
       "2  34.168629 -118.377068         4416  34.157581 -118.388260    15625   \n",
       "3  34.044701 -118.252441         3006  34.045540 -118.256668    12450   \n",
       "4  34.049301 -118.238808         4314  34.057709 -118.279762    17519   \n",
       "\n",
       "   plan_duration trip_route_category passholder_type bike_type  \n",
       "0            365             One Way     Annual Pass  electric  \n",
       "1             30             One Way    Monthly Pass  electric  \n",
       "2             30             One Way    Monthly Pass     smart  \n",
       "3            365             One Way     Annual Pass  standard  \n",
       "4            365             One Way     Annual Pass  electric  "
      ]
     },
     "execution_count": 254,
     "metadata": {},
     "output_type": "execute_result"
    }
   ],
   "source": [
    "df_clean.head(5)"
   ]
  },
  {
   "cell_type": "code",
   "execution_count": 255,
   "metadata": {
    "ExecuteTime": {
     "end_time": "2020-10-01T20:52:01.086902Z",
     "start_time": "2020-10-01T20:52:01.059571Z"
    }
   },
   "outputs": [
    {
     "name": "stdout",
     "output_type": "stream",
     "text": [
      "<class 'pandas.core.frame.DataFrame'>\n",
      "Int64Index: 73074 entries, 0 to 76314\n",
      "Data columns (total 15 columns):\n",
      " #   Column               Non-Null Count  Dtype  \n",
      "---  ------               --------------  -----  \n",
      " 0   trip_id              73074 non-null  int64  \n",
      " 1   duration             73074 non-null  int64  \n",
      " 2   start_time           73074 non-null  object \n",
      " 3   end_time             73074 non-null  object \n",
      " 4   start_station        73074 non-null  int64  \n",
      " 5   start_lat            73074 non-null  float64\n",
      " 6   start_lon            73074 non-null  float64\n",
      " 7   end_station          73074 non-null  int64  \n",
      " 8   end_lat              73074 non-null  float64\n",
      " 9   end_lon              73074 non-null  float64\n",
      " 10  bike_id              73074 non-null  int64  \n",
      " 11  plan_duration        73074 non-null  int64  \n",
      " 12  trip_route_category  73074 non-null  object \n",
      " 13  passholder_type      73074 non-null  object \n",
      " 14  bike_type            73074 non-null  object \n",
      "dtypes: float64(4), int64(6), object(5)\n",
      "memory usage: 8.9+ MB\n"
     ]
    }
   ],
   "source": [
    "df_clean.info()"
   ]
  },
  {
   "cell_type": "code",
   "execution_count": 256,
   "metadata": {
    "ExecuteTime": {
     "end_time": "2020-10-01T20:52:01.811101Z",
     "start_time": "2020-10-01T20:52:01.088994Z"
    }
   },
   "outputs": [],
   "source": [
    "df_clean.to_csv(output_filepath, index=False)"
   ]
  },
  {
   "cell_type": "code",
   "execution_count": null,
   "metadata": {},
   "outputs": [],
   "source": []
  },
  {
   "cell_type": "markdown",
   "metadata": {},
   "source": [
    "## process 2020 q1"
   ]
  },
  {
   "cell_type": "code",
   "execution_count": 257,
   "metadata": {
    "ExecuteTime": {
     "end_time": "2020-10-01T20:52:01.815454Z",
     "start_time": "2020-10-01T20:52:01.812847Z"
    }
   },
   "outputs": [],
   "source": [
    "year_q = (20, 1)"
   ]
  },
  {
   "cell_type": "code",
   "execution_count": 258,
   "metadata": {
    "ExecuteTime": {
     "end_time": "2020-10-01T20:52:01.822254Z",
     "start_time": "2020-10-01T20:52:01.817369Z"
    }
   },
   "outputs": [
    {
     "data": {
      "text/plain": [
       "'./rawdata/metro-bike-2020-q1.csv'"
      ]
     },
     "execution_count": 258,
     "metadata": {},
     "output_type": "execute_result"
    }
   ],
   "source": [
    "raw_filepath = \"./rawdata/metro-bike-20%s-q%d.csv\" % year_q\n",
    "output_filepath = \"./processed_data/metro-bike-20%s-q%d.csv\" % year_q\n",
    "raw_filepath"
   ]
  },
  {
   "cell_type": "code",
   "execution_count": 259,
   "metadata": {
    "ExecuteTime": {
     "end_time": "2020-10-01T20:52:02.064204Z",
     "start_time": "2020-10-01T20:52:01.824601Z"
    }
   },
   "outputs": [],
   "source": [
    "df = pd.read_csv(raw_filepath)"
   ]
  },
  {
   "cell_type": "code",
   "execution_count": 260,
   "metadata": {
    "ExecuteTime": {
     "end_time": "2020-10-01T20:52:02.100290Z",
     "start_time": "2020-10-01T20:52:02.066632Z"
    }
   },
   "outputs": [
    {
     "data": {
      "text/html": [
       "<div>\n",
       "<style scoped>\n",
       "    .dataframe tbody tr th:only-of-type {\n",
       "        vertical-align: middle;\n",
       "    }\n",
       "\n",
       "    .dataframe tbody tr th {\n",
       "        vertical-align: top;\n",
       "    }\n",
       "\n",
       "    .dataframe thead th {\n",
       "        text-align: right;\n",
       "    }\n",
       "</style>\n",
       "<table border=\"1\" class=\"dataframe\">\n",
       "  <thead>\n",
       "    <tr style=\"text-align: right;\">\n",
       "      <th></th>\n",
       "      <th>trip_id</th>\n",
       "      <th>duration</th>\n",
       "      <th>start_time</th>\n",
       "      <th>end_time</th>\n",
       "      <th>start_station</th>\n",
       "      <th>start_lat</th>\n",
       "      <th>start_lon</th>\n",
       "      <th>end_station</th>\n",
       "      <th>end_lat</th>\n",
       "      <th>end_lon</th>\n",
       "      <th>bike_id</th>\n",
       "      <th>plan_duration</th>\n",
       "      <th>trip_route_category</th>\n",
       "      <th>passholder_type</th>\n",
       "      <th>bike_type</th>\n",
       "    </tr>\n",
       "  </thead>\n",
       "  <tbody>\n",
       "    <tr>\n",
       "      <th>0</th>\n",
       "      <td>134867493</td>\n",
       "      <td>25</td>\n",
       "      <td>1/1/2020 0:16</td>\n",
       "      <td>1/1/2020 0:41</td>\n",
       "      <td>3063</td>\n",
       "      <td>34.048038</td>\n",
       "      <td>-118.253738</td>\n",
       "      <td>4491</td>\n",
       "      <td>34.047440</td>\n",
       "      <td>-118.247940</td>\n",
       "      <td>18419</td>\n",
       "      <td>30</td>\n",
       "      <td>One Way</td>\n",
       "      <td>Monthly Pass</td>\n",
       "      <td>electric</td>\n",
       "    </tr>\n",
       "    <tr>\n",
       "      <th>1</th>\n",
       "      <td>134867799</td>\n",
       "      <td>35</td>\n",
       "      <td>1/1/2020 0:24</td>\n",
       "      <td>1/1/2020 0:59</td>\n",
       "      <td>4285</td>\n",
       "      <td>NaN</td>\n",
       "      <td>NaN</td>\n",
       "      <td>4354</td>\n",
       "      <td>34.017681</td>\n",
       "      <td>-118.409081</td>\n",
       "      <td>15661</td>\n",
       "      <td>1</td>\n",
       "      <td>One Way</td>\n",
       "      <td>One Day Pass</td>\n",
       "      <td>smart</td>\n",
       "    </tr>\n",
       "    <tr>\n",
       "      <th>2</th>\n",
       "      <td>134868104</td>\n",
       "      <td>37</td>\n",
       "      <td>1/1/2020 0:31</td>\n",
       "      <td>1/1/2020 1:08</td>\n",
       "      <td>4344</td>\n",
       "      <td>34.014309</td>\n",
       "      <td>-118.491341</td>\n",
       "      <td>4322</td>\n",
       "      <td>34.005871</td>\n",
       "      <td>-118.429161</td>\n",
       "      <td>15848</td>\n",
       "      <td>1</td>\n",
       "      <td>One Way</td>\n",
       "      <td>Walk-up</td>\n",
       "      <td>smart</td>\n",
       "    </tr>\n",
       "    <tr>\n",
       "      <th>3</th>\n",
       "      <td>134868103</td>\n",
       "      <td>36</td>\n",
       "      <td>1/1/2020 0:32</td>\n",
       "      <td>1/1/2020 1:08</td>\n",
       "      <td>4344</td>\n",
       "      <td>34.014309</td>\n",
       "      <td>-118.491341</td>\n",
       "      <td>4322</td>\n",
       "      <td>34.005871</td>\n",
       "      <td>-118.429161</td>\n",
       "      <td>16053</td>\n",
       "      <td>1</td>\n",
       "      <td>One Way</td>\n",
       "      <td>Walk-up</td>\n",
       "      <td>smart</td>\n",
       "    </tr>\n",
       "    <tr>\n",
       "      <th>4</th>\n",
       "      <td>134868102</td>\n",
       "      <td>35</td>\n",
       "      <td>1/1/2020 0:33</td>\n",
       "      <td>1/1/2020 1:08</td>\n",
       "      <td>4344</td>\n",
       "      <td>34.014309</td>\n",
       "      <td>-118.491341</td>\n",
       "      <td>4322</td>\n",
       "      <td>34.005871</td>\n",
       "      <td>-118.429161</td>\n",
       "      <td>15694</td>\n",
       "      <td>1</td>\n",
       "      <td>One Way</td>\n",
       "      <td>Walk-up</td>\n",
       "      <td>smart</td>\n",
       "    </tr>\n",
       "    <tr>\n",
       "      <th>...</th>\n",
       "      <td>...</td>\n",
       "      <td>...</td>\n",
       "      <td>...</td>\n",
       "      <td>...</td>\n",
       "      <td>...</td>\n",
       "      <td>...</td>\n",
       "      <td>...</td>\n",
       "      <td>...</td>\n",
       "      <td>...</td>\n",
       "      <td>...</td>\n",
       "      <td>...</td>\n",
       "      <td>...</td>\n",
       "      <td>...</td>\n",
       "      <td>...</td>\n",
       "      <td>...</td>\n",
       "    </tr>\n",
       "    <tr>\n",
       "      <th>76386</th>\n",
       "      <td>140275195</td>\n",
       "      <td>65</td>\n",
       "      <td>3/31/2020 22:48</td>\n",
       "      <td>3/31/2020 23:53</td>\n",
       "      <td>4460</td>\n",
       "      <td>33.994850</td>\n",
       "      <td>-118.417961</td>\n",
       "      <td>4460</td>\n",
       "      <td>33.994850</td>\n",
       "      <td>-118.417961</td>\n",
       "      <td>15300</td>\n",
       "      <td>30</td>\n",
       "      <td>Round Trip</td>\n",
       "      <td>Monthly Pass</td>\n",
       "      <td>smart</td>\n",
       "    </tr>\n",
       "    <tr>\n",
       "      <th>76387</th>\n",
       "      <td>140274593</td>\n",
       "      <td>23</td>\n",
       "      <td>3/31/2020 23:00</td>\n",
       "      <td>3/31/2020 23:23</td>\n",
       "      <td>3076</td>\n",
       "      <td>34.040600</td>\n",
       "      <td>-118.253838</td>\n",
       "      <td>3031</td>\n",
       "      <td>34.044701</td>\n",
       "      <td>-118.252441</td>\n",
       "      <td>16811</td>\n",
       "      <td>30</td>\n",
       "      <td>One Way</td>\n",
       "      <td>Monthly Pass</td>\n",
       "      <td>electric</td>\n",
       "    </tr>\n",
       "    <tr>\n",
       "      <th>76388</th>\n",
       "      <td>140274893</td>\n",
       "      <td>14</td>\n",
       "      <td>3/31/2020 23:23</td>\n",
       "      <td>3/31/2020 23:37</td>\n",
       "      <td>3031</td>\n",
       "      <td>34.044701</td>\n",
       "      <td>-118.252441</td>\n",
       "      <td>3076</td>\n",
       "      <td>34.040600</td>\n",
       "      <td>-118.253838</td>\n",
       "      <td>16811</td>\n",
       "      <td>30</td>\n",
       "      <td>One Way</td>\n",
       "      <td>Monthly Pass</td>\n",
       "      <td>electric</td>\n",
       "    </tr>\n",
       "    <tr>\n",
       "      <th>76389</th>\n",
       "      <td>140275293</td>\n",
       "      <td>21</td>\n",
       "      <td>3/31/2020 23:37</td>\n",
       "      <td>3/31/2020 23:58</td>\n",
       "      <td>3076</td>\n",
       "      <td>34.040600</td>\n",
       "      <td>-118.253838</td>\n",
       "      <td>3056</td>\n",
       "      <td>34.037460</td>\n",
       "      <td>-118.265381</td>\n",
       "      <td>16811</td>\n",
       "      <td>30</td>\n",
       "      <td>One Way</td>\n",
       "      <td>Monthly Pass</td>\n",
       "      <td>electric</td>\n",
       "    </tr>\n",
       "    <tr>\n",
       "      <th>76390</th>\n",
       "      <td>140275894</td>\n",
       "      <td>23</td>\n",
       "      <td>3/31/2020 23:59</td>\n",
       "      <td>4/1/2020 0:22</td>\n",
       "      <td>3056</td>\n",
       "      <td>34.037460</td>\n",
       "      <td>-118.265381</td>\n",
       "      <td>3076</td>\n",
       "      <td>34.040600</td>\n",
       "      <td>-118.253838</td>\n",
       "      <td>18942</td>\n",
       "      <td>30</td>\n",
       "      <td>One Way</td>\n",
       "      <td>Monthly Pass</td>\n",
       "      <td>electric</td>\n",
       "    </tr>\n",
       "  </tbody>\n",
       "</table>\n",
       "<p>76391 rows × 15 columns</p>\n",
       "</div>"
      ],
      "text/plain": [
       "         trip_id  duration       start_time         end_time  start_station  \\\n",
       "0      134867493        25    1/1/2020 0:16    1/1/2020 0:41           3063   \n",
       "1      134867799        35    1/1/2020 0:24    1/1/2020 0:59           4285   \n",
       "2      134868104        37    1/1/2020 0:31    1/1/2020 1:08           4344   \n",
       "3      134868103        36    1/1/2020 0:32    1/1/2020 1:08           4344   \n",
       "4      134868102        35    1/1/2020 0:33    1/1/2020 1:08           4344   \n",
       "...          ...       ...              ...              ...            ...   \n",
       "76386  140275195        65  3/31/2020 22:48  3/31/2020 23:53           4460   \n",
       "76387  140274593        23  3/31/2020 23:00  3/31/2020 23:23           3076   \n",
       "76388  140274893        14  3/31/2020 23:23  3/31/2020 23:37           3031   \n",
       "76389  140275293        21  3/31/2020 23:37  3/31/2020 23:58           3076   \n",
       "76390  140275894        23  3/31/2020 23:59    4/1/2020 0:22           3056   \n",
       "\n",
       "       start_lat   start_lon  end_station    end_lat     end_lon  bike_id  \\\n",
       "0      34.048038 -118.253738         4491  34.047440 -118.247940    18419   \n",
       "1            NaN         NaN         4354  34.017681 -118.409081    15661   \n",
       "2      34.014309 -118.491341         4322  34.005871 -118.429161    15848   \n",
       "3      34.014309 -118.491341         4322  34.005871 -118.429161    16053   \n",
       "4      34.014309 -118.491341         4322  34.005871 -118.429161    15694   \n",
       "...          ...         ...          ...        ...         ...      ...   \n",
       "76386  33.994850 -118.417961         4460  33.994850 -118.417961    15300   \n",
       "76387  34.040600 -118.253838         3031  34.044701 -118.252441    16811   \n",
       "76388  34.044701 -118.252441         3076  34.040600 -118.253838    16811   \n",
       "76389  34.040600 -118.253838         3056  34.037460 -118.265381    16811   \n",
       "76390  34.037460 -118.265381         3076  34.040600 -118.253838    18942   \n",
       "\n",
       "       plan_duration trip_route_category passholder_type bike_type  \n",
       "0                 30             One Way    Monthly Pass  electric  \n",
       "1                  1             One Way    One Day Pass     smart  \n",
       "2                  1             One Way         Walk-up     smart  \n",
       "3                  1             One Way         Walk-up     smart  \n",
       "4                  1             One Way         Walk-up     smart  \n",
       "...              ...                 ...             ...       ...  \n",
       "76386             30          Round Trip    Monthly Pass     smart  \n",
       "76387             30             One Way    Monthly Pass  electric  \n",
       "76388             30             One Way    Monthly Pass  electric  \n",
       "76389             30             One Way    Monthly Pass  electric  \n",
       "76390             30             One Way    Monthly Pass  electric  \n",
       "\n",
       "[76391 rows x 15 columns]"
      ]
     },
     "execution_count": 260,
     "metadata": {},
     "output_type": "execute_result"
    }
   ],
   "source": [
    "df"
   ]
  },
  {
   "cell_type": "code",
   "execution_count": 261,
   "metadata": {
    "ExecuteTime": {
     "end_time": "2020-10-01T20:52:02.105673Z",
     "start_time": "2020-10-01T20:52:02.102421Z"
    }
   },
   "outputs": [],
   "source": [
    "# df = df.rename(columns = {'start_station_id': 'start_station', 'end_station_id': 'end_station'})\n",
    "# df.columns"
   ]
  },
  {
   "cell_type": "code",
   "execution_count": 262,
   "metadata": {
    "ExecuteTime": {
     "end_time": "2020-10-01T20:52:02.116468Z",
     "start_time": "2020-10-01T20:52:02.108645Z"
    }
   },
   "outputs": [],
   "source": [
    "s1 = df.start_station == 3000\n",
    "s2 = df.end_station == 3000\n",
    "index3000 = df[s1 | s2].index"
   ]
  },
  {
   "cell_type": "code",
   "execution_count": 263,
   "metadata": {
    "ExecuteTime": {
     "end_time": "2020-10-01T20:52:02.136219Z",
     "start_time": "2020-10-01T20:52:02.118819Z"
    }
   },
   "outputs": [],
   "source": [
    "df_without_3000 = df.drop(index3000)"
   ]
  },
  {
   "cell_type": "code",
   "execution_count": 264,
   "metadata": {
    "ExecuteTime": {
     "end_time": "2020-10-01T20:52:02.167320Z",
     "start_time": "2020-10-01T20:52:02.138845Z"
    }
   },
   "outputs": [
    {
     "name": "stdout",
     "output_type": "stream",
     "text": [
      "<class 'pandas.core.frame.DataFrame'>\n",
      "Int64Index: 75178 entries, 0 to 76390\n",
      "Data columns (total 15 columns):\n",
      " #   Column               Non-Null Count  Dtype  \n",
      "---  ------               --------------  -----  \n",
      " 0   trip_id              75178 non-null  int64  \n",
      " 1   duration             75178 non-null  int64  \n",
      " 2   start_time           75178 non-null  object \n",
      " 3   end_time             75178 non-null  object \n",
      " 4   start_station        75178 non-null  int64  \n",
      " 5   start_lat            74159 non-null  float64\n",
      " 6   start_lon            74159 non-null  float64\n",
      " 7   end_station          75178 non-null  int64  \n",
      " 8   end_lat              73583 non-null  float64\n",
      " 9   end_lon              73583 non-null  float64\n",
      " 10  bike_id              75178 non-null  int64  \n",
      " 11  plan_duration        75178 non-null  int64  \n",
      " 12  trip_route_category  75178 non-null  object \n",
      " 13  passholder_type      75178 non-null  object \n",
      " 14  bike_type            75178 non-null  object \n",
      "dtypes: float64(4), int64(6), object(5)\n",
      "memory usage: 9.2+ MB\n"
     ]
    }
   ],
   "source": [
    "df_without_3000.info()"
   ]
  },
  {
   "cell_type": "code",
   "execution_count": 265,
   "metadata": {
    "ExecuteTime": {
     "end_time": "2020-10-01T20:52:02.174981Z",
     "start_time": "2020-10-01T20:52:02.169471Z"
    }
   },
   "outputs": [],
   "source": [
    "df_position = df_without_3000[[\"start_lat\", \"start_lon\", \"end_lat\", \"end_lon\"]]"
   ]
  },
  {
   "cell_type": "code",
   "execution_count": 266,
   "metadata": {
    "ExecuteTime": {
     "end_time": "2020-10-01T20:52:02.180704Z",
     "start_time": "2020-10-01T20:52:02.177038Z"
    }
   },
   "outputs": [],
   "source": [
    "df_position_isnull = df_position.isnull()"
   ]
  },
  {
   "cell_type": "code",
   "execution_count": 267,
   "metadata": {
    "ExecuteTime": {
     "end_time": "2020-10-01T20:52:02.187790Z",
     "start_time": "2020-10-01T20:52:02.183442Z"
    }
   },
   "outputs": [],
   "source": [
    "index_station_without_position = df_position_isnull[df_position_isnull.any(axis=1)].index"
   ]
  },
  {
   "cell_type": "code",
   "execution_count": 268,
   "metadata": {
    "ExecuteTime": {
     "end_time": "2020-10-01T20:52:02.201794Z",
     "start_time": "2020-10-01T20:52:02.189863Z"
    }
   },
   "outputs": [],
   "source": [
    "df_clean = df_without_3000.drop(index_station_without_position)"
   ]
  },
  {
   "cell_type": "code",
   "execution_count": 269,
   "metadata": {
    "ExecuteTime": {
     "end_time": "2020-10-01T20:52:02.225441Z",
     "start_time": "2020-10-01T20:52:02.204405Z"
    },
    "scrolled": true
   },
   "outputs": [
    {
     "data": {
      "text/plain": [
       "trip_id                False\n",
       "duration               False\n",
       "start_time             False\n",
       "end_time               False\n",
       "start_station          False\n",
       "start_lat              False\n",
       "start_lon              False\n",
       "end_station            False\n",
       "end_lat                False\n",
       "end_lon                False\n",
       "bike_id                False\n",
       "plan_duration          False\n",
       "trip_route_category    False\n",
       "passholder_type        False\n",
       "bike_type              False\n",
       "dtype: bool"
      ]
     },
     "execution_count": 269,
     "metadata": {},
     "output_type": "execute_result"
    }
   ],
   "source": [
    "dpu.df_has_nan(df_clean)"
   ]
  },
  {
   "cell_type": "code",
   "execution_count": 270,
   "metadata": {
    "ExecuteTime": {
     "end_time": "2020-10-01T20:52:02.238115Z",
     "start_time": "2020-10-01T20:52:02.227500Z"
    }
   },
   "outputs": [
    {
     "data": {
      "text/plain": [
       "'1/1/2020 0:16'"
      ]
     },
     "execution_count": 270,
     "metadata": {},
     "output_type": "execute_result"
    }
   ],
   "source": [
    "time_need_check = list(df_clean.start_time)[0]\n",
    "time_need_check"
   ]
  },
  {
   "cell_type": "code",
   "execution_count": 271,
   "metadata": {
    "ExecuteTime": {
     "end_time": "2020-10-01T20:52:02.244842Z",
     "start_time": "2020-10-01T20:52:02.240045Z"
    }
   },
   "outputs": [
    {
     "data": {
      "text/plain": [
       "False"
      ]
     },
     "execution_count": 271,
     "metadata": {},
     "output_type": "execute_result"
    }
   ],
   "source": [
    "time_format_need_change = dpu.is_time_format(time_need_check, t_format_check)\n",
    "time_format_need_change"
   ]
  },
  {
   "cell_type": "code",
   "execution_count": 272,
   "metadata": {
    "ExecuteTime": {
     "end_time": "2020-10-01T20:52:02.250852Z",
     "start_time": "2020-10-01T20:52:02.247307Z"
    }
   },
   "outputs": [],
   "source": [
    "if time_format_need_change:\n",
    "    df_clean[[\"start_time\", \"end_time\"]] = df_clean[[\"start_time\", \"end_time\"]].applymap(lambda ts: dpu.change_time_format(ts, t_format_check, t_format_output))"
   ]
  },
  {
   "cell_type": "code",
   "execution_count": 273,
   "metadata": {
    "ExecuteTime": {
     "end_time": "2020-10-01T20:52:02.271963Z",
     "start_time": "2020-10-01T20:52:02.253527Z"
    }
   },
   "outputs": [
    {
     "data": {
      "text/html": [
       "<div>\n",
       "<style scoped>\n",
       "    .dataframe tbody tr th:only-of-type {\n",
       "        vertical-align: middle;\n",
       "    }\n",
       "\n",
       "    .dataframe tbody tr th {\n",
       "        vertical-align: top;\n",
       "    }\n",
       "\n",
       "    .dataframe thead th {\n",
       "        text-align: right;\n",
       "    }\n",
       "</style>\n",
       "<table border=\"1\" class=\"dataframe\">\n",
       "  <thead>\n",
       "    <tr style=\"text-align: right;\">\n",
       "      <th></th>\n",
       "      <th>trip_id</th>\n",
       "      <th>duration</th>\n",
       "      <th>start_time</th>\n",
       "      <th>end_time</th>\n",
       "      <th>start_station</th>\n",
       "      <th>start_lat</th>\n",
       "      <th>start_lon</th>\n",
       "      <th>end_station</th>\n",
       "      <th>end_lat</th>\n",
       "      <th>end_lon</th>\n",
       "      <th>bike_id</th>\n",
       "      <th>plan_duration</th>\n",
       "      <th>trip_route_category</th>\n",
       "      <th>passholder_type</th>\n",
       "      <th>bike_type</th>\n",
       "    </tr>\n",
       "  </thead>\n",
       "  <tbody>\n",
       "    <tr>\n",
       "      <th>0</th>\n",
       "      <td>134867493</td>\n",
       "      <td>25</td>\n",
       "      <td>1/1/2020 0:16</td>\n",
       "      <td>1/1/2020 0:41</td>\n",
       "      <td>3063</td>\n",
       "      <td>34.048038</td>\n",
       "      <td>-118.253738</td>\n",
       "      <td>4491</td>\n",
       "      <td>34.047440</td>\n",
       "      <td>-118.247940</td>\n",
       "      <td>18419</td>\n",
       "      <td>30</td>\n",
       "      <td>One Way</td>\n",
       "      <td>Monthly Pass</td>\n",
       "      <td>electric</td>\n",
       "    </tr>\n",
       "    <tr>\n",
       "      <th>2</th>\n",
       "      <td>134868104</td>\n",
       "      <td>37</td>\n",
       "      <td>1/1/2020 0:31</td>\n",
       "      <td>1/1/2020 1:08</td>\n",
       "      <td>4344</td>\n",
       "      <td>34.014309</td>\n",
       "      <td>-118.491341</td>\n",
       "      <td>4322</td>\n",
       "      <td>34.005871</td>\n",
       "      <td>-118.429161</td>\n",
       "      <td>15848</td>\n",
       "      <td>1</td>\n",
       "      <td>One Way</td>\n",
       "      <td>Walk-up</td>\n",
       "      <td>smart</td>\n",
       "    </tr>\n",
       "    <tr>\n",
       "      <th>3</th>\n",
       "      <td>134868103</td>\n",
       "      <td>36</td>\n",
       "      <td>1/1/2020 0:32</td>\n",
       "      <td>1/1/2020 1:08</td>\n",
       "      <td>4344</td>\n",
       "      <td>34.014309</td>\n",
       "      <td>-118.491341</td>\n",
       "      <td>4322</td>\n",
       "      <td>34.005871</td>\n",
       "      <td>-118.429161</td>\n",
       "      <td>16053</td>\n",
       "      <td>1</td>\n",
       "      <td>One Way</td>\n",
       "      <td>Walk-up</td>\n",
       "      <td>smart</td>\n",
       "    </tr>\n",
       "    <tr>\n",
       "      <th>4</th>\n",
       "      <td>134868102</td>\n",
       "      <td>35</td>\n",
       "      <td>1/1/2020 0:33</td>\n",
       "      <td>1/1/2020 1:08</td>\n",
       "      <td>4344</td>\n",
       "      <td>34.014309</td>\n",
       "      <td>-118.491341</td>\n",
       "      <td>4322</td>\n",
       "      <td>34.005871</td>\n",
       "      <td>-118.429161</td>\n",
       "      <td>15694</td>\n",
       "      <td>1</td>\n",
       "      <td>One Way</td>\n",
       "      <td>Walk-up</td>\n",
       "      <td>smart</td>\n",
       "    </tr>\n",
       "    <tr>\n",
       "      <th>5</th>\n",
       "      <td>134867697</td>\n",
       "      <td>18</td>\n",
       "      <td>1/1/2020 0:35</td>\n",
       "      <td>1/1/2020 0:53</td>\n",
       "      <td>4472</td>\n",
       "      <td>34.092602</td>\n",
       "      <td>-118.280930</td>\n",
       "      <td>4306</td>\n",
       "      <td>34.057652</td>\n",
       "      <td>-118.292183</td>\n",
       "      <td>18937</td>\n",
       "      <td>1</td>\n",
       "      <td>One Way</td>\n",
       "      <td>One Day Pass</td>\n",
       "      <td>electric</td>\n",
       "    </tr>\n",
       "  </tbody>\n",
       "</table>\n",
       "</div>"
      ],
      "text/plain": [
       "     trip_id  duration     start_time       end_time  start_station  \\\n",
       "0  134867493        25  1/1/2020 0:16  1/1/2020 0:41           3063   \n",
       "2  134868104        37  1/1/2020 0:31  1/1/2020 1:08           4344   \n",
       "3  134868103        36  1/1/2020 0:32  1/1/2020 1:08           4344   \n",
       "4  134868102        35  1/1/2020 0:33  1/1/2020 1:08           4344   \n",
       "5  134867697        18  1/1/2020 0:35  1/1/2020 0:53           4472   \n",
       "\n",
       "   start_lat   start_lon  end_station    end_lat     end_lon  bike_id  \\\n",
       "0  34.048038 -118.253738         4491  34.047440 -118.247940    18419   \n",
       "2  34.014309 -118.491341         4322  34.005871 -118.429161    15848   \n",
       "3  34.014309 -118.491341         4322  34.005871 -118.429161    16053   \n",
       "4  34.014309 -118.491341         4322  34.005871 -118.429161    15694   \n",
       "5  34.092602 -118.280930         4306  34.057652 -118.292183    18937   \n",
       "\n",
       "   plan_duration trip_route_category passholder_type bike_type  \n",
       "0             30             One Way    Monthly Pass  electric  \n",
       "2              1             One Way         Walk-up     smart  \n",
       "3              1             One Way         Walk-up     smart  \n",
       "4              1             One Way         Walk-up     smart  \n",
       "5              1             One Way    One Day Pass  electric  "
      ]
     },
     "execution_count": 273,
     "metadata": {},
     "output_type": "execute_result"
    }
   ],
   "source": [
    "df_clean.head(5)"
   ]
  },
  {
   "cell_type": "code",
   "execution_count": 274,
   "metadata": {
    "ExecuteTime": {
     "end_time": "2020-10-01T20:52:02.300418Z",
     "start_time": "2020-10-01T20:52:02.274113Z"
    }
   },
   "outputs": [
    {
     "name": "stdout",
     "output_type": "stream",
     "text": [
      "<class 'pandas.core.frame.DataFrame'>\n",
      "Int64Index: 72955 entries, 0 to 76390\n",
      "Data columns (total 15 columns):\n",
      " #   Column               Non-Null Count  Dtype  \n",
      "---  ------               --------------  -----  \n",
      " 0   trip_id              72955 non-null  int64  \n",
      " 1   duration             72955 non-null  int64  \n",
      " 2   start_time           72955 non-null  object \n",
      " 3   end_time             72955 non-null  object \n",
      " 4   start_station        72955 non-null  int64  \n",
      " 5   start_lat            72955 non-null  float64\n",
      " 6   start_lon            72955 non-null  float64\n",
      " 7   end_station          72955 non-null  int64  \n",
      " 8   end_lat              72955 non-null  float64\n",
      " 9   end_lon              72955 non-null  float64\n",
      " 10  bike_id              72955 non-null  int64  \n",
      " 11  plan_duration        72955 non-null  int64  \n",
      " 12  trip_route_category  72955 non-null  object \n",
      " 13  passholder_type      72955 non-null  object \n",
      " 14  bike_type            72955 non-null  object \n",
      "dtypes: float64(4), int64(6), object(5)\n",
      "memory usage: 8.9+ MB\n"
     ]
    }
   ],
   "source": [
    "df_clean.info()"
   ]
  },
  {
   "cell_type": "code",
   "execution_count": 275,
   "metadata": {
    "ExecuteTime": {
     "end_time": "2020-10-01T20:52:03.034796Z",
     "start_time": "2020-10-01T20:52:02.302993Z"
    }
   },
   "outputs": [],
   "source": [
    "df_clean.to_csv(output_filepath, index=False)"
   ]
  },
  {
   "cell_type": "code",
   "execution_count": null,
   "metadata": {},
   "outputs": [],
   "source": []
  },
  {
   "cell_type": "markdown",
   "metadata": {},
   "source": [
    "## process 2020 q2"
   ]
  },
  {
   "cell_type": "code",
   "execution_count": 276,
   "metadata": {
    "ExecuteTime": {
     "end_time": "2020-10-01T20:52:03.038882Z",
     "start_time": "2020-10-01T20:52:03.036241Z"
    }
   },
   "outputs": [],
   "source": [
    "year_q = (20, 2)"
   ]
  },
  {
   "cell_type": "code",
   "execution_count": 277,
   "metadata": {
    "ExecuteTime": {
     "end_time": "2020-10-01T20:52:03.043778Z",
     "start_time": "2020-10-01T20:52:03.040616Z"
    }
   },
   "outputs": [
    {
     "data": {
      "text/plain": [
       "'./rawdata/metro-bike-2020-q2.csv'"
      ]
     },
     "execution_count": 277,
     "metadata": {},
     "output_type": "execute_result"
    }
   ],
   "source": [
    "raw_filepath = \"./rawdata/metro-bike-20%s-q%d.csv\" % year_q\n",
    "output_filepath = \"./processed_data/metro-bike-20%s-q%d.csv\" % year_q\n",
    "raw_filepath"
   ]
  },
  {
   "cell_type": "code",
   "execution_count": 278,
   "metadata": {
    "ExecuteTime": {
     "end_time": "2020-10-01T20:52:03.183659Z",
     "start_time": "2020-10-01T20:52:03.045546Z"
    }
   },
   "outputs": [],
   "source": [
    "df = pd.read_csv(raw_filepath)"
   ]
  },
  {
   "cell_type": "code",
   "execution_count": 279,
   "metadata": {
    "ExecuteTime": {
     "end_time": "2020-10-01T20:52:03.212929Z",
     "start_time": "2020-10-01T20:52:03.185694Z"
    }
   },
   "outputs": [
    {
     "data": {
      "text/html": [
       "<div>\n",
       "<style scoped>\n",
       "    .dataframe tbody tr th:only-of-type {\n",
       "        vertical-align: middle;\n",
       "    }\n",
       "\n",
       "    .dataframe tbody tr th {\n",
       "        vertical-align: top;\n",
       "    }\n",
       "\n",
       "    .dataframe thead th {\n",
       "        text-align: right;\n",
       "    }\n",
       "</style>\n",
       "<table border=\"1\" class=\"dataframe\">\n",
       "  <thead>\n",
       "    <tr style=\"text-align: right;\">\n",
       "      <th></th>\n",
       "      <th>trip_id</th>\n",
       "      <th>duration</th>\n",
       "      <th>start_time</th>\n",
       "      <th>end_time</th>\n",
       "      <th>start_station</th>\n",
       "      <th>start_lat</th>\n",
       "      <th>start_lon</th>\n",
       "      <th>end_station</th>\n",
       "      <th>end_lat</th>\n",
       "      <th>end_lon</th>\n",
       "      <th>bike_id</th>\n",
       "      <th>plan_duration</th>\n",
       "      <th>trip_route_category</th>\n",
       "      <th>passholder_type</th>\n",
       "      <th>bike_type</th>\n",
       "    </tr>\n",
       "  </thead>\n",
       "  <tbody>\n",
       "    <tr>\n",
       "      <th>0</th>\n",
       "      <td>140275793</td>\n",
       "      <td>14</td>\n",
       "      <td>4/1/2020 0:05</td>\n",
       "      <td>4/1/2020 0:19</td>\n",
       "      <td>4491</td>\n",
       "      <td>34.047440</td>\n",
       "      <td>-118.247940</td>\n",
       "      <td>4491</td>\n",
       "      <td>34.047440</td>\n",
       "      <td>-118.247940</td>\n",
       "      <td>19544</td>\n",
       "      <td>30</td>\n",
       "      <td>Round Trip</td>\n",
       "      <td>Monthly Pass</td>\n",
       "      <td>electric</td>\n",
       "    </tr>\n",
       "    <tr>\n",
       "      <th>1</th>\n",
       "      <td>140275993</td>\n",
       "      <td>9</td>\n",
       "      <td>4/1/2020 0:19</td>\n",
       "      <td>4/1/2020 0:28</td>\n",
       "      <td>4491</td>\n",
       "      <td>34.047440</td>\n",
       "      <td>-118.247940</td>\n",
       "      <td>4491</td>\n",
       "      <td>34.047440</td>\n",
       "      <td>-118.247940</td>\n",
       "      <td>19544</td>\n",
       "      <td>30</td>\n",
       "      <td>Round Trip</td>\n",
       "      <td>Monthly Pass</td>\n",
       "      <td>electric</td>\n",
       "    </tr>\n",
       "    <tr>\n",
       "      <th>2</th>\n",
       "      <td>140276293</td>\n",
       "      <td>18</td>\n",
       "      <td>4/1/2020 0:22</td>\n",
       "      <td>4/1/2020 0:40</td>\n",
       "      <td>3076</td>\n",
       "      <td>34.040600</td>\n",
       "      <td>-118.253838</td>\n",
       "      <td>3076</td>\n",
       "      <td>34.040600</td>\n",
       "      <td>-118.253838</td>\n",
       "      <td>18942</td>\n",
       "      <td>30</td>\n",
       "      <td>Round Trip</td>\n",
       "      <td>Monthly Pass</td>\n",
       "      <td>electric</td>\n",
       "    </tr>\n",
       "    <tr>\n",
       "      <th>3</th>\n",
       "      <td>140276793</td>\n",
       "      <td>20</td>\n",
       "      <td>4/1/2020 0:41</td>\n",
       "      <td>4/1/2020 1:01</td>\n",
       "      <td>3076</td>\n",
       "      <td>34.040600</td>\n",
       "      <td>-118.253838</td>\n",
       "      <td>3076</td>\n",
       "      <td>34.040600</td>\n",
       "      <td>-118.253838</td>\n",
       "      <td>18942</td>\n",
       "      <td>30</td>\n",
       "      <td>Round Trip</td>\n",
       "      <td>Monthly Pass</td>\n",
       "      <td>electric</td>\n",
       "    </tr>\n",
       "    <tr>\n",
       "      <th>4</th>\n",
       "      <td>140277293</td>\n",
       "      <td>25</td>\n",
       "      <td>4/1/2020 1:02</td>\n",
       "      <td>4/1/2020 1:27</td>\n",
       "      <td>3076</td>\n",
       "      <td>34.040600</td>\n",
       "      <td>-118.253838</td>\n",
       "      <td>3033</td>\n",
       "      <td>34.040989</td>\n",
       "      <td>-118.255798</td>\n",
       "      <td>18942</td>\n",
       "      <td>30</td>\n",
       "      <td>One Way</td>\n",
       "      <td>Monthly Pass</td>\n",
       "      <td>electric</td>\n",
       "    </tr>\n",
       "    <tr>\n",
       "      <th>...</th>\n",
       "      <td>...</td>\n",
       "      <td>...</td>\n",
       "      <td>...</td>\n",
       "      <td>...</td>\n",
       "      <td>...</td>\n",
       "      <td>...</td>\n",
       "      <td>...</td>\n",
       "      <td>...</td>\n",
       "      <td>...</td>\n",
       "      <td>...</td>\n",
       "      <td>...</td>\n",
       "      <td>...</td>\n",
       "      <td>...</td>\n",
       "      <td>...</td>\n",
       "      <td>...</td>\n",
       "    </tr>\n",
       "    <tr>\n",
       "      <th>54197</th>\n",
       "      <td>144268718</td>\n",
       "      <td>8</td>\n",
       "      <td>6/30/2020 22:36</td>\n",
       "      <td>6/30/2020 22:43</td>\n",
       "      <td>4406</td>\n",
       "      <td>34.101891</td>\n",
       "      <td>-118.300613</td>\n",
       "      <td>4438</td>\n",
       "      <td>34.094929</td>\n",
       "      <td>-118.284561</td>\n",
       "      <td>6728</td>\n",
       "      <td>365</td>\n",
       "      <td>One Way</td>\n",
       "      <td>Annual Pass</td>\n",
       "      <td>standard</td>\n",
       "    </tr>\n",
       "    <tr>\n",
       "      <th>54198</th>\n",
       "      <td>144268717</td>\n",
       "      <td>12</td>\n",
       "      <td>6/30/2020 22:38</td>\n",
       "      <td>6/30/2020 22:50</td>\n",
       "      <td>3064</td>\n",
       "      <td>34.046810</td>\n",
       "      <td>-118.256981</td>\n",
       "      <td>3008</td>\n",
       "      <td>34.046612</td>\n",
       "      <td>-118.262733</td>\n",
       "      <td>16790</td>\n",
       "      <td>30</td>\n",
       "      <td>One Way</td>\n",
       "      <td>Monthly Pass</td>\n",
       "      <td>electric</td>\n",
       "    </tr>\n",
       "    <tr>\n",
       "      <th>54199</th>\n",
       "      <td>144268716</td>\n",
       "      <td>9</td>\n",
       "      <td>6/30/2020 22:50</td>\n",
       "      <td>6/30/2020 22:59</td>\n",
       "      <td>4410</td>\n",
       "      <td>34.063351</td>\n",
       "      <td>-118.296799</td>\n",
       "      <td>4410</td>\n",
       "      <td>34.063351</td>\n",
       "      <td>-118.296799</td>\n",
       "      <td>17027</td>\n",
       "      <td>365</td>\n",
       "      <td>Round Trip</td>\n",
       "      <td>Annual Pass</td>\n",
       "      <td>electric</td>\n",
       "    </tr>\n",
       "    <tr>\n",
       "      <th>54200</th>\n",
       "      <td>144270317</td>\n",
       "      <td>50</td>\n",
       "      <td>6/30/2020 23:16</td>\n",
       "      <td>7/1/2020 0:06</td>\n",
       "      <td>4482</td>\n",
       "      <td>34.094372</td>\n",
       "      <td>-118.331009</td>\n",
       "      <td>4482</td>\n",
       "      <td>34.094372</td>\n",
       "      <td>-118.331009</td>\n",
       "      <td>17722</td>\n",
       "      <td>1</td>\n",
       "      <td>Round Trip</td>\n",
       "      <td>One Day Pass</td>\n",
       "      <td>electric</td>\n",
       "    </tr>\n",
       "    <tr>\n",
       "      <th>54201</th>\n",
       "      <td>144269716</td>\n",
       "      <td>5</td>\n",
       "      <td>6/30/2020 23:37</td>\n",
       "      <td>6/30/2020 23:42</td>\n",
       "      <td>3030</td>\n",
       "      <td>34.051941</td>\n",
       "      <td>-118.243530</td>\n",
       "      <td>3067</td>\n",
       "      <td>34.045181</td>\n",
       "      <td>-118.250237</td>\n",
       "      <td>5846</td>\n",
       "      <td>1</td>\n",
       "      <td>One Way</td>\n",
       "      <td>Walk-up</td>\n",
       "      <td>standard</td>\n",
       "    </tr>\n",
       "  </tbody>\n",
       "</table>\n",
       "<p>54202 rows × 15 columns</p>\n",
       "</div>"
      ],
      "text/plain": [
       "         trip_id  duration       start_time         end_time  start_station  \\\n",
       "0      140275793        14    4/1/2020 0:05    4/1/2020 0:19           4491   \n",
       "1      140275993         9    4/1/2020 0:19    4/1/2020 0:28           4491   \n",
       "2      140276293        18    4/1/2020 0:22    4/1/2020 0:40           3076   \n",
       "3      140276793        20    4/1/2020 0:41    4/1/2020 1:01           3076   \n",
       "4      140277293        25    4/1/2020 1:02    4/1/2020 1:27           3076   \n",
       "...          ...       ...              ...              ...            ...   \n",
       "54197  144268718         8  6/30/2020 22:36  6/30/2020 22:43           4406   \n",
       "54198  144268717        12  6/30/2020 22:38  6/30/2020 22:50           3064   \n",
       "54199  144268716         9  6/30/2020 22:50  6/30/2020 22:59           4410   \n",
       "54200  144270317        50  6/30/2020 23:16    7/1/2020 0:06           4482   \n",
       "54201  144269716         5  6/30/2020 23:37  6/30/2020 23:42           3030   \n",
       "\n",
       "       start_lat   start_lon  end_station    end_lat     end_lon  bike_id  \\\n",
       "0      34.047440 -118.247940         4491  34.047440 -118.247940    19544   \n",
       "1      34.047440 -118.247940         4491  34.047440 -118.247940    19544   \n",
       "2      34.040600 -118.253838         3076  34.040600 -118.253838    18942   \n",
       "3      34.040600 -118.253838         3076  34.040600 -118.253838    18942   \n",
       "4      34.040600 -118.253838         3033  34.040989 -118.255798    18942   \n",
       "...          ...         ...          ...        ...         ...      ...   \n",
       "54197  34.101891 -118.300613         4438  34.094929 -118.284561     6728   \n",
       "54198  34.046810 -118.256981         3008  34.046612 -118.262733    16790   \n",
       "54199  34.063351 -118.296799         4410  34.063351 -118.296799    17027   \n",
       "54200  34.094372 -118.331009         4482  34.094372 -118.331009    17722   \n",
       "54201  34.051941 -118.243530         3067  34.045181 -118.250237     5846   \n",
       "\n",
       "       plan_duration trip_route_category passholder_type bike_type  \n",
       "0                 30          Round Trip    Monthly Pass  electric  \n",
       "1                 30          Round Trip    Monthly Pass  electric  \n",
       "2                 30          Round Trip    Monthly Pass  electric  \n",
       "3                 30          Round Trip    Monthly Pass  electric  \n",
       "4                 30             One Way    Monthly Pass  electric  \n",
       "...              ...                 ...             ...       ...  \n",
       "54197            365             One Way     Annual Pass  standard  \n",
       "54198             30             One Way    Monthly Pass  electric  \n",
       "54199            365          Round Trip     Annual Pass  electric  \n",
       "54200              1          Round Trip    One Day Pass  electric  \n",
       "54201              1             One Way         Walk-up  standard  \n",
       "\n",
       "[54202 rows x 15 columns]"
      ]
     },
     "execution_count": 279,
     "metadata": {},
     "output_type": "execute_result"
    }
   ],
   "source": [
    "df"
   ]
  },
  {
   "cell_type": "code",
   "execution_count": 280,
   "metadata": {
    "ExecuteTime": {
     "end_time": "2020-10-01T20:52:03.217021Z",
     "start_time": "2020-10-01T20:52:03.214966Z"
    }
   },
   "outputs": [],
   "source": [
    "# df = df.rename(columns = {'start_station_id': 'start_station', 'end_station_id': 'end_station'})\n",
    "# df.columns"
   ]
  },
  {
   "cell_type": "code",
   "execution_count": 281,
   "metadata": {
    "ExecuteTime": {
     "end_time": "2020-10-01T20:52:03.230005Z",
     "start_time": "2020-10-01T20:52:03.218931Z"
    }
   },
   "outputs": [],
   "source": [
    "s1 = df.start_station == 3000\n",
    "s2 = df.end_station == 3000\n",
    "index3000 = df[s1 | s2].index"
   ]
  },
  {
   "cell_type": "code",
   "execution_count": 282,
   "metadata": {
    "ExecuteTime": {
     "end_time": "2020-10-01T20:52:03.247434Z",
     "start_time": "2020-10-01T20:52:03.231876Z"
    }
   },
   "outputs": [],
   "source": [
    "df_without_3000 = df.drop(index3000)"
   ]
  },
  {
   "cell_type": "code",
   "execution_count": 283,
   "metadata": {
    "ExecuteTime": {
     "end_time": "2020-10-01T20:52:03.262418Z",
     "start_time": "2020-10-01T20:52:03.249396Z"
    }
   },
   "outputs": [
    {
     "name": "stdout",
     "output_type": "stream",
     "text": [
      "<class 'pandas.core.frame.DataFrame'>\n",
      "Int64Index: 12434 entries, 0 to 54201\n",
      "Data columns (total 15 columns):\n",
      " #   Column               Non-Null Count  Dtype  \n",
      "---  ------               --------------  -----  \n",
      " 0   trip_id              12434 non-null  int64  \n",
      " 1   duration             12434 non-null  int64  \n",
      " 2   start_time           12434 non-null  object \n",
      " 3   end_time             12434 non-null  object \n",
      " 4   start_station        12434 non-null  int64  \n",
      " 5   start_lat            12004 non-null  float64\n",
      " 6   start_lon            12004 non-null  float64\n",
      " 7   end_station          12434 non-null  int64  \n",
      " 8   end_lat              11893 non-null  float64\n",
      " 9   end_lon              11893 non-null  float64\n",
      " 10  bike_id              12434 non-null  int64  \n",
      " 11  plan_duration        12434 non-null  int64  \n",
      " 12  trip_route_category  12434 non-null  object \n",
      " 13  passholder_type      12434 non-null  object \n",
      " 14  bike_type            12434 non-null  object \n",
      "dtypes: float64(4), int64(6), object(5)\n",
      "memory usage: 1.5+ MB\n"
     ]
    }
   ],
   "source": [
    "df_without_3000.info()"
   ]
  },
  {
   "cell_type": "code",
   "execution_count": 284,
   "metadata": {
    "ExecuteTime": {
     "end_time": "2020-10-01T20:52:03.268425Z",
     "start_time": "2020-10-01T20:52:03.264392Z"
    }
   },
   "outputs": [],
   "source": [
    "df_position = df_without_3000[[\"start_lat\", \"start_lon\", \"end_lat\", \"end_lon\"]]"
   ]
  },
  {
   "cell_type": "code",
   "execution_count": 285,
   "metadata": {
    "ExecuteTime": {
     "end_time": "2020-10-01T20:52:03.273288Z",
     "start_time": "2020-10-01T20:52:03.270180Z"
    }
   },
   "outputs": [],
   "source": [
    "df_position_isnull = df_position.isnull()"
   ]
  },
  {
   "cell_type": "code",
   "execution_count": 286,
   "metadata": {
    "ExecuteTime": {
     "end_time": "2020-10-01T20:52:03.279475Z",
     "start_time": "2020-10-01T20:52:03.275302Z"
    }
   },
   "outputs": [],
   "source": [
    "index_station_without_position = df_position_isnull[df_position_isnull.any(axis=1)].index"
   ]
  },
  {
   "cell_type": "code",
   "execution_count": 287,
   "metadata": {
    "ExecuteTime": {
     "end_time": "2020-10-01T20:52:03.286194Z",
     "start_time": "2020-10-01T20:52:03.281328Z"
    }
   },
   "outputs": [],
   "source": [
    "df_clean = df_without_3000.drop(index_station_without_position)"
   ]
  },
  {
   "cell_type": "code",
   "execution_count": 288,
   "metadata": {
    "ExecuteTime": {
     "end_time": "2020-10-01T20:52:03.296270Z",
     "start_time": "2020-10-01T20:52:03.287710Z"
    },
    "scrolled": true
   },
   "outputs": [
    {
     "data": {
      "text/plain": [
       "trip_id                False\n",
       "duration               False\n",
       "start_time             False\n",
       "end_time               False\n",
       "start_station          False\n",
       "start_lat              False\n",
       "start_lon              False\n",
       "end_station            False\n",
       "end_lat                False\n",
       "end_lon                False\n",
       "bike_id                False\n",
       "plan_duration          False\n",
       "trip_route_category    False\n",
       "passholder_type        False\n",
       "bike_type              False\n",
       "dtype: bool"
      ]
     },
     "execution_count": 288,
     "metadata": {},
     "output_type": "execute_result"
    }
   ],
   "source": [
    "dpu.df_has_nan(df_clean)"
   ]
  },
  {
   "cell_type": "code",
   "execution_count": 289,
   "metadata": {
    "ExecuteTime": {
     "end_time": "2020-10-01T20:52:03.303390Z",
     "start_time": "2020-10-01T20:52:03.298430Z"
    }
   },
   "outputs": [
    {
     "data": {
      "text/plain": [
       "'4/1/2020 0:05'"
      ]
     },
     "execution_count": 289,
     "metadata": {},
     "output_type": "execute_result"
    }
   ],
   "source": [
    "time_need_check = list(df_clean.start_time)[0]\n",
    "time_need_check"
   ]
  },
  {
   "cell_type": "code",
   "execution_count": 290,
   "metadata": {
    "ExecuteTime": {
     "end_time": "2020-10-01T20:52:03.310290Z",
     "start_time": "2020-10-01T20:52:03.305518Z"
    }
   },
   "outputs": [
    {
     "data": {
      "text/plain": [
       "False"
      ]
     },
     "execution_count": 290,
     "metadata": {},
     "output_type": "execute_result"
    }
   ],
   "source": [
    "time_format_need_change = dpu.is_time_format(time_need_check, t_format_check)\n",
    "time_format_need_change"
   ]
  },
  {
   "cell_type": "code",
   "execution_count": 291,
   "metadata": {
    "ExecuteTime": {
     "end_time": "2020-10-01T20:52:03.316055Z",
     "start_time": "2020-10-01T20:52:03.312549Z"
    }
   },
   "outputs": [],
   "source": [
    "if time_format_need_change:\n",
    "    df_clean[[\"start_time\", \"end_time\"]] = df_clean[[\"start_time\", \"end_time\"]].applymap(lambda ts: dpu.change_time_format(ts, t_format_check, t_format_output))"
   ]
  },
  {
   "cell_type": "code",
   "execution_count": 292,
   "metadata": {
    "ExecuteTime": {
     "end_time": "2020-10-01T20:52:03.334039Z",
     "start_time": "2020-10-01T20:52:03.317869Z"
    }
   },
   "outputs": [
    {
     "data": {
      "text/html": [
       "<div>\n",
       "<style scoped>\n",
       "    .dataframe tbody tr th:only-of-type {\n",
       "        vertical-align: middle;\n",
       "    }\n",
       "\n",
       "    .dataframe tbody tr th {\n",
       "        vertical-align: top;\n",
       "    }\n",
       "\n",
       "    .dataframe thead th {\n",
       "        text-align: right;\n",
       "    }\n",
       "</style>\n",
       "<table border=\"1\" class=\"dataframe\">\n",
       "  <thead>\n",
       "    <tr style=\"text-align: right;\">\n",
       "      <th></th>\n",
       "      <th>trip_id</th>\n",
       "      <th>duration</th>\n",
       "      <th>start_time</th>\n",
       "      <th>end_time</th>\n",
       "      <th>start_station</th>\n",
       "      <th>start_lat</th>\n",
       "      <th>start_lon</th>\n",
       "      <th>end_station</th>\n",
       "      <th>end_lat</th>\n",
       "      <th>end_lon</th>\n",
       "      <th>bike_id</th>\n",
       "      <th>plan_duration</th>\n",
       "      <th>trip_route_category</th>\n",
       "      <th>passholder_type</th>\n",
       "      <th>bike_type</th>\n",
       "    </tr>\n",
       "  </thead>\n",
       "  <tbody>\n",
       "    <tr>\n",
       "      <th>0</th>\n",
       "      <td>140275793</td>\n",
       "      <td>14</td>\n",
       "      <td>4/1/2020 0:05</td>\n",
       "      <td>4/1/2020 0:19</td>\n",
       "      <td>4491</td>\n",
       "      <td>34.04744</td>\n",
       "      <td>-118.247940</td>\n",
       "      <td>4491</td>\n",
       "      <td>34.047440</td>\n",
       "      <td>-118.247940</td>\n",
       "      <td>19544</td>\n",
       "      <td>30</td>\n",
       "      <td>Round Trip</td>\n",
       "      <td>Monthly Pass</td>\n",
       "      <td>electric</td>\n",
       "    </tr>\n",
       "    <tr>\n",
       "      <th>1</th>\n",
       "      <td>140275993</td>\n",
       "      <td>9</td>\n",
       "      <td>4/1/2020 0:19</td>\n",
       "      <td>4/1/2020 0:28</td>\n",
       "      <td>4491</td>\n",
       "      <td>34.04744</td>\n",
       "      <td>-118.247940</td>\n",
       "      <td>4491</td>\n",
       "      <td>34.047440</td>\n",
       "      <td>-118.247940</td>\n",
       "      <td>19544</td>\n",
       "      <td>30</td>\n",
       "      <td>Round Trip</td>\n",
       "      <td>Monthly Pass</td>\n",
       "      <td>electric</td>\n",
       "    </tr>\n",
       "    <tr>\n",
       "      <th>2</th>\n",
       "      <td>140276293</td>\n",
       "      <td>18</td>\n",
       "      <td>4/1/2020 0:22</td>\n",
       "      <td>4/1/2020 0:40</td>\n",
       "      <td>3076</td>\n",
       "      <td>34.04060</td>\n",
       "      <td>-118.253838</td>\n",
       "      <td>3076</td>\n",
       "      <td>34.040600</td>\n",
       "      <td>-118.253838</td>\n",
       "      <td>18942</td>\n",
       "      <td>30</td>\n",
       "      <td>Round Trip</td>\n",
       "      <td>Monthly Pass</td>\n",
       "      <td>electric</td>\n",
       "    </tr>\n",
       "    <tr>\n",
       "      <th>3</th>\n",
       "      <td>140276793</td>\n",
       "      <td>20</td>\n",
       "      <td>4/1/2020 0:41</td>\n",
       "      <td>4/1/2020 1:01</td>\n",
       "      <td>3076</td>\n",
       "      <td>34.04060</td>\n",
       "      <td>-118.253838</td>\n",
       "      <td>3076</td>\n",
       "      <td>34.040600</td>\n",
       "      <td>-118.253838</td>\n",
       "      <td>18942</td>\n",
       "      <td>30</td>\n",
       "      <td>Round Trip</td>\n",
       "      <td>Monthly Pass</td>\n",
       "      <td>electric</td>\n",
       "    </tr>\n",
       "    <tr>\n",
       "      <th>4</th>\n",
       "      <td>140277293</td>\n",
       "      <td>25</td>\n",
       "      <td>4/1/2020 1:02</td>\n",
       "      <td>4/1/2020 1:27</td>\n",
       "      <td>3076</td>\n",
       "      <td>34.04060</td>\n",
       "      <td>-118.253838</td>\n",
       "      <td>3033</td>\n",
       "      <td>34.040989</td>\n",
       "      <td>-118.255798</td>\n",
       "      <td>18942</td>\n",
       "      <td>30</td>\n",
       "      <td>One Way</td>\n",
       "      <td>Monthly Pass</td>\n",
       "      <td>electric</td>\n",
       "    </tr>\n",
       "  </tbody>\n",
       "</table>\n",
       "</div>"
      ],
      "text/plain": [
       "     trip_id  duration     start_time       end_time  start_station  \\\n",
       "0  140275793        14  4/1/2020 0:05  4/1/2020 0:19           4491   \n",
       "1  140275993         9  4/1/2020 0:19  4/1/2020 0:28           4491   \n",
       "2  140276293        18  4/1/2020 0:22  4/1/2020 0:40           3076   \n",
       "3  140276793        20  4/1/2020 0:41  4/1/2020 1:01           3076   \n",
       "4  140277293        25  4/1/2020 1:02  4/1/2020 1:27           3076   \n",
       "\n",
       "   start_lat   start_lon  end_station    end_lat     end_lon  bike_id  \\\n",
       "0   34.04744 -118.247940         4491  34.047440 -118.247940    19544   \n",
       "1   34.04744 -118.247940         4491  34.047440 -118.247940    19544   \n",
       "2   34.04060 -118.253838         3076  34.040600 -118.253838    18942   \n",
       "3   34.04060 -118.253838         3076  34.040600 -118.253838    18942   \n",
       "4   34.04060 -118.253838         3033  34.040989 -118.255798    18942   \n",
       "\n",
       "   plan_duration trip_route_category passholder_type bike_type  \n",
       "0             30          Round Trip    Monthly Pass  electric  \n",
       "1             30          Round Trip    Monthly Pass  electric  \n",
       "2             30          Round Trip    Monthly Pass  electric  \n",
       "3             30          Round Trip    Monthly Pass  electric  \n",
       "4             30             One Way    Monthly Pass  electric  "
      ]
     },
     "execution_count": 292,
     "metadata": {},
     "output_type": "execute_result"
    }
   ],
   "source": [
    "df_clean.head(5)"
   ]
  },
  {
   "cell_type": "code",
   "execution_count": 293,
   "metadata": {
    "ExecuteTime": {
     "end_time": "2020-10-01T20:52:03.349433Z",
     "start_time": "2020-10-01T20:52:03.335926Z"
    }
   },
   "outputs": [
    {
     "name": "stdout",
     "output_type": "stream",
     "text": [
      "<class 'pandas.core.frame.DataFrame'>\n",
      "Int64Index: 11695 entries, 0 to 54201\n",
      "Data columns (total 15 columns):\n",
      " #   Column               Non-Null Count  Dtype  \n",
      "---  ------               --------------  -----  \n",
      " 0   trip_id              11695 non-null  int64  \n",
      " 1   duration             11695 non-null  int64  \n",
      " 2   start_time           11695 non-null  object \n",
      " 3   end_time             11695 non-null  object \n",
      " 4   start_station        11695 non-null  int64  \n",
      " 5   start_lat            11695 non-null  float64\n",
      " 6   start_lon            11695 non-null  float64\n",
      " 7   end_station          11695 non-null  int64  \n",
      " 8   end_lat              11695 non-null  float64\n",
      " 9   end_lon              11695 non-null  float64\n",
      " 10  bike_id              11695 non-null  int64  \n",
      " 11  plan_duration        11695 non-null  int64  \n",
      " 12  trip_route_category  11695 non-null  object \n",
      " 13  passholder_type      11695 non-null  object \n",
      " 14  bike_type            11695 non-null  object \n",
      "dtypes: float64(4), int64(6), object(5)\n",
      "memory usage: 1.4+ MB\n"
     ]
    }
   ],
   "source": [
    "df_clean.info()"
   ]
  },
  {
   "cell_type": "code",
   "execution_count": 294,
   "metadata": {
    "ExecuteTime": {
     "end_time": "2020-10-01T20:52:03.485801Z",
     "start_time": "2020-10-01T20:52:03.351289Z"
    }
   },
   "outputs": [],
   "source": [
    "df_clean.to_csv(output_filepath, index=False)"
   ]
  },
  {
   "cell_type": "markdown",
   "metadata": {},
   "source": [
    "## process bike station"
   ]
  },
  {
   "cell_type": "code",
   "execution_count": 249,
   "metadata": {
    "ExecuteTime": {
     "end_time": "2020-10-01T20:42:48.944463Z",
     "start_time": "2020-10-01T20:42:48.941644Z"
    }
   },
   "outputs": [],
   "source": [
    "year_q = (19, 3)"
   ]
  },
  {
   "cell_type": "code",
   "execution_count": 295,
   "metadata": {
    "ExecuteTime": {
     "end_time": "2020-10-01T20:53:45.007970Z",
     "start_time": "2020-10-01T20:53:45.004043Z"
    }
   },
   "outputs": [
    {
     "data": {
      "text/plain": [
       "'./rawdata/metro-bike-stations.csv'"
      ]
     },
     "execution_count": 295,
     "metadata": {},
     "output_type": "execute_result"
    }
   ],
   "source": [
    "raw_filepath = \"./rawdata/metro-bike-stations.csv\"\n",
    "output_filepath = \"./processed_data/metro-bike-stations.csv\"\n",
    "raw_filepath"
   ]
  },
  {
   "cell_type": "code",
   "execution_count": 296,
   "metadata": {
    "ExecuteTime": {
     "end_time": "2020-10-01T20:53:49.920246Z",
     "start_time": "2020-10-01T20:53:49.914065Z"
    }
   },
   "outputs": [],
   "source": [
    "df = pd.read_csv(raw_filepath)"
   ]
  },
  {
   "cell_type": "code",
   "execution_count": 297,
   "metadata": {
    "ExecuteTime": {
     "end_time": "2020-10-01T20:53:50.851778Z",
     "start_time": "2020-10-01T20:53:50.840689Z"
    }
   },
   "outputs": [
    {
     "data": {
      "text/html": [
       "<div>\n",
       "<style scoped>\n",
       "    .dataframe tbody tr th:only-of-type {\n",
       "        vertical-align: middle;\n",
       "    }\n",
       "\n",
       "    .dataframe tbody tr th {\n",
       "        vertical-align: top;\n",
       "    }\n",
       "\n",
       "    .dataframe thead th {\n",
       "        text-align: right;\n",
       "    }\n",
       "</style>\n",
       "<table border=\"1\" class=\"dataframe\">\n",
       "  <thead>\n",
       "    <tr style=\"text-align: right;\">\n",
       "      <th></th>\n",
       "      <th>Station_ID</th>\n",
       "      <th>Station_Name</th>\n",
       "      <th>Go_live_date</th>\n",
       "      <th>Region</th>\n",
       "      <th>Status</th>\n",
       "    </tr>\n",
       "  </thead>\n",
       "  <tbody>\n",
       "    <tr>\n",
       "      <th>0</th>\n",
       "      <td>3000</td>\n",
       "      <td>Virtual Station</td>\n",
       "      <td>7/7/2016</td>\n",
       "      <td>NaN</td>\n",
       "      <td>Active</td>\n",
       "    </tr>\n",
       "    <tr>\n",
       "      <th>1</th>\n",
       "      <td>3005</td>\n",
       "      <td>7th &amp; Flower</td>\n",
       "      <td>7/7/2016</td>\n",
       "      <td>DTLA</td>\n",
       "      <td>Active</td>\n",
       "    </tr>\n",
       "    <tr>\n",
       "      <th>2</th>\n",
       "      <td>3006</td>\n",
       "      <td>Olive &amp; 8th</td>\n",
       "      <td>7/7/2016</td>\n",
       "      <td>DTLA</td>\n",
       "      <td>Active</td>\n",
       "    </tr>\n",
       "    <tr>\n",
       "      <th>3</th>\n",
       "      <td>3007</td>\n",
       "      <td>5th &amp; Grand</td>\n",
       "      <td>7/7/2016</td>\n",
       "      <td>DTLA</td>\n",
       "      <td>Active</td>\n",
       "    </tr>\n",
       "    <tr>\n",
       "      <th>4</th>\n",
       "      <td>3008</td>\n",
       "      <td>Figueroa &amp; 9th</td>\n",
       "      <td>7/7/2016</td>\n",
       "      <td>DTLA</td>\n",
       "      <td>Active</td>\n",
       "    </tr>\n",
       "    <tr>\n",
       "      <th>...</th>\n",
       "      <td>...</td>\n",
       "      <td>...</td>\n",
       "      <td>...</td>\n",
       "      <td>...</td>\n",
       "      <td>...</td>\n",
       "    </tr>\n",
       "    <tr>\n",
       "      <th>287</th>\n",
       "      <td>4498</td>\n",
       "      <td>Vineland &amp; Oxnard</td>\n",
       "      <td>4/14/2020</td>\n",
       "      <td>North Hollywood</td>\n",
       "      <td>Active</td>\n",
       "    </tr>\n",
       "    <tr>\n",
       "      <th>288</th>\n",
       "      <td>4524</td>\n",
       "      <td>Wilshire &amp; Normandie</td>\n",
       "      <td>4/17/2020</td>\n",
       "      <td>DTLA</td>\n",
       "      <td>Active</td>\n",
       "    </tr>\n",
       "    <tr>\n",
       "      <th>289</th>\n",
       "      <td>4523</td>\n",
       "      <td>Western &amp; 3rd</td>\n",
       "      <td>4/22/2020</td>\n",
       "      <td>DTLA</td>\n",
       "      <td>Active</td>\n",
       "    </tr>\n",
       "    <tr>\n",
       "      <th>290</th>\n",
       "      <td>4502</td>\n",
       "      <td>North Hollywood Plaza</td>\n",
       "      <td>4/23/2020</td>\n",
       "      <td>North Hollywood</td>\n",
       "      <td>Active</td>\n",
       "    </tr>\n",
       "    <tr>\n",
       "      <th>291</th>\n",
       "      <td>4512</td>\n",
       "      <td>Figueroa &amp; 11th</td>\n",
       "      <td>5/12/2020</td>\n",
       "      <td>DTLA</td>\n",
       "      <td>Active</td>\n",
       "    </tr>\n",
       "  </tbody>\n",
       "</table>\n",
       "<p>292 rows × 5 columns</p>\n",
       "</div>"
      ],
      "text/plain": [
       "     Station_ID           Station_Name Go_live_date          Region   Status\n",
       "0          3000        Virtual Station     7/7/2016              NaN  Active\n",
       "1          3005           7th & Flower     7/7/2016             DTLA  Active\n",
       "2          3006            Olive & 8th     7/7/2016             DTLA  Active\n",
       "3          3007            5th & Grand     7/7/2016             DTLA  Active\n",
       "4          3008         Figueroa & 9th     7/7/2016             DTLA  Active\n",
       "..          ...                    ...          ...              ...     ...\n",
       "287        4498      Vineland & Oxnard    4/14/2020  North Hollywood  Active\n",
       "288        4524   Wilshire & Normandie    4/17/2020             DTLA  Active\n",
       "289        4523          Western & 3rd    4/22/2020             DTLA  Active\n",
       "290        4502  North Hollywood Plaza    4/23/2020  North Hollywood  Active\n",
       "291        4512        Figueroa & 11th    5/12/2020             DTLA  Active\n",
       "\n",
       "[292 rows x 5 columns]"
      ]
     },
     "execution_count": 297,
     "metadata": {},
     "output_type": "execute_result"
    }
   ],
   "source": [
    "df"
   ]
  },
  {
   "cell_type": "code",
   "execution_count": 298,
   "metadata": {
    "ExecuteTime": {
     "end_time": "2020-10-01T20:54:39.972647Z",
     "start_time": "2020-10-01T20:54:39.968958Z"
    }
   },
   "outputs": [],
   "source": [
    "s1 = df.Station_ID == 3000\n",
    "index3000 = df[s1].index"
   ]
  },
  {
   "cell_type": "code",
   "execution_count": 299,
   "metadata": {
    "ExecuteTime": {
     "end_time": "2020-10-01T20:54:48.447346Z",
     "start_time": "2020-10-01T20:54:48.443885Z"
    }
   },
   "outputs": [],
   "source": [
    "df_without_3000 = df.drop(index3000)"
   ]
  },
  {
   "cell_type": "code",
   "execution_count": 300,
   "metadata": {
    "ExecuteTime": {
     "end_time": "2020-10-01T20:54:51.512979Z",
     "start_time": "2020-10-01T20:54:51.505750Z"
    },
    "scrolled": true
   },
   "outputs": [
    {
     "name": "stdout",
     "output_type": "stream",
     "text": [
      "<class 'pandas.core.frame.DataFrame'>\n",
      "Int64Index: 291 entries, 1 to 291\n",
      "Data columns (total 5 columns):\n",
      " #   Column        Non-Null Count  Dtype \n",
      "---  ------        --------------  ----- \n",
      " 0   Station_ID    291 non-null    int64 \n",
      " 1   Station_Name  291 non-null    object\n",
      " 2   Go_live_date  291 non-null    object\n",
      " 3   Region        291 non-null    object\n",
      " 4   Status        291 non-null    object\n",
      "dtypes: int64(1), object(4)\n",
      "memory usage: 13.6+ KB\n"
     ]
    }
   ],
   "source": [
    "df_without_3000.info()"
   ]
  },
  {
   "cell_type": "code",
   "execution_count": 301,
   "metadata": {
    "ExecuteTime": {
     "end_time": "2020-10-01T20:55:42.346783Z",
     "start_time": "2020-10-01T20:55:42.340828Z"
    },
    "scrolled": true
   },
   "outputs": [
    {
     "data": {
      "text/plain": [
       "Station_ID      False\n",
       "Station_Name    False\n",
       "Go_live_date    False\n",
       "Region          False\n",
       "Status          False\n",
       "dtype: bool"
      ]
     },
     "execution_count": 301,
     "metadata": {},
     "output_type": "execute_result"
    }
   ],
   "source": [
    "dpu.df_has_nan(df_without_3000)"
   ]
  },
  {
   "cell_type": "code",
   "execution_count": 302,
   "metadata": {
    "ExecuteTime": {
     "end_time": "2020-10-01T20:56:23.217401Z",
     "start_time": "2020-10-01T20:56:23.212513Z"
    }
   },
   "outputs": [],
   "source": [
    "df_without_3000.to_csv(output_filepath, index=False)"
   ]
  },
  {
   "cell_type": "code",
   "execution_count": null,
   "metadata": {},
   "outputs": [],
   "source": []
  },
  {
   "cell_type": "code",
   "execution_count": null,
   "metadata": {},
   "outputs": [],
   "source": []
  }
 ],
 "metadata": {
  "kernelspec": {
   "display_name": "mecsc",
   "language": "python",
   "name": "mecsc"
  },
  "language_info": {
   "codemirror_mode": {
    "name": "ipython",
    "version": 3
   },
   "file_extension": ".py",
   "mimetype": "text/x-python",
   "name": "python",
   "nbconvert_exporter": "python",
   "pygments_lexer": "ipython3",
   "version": "3.7.6"
  },
  "toc": {
   "base_numbering": 1,
   "nav_menu": {},
   "number_sections": true,
   "sideBar": true,
   "skip_h1_title": false,
   "title_cell": "Table of Contents",
   "title_sidebar": "Contents",
   "toc_cell": false,
   "toc_position": {},
   "toc_section_display": true,
   "toc_window_display": true
  }
 },
 "nbformat": 4,
 "nbformat_minor": 4
}
